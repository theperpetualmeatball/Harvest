{
 "cells": [
  {
   "cell_type": "code",
   "execution_count": 2,
   "metadata": {},
   "outputs": [],
   "source": [
    "#Import Packages\n",
    "\n",
    "import numpy as np\n",
    "import pandas as pd\n",
    "import matplotlib.pyplot as plt\n",
    "import plotly.express as px\n",
    "import datetime\n",
    "from datetime import datetime\n"
   ]
  },
  {
   "cell_type": "markdown",
   "metadata": {},
   "source": [
    "For this assigmnet, we are looking at customer behavior data on an app like Harvest that tracks company hours, and tracks invoices sent and payments received.\n",
    "\n",
    "First we will do an EDA on the data, and generate insights using the customer data, and then we will look at some business problems like customer conversion and churn."
   ]
  },
  {
   "cell_type": "code",
   "execution_count": 3,
   "metadata": {},
   "outputs": [],
   "source": [
    "#read the csvs\n",
    "df_customers = pd.read_csv('customers.csv')\n",
    "df_invoices =  pd.read_csv('invoices_and_payments.csv')\n",
    "df_expenses = pd.read_csv('expenses.csv')\n",
    "\n",
    "df_customers['converted_at_date'] = pd.to_datetime(df_customers['converted_at'], infer_datetime_format=True)\n",
    "df_invoices['invoice_created_at_date'] = pd.to_datetime(df_invoices['invoice_created_at'], infer_datetime_format=True)\n"
   ]
  },
  {
   "cell_type": "code",
   "execution_count": 5,
   "metadata": {},
   "outputs": [
    {
     "name": "stdout",
     "output_type": "stream",
     "text": [
      "(15028, 27)\n",
      "(5214607, 16)\n",
      "(5659162, 7)\n"
     ]
    }
   ],
   "source": [
    "#Print size/shape of dataframes\n",
    "print(df_customers.shape)\n",
    "print(df_invoices.shape)\n",
    "print(df_expenses.shape)"
   ]
  },
  {
   "cell_type": "code",
   "execution_count": 7,
   "metadata": {
    "scrolled": false
   },
   "outputs": [
    {
     "data": {
      "text/plain": [
       "Index(['company_id', 'converted_at', 'billing_frequency',\n",
       "       'primary_industry_grouped', 'total_users', 'devices', 'purpose',\n",
       "       'invoices', 'projects', 'payments', 'asana_enabled',\n",
       "       'google_calendar_users', 'slack_oauths', 'xero_enabled',\n",
       "       'quickbooks_enabled', 'stripe_enabled', 'tdd_enabled',\n",
       "       'team_module_enabled', 'expense_module_enabled',\n",
       "       'invoice_module_enabled', 'estimate_module_enabled',\n",
       "       'client_dash_module_enabled', 'approval_module_enabled', 'total_hours',\n",
       "       'majority_platform', 'tracking_frequency', 'converted_at_date'],\n",
       "      dtype='object')"
      ]
     },
     "metadata": {},
     "output_type": "display_data"
    },
    {
     "name": "stdout",
     "output_type": "stream",
     "text": [
      "\n",
      "DUPLICATE ROWS:\n",
      "0\n",
      "\n",
      "DUPLICATE ROWS WITH company_id:\n",
      "0\n",
      "\n",
      "UNIQUE VALUES IN EACH CATEGORICAL COLUMN:\n",
      "billing_frequency : ['yearly' 'monthly']\n",
      "primary_industry_grouped : ['_other' '_unknown' 'tech' 'marketing' 'architecture' 'nonprofit'\n",
      " 'management consulting' 'engineering' 'design' 'healthcare' 'legal'\n",
      " 'visual arts' 'construction' 'writing' 'accounting' 'events'\n",
      " 'real estate' 'education' 'manufacturing' 'virtual assistant' 'music'\n",
      " 'entertainment' 'ecommerce' 'retail' 'hospitality' 'research'\n",
      " 'agriculture']\n",
      "purpose : ['none' 'team' 'personal']\n",
      "asana_enabled : [0 1]\n",
      "slack_oauths : [0 1 2]\n",
      "xero_enabled : [0 1]\n",
      "quickbooks_enabled : [0 1]\n",
      "stripe_enabled : [0 1]\n",
      "tdd_enabled : [1 0]\n",
      "team_module_enabled : [1 0]\n",
      "expense_module_enabled : [1 0]\n",
      "invoice_module_enabled : [1 0]\n",
      "estimate_module_enabled : [0 1]\n",
      "client_dash_module_enabled : [0 1]\n",
      "approval_module_enabled : [1 0]\n",
      "majority_platform : ['web' 'native' nan 'mix' 'other' 'integration' 'api']\n",
      "tracking_frequency : ['weekly' 'daily' 'infrequently' 'monthly' 'work_daily' 'never']\n",
      "\n",
      "COLUMNS THAT CONTAIN NULL VALUES:\n",
      "majority_platform    811\n",
      "dtype: int64\n",
      "\n",
      "NUMBER OF ROWS RETURNING 0\n",
      "invoices: 4514\n",
      "payments: 6109\n",
      "total_hours: 811\n",
      "total_users: 8\n",
      "projects: 151\n"
     ]
    },
    {
     "data": {
      "text/html": [
       "<div>\n",
       "<style scoped>\n",
       "    .dataframe tbody tr th:only-of-type {\n",
       "        vertical-align: middle;\n",
       "    }\n",
       "\n",
       "    .dataframe tbody tr th {\n",
       "        vertical-align: top;\n",
       "    }\n",
       "\n",
       "    .dataframe thead th {\n",
       "        text-align: right;\n",
       "    }\n",
       "</style>\n",
       "<table border=\"1\" class=\"dataframe\">\n",
       "  <thead>\n",
       "    <tr style=\"text-align: right;\">\n",
       "      <th></th>\n",
       "      <th>company_id</th>\n",
       "      <th>converted_at</th>\n",
       "      <th>billing_frequency</th>\n",
       "      <th>primary_industry_grouped</th>\n",
       "      <th>total_users</th>\n",
       "      <th>devices</th>\n",
       "      <th>purpose</th>\n",
       "      <th>invoices</th>\n",
       "      <th>projects</th>\n",
       "      <th>payments</th>\n",
       "      <th>...</th>\n",
       "      <th>team_module_enabled</th>\n",
       "      <th>expense_module_enabled</th>\n",
       "      <th>invoice_module_enabled</th>\n",
       "      <th>estimate_module_enabled</th>\n",
       "      <th>client_dash_module_enabled</th>\n",
       "      <th>approval_module_enabled</th>\n",
       "      <th>total_hours</th>\n",
       "      <th>majority_platform</th>\n",
       "      <th>tracking_frequency</th>\n",
       "      <th>converted_at_date</th>\n",
       "    </tr>\n",
       "  </thead>\n",
       "  <tbody>\n",
       "    <tr>\n",
       "      <th>0</th>\n",
       "      <td>315309</td>\n",
       "      <td>2014-07-11 18:21:28 UTC</td>\n",
       "      <td>yearly</td>\n",
       "      <td>_other</td>\n",
       "      <td>0</td>\n",
       "      <td>14</td>\n",
       "      <td>none</td>\n",
       "      <td>2790</td>\n",
       "      <td>333</td>\n",
       "      <td>2669</td>\n",
       "      <td>...</td>\n",
       "      <td>1</td>\n",
       "      <td>1</td>\n",
       "      <td>1</td>\n",
       "      <td>0</td>\n",
       "      <td>0</td>\n",
       "      <td>1</td>\n",
       "      <td>37711.81</td>\n",
       "      <td>web</td>\n",
       "      <td>weekly</td>\n",
       "      <td>2014-07-11 18:21:28+00:00</td>\n",
       "    </tr>\n",
       "    <tr>\n",
       "      <th>1</th>\n",
       "      <td>438147</td>\n",
       "      <td>2015-08-27 19:58:50 UTC</td>\n",
       "      <td>yearly</td>\n",
       "      <td>_unknown</td>\n",
       "      <td>0</td>\n",
       "      <td>0</td>\n",
       "      <td>none</td>\n",
       "      <td>0</td>\n",
       "      <td>48</td>\n",
       "      <td>0</td>\n",
       "      <td>...</td>\n",
       "      <td>1</td>\n",
       "      <td>1</td>\n",
       "      <td>1</td>\n",
       "      <td>0</td>\n",
       "      <td>0</td>\n",
       "      <td>0</td>\n",
       "      <td>12876.50</td>\n",
       "      <td>web</td>\n",
       "      <td>weekly</td>\n",
       "      <td>2015-08-27 19:58:50+00:00</td>\n",
       "    </tr>\n",
       "    <tr>\n",
       "      <th>2</th>\n",
       "      <td>1156438</td>\n",
       "      <td>2020-09-04 07:18:11 UTC</td>\n",
       "      <td>yearly</td>\n",
       "      <td>tech</td>\n",
       "      <td>0</td>\n",
       "      <td>0</td>\n",
       "      <td>team</td>\n",
       "      <td>0</td>\n",
       "      <td>875</td>\n",
       "      <td>0</td>\n",
       "      <td>...</td>\n",
       "      <td>1</td>\n",
       "      <td>0</td>\n",
       "      <td>0</td>\n",
       "      <td>0</td>\n",
       "      <td>0</td>\n",
       "      <td>0</td>\n",
       "      <td>67383.95</td>\n",
       "      <td>web</td>\n",
       "      <td>daily</td>\n",
       "      <td>2020-09-04 07:18:11+00:00</td>\n",
       "    </tr>\n",
       "    <tr>\n",
       "      <th>3</th>\n",
       "      <td>262929</td>\n",
       "      <td>2014-01-27 15:50:30 UTC</td>\n",
       "      <td>yearly</td>\n",
       "      <td>marketing</td>\n",
       "      <td>0</td>\n",
       "      <td>7</td>\n",
       "      <td>none</td>\n",
       "      <td>0</td>\n",
       "      <td>1360</td>\n",
       "      <td>0</td>\n",
       "      <td>...</td>\n",
       "      <td>1</td>\n",
       "      <td>1</td>\n",
       "      <td>0</td>\n",
       "      <td>0</td>\n",
       "      <td>0</td>\n",
       "      <td>1</td>\n",
       "      <td>7694.30</td>\n",
       "      <td>web</td>\n",
       "      <td>infrequently</td>\n",
       "      <td>2014-01-27 15:50:30+00:00</td>\n",
       "    </tr>\n",
       "    <tr>\n",
       "      <th>4</th>\n",
       "      <td>194227</td>\n",
       "      <td>2013-04-02 03:26:27 UTC</td>\n",
       "      <td>yearly</td>\n",
       "      <td>_unknown</td>\n",
       "      <td>0</td>\n",
       "      <td>2</td>\n",
       "      <td>none</td>\n",
       "      <td>0</td>\n",
       "      <td>36</td>\n",
       "      <td>0</td>\n",
       "      <td>...</td>\n",
       "      <td>1</td>\n",
       "      <td>1</td>\n",
       "      <td>1</td>\n",
       "      <td>0</td>\n",
       "      <td>0</td>\n",
       "      <td>0</td>\n",
       "      <td>6.50</td>\n",
       "      <td>native</td>\n",
       "      <td>infrequently</td>\n",
       "      <td>2013-04-02 03:26:27+00:00</td>\n",
       "    </tr>\n",
       "    <tr>\n",
       "      <th>...</th>\n",
       "      <td>...</td>\n",
       "      <td>...</td>\n",
       "      <td>...</td>\n",
       "      <td>...</td>\n",
       "      <td>...</td>\n",
       "      <td>...</td>\n",
       "      <td>...</td>\n",
       "      <td>...</td>\n",
       "      <td>...</td>\n",
       "      <td>...</td>\n",
       "      <td>...</td>\n",
       "      <td>...</td>\n",
       "      <td>...</td>\n",
       "      <td>...</td>\n",
       "      <td>...</td>\n",
       "      <td>...</td>\n",
       "      <td>...</td>\n",
       "      <td>...</td>\n",
       "      <td>...</td>\n",
       "      <td>...</td>\n",
       "      <td>...</td>\n",
       "    </tr>\n",
       "    <tr>\n",
       "      <th>15023</th>\n",
       "      <td>223993</td>\n",
       "      <td>2019-08-21 08:57:29 UTC</td>\n",
       "      <td>monthly</td>\n",
       "      <td>marketing</td>\n",
       "      <td>27</td>\n",
       "      <td>32</td>\n",
       "      <td>team</td>\n",
       "      <td>1105</td>\n",
       "      <td>1575</td>\n",
       "      <td>38</td>\n",
       "      <td>...</td>\n",
       "      <td>1</td>\n",
       "      <td>1</td>\n",
       "      <td>1</td>\n",
       "      <td>1</td>\n",
       "      <td>0</td>\n",
       "      <td>0</td>\n",
       "      <td>95749.11</td>\n",
       "      <td>web</td>\n",
       "      <td>infrequently</td>\n",
       "      <td>2019-08-21 08:57:29+00:00</td>\n",
       "    </tr>\n",
       "    <tr>\n",
       "      <th>15024</th>\n",
       "      <td>203538</td>\n",
       "      <td>2013-04-30 12:50:26 UTC</td>\n",
       "      <td>monthly</td>\n",
       "      <td>tech</td>\n",
       "      <td>27</td>\n",
       "      <td>90</td>\n",
       "      <td>none</td>\n",
       "      <td>1</td>\n",
       "      <td>556</td>\n",
       "      <td>0</td>\n",
       "      <td>...</td>\n",
       "      <td>1</td>\n",
       "      <td>1</td>\n",
       "      <td>1</td>\n",
       "      <td>1</td>\n",
       "      <td>0</td>\n",
       "      <td>1</td>\n",
       "      <td>360644.24</td>\n",
       "      <td>web</td>\n",
       "      <td>weekly</td>\n",
       "      <td>2013-04-30 12:50:26+00:00</td>\n",
       "    </tr>\n",
       "    <tr>\n",
       "      <th>15025</th>\n",
       "      <td>526538</td>\n",
       "      <td>2016-06-16 21:35:57 UTC</td>\n",
       "      <td>monthly</td>\n",
       "      <td>tech</td>\n",
       "      <td>27</td>\n",
       "      <td>41</td>\n",
       "      <td>none</td>\n",
       "      <td>0</td>\n",
       "      <td>1105</td>\n",
       "      <td>0</td>\n",
       "      <td>...</td>\n",
       "      <td>1</td>\n",
       "      <td>1</td>\n",
       "      <td>1</td>\n",
       "      <td>0</td>\n",
       "      <td>0</td>\n",
       "      <td>1</td>\n",
       "      <td>148852.91</td>\n",
       "      <td>web</td>\n",
       "      <td>daily</td>\n",
       "      <td>2016-06-16 21:35:57+00:00</td>\n",
       "    </tr>\n",
       "    <tr>\n",
       "      <th>15026</th>\n",
       "      <td>409087</td>\n",
       "      <td>2015-05-06 08:27:42 UTC</td>\n",
       "      <td>monthly</td>\n",
       "      <td>architecture</td>\n",
       "      <td>27</td>\n",
       "      <td>5</td>\n",
       "      <td>none</td>\n",
       "      <td>2</td>\n",
       "      <td>807</td>\n",
       "      <td>0</td>\n",
       "      <td>...</td>\n",
       "      <td>1</td>\n",
       "      <td>1</td>\n",
       "      <td>0</td>\n",
       "      <td>0</td>\n",
       "      <td>0</td>\n",
       "      <td>1</td>\n",
       "      <td>194963.09</td>\n",
       "      <td>web</td>\n",
       "      <td>daily</td>\n",
       "      <td>2015-05-06 08:27:42+00:00</td>\n",
       "    </tr>\n",
       "    <tr>\n",
       "      <th>15027</th>\n",
       "      <td>233238</td>\n",
       "      <td>2015-07-29 18:16:17 UTC</td>\n",
       "      <td>monthly</td>\n",
       "      <td>tech</td>\n",
       "      <td>27</td>\n",
       "      <td>90</td>\n",
       "      <td>none</td>\n",
       "      <td>1817</td>\n",
       "      <td>663</td>\n",
       "      <td>1757</td>\n",
       "      <td>...</td>\n",
       "      <td>1</td>\n",
       "      <td>1</td>\n",
       "      <td>1</td>\n",
       "      <td>1</td>\n",
       "      <td>1</td>\n",
       "      <td>0</td>\n",
       "      <td>220560.51</td>\n",
       "      <td>web</td>\n",
       "      <td>work_daily</td>\n",
       "      <td>2015-07-29 18:16:17+00:00</td>\n",
       "    </tr>\n",
       "  </tbody>\n",
       "</table>\n",
       "<p>15028 rows × 27 columns</p>\n",
       "</div>"
      ],
      "text/plain": [
       "       company_id             converted_at billing_frequency  \\\n",
       "0          315309  2014-07-11 18:21:28 UTC            yearly   \n",
       "1          438147  2015-08-27 19:58:50 UTC            yearly   \n",
       "2         1156438  2020-09-04 07:18:11 UTC            yearly   \n",
       "3          262929  2014-01-27 15:50:30 UTC            yearly   \n",
       "4          194227  2013-04-02 03:26:27 UTC            yearly   \n",
       "...           ...                      ...               ...   \n",
       "15023      223993  2019-08-21 08:57:29 UTC           monthly   \n",
       "15024      203538  2013-04-30 12:50:26 UTC           monthly   \n",
       "15025      526538  2016-06-16 21:35:57 UTC           monthly   \n",
       "15026      409087  2015-05-06 08:27:42 UTC           monthly   \n",
       "15027      233238  2015-07-29 18:16:17 UTC           monthly   \n",
       "\n",
       "      primary_industry_grouped  total_users  devices purpose  invoices  \\\n",
       "0                       _other            0       14    none      2790   \n",
       "1                     _unknown            0        0    none         0   \n",
       "2                         tech            0        0    team         0   \n",
       "3                    marketing            0        7    none         0   \n",
       "4                     _unknown            0        2    none         0   \n",
       "...                        ...          ...      ...     ...       ...   \n",
       "15023                marketing           27       32    team      1105   \n",
       "15024                     tech           27       90    none         1   \n",
       "15025                     tech           27       41    none         0   \n",
       "15026             architecture           27        5    none         2   \n",
       "15027                     tech           27       90    none      1817   \n",
       "\n",
       "       projects  payments  ...  team_module_enabled  expense_module_enabled  \\\n",
       "0           333      2669  ...                    1                       1   \n",
       "1            48         0  ...                    1                       1   \n",
       "2           875         0  ...                    1                       0   \n",
       "3          1360         0  ...                    1                       1   \n",
       "4            36         0  ...                    1                       1   \n",
       "...         ...       ...  ...                  ...                     ...   \n",
       "15023      1575        38  ...                    1                       1   \n",
       "15024       556         0  ...                    1                       1   \n",
       "15025      1105         0  ...                    1                       1   \n",
       "15026       807         0  ...                    1                       1   \n",
       "15027       663      1757  ...                    1                       1   \n",
       "\n",
       "       invoice_module_enabled  estimate_module_enabled  \\\n",
       "0                           1                        0   \n",
       "1                           1                        0   \n",
       "2                           0                        0   \n",
       "3                           0                        0   \n",
       "4                           1                        0   \n",
       "...                       ...                      ...   \n",
       "15023                       1                        1   \n",
       "15024                       1                        1   \n",
       "15025                       1                        0   \n",
       "15026                       0                        0   \n",
       "15027                       1                        1   \n",
       "\n",
       "       client_dash_module_enabled  approval_module_enabled  total_hours  \\\n",
       "0                               0                        1     37711.81   \n",
       "1                               0                        0     12876.50   \n",
       "2                               0                        0     67383.95   \n",
       "3                               0                        1      7694.30   \n",
       "4                               0                        0         6.50   \n",
       "...                           ...                      ...          ...   \n",
       "15023                           0                        0     95749.11   \n",
       "15024                           0                        1    360644.24   \n",
       "15025                           0                        1    148852.91   \n",
       "15026                           0                        1    194963.09   \n",
       "15027                           1                        0    220560.51   \n",
       "\n",
       "       majority_platform  tracking_frequency         converted_at_date  \n",
       "0                    web              weekly 2014-07-11 18:21:28+00:00  \n",
       "1                    web              weekly 2015-08-27 19:58:50+00:00  \n",
       "2                    web               daily 2020-09-04 07:18:11+00:00  \n",
       "3                    web        infrequently 2014-01-27 15:50:30+00:00  \n",
       "4                 native        infrequently 2013-04-02 03:26:27+00:00  \n",
       "...                  ...                 ...                       ...  \n",
       "15023                web        infrequently 2019-08-21 08:57:29+00:00  \n",
       "15024                web              weekly 2013-04-30 12:50:26+00:00  \n",
       "15025                web               daily 2016-06-16 21:35:57+00:00  \n",
       "15026                web               daily 2015-05-06 08:27:42+00:00  \n",
       "15027                web          work_daily 2015-07-29 18:16:17+00:00  \n",
       "\n",
       "[15028 rows x 27 columns]"
      ]
     },
     "execution_count": 7,
     "metadata": {},
     "output_type": "execute_result"
    }
   ],
   "source": [
    "####################################################################\n",
    "## CUSTOMERS EDA\n",
    "####################################################################\n",
    "\n",
    "display(df_customers.columns)\n",
    "\n",
    "#check for duplicate rows\n",
    "print('\\nDUPLICATE ROWS:')\n",
    "print(df_customers.duplicated().sum())\n",
    "\n",
    "#check for duplicate company_id rows\n",
    "print('\\nDUPLICATE ROWS WITH company_id:')\n",
    "print(df_customers['company_id'].duplicated().sum())\n",
    "\n",
    "categorical_cols = ['billing_frequency',\n",
    "       'primary_industry_grouped', 'purpose',\n",
    "       'asana_enabled',\n",
    "        'slack_oauths', 'xero_enabled',\n",
    "       'quickbooks_enabled', 'stripe_enabled', 'tdd_enabled',\n",
    "       'team_module_enabled', 'expense_module_enabled',\n",
    "       'invoice_module_enabled', 'estimate_module_enabled',\n",
    "       'client_dash_module_enabled', 'approval_module_enabled', \n",
    "       'majority_platform', 'tracking_frequency']\n",
    "\n",
    "#print unique values in each categorical column\n",
    "print('\\nUNIQUE VALUES IN EACH CATEGORICAL COLUMN:')\n",
    "for col in df_customers:\n",
    "    if col in categorical_cols:\n",
    "        print(col,':', df_customers[col].unique())\n",
    "        \n",
    "#print columns that contain Null values\n",
    "print('\\nCOLUMNS THAT CONTAIN NULL VALUES:')\n",
    "print(df_customers.isnull().sum()[df_customers.isnull().sum()>0])\n",
    "\n",
    "#find inactive users \n",
    "print('\\nNUMBER OF ROWS RETURNING 0')\n",
    "print('invoices:', len(df_customers[df_customers['invoices']==0]))\n",
    "print('payments:', len(df_customers[df_customers['payments']==0]))\n",
    "print('total_hours:', len(df_customers[df_customers['total_hours']==0]))\n",
    "print('total_users:', len(df_customers[df_customers['total_users']==0]))\n",
    "print('projects:', len(df_customers[df_customers['projects']==0]))\n",
    "\n",
    "\n",
    "df_customers"
   ]
  },
  {
   "cell_type": "code",
   "execution_count": 8,
   "metadata": {},
   "outputs": [
    {
     "name": "stdout",
     "output_type": "stream",
     "text": [
      "Total number of customers: 15028\n",
      "Total number of invoices sent: 5054179\n",
      "Total number of payments received: 4275499\n",
      "Total number of projects: 4511062\n",
      "Total number of hours logged: 419087684.2500009\n",
      "Total number of users: 113558\n",
      "\n",
      "TABLE SUMMARY\n"
     ]
    },
    {
     "data": {
      "text/html": [
       "<div>\n",
       "<style scoped>\n",
       "    .dataframe tbody tr th:only-of-type {\n",
       "        vertical-align: middle;\n",
       "    }\n",
       "\n",
       "    .dataframe tbody tr th {\n",
       "        vertical-align: top;\n",
       "    }\n",
       "\n",
       "    .dataframe thead th {\n",
       "        text-align: right;\n",
       "    }\n",
       "</style>\n",
       "<table border=\"1\" class=\"dataframe\">\n",
       "  <thead>\n",
       "    <tr style=\"text-align: right;\">\n",
       "      <th></th>\n",
       "      <th>total_users</th>\n",
       "      <th>invoices</th>\n",
       "      <th>projects</th>\n",
       "      <th>payments</th>\n",
       "      <th>total_hours</th>\n",
       "    </tr>\n",
       "  </thead>\n",
       "  <tbody>\n",
       "    <tr>\n",
       "      <th>count</th>\n",
       "      <td>15028.000000</td>\n",
       "      <td>15028.000000</td>\n",
       "      <td>15028.000000</td>\n",
       "      <td>15028.000000</td>\n",
       "      <td>1.502800e+04</td>\n",
       "    </tr>\n",
       "    <tr>\n",
       "      <th>mean</th>\n",
       "      <td>7.556428</td>\n",
       "      <td>336.317474</td>\n",
       "      <td>300.177136</td>\n",
       "      <td>284.502196</td>\n",
       "      <td>2.788712e+04</td>\n",
       "    </tr>\n",
       "    <tr>\n",
       "      <th>std</th>\n",
       "      <td>20.082364</td>\n",
       "      <td>1232.339742</td>\n",
       "      <td>980.476202</td>\n",
       "      <td>1137.391476</td>\n",
       "      <td>9.549754e+04</td>\n",
       "    </tr>\n",
       "    <tr>\n",
       "      <th>min</th>\n",
       "      <td>0.000000</td>\n",
       "      <td>0.000000</td>\n",
       "      <td>0.000000</td>\n",
       "      <td>0.000000</td>\n",
       "      <td>0.000000e+00</td>\n",
       "    </tr>\n",
       "    <tr>\n",
       "      <th>25%</th>\n",
       "      <td>1.000000</td>\n",
       "      <td>0.000000</td>\n",
       "      <td>16.000000</td>\n",
       "      <td>0.000000</td>\n",
       "      <td>7.269975e+02</td>\n",
       "    </tr>\n",
       "    <tr>\n",
       "      <th>50%</th>\n",
       "      <td>2.000000</td>\n",
       "      <td>27.000000</td>\n",
       "      <td>62.000000</td>\n",
       "      <td>10.000000</td>\n",
       "      <td>3.823510e+03</td>\n",
       "    </tr>\n",
       "    <tr>\n",
       "      <th>75%</th>\n",
       "      <td>7.000000</td>\n",
       "      <td>235.000000</td>\n",
       "      <td>227.000000</td>\n",
       "      <td>183.000000</td>\n",
       "      <td>1.799153e+04</td>\n",
       "    </tr>\n",
       "    <tr>\n",
       "      <th>max</th>\n",
       "      <td>700.000000</td>\n",
       "      <td>75885.000000</td>\n",
       "      <td>58470.000000</td>\n",
       "      <td>71180.000000</td>\n",
       "      <td>5.676045e+06</td>\n",
       "    </tr>\n",
       "  </tbody>\n",
       "</table>\n",
       "</div>"
      ],
      "text/plain": [
       "        total_users      invoices      projects      payments   total_hours\n",
       "count  15028.000000  15028.000000  15028.000000  15028.000000  1.502800e+04\n",
       "mean       7.556428    336.317474    300.177136    284.502196  2.788712e+04\n",
       "std       20.082364   1232.339742    980.476202   1137.391476  9.549754e+04\n",
       "min        0.000000      0.000000      0.000000      0.000000  0.000000e+00\n",
       "25%        1.000000      0.000000     16.000000      0.000000  7.269975e+02\n",
       "50%        2.000000     27.000000     62.000000     10.000000  3.823510e+03\n",
       "75%        7.000000    235.000000    227.000000    183.000000  1.799153e+04\n",
       "max      700.000000  75885.000000  58470.000000  71180.000000  5.676045e+06"
      ]
     },
     "metadata": {},
     "output_type": "display_data"
    }
   ],
   "source": [
    "#SUMMARY OF TOTAL RESULTS\n",
    "\n",
    "#lifetime totals\n",
    "print('Total number of customers:', df_customers['company_id'].count())\n",
    "print('Total number of invoices sent:', df_customers['invoices'].sum())\n",
    "print('Total number of payments received:', df_customers['payments'].sum())\n",
    "print('Total number of projects:', df_customers['projects'].sum())\n",
    "print('Total number of hours logged:', df_customers['total_hours'].sum())\n",
    "print('Total number of users:', df_customers['total_users'].sum())\n",
    "\n",
    "#print mean, max, and min for continuous columns\n",
    "cont_columns = ['total_users', 'invoices', 'projects', 'payments', 'total_hours']\n",
    "print('\\nTABLE SUMMARY')\n",
    "display(df_customers[['total_users', 'invoices', 'projects', 'payments', 'total_hours']].describe())\n",
    "\n"
   ]
  },
  {
   "cell_type": "markdown",
   "metadata": {},
   "source": [
    "Using the customer data, we will plot some insights related to the customer's and the type of accounts they hold and their industry, invoices, and customer conversions over time.\n"
   ]
  },
  {
   "cell_type": "code",
   "execution_count": 51,
   "metadata": {
    "scrolled": false
   },
   "outputs": [
    {
     "data": {
      "application/vnd.plotly.v1+json": {
       "config": {
        "plotlyServerURL": "https://plot.ly"
       },
       "data": [
        {
         "alignmentgroup": "True",
         "hovertemplate": "purpose=%{x}<br>customer counts=%{y}<extra></extra>",
         "legendgroup": "",
         "marker": {
          "color": "#636efa"
         },
         "name": "",
         "offsetgroup": "",
         "orientation": "v",
         "showlegend": false,
         "textposition": "auto",
         "type": "bar",
         "x": [
          "none",
          "personal",
          "team"
         ],
         "xaxis": "x",
         "y": [
          7003,
          4430,
          3595
         ],
         "yaxis": "y"
        }
       ],
       "layout": {
        "autosize": false,
        "barmode": "relative",
        "height": 400,
        "legend": {
         "tracegroupgap": 0
        },
        "template": {
         "data": {
          "bar": [
           {
            "error_x": {
             "color": "#2a3f5f"
            },
            "error_y": {
             "color": "#2a3f5f"
            },
            "marker": {
             "line": {
              "color": "#E5ECF6",
              "width": 0.5
             }
            },
            "type": "bar"
           }
          ],
          "barpolar": [
           {
            "marker": {
             "line": {
              "color": "#E5ECF6",
              "width": 0.5
             }
            },
            "type": "barpolar"
           }
          ],
          "carpet": [
           {
            "aaxis": {
             "endlinecolor": "#2a3f5f",
             "gridcolor": "white",
             "linecolor": "white",
             "minorgridcolor": "white",
             "startlinecolor": "#2a3f5f"
            },
            "baxis": {
             "endlinecolor": "#2a3f5f",
             "gridcolor": "white",
             "linecolor": "white",
             "minorgridcolor": "white",
             "startlinecolor": "#2a3f5f"
            },
            "type": "carpet"
           }
          ],
          "choropleth": [
           {
            "colorbar": {
             "outlinewidth": 0,
             "ticks": ""
            },
            "type": "choropleth"
           }
          ],
          "contour": [
           {
            "colorbar": {
             "outlinewidth": 0,
             "ticks": ""
            },
            "colorscale": [
             [
              0,
              "#0d0887"
             ],
             [
              0.1111111111111111,
              "#46039f"
             ],
             [
              0.2222222222222222,
              "#7201a8"
             ],
             [
              0.3333333333333333,
              "#9c179e"
             ],
             [
              0.4444444444444444,
              "#bd3786"
             ],
             [
              0.5555555555555556,
              "#d8576b"
             ],
             [
              0.6666666666666666,
              "#ed7953"
             ],
             [
              0.7777777777777778,
              "#fb9f3a"
             ],
             [
              0.8888888888888888,
              "#fdca26"
             ],
             [
              1,
              "#f0f921"
             ]
            ],
            "type": "contour"
           }
          ],
          "contourcarpet": [
           {
            "colorbar": {
             "outlinewidth": 0,
             "ticks": ""
            },
            "type": "contourcarpet"
           }
          ],
          "heatmap": [
           {
            "colorbar": {
             "outlinewidth": 0,
             "ticks": ""
            },
            "colorscale": [
             [
              0,
              "#0d0887"
             ],
             [
              0.1111111111111111,
              "#46039f"
             ],
             [
              0.2222222222222222,
              "#7201a8"
             ],
             [
              0.3333333333333333,
              "#9c179e"
             ],
             [
              0.4444444444444444,
              "#bd3786"
             ],
             [
              0.5555555555555556,
              "#d8576b"
             ],
             [
              0.6666666666666666,
              "#ed7953"
             ],
             [
              0.7777777777777778,
              "#fb9f3a"
             ],
             [
              0.8888888888888888,
              "#fdca26"
             ],
             [
              1,
              "#f0f921"
             ]
            ],
            "type": "heatmap"
           }
          ],
          "heatmapgl": [
           {
            "colorbar": {
             "outlinewidth": 0,
             "ticks": ""
            },
            "colorscale": [
             [
              0,
              "#0d0887"
             ],
             [
              0.1111111111111111,
              "#46039f"
             ],
             [
              0.2222222222222222,
              "#7201a8"
             ],
             [
              0.3333333333333333,
              "#9c179e"
             ],
             [
              0.4444444444444444,
              "#bd3786"
             ],
             [
              0.5555555555555556,
              "#d8576b"
             ],
             [
              0.6666666666666666,
              "#ed7953"
             ],
             [
              0.7777777777777778,
              "#fb9f3a"
             ],
             [
              0.8888888888888888,
              "#fdca26"
             ],
             [
              1,
              "#f0f921"
             ]
            ],
            "type": "heatmapgl"
           }
          ],
          "histogram": [
           {
            "marker": {
             "colorbar": {
              "outlinewidth": 0,
              "ticks": ""
             }
            },
            "type": "histogram"
           }
          ],
          "histogram2d": [
           {
            "colorbar": {
             "outlinewidth": 0,
             "ticks": ""
            },
            "colorscale": [
             [
              0,
              "#0d0887"
             ],
             [
              0.1111111111111111,
              "#46039f"
             ],
             [
              0.2222222222222222,
              "#7201a8"
             ],
             [
              0.3333333333333333,
              "#9c179e"
             ],
             [
              0.4444444444444444,
              "#bd3786"
             ],
             [
              0.5555555555555556,
              "#d8576b"
             ],
             [
              0.6666666666666666,
              "#ed7953"
             ],
             [
              0.7777777777777778,
              "#fb9f3a"
             ],
             [
              0.8888888888888888,
              "#fdca26"
             ],
             [
              1,
              "#f0f921"
             ]
            ],
            "type": "histogram2d"
           }
          ],
          "histogram2dcontour": [
           {
            "colorbar": {
             "outlinewidth": 0,
             "ticks": ""
            },
            "colorscale": [
             [
              0,
              "#0d0887"
             ],
             [
              0.1111111111111111,
              "#46039f"
             ],
             [
              0.2222222222222222,
              "#7201a8"
             ],
             [
              0.3333333333333333,
              "#9c179e"
             ],
             [
              0.4444444444444444,
              "#bd3786"
             ],
             [
              0.5555555555555556,
              "#d8576b"
             ],
             [
              0.6666666666666666,
              "#ed7953"
             ],
             [
              0.7777777777777778,
              "#fb9f3a"
             ],
             [
              0.8888888888888888,
              "#fdca26"
             ],
             [
              1,
              "#f0f921"
             ]
            ],
            "type": "histogram2dcontour"
           }
          ],
          "mesh3d": [
           {
            "colorbar": {
             "outlinewidth": 0,
             "ticks": ""
            },
            "type": "mesh3d"
           }
          ],
          "parcoords": [
           {
            "line": {
             "colorbar": {
              "outlinewidth": 0,
              "ticks": ""
             }
            },
            "type": "parcoords"
           }
          ],
          "pie": [
           {
            "automargin": true,
            "type": "pie"
           }
          ],
          "scatter": [
           {
            "marker": {
             "colorbar": {
              "outlinewidth": 0,
              "ticks": ""
             }
            },
            "type": "scatter"
           }
          ],
          "scatter3d": [
           {
            "line": {
             "colorbar": {
              "outlinewidth": 0,
              "ticks": ""
             }
            },
            "marker": {
             "colorbar": {
              "outlinewidth": 0,
              "ticks": ""
             }
            },
            "type": "scatter3d"
           }
          ],
          "scattercarpet": [
           {
            "marker": {
             "colorbar": {
              "outlinewidth": 0,
              "ticks": ""
             }
            },
            "type": "scattercarpet"
           }
          ],
          "scattergeo": [
           {
            "marker": {
             "colorbar": {
              "outlinewidth": 0,
              "ticks": ""
             }
            },
            "type": "scattergeo"
           }
          ],
          "scattergl": [
           {
            "marker": {
             "colorbar": {
              "outlinewidth": 0,
              "ticks": ""
             }
            },
            "type": "scattergl"
           }
          ],
          "scattermapbox": [
           {
            "marker": {
             "colorbar": {
              "outlinewidth": 0,
              "ticks": ""
             }
            },
            "type": "scattermapbox"
           }
          ],
          "scatterpolar": [
           {
            "marker": {
             "colorbar": {
              "outlinewidth": 0,
              "ticks": ""
             }
            },
            "type": "scatterpolar"
           }
          ],
          "scatterpolargl": [
           {
            "marker": {
             "colorbar": {
              "outlinewidth": 0,
              "ticks": ""
             }
            },
            "type": "scatterpolargl"
           }
          ],
          "scatterternary": [
           {
            "marker": {
             "colorbar": {
              "outlinewidth": 0,
              "ticks": ""
             }
            },
            "type": "scatterternary"
           }
          ],
          "surface": [
           {
            "colorbar": {
             "outlinewidth": 0,
             "ticks": ""
            },
            "colorscale": [
             [
              0,
              "#0d0887"
             ],
             [
              0.1111111111111111,
              "#46039f"
             ],
             [
              0.2222222222222222,
              "#7201a8"
             ],
             [
              0.3333333333333333,
              "#9c179e"
             ],
             [
              0.4444444444444444,
              "#bd3786"
             ],
             [
              0.5555555555555556,
              "#d8576b"
             ],
             [
              0.6666666666666666,
              "#ed7953"
             ],
             [
              0.7777777777777778,
              "#fb9f3a"
             ],
             [
              0.8888888888888888,
              "#fdca26"
             ],
             [
              1,
              "#f0f921"
             ]
            ],
            "type": "surface"
           }
          ],
          "table": [
           {
            "cells": {
             "fill": {
              "color": "#EBF0F8"
             },
             "line": {
              "color": "white"
             }
            },
            "header": {
             "fill": {
              "color": "#C8D4E3"
             },
             "line": {
              "color": "white"
             }
            },
            "type": "table"
           }
          ]
         },
         "layout": {
          "annotationdefaults": {
           "arrowcolor": "#2a3f5f",
           "arrowhead": 0,
           "arrowwidth": 1
          },
          "autotypenumbers": "strict",
          "coloraxis": {
           "colorbar": {
            "outlinewidth": 0,
            "ticks": ""
           }
          },
          "colorscale": {
           "diverging": [
            [
             0,
             "#8e0152"
            ],
            [
             0.1,
             "#c51b7d"
            ],
            [
             0.2,
             "#de77ae"
            ],
            [
             0.3,
             "#f1b6da"
            ],
            [
             0.4,
             "#fde0ef"
            ],
            [
             0.5,
             "#f7f7f7"
            ],
            [
             0.6,
             "#e6f5d0"
            ],
            [
             0.7,
             "#b8e186"
            ],
            [
             0.8,
             "#7fbc41"
            ],
            [
             0.9,
             "#4d9221"
            ],
            [
             1,
             "#276419"
            ]
           ],
           "sequential": [
            [
             0,
             "#0d0887"
            ],
            [
             0.1111111111111111,
             "#46039f"
            ],
            [
             0.2222222222222222,
             "#7201a8"
            ],
            [
             0.3333333333333333,
             "#9c179e"
            ],
            [
             0.4444444444444444,
             "#bd3786"
            ],
            [
             0.5555555555555556,
             "#d8576b"
            ],
            [
             0.6666666666666666,
             "#ed7953"
            ],
            [
             0.7777777777777778,
             "#fb9f3a"
            ],
            [
             0.8888888888888888,
             "#fdca26"
            ],
            [
             1,
             "#f0f921"
            ]
           ],
           "sequentialminus": [
            [
             0,
             "#0d0887"
            ],
            [
             0.1111111111111111,
             "#46039f"
            ],
            [
             0.2222222222222222,
             "#7201a8"
            ],
            [
             0.3333333333333333,
             "#9c179e"
            ],
            [
             0.4444444444444444,
             "#bd3786"
            ],
            [
             0.5555555555555556,
             "#d8576b"
            ],
            [
             0.6666666666666666,
             "#ed7953"
            ],
            [
             0.7777777777777778,
             "#fb9f3a"
            ],
            [
             0.8888888888888888,
             "#fdca26"
            ],
            [
             1,
             "#f0f921"
            ]
           ]
          },
          "colorway": [
           "#636efa",
           "#EF553B",
           "#00cc96",
           "#ab63fa",
           "#FFA15A",
           "#19d3f3",
           "#FF6692",
           "#B6E880",
           "#FF97FF",
           "#FECB52"
          ],
          "font": {
           "color": "#2a3f5f"
          },
          "geo": {
           "bgcolor": "white",
           "lakecolor": "white",
           "landcolor": "#E5ECF6",
           "showlakes": true,
           "showland": true,
           "subunitcolor": "white"
          },
          "hoverlabel": {
           "align": "left"
          },
          "hovermode": "closest",
          "mapbox": {
           "style": "light"
          },
          "paper_bgcolor": "white",
          "plot_bgcolor": "#E5ECF6",
          "polar": {
           "angularaxis": {
            "gridcolor": "white",
            "linecolor": "white",
            "ticks": ""
           },
           "bgcolor": "#E5ECF6",
           "radialaxis": {
            "gridcolor": "white",
            "linecolor": "white",
            "ticks": ""
           }
          },
          "scene": {
           "xaxis": {
            "backgroundcolor": "#E5ECF6",
            "gridcolor": "white",
            "gridwidth": 2,
            "linecolor": "white",
            "showbackground": true,
            "ticks": "",
            "zerolinecolor": "white"
           },
           "yaxis": {
            "backgroundcolor": "#E5ECF6",
            "gridcolor": "white",
            "gridwidth": 2,
            "linecolor": "white",
            "showbackground": true,
            "ticks": "",
            "zerolinecolor": "white"
           },
           "zaxis": {
            "backgroundcolor": "#E5ECF6",
            "gridcolor": "white",
            "gridwidth": 2,
            "linecolor": "white",
            "showbackground": true,
            "ticks": "",
            "zerolinecolor": "white"
           }
          },
          "shapedefaults": {
           "line": {
            "color": "#2a3f5f"
           }
          },
          "ternary": {
           "aaxis": {
            "gridcolor": "white",
            "linecolor": "white",
            "ticks": ""
           },
           "baxis": {
            "gridcolor": "white",
            "linecolor": "white",
            "ticks": ""
           },
           "bgcolor": "#E5ECF6",
           "caxis": {
            "gridcolor": "white",
            "linecolor": "white",
            "ticks": ""
           }
          },
          "title": {
           "x": 0.05
          },
          "xaxis": {
           "automargin": true,
           "gridcolor": "white",
           "linecolor": "white",
           "ticks": "",
           "title": {
            "standoff": 15
           },
           "zerolinecolor": "white",
           "zerolinewidth": 2
          },
          "yaxis": {
           "automargin": true,
           "gridcolor": "white",
           "linecolor": "white",
           "ticks": "",
           "title": {
            "standoff": 15
           },
           "zerolinecolor": "white",
           "zerolinewidth": 2
          }
         }
        },
        "title": {
         "text": "Count of customers by purpose type"
        },
        "width": 600,
        "xaxis": {
         "anchor": "y",
         "domain": [
          0,
          1
         ],
         "title": {
          "text": "purpose"
         }
        },
        "yaxis": {
         "anchor": "x",
         "domain": [
          0,
          1
         ],
         "title": {
          "text": "customer counts"
         }
        }
       }
      },
      "text/html": [
       "<div>                            <div id=\"a454a449-e3b2-4ea8-b62f-c850d9eca884\" class=\"plotly-graph-div\" style=\"height:400px; width:600px;\"></div>            <script type=\"text/javascript\">                require([\"plotly\"], function(Plotly) {                    window.PLOTLYENV=window.PLOTLYENV || {};                                    if (document.getElementById(\"a454a449-e3b2-4ea8-b62f-c850d9eca884\")) {                    Plotly.newPlot(                        \"a454a449-e3b2-4ea8-b62f-c850d9eca884\",                        [{\"alignmentgroup\": \"True\", \"hovertemplate\": \"purpose=%{x}<br>customer counts=%{y}<extra></extra>\", \"legendgroup\": \"\", \"marker\": {\"color\": \"#636efa\"}, \"name\": \"\", \"offsetgroup\": \"\", \"orientation\": \"v\", \"showlegend\": false, \"textposition\": \"auto\", \"type\": \"bar\", \"x\": [\"none\", \"personal\", \"team\"], \"xaxis\": \"x\", \"y\": [7003, 4430, 3595], \"yaxis\": \"y\"}],                        {\"autosize\": false, \"barmode\": \"relative\", \"height\": 400, \"legend\": {\"tracegroupgap\": 0}, \"template\": {\"data\": {\"bar\": [{\"error_x\": {\"color\": \"#2a3f5f\"}, \"error_y\": {\"color\": \"#2a3f5f\"}, \"marker\": {\"line\": {\"color\": \"#E5ECF6\", \"width\": 0.5}}, \"type\": \"bar\"}], \"barpolar\": [{\"marker\": {\"line\": {\"color\": \"#E5ECF6\", \"width\": 0.5}}, \"type\": \"barpolar\"}], \"carpet\": [{\"aaxis\": {\"endlinecolor\": \"#2a3f5f\", \"gridcolor\": \"white\", \"linecolor\": \"white\", \"minorgridcolor\": \"white\", \"startlinecolor\": \"#2a3f5f\"}, \"baxis\": {\"endlinecolor\": \"#2a3f5f\", \"gridcolor\": \"white\", \"linecolor\": \"white\", \"minorgridcolor\": \"white\", \"startlinecolor\": \"#2a3f5f\"}, \"type\": \"carpet\"}], \"choropleth\": [{\"colorbar\": {\"outlinewidth\": 0, \"ticks\": \"\"}, \"type\": \"choropleth\"}], \"contour\": [{\"colorbar\": {\"outlinewidth\": 0, \"ticks\": \"\"}, \"colorscale\": [[0.0, \"#0d0887\"], [0.1111111111111111, \"#46039f\"], [0.2222222222222222, \"#7201a8\"], [0.3333333333333333, \"#9c179e\"], [0.4444444444444444, \"#bd3786\"], [0.5555555555555556, \"#d8576b\"], [0.6666666666666666, \"#ed7953\"], [0.7777777777777778, \"#fb9f3a\"], [0.8888888888888888, \"#fdca26\"], [1.0, \"#f0f921\"]], \"type\": \"contour\"}], \"contourcarpet\": [{\"colorbar\": {\"outlinewidth\": 0, \"ticks\": \"\"}, \"type\": \"contourcarpet\"}], \"heatmap\": [{\"colorbar\": {\"outlinewidth\": 0, \"ticks\": \"\"}, \"colorscale\": [[0.0, \"#0d0887\"], [0.1111111111111111, \"#46039f\"], [0.2222222222222222, \"#7201a8\"], [0.3333333333333333, \"#9c179e\"], [0.4444444444444444, \"#bd3786\"], [0.5555555555555556, \"#d8576b\"], [0.6666666666666666, \"#ed7953\"], [0.7777777777777778, \"#fb9f3a\"], [0.8888888888888888, \"#fdca26\"], [1.0, \"#f0f921\"]], \"type\": \"heatmap\"}], \"heatmapgl\": [{\"colorbar\": {\"outlinewidth\": 0, \"ticks\": \"\"}, \"colorscale\": [[0.0, \"#0d0887\"], [0.1111111111111111, \"#46039f\"], [0.2222222222222222, \"#7201a8\"], [0.3333333333333333, \"#9c179e\"], [0.4444444444444444, \"#bd3786\"], [0.5555555555555556, \"#d8576b\"], [0.6666666666666666, \"#ed7953\"], [0.7777777777777778, \"#fb9f3a\"], [0.8888888888888888, \"#fdca26\"], [1.0, \"#f0f921\"]], \"type\": \"heatmapgl\"}], \"histogram\": [{\"marker\": {\"colorbar\": {\"outlinewidth\": 0, \"ticks\": \"\"}}, \"type\": \"histogram\"}], \"histogram2d\": [{\"colorbar\": {\"outlinewidth\": 0, \"ticks\": \"\"}, \"colorscale\": [[0.0, \"#0d0887\"], [0.1111111111111111, \"#46039f\"], [0.2222222222222222, \"#7201a8\"], [0.3333333333333333, \"#9c179e\"], [0.4444444444444444, \"#bd3786\"], [0.5555555555555556, \"#d8576b\"], [0.6666666666666666, \"#ed7953\"], [0.7777777777777778, \"#fb9f3a\"], [0.8888888888888888, \"#fdca26\"], [1.0, \"#f0f921\"]], \"type\": \"histogram2d\"}], \"histogram2dcontour\": [{\"colorbar\": {\"outlinewidth\": 0, \"ticks\": \"\"}, \"colorscale\": [[0.0, \"#0d0887\"], [0.1111111111111111, \"#46039f\"], [0.2222222222222222, \"#7201a8\"], [0.3333333333333333, \"#9c179e\"], [0.4444444444444444, \"#bd3786\"], [0.5555555555555556, \"#d8576b\"], [0.6666666666666666, \"#ed7953\"], [0.7777777777777778, \"#fb9f3a\"], [0.8888888888888888, \"#fdca26\"], [1.0, \"#f0f921\"]], \"type\": \"histogram2dcontour\"}], \"mesh3d\": [{\"colorbar\": {\"outlinewidth\": 0, \"ticks\": \"\"}, \"type\": \"mesh3d\"}], \"parcoords\": [{\"line\": {\"colorbar\": {\"outlinewidth\": 0, \"ticks\": \"\"}}, \"type\": \"parcoords\"}], \"pie\": [{\"automargin\": true, \"type\": \"pie\"}], \"scatter\": [{\"marker\": {\"colorbar\": {\"outlinewidth\": 0, \"ticks\": \"\"}}, \"type\": \"scatter\"}], \"scatter3d\": [{\"line\": {\"colorbar\": {\"outlinewidth\": 0, \"ticks\": \"\"}}, \"marker\": {\"colorbar\": {\"outlinewidth\": 0, \"ticks\": \"\"}}, \"type\": \"scatter3d\"}], \"scattercarpet\": [{\"marker\": {\"colorbar\": {\"outlinewidth\": 0, \"ticks\": \"\"}}, \"type\": \"scattercarpet\"}], \"scattergeo\": [{\"marker\": {\"colorbar\": {\"outlinewidth\": 0, \"ticks\": \"\"}}, \"type\": \"scattergeo\"}], \"scattergl\": [{\"marker\": {\"colorbar\": {\"outlinewidth\": 0, \"ticks\": \"\"}}, \"type\": \"scattergl\"}], \"scattermapbox\": [{\"marker\": {\"colorbar\": {\"outlinewidth\": 0, \"ticks\": \"\"}}, \"type\": \"scattermapbox\"}], \"scatterpolar\": [{\"marker\": {\"colorbar\": {\"outlinewidth\": 0, \"ticks\": \"\"}}, \"type\": \"scatterpolar\"}], \"scatterpolargl\": [{\"marker\": {\"colorbar\": {\"outlinewidth\": 0, \"ticks\": \"\"}}, \"type\": \"scatterpolargl\"}], \"scatterternary\": [{\"marker\": {\"colorbar\": {\"outlinewidth\": 0, \"ticks\": \"\"}}, \"type\": \"scatterternary\"}], \"surface\": [{\"colorbar\": {\"outlinewidth\": 0, \"ticks\": \"\"}, \"colorscale\": [[0.0, \"#0d0887\"], [0.1111111111111111, \"#46039f\"], [0.2222222222222222, \"#7201a8\"], [0.3333333333333333, \"#9c179e\"], [0.4444444444444444, \"#bd3786\"], [0.5555555555555556, \"#d8576b\"], [0.6666666666666666, \"#ed7953\"], [0.7777777777777778, \"#fb9f3a\"], [0.8888888888888888, \"#fdca26\"], [1.0, \"#f0f921\"]], \"type\": \"surface\"}], \"table\": [{\"cells\": {\"fill\": {\"color\": \"#EBF0F8\"}, \"line\": {\"color\": \"white\"}}, \"header\": {\"fill\": {\"color\": \"#C8D4E3\"}, \"line\": {\"color\": \"white\"}}, \"type\": \"table\"}]}, \"layout\": {\"annotationdefaults\": {\"arrowcolor\": \"#2a3f5f\", \"arrowhead\": 0, \"arrowwidth\": 1}, \"autotypenumbers\": \"strict\", \"coloraxis\": {\"colorbar\": {\"outlinewidth\": 0, \"ticks\": \"\"}}, \"colorscale\": {\"diverging\": [[0, \"#8e0152\"], [0.1, \"#c51b7d\"], [0.2, \"#de77ae\"], [0.3, \"#f1b6da\"], [0.4, \"#fde0ef\"], [0.5, \"#f7f7f7\"], [0.6, \"#e6f5d0\"], [0.7, \"#b8e186\"], [0.8, \"#7fbc41\"], [0.9, \"#4d9221\"], [1, \"#276419\"]], \"sequential\": [[0.0, \"#0d0887\"], [0.1111111111111111, \"#46039f\"], [0.2222222222222222, \"#7201a8\"], [0.3333333333333333, \"#9c179e\"], [0.4444444444444444, \"#bd3786\"], [0.5555555555555556, \"#d8576b\"], [0.6666666666666666, \"#ed7953\"], [0.7777777777777778, \"#fb9f3a\"], [0.8888888888888888, \"#fdca26\"], [1.0, \"#f0f921\"]], \"sequentialminus\": [[0.0, \"#0d0887\"], [0.1111111111111111, \"#46039f\"], [0.2222222222222222, \"#7201a8\"], [0.3333333333333333, \"#9c179e\"], [0.4444444444444444, \"#bd3786\"], [0.5555555555555556, \"#d8576b\"], [0.6666666666666666, \"#ed7953\"], [0.7777777777777778, \"#fb9f3a\"], [0.8888888888888888, \"#fdca26\"], [1.0, \"#f0f921\"]]}, \"colorway\": [\"#636efa\", \"#EF553B\", \"#00cc96\", \"#ab63fa\", \"#FFA15A\", \"#19d3f3\", \"#FF6692\", \"#B6E880\", \"#FF97FF\", \"#FECB52\"], \"font\": {\"color\": \"#2a3f5f\"}, \"geo\": {\"bgcolor\": \"white\", \"lakecolor\": \"white\", \"landcolor\": \"#E5ECF6\", \"showlakes\": true, \"showland\": true, \"subunitcolor\": \"white\"}, \"hoverlabel\": {\"align\": \"left\"}, \"hovermode\": \"closest\", \"mapbox\": {\"style\": \"light\"}, \"paper_bgcolor\": \"white\", \"plot_bgcolor\": \"#E5ECF6\", \"polar\": {\"angularaxis\": {\"gridcolor\": \"white\", \"linecolor\": \"white\", \"ticks\": \"\"}, \"bgcolor\": \"#E5ECF6\", \"radialaxis\": {\"gridcolor\": \"white\", \"linecolor\": \"white\", \"ticks\": \"\"}}, \"scene\": {\"xaxis\": {\"backgroundcolor\": \"#E5ECF6\", \"gridcolor\": \"white\", \"gridwidth\": 2, \"linecolor\": \"white\", \"showbackground\": true, \"ticks\": \"\", \"zerolinecolor\": \"white\"}, \"yaxis\": {\"backgroundcolor\": \"#E5ECF6\", \"gridcolor\": \"white\", \"gridwidth\": 2, \"linecolor\": \"white\", \"showbackground\": true, \"ticks\": \"\", \"zerolinecolor\": \"white\"}, \"zaxis\": {\"backgroundcolor\": \"#E5ECF6\", \"gridcolor\": \"white\", \"gridwidth\": 2, \"linecolor\": \"white\", \"showbackground\": true, \"ticks\": \"\", \"zerolinecolor\": \"white\"}}, \"shapedefaults\": {\"line\": {\"color\": \"#2a3f5f\"}}, \"ternary\": {\"aaxis\": {\"gridcolor\": \"white\", \"linecolor\": \"white\", \"ticks\": \"\"}, \"baxis\": {\"gridcolor\": \"white\", \"linecolor\": \"white\", \"ticks\": \"\"}, \"bgcolor\": \"#E5ECF6\", \"caxis\": {\"gridcolor\": \"white\", \"linecolor\": \"white\", \"ticks\": \"\"}}, \"title\": {\"x\": 0.05}, \"xaxis\": {\"automargin\": true, \"gridcolor\": \"white\", \"linecolor\": \"white\", \"ticks\": \"\", \"title\": {\"standoff\": 15}, \"zerolinecolor\": \"white\", \"zerolinewidth\": 2}, \"yaxis\": {\"automargin\": true, \"gridcolor\": \"white\", \"linecolor\": \"white\", \"ticks\": \"\", \"title\": {\"standoff\": 15}, \"zerolinecolor\": \"white\", \"zerolinewidth\": 2}}}, \"title\": {\"text\": \"Count of customers by purpose type\"}, \"width\": 600, \"xaxis\": {\"anchor\": \"y\", \"domain\": [0.0, 1.0], \"title\": {\"text\": \"purpose\"}}, \"yaxis\": {\"anchor\": \"x\", \"domain\": [0.0, 1.0], \"title\": {\"text\": \"customer counts\"}}},                        {\"responsive\": true}                    ).then(function(){\n",
       "                            \n",
       "var gd = document.getElementById('a454a449-e3b2-4ea8-b62f-c850d9eca884');\n",
       "var x = new MutationObserver(function (mutations, observer) {{\n",
       "        var display = window.getComputedStyle(gd).display;\n",
       "        if (!display || display === 'none') {{\n",
       "            console.log([gd, 'removed!']);\n",
       "            Plotly.purge(gd);\n",
       "            observer.disconnect();\n",
       "        }}\n",
       "}});\n",
       "\n",
       "// Listen for the removal of the full notebook cells\n",
       "var notebookContainer = gd.closest('#notebook-container');\n",
       "if (notebookContainer) {{\n",
       "    x.observe(notebookContainer, {childList: true});\n",
       "}}\n",
       "\n",
       "// Listen for the clearing of the current output cell\n",
       "var outputEl = gd.closest('.output');\n",
       "if (outputEl) {{\n",
       "    x.observe(outputEl, {childList: true});\n",
       "}}\n",
       "\n",
       "                        })                };                });            </script>        </div>"
      ]
     },
     "metadata": {},
     "output_type": "display_data"
    },
    {
     "data": {
      "application/vnd.plotly.v1+json": {
       "config": {
        "plotlyServerURL": "https://plot.ly"
       },
       "data": [
        {
         "alignmentgroup": "True",
         "hovertemplate": "purpose=none<br>industry=%{x}<br>customer counts=%{y}<extra></extra>",
         "legendgroup": "none",
         "marker": {
          "color": "#636efa"
         },
         "name": "none",
         "offsetgroup": "none",
         "orientation": "v",
         "showlegend": true,
         "textposition": "auto",
         "type": "bar",
         "x": [
          "_other",
          "_unknown",
          "accounting",
          "agriculture",
          "architecture",
          "construction",
          "design",
          "ecommerce",
          "education",
          "engineering",
          "entertainment",
          "events",
          "healthcare",
          "hospitality",
          "legal",
          "management consulting",
          "manufacturing",
          "marketing",
          "music",
          "nonprofit",
          "real estate",
          "research",
          "retail",
          "tech",
          "virtual assistant",
          "visual arts",
          "writing"
         ],
         "xaxis": "x",
         "y": [
          346,
          1235,
          129,
          1,
          346,
          127,
          393,
          1,
          23,
          207,
          29,
          5,
          129,
          1,
          258,
          380,
          2,
          1008,
          3,
          89,
          7,
          2,
          4,
          2175,
          4,
          73,
          26
         ],
         "yaxis": "y"
        },
        {
         "alignmentgroup": "True",
         "hovertemplate": "purpose=personal<br>industry=%{x}<br>customer counts=%{y}<extra></extra>",
         "legendgroup": "personal",
         "marker": {
          "color": "#EF553B"
         },
         "name": "personal",
         "offsetgroup": "personal",
         "orientation": "v",
         "showlegend": true,
         "textposition": "auto",
         "type": "bar",
         "x": [
          "_other",
          "_unknown",
          "accounting",
          "architecture",
          "construction",
          "design",
          "ecommerce",
          "education",
          "engineering",
          "entertainment",
          "events",
          "healthcare",
          "hospitality",
          "legal",
          "management consulting",
          "manufacturing",
          "marketing",
          "music",
          "nonprofit",
          "real estate",
          "research",
          "retail",
          "tech",
          "virtual assistant",
          "visual arts",
          "writing"
         ],
         "xaxis": "x",
         "y": [
          456,
          542,
          122,
          201,
          100,
          408,
          3,
          57,
          120,
          18,
          5,
          130,
          3,
          208,
          421,
          3,
          562,
          5,
          95,
          6,
          2,
          3,
          874,
          11,
          49,
          26
         ],
         "yaxis": "y"
        },
        {
         "alignmentgroup": "True",
         "hovertemplate": "purpose=team<br>industry=%{x}<br>customer counts=%{y}<extra></extra>",
         "legendgroup": "team",
         "marker": {
          "color": "#00cc96"
         },
         "name": "team",
         "offsetgroup": "team",
         "orientation": "v",
         "showlegend": true,
         "textposition": "auto",
         "type": "bar",
         "x": [
          "_other",
          "_unknown",
          "accounting",
          "agriculture",
          "architecture",
          "construction",
          "design",
          "ecommerce",
          "education",
          "engineering",
          "entertainment",
          "events",
          "healthcare",
          "hospitality",
          "legal",
          "management consulting",
          "manufacturing",
          "marketing",
          "nonprofit",
          "real estate",
          "research",
          "retail",
          "tech",
          "virtual assistant",
          "visual arts",
          "writing"
         ],
         "xaxis": "x",
         "y": [
          388,
          416,
          97,
          2,
          248,
          114,
          184,
          5,
          39,
          132,
          9,
          5,
          98,
          3,
          108,
          240,
          5,
          552,
          93,
          5,
          2,
          1,
          827,
          1,
          18,
          3
         ],
         "yaxis": "y"
        }
       ],
       "layout": {
        "autosize": false,
        "barmode": "relative",
        "height": 800,
        "legend": {
         "title": {
          "text": "purpose"
         },
         "tracegroupgap": 0
        },
        "template": {
         "data": {
          "bar": [
           {
            "error_x": {
             "color": "#2a3f5f"
            },
            "error_y": {
             "color": "#2a3f5f"
            },
            "marker": {
             "line": {
              "color": "#E5ECF6",
              "width": 0.5
             }
            },
            "type": "bar"
           }
          ],
          "barpolar": [
           {
            "marker": {
             "line": {
              "color": "#E5ECF6",
              "width": 0.5
             }
            },
            "type": "barpolar"
           }
          ],
          "carpet": [
           {
            "aaxis": {
             "endlinecolor": "#2a3f5f",
             "gridcolor": "white",
             "linecolor": "white",
             "minorgridcolor": "white",
             "startlinecolor": "#2a3f5f"
            },
            "baxis": {
             "endlinecolor": "#2a3f5f",
             "gridcolor": "white",
             "linecolor": "white",
             "minorgridcolor": "white",
             "startlinecolor": "#2a3f5f"
            },
            "type": "carpet"
           }
          ],
          "choropleth": [
           {
            "colorbar": {
             "outlinewidth": 0,
             "ticks": ""
            },
            "type": "choropleth"
           }
          ],
          "contour": [
           {
            "colorbar": {
             "outlinewidth": 0,
             "ticks": ""
            },
            "colorscale": [
             [
              0,
              "#0d0887"
             ],
             [
              0.1111111111111111,
              "#46039f"
             ],
             [
              0.2222222222222222,
              "#7201a8"
             ],
             [
              0.3333333333333333,
              "#9c179e"
             ],
             [
              0.4444444444444444,
              "#bd3786"
             ],
             [
              0.5555555555555556,
              "#d8576b"
             ],
             [
              0.6666666666666666,
              "#ed7953"
             ],
             [
              0.7777777777777778,
              "#fb9f3a"
             ],
             [
              0.8888888888888888,
              "#fdca26"
             ],
             [
              1,
              "#f0f921"
             ]
            ],
            "type": "contour"
           }
          ],
          "contourcarpet": [
           {
            "colorbar": {
             "outlinewidth": 0,
             "ticks": ""
            },
            "type": "contourcarpet"
           }
          ],
          "heatmap": [
           {
            "colorbar": {
             "outlinewidth": 0,
             "ticks": ""
            },
            "colorscale": [
             [
              0,
              "#0d0887"
             ],
             [
              0.1111111111111111,
              "#46039f"
             ],
             [
              0.2222222222222222,
              "#7201a8"
             ],
             [
              0.3333333333333333,
              "#9c179e"
             ],
             [
              0.4444444444444444,
              "#bd3786"
             ],
             [
              0.5555555555555556,
              "#d8576b"
             ],
             [
              0.6666666666666666,
              "#ed7953"
             ],
             [
              0.7777777777777778,
              "#fb9f3a"
             ],
             [
              0.8888888888888888,
              "#fdca26"
             ],
             [
              1,
              "#f0f921"
             ]
            ],
            "type": "heatmap"
           }
          ],
          "heatmapgl": [
           {
            "colorbar": {
             "outlinewidth": 0,
             "ticks": ""
            },
            "colorscale": [
             [
              0,
              "#0d0887"
             ],
             [
              0.1111111111111111,
              "#46039f"
             ],
             [
              0.2222222222222222,
              "#7201a8"
             ],
             [
              0.3333333333333333,
              "#9c179e"
             ],
             [
              0.4444444444444444,
              "#bd3786"
             ],
             [
              0.5555555555555556,
              "#d8576b"
             ],
             [
              0.6666666666666666,
              "#ed7953"
             ],
             [
              0.7777777777777778,
              "#fb9f3a"
             ],
             [
              0.8888888888888888,
              "#fdca26"
             ],
             [
              1,
              "#f0f921"
             ]
            ],
            "type": "heatmapgl"
           }
          ],
          "histogram": [
           {
            "marker": {
             "colorbar": {
              "outlinewidth": 0,
              "ticks": ""
             }
            },
            "type": "histogram"
           }
          ],
          "histogram2d": [
           {
            "colorbar": {
             "outlinewidth": 0,
             "ticks": ""
            },
            "colorscale": [
             [
              0,
              "#0d0887"
             ],
             [
              0.1111111111111111,
              "#46039f"
             ],
             [
              0.2222222222222222,
              "#7201a8"
             ],
             [
              0.3333333333333333,
              "#9c179e"
             ],
             [
              0.4444444444444444,
              "#bd3786"
             ],
             [
              0.5555555555555556,
              "#d8576b"
             ],
             [
              0.6666666666666666,
              "#ed7953"
             ],
             [
              0.7777777777777778,
              "#fb9f3a"
             ],
             [
              0.8888888888888888,
              "#fdca26"
             ],
             [
              1,
              "#f0f921"
             ]
            ],
            "type": "histogram2d"
           }
          ],
          "histogram2dcontour": [
           {
            "colorbar": {
             "outlinewidth": 0,
             "ticks": ""
            },
            "colorscale": [
             [
              0,
              "#0d0887"
             ],
             [
              0.1111111111111111,
              "#46039f"
             ],
             [
              0.2222222222222222,
              "#7201a8"
             ],
             [
              0.3333333333333333,
              "#9c179e"
             ],
             [
              0.4444444444444444,
              "#bd3786"
             ],
             [
              0.5555555555555556,
              "#d8576b"
             ],
             [
              0.6666666666666666,
              "#ed7953"
             ],
             [
              0.7777777777777778,
              "#fb9f3a"
             ],
             [
              0.8888888888888888,
              "#fdca26"
             ],
             [
              1,
              "#f0f921"
             ]
            ],
            "type": "histogram2dcontour"
           }
          ],
          "mesh3d": [
           {
            "colorbar": {
             "outlinewidth": 0,
             "ticks": ""
            },
            "type": "mesh3d"
           }
          ],
          "parcoords": [
           {
            "line": {
             "colorbar": {
              "outlinewidth": 0,
              "ticks": ""
             }
            },
            "type": "parcoords"
           }
          ],
          "pie": [
           {
            "automargin": true,
            "type": "pie"
           }
          ],
          "scatter": [
           {
            "marker": {
             "colorbar": {
              "outlinewidth": 0,
              "ticks": ""
             }
            },
            "type": "scatter"
           }
          ],
          "scatter3d": [
           {
            "line": {
             "colorbar": {
              "outlinewidth": 0,
              "ticks": ""
             }
            },
            "marker": {
             "colorbar": {
              "outlinewidth": 0,
              "ticks": ""
             }
            },
            "type": "scatter3d"
           }
          ],
          "scattercarpet": [
           {
            "marker": {
             "colorbar": {
              "outlinewidth": 0,
              "ticks": ""
             }
            },
            "type": "scattercarpet"
           }
          ],
          "scattergeo": [
           {
            "marker": {
             "colorbar": {
              "outlinewidth": 0,
              "ticks": ""
             }
            },
            "type": "scattergeo"
           }
          ],
          "scattergl": [
           {
            "marker": {
             "colorbar": {
              "outlinewidth": 0,
              "ticks": ""
             }
            },
            "type": "scattergl"
           }
          ],
          "scattermapbox": [
           {
            "marker": {
             "colorbar": {
              "outlinewidth": 0,
              "ticks": ""
             }
            },
            "type": "scattermapbox"
           }
          ],
          "scatterpolar": [
           {
            "marker": {
             "colorbar": {
              "outlinewidth": 0,
              "ticks": ""
             }
            },
            "type": "scatterpolar"
           }
          ],
          "scatterpolargl": [
           {
            "marker": {
             "colorbar": {
              "outlinewidth": 0,
              "ticks": ""
             }
            },
            "type": "scatterpolargl"
           }
          ],
          "scatterternary": [
           {
            "marker": {
             "colorbar": {
              "outlinewidth": 0,
              "ticks": ""
             }
            },
            "type": "scatterternary"
           }
          ],
          "surface": [
           {
            "colorbar": {
             "outlinewidth": 0,
             "ticks": ""
            },
            "colorscale": [
             [
              0,
              "#0d0887"
             ],
             [
              0.1111111111111111,
              "#46039f"
             ],
             [
              0.2222222222222222,
              "#7201a8"
             ],
             [
              0.3333333333333333,
              "#9c179e"
             ],
             [
              0.4444444444444444,
              "#bd3786"
             ],
             [
              0.5555555555555556,
              "#d8576b"
             ],
             [
              0.6666666666666666,
              "#ed7953"
             ],
             [
              0.7777777777777778,
              "#fb9f3a"
             ],
             [
              0.8888888888888888,
              "#fdca26"
             ],
             [
              1,
              "#f0f921"
             ]
            ],
            "type": "surface"
           }
          ],
          "table": [
           {
            "cells": {
             "fill": {
              "color": "#EBF0F8"
             },
             "line": {
              "color": "white"
             }
            },
            "header": {
             "fill": {
              "color": "#C8D4E3"
             },
             "line": {
              "color": "white"
             }
            },
            "type": "table"
           }
          ]
         },
         "layout": {
          "annotationdefaults": {
           "arrowcolor": "#2a3f5f",
           "arrowhead": 0,
           "arrowwidth": 1
          },
          "autotypenumbers": "strict",
          "coloraxis": {
           "colorbar": {
            "outlinewidth": 0,
            "ticks": ""
           }
          },
          "colorscale": {
           "diverging": [
            [
             0,
             "#8e0152"
            ],
            [
             0.1,
             "#c51b7d"
            ],
            [
             0.2,
             "#de77ae"
            ],
            [
             0.3,
             "#f1b6da"
            ],
            [
             0.4,
             "#fde0ef"
            ],
            [
             0.5,
             "#f7f7f7"
            ],
            [
             0.6,
             "#e6f5d0"
            ],
            [
             0.7,
             "#b8e186"
            ],
            [
             0.8,
             "#7fbc41"
            ],
            [
             0.9,
             "#4d9221"
            ],
            [
             1,
             "#276419"
            ]
           ],
           "sequential": [
            [
             0,
             "#0d0887"
            ],
            [
             0.1111111111111111,
             "#46039f"
            ],
            [
             0.2222222222222222,
             "#7201a8"
            ],
            [
             0.3333333333333333,
             "#9c179e"
            ],
            [
             0.4444444444444444,
             "#bd3786"
            ],
            [
             0.5555555555555556,
             "#d8576b"
            ],
            [
             0.6666666666666666,
             "#ed7953"
            ],
            [
             0.7777777777777778,
             "#fb9f3a"
            ],
            [
             0.8888888888888888,
             "#fdca26"
            ],
            [
             1,
             "#f0f921"
            ]
           ],
           "sequentialminus": [
            [
             0,
             "#0d0887"
            ],
            [
             0.1111111111111111,
             "#46039f"
            ],
            [
             0.2222222222222222,
             "#7201a8"
            ],
            [
             0.3333333333333333,
             "#9c179e"
            ],
            [
             0.4444444444444444,
             "#bd3786"
            ],
            [
             0.5555555555555556,
             "#d8576b"
            ],
            [
             0.6666666666666666,
             "#ed7953"
            ],
            [
             0.7777777777777778,
             "#fb9f3a"
            ],
            [
             0.8888888888888888,
             "#fdca26"
            ],
            [
             1,
             "#f0f921"
            ]
           ]
          },
          "colorway": [
           "#636efa",
           "#EF553B",
           "#00cc96",
           "#ab63fa",
           "#FFA15A",
           "#19d3f3",
           "#FF6692",
           "#B6E880",
           "#FF97FF",
           "#FECB52"
          ],
          "font": {
           "color": "#2a3f5f"
          },
          "geo": {
           "bgcolor": "white",
           "lakecolor": "white",
           "landcolor": "#E5ECF6",
           "showlakes": true,
           "showland": true,
           "subunitcolor": "white"
          },
          "hoverlabel": {
           "align": "left"
          },
          "hovermode": "closest",
          "mapbox": {
           "style": "light"
          },
          "paper_bgcolor": "white",
          "plot_bgcolor": "#E5ECF6",
          "polar": {
           "angularaxis": {
            "gridcolor": "white",
            "linecolor": "white",
            "ticks": ""
           },
           "bgcolor": "#E5ECF6",
           "radialaxis": {
            "gridcolor": "white",
            "linecolor": "white",
            "ticks": ""
           }
          },
          "scene": {
           "xaxis": {
            "backgroundcolor": "#E5ECF6",
            "gridcolor": "white",
            "gridwidth": 2,
            "linecolor": "white",
            "showbackground": true,
            "ticks": "",
            "zerolinecolor": "white"
           },
           "yaxis": {
            "backgroundcolor": "#E5ECF6",
            "gridcolor": "white",
            "gridwidth": 2,
            "linecolor": "white",
            "showbackground": true,
            "ticks": "",
            "zerolinecolor": "white"
           },
           "zaxis": {
            "backgroundcolor": "#E5ECF6",
            "gridcolor": "white",
            "gridwidth": 2,
            "linecolor": "white",
            "showbackground": true,
            "ticks": "",
            "zerolinecolor": "white"
           }
          },
          "shapedefaults": {
           "line": {
            "color": "#2a3f5f"
           }
          },
          "ternary": {
           "aaxis": {
            "gridcolor": "white",
            "linecolor": "white",
            "ticks": ""
           },
           "baxis": {
            "gridcolor": "white",
            "linecolor": "white",
            "ticks": ""
           },
           "bgcolor": "#E5ECF6",
           "caxis": {
            "gridcolor": "white",
            "linecolor": "white",
            "ticks": ""
           }
          },
          "title": {
           "x": 0.05
          },
          "xaxis": {
           "automargin": true,
           "gridcolor": "white",
           "linecolor": "white",
           "ticks": "",
           "title": {
            "standoff": 15
           },
           "zerolinecolor": "white",
           "zerolinewidth": 2
          },
          "yaxis": {
           "automargin": true,
           "gridcolor": "white",
           "linecolor": "white",
           "ticks": "",
           "title": {
            "standoff": 15
           },
           "zerolinecolor": "white",
           "zerolinewidth": 2
          }
         }
        },
        "title": {
         "text": "Count of customers, by purpose, in each industry"
        },
        "width": 900,
        "xaxis": {
         "anchor": "y",
         "domain": [
          0,
          1
         ],
         "title": {
          "text": "industry"
         }
        },
        "yaxis": {
         "anchor": "x",
         "domain": [
          0,
          1
         ],
         "title": {
          "text": "customer counts"
         }
        }
       }
      },
      "text/html": [
       "<div>                            <div id=\"591764c1-ddfd-43a4-a700-1df501e170a1\" class=\"plotly-graph-div\" style=\"height:800px; width:900px;\"></div>            <script type=\"text/javascript\">                require([\"plotly\"], function(Plotly) {                    window.PLOTLYENV=window.PLOTLYENV || {};                                    if (document.getElementById(\"591764c1-ddfd-43a4-a700-1df501e170a1\")) {                    Plotly.newPlot(                        \"591764c1-ddfd-43a4-a700-1df501e170a1\",                        [{\"alignmentgroup\": \"True\", \"hovertemplate\": \"purpose=none<br>industry=%{x}<br>customer counts=%{y}<extra></extra>\", \"legendgroup\": \"none\", \"marker\": {\"color\": \"#636efa\"}, \"name\": \"none\", \"offsetgroup\": \"none\", \"orientation\": \"v\", \"showlegend\": true, \"textposition\": \"auto\", \"type\": \"bar\", \"x\": [\"_other\", \"_unknown\", \"accounting\", \"agriculture\", \"architecture\", \"construction\", \"design\", \"ecommerce\", \"education\", \"engineering\", \"entertainment\", \"events\", \"healthcare\", \"hospitality\", \"legal\", \"management consulting\", \"manufacturing\", \"marketing\", \"music\", \"nonprofit\", \"real estate\", \"research\", \"retail\", \"tech\", \"virtual assistant\", \"visual arts\", \"writing\"], \"xaxis\": \"x\", \"y\": [346, 1235, 129, 1, 346, 127, 393, 1, 23, 207, 29, 5, 129, 1, 258, 380, 2, 1008, 3, 89, 7, 2, 4, 2175, 4, 73, 26], \"yaxis\": \"y\"}, {\"alignmentgroup\": \"True\", \"hovertemplate\": \"purpose=personal<br>industry=%{x}<br>customer counts=%{y}<extra></extra>\", \"legendgroup\": \"personal\", \"marker\": {\"color\": \"#EF553B\"}, \"name\": \"personal\", \"offsetgroup\": \"personal\", \"orientation\": \"v\", \"showlegend\": true, \"textposition\": \"auto\", \"type\": \"bar\", \"x\": [\"_other\", \"_unknown\", \"accounting\", \"architecture\", \"construction\", \"design\", \"ecommerce\", \"education\", \"engineering\", \"entertainment\", \"events\", \"healthcare\", \"hospitality\", \"legal\", \"management consulting\", \"manufacturing\", \"marketing\", \"music\", \"nonprofit\", \"real estate\", \"research\", \"retail\", \"tech\", \"virtual assistant\", \"visual arts\", \"writing\"], \"xaxis\": \"x\", \"y\": [456, 542, 122, 201, 100, 408, 3, 57, 120, 18, 5, 130, 3, 208, 421, 3, 562, 5, 95, 6, 2, 3, 874, 11, 49, 26], \"yaxis\": \"y\"}, {\"alignmentgroup\": \"True\", \"hovertemplate\": \"purpose=team<br>industry=%{x}<br>customer counts=%{y}<extra></extra>\", \"legendgroup\": \"team\", \"marker\": {\"color\": \"#00cc96\"}, \"name\": \"team\", \"offsetgroup\": \"team\", \"orientation\": \"v\", \"showlegend\": true, \"textposition\": \"auto\", \"type\": \"bar\", \"x\": [\"_other\", \"_unknown\", \"accounting\", \"agriculture\", \"architecture\", \"construction\", \"design\", \"ecommerce\", \"education\", \"engineering\", \"entertainment\", \"events\", \"healthcare\", \"hospitality\", \"legal\", \"management consulting\", \"manufacturing\", \"marketing\", \"nonprofit\", \"real estate\", \"research\", \"retail\", \"tech\", \"virtual assistant\", \"visual arts\", \"writing\"], \"xaxis\": \"x\", \"y\": [388, 416, 97, 2, 248, 114, 184, 5, 39, 132, 9, 5, 98, 3, 108, 240, 5, 552, 93, 5, 2, 1, 827, 1, 18, 3], \"yaxis\": \"y\"}],                        {\"autosize\": false, \"barmode\": \"relative\", \"height\": 800, \"legend\": {\"title\": {\"text\": \"purpose\"}, \"tracegroupgap\": 0}, \"template\": {\"data\": {\"bar\": [{\"error_x\": {\"color\": \"#2a3f5f\"}, \"error_y\": {\"color\": \"#2a3f5f\"}, \"marker\": {\"line\": {\"color\": \"#E5ECF6\", \"width\": 0.5}}, \"type\": \"bar\"}], \"barpolar\": [{\"marker\": {\"line\": {\"color\": \"#E5ECF6\", \"width\": 0.5}}, \"type\": \"barpolar\"}], \"carpet\": [{\"aaxis\": {\"endlinecolor\": \"#2a3f5f\", \"gridcolor\": \"white\", \"linecolor\": \"white\", \"minorgridcolor\": \"white\", \"startlinecolor\": \"#2a3f5f\"}, \"baxis\": {\"endlinecolor\": \"#2a3f5f\", \"gridcolor\": \"white\", \"linecolor\": \"white\", \"minorgridcolor\": \"white\", \"startlinecolor\": \"#2a3f5f\"}, \"type\": \"carpet\"}], \"choropleth\": [{\"colorbar\": {\"outlinewidth\": 0, \"ticks\": \"\"}, \"type\": \"choropleth\"}], \"contour\": [{\"colorbar\": {\"outlinewidth\": 0, \"ticks\": \"\"}, \"colorscale\": [[0.0, \"#0d0887\"], [0.1111111111111111, \"#46039f\"], [0.2222222222222222, \"#7201a8\"], [0.3333333333333333, \"#9c179e\"], [0.4444444444444444, \"#bd3786\"], [0.5555555555555556, \"#d8576b\"], [0.6666666666666666, \"#ed7953\"], [0.7777777777777778, \"#fb9f3a\"], [0.8888888888888888, \"#fdca26\"], [1.0, \"#f0f921\"]], \"type\": \"contour\"}], \"contourcarpet\": [{\"colorbar\": {\"outlinewidth\": 0, \"ticks\": \"\"}, \"type\": \"contourcarpet\"}], \"heatmap\": [{\"colorbar\": {\"outlinewidth\": 0, \"ticks\": \"\"}, \"colorscale\": [[0.0, \"#0d0887\"], [0.1111111111111111, \"#46039f\"], [0.2222222222222222, \"#7201a8\"], [0.3333333333333333, \"#9c179e\"], [0.4444444444444444, \"#bd3786\"], [0.5555555555555556, \"#d8576b\"], [0.6666666666666666, \"#ed7953\"], [0.7777777777777778, \"#fb9f3a\"], [0.8888888888888888, \"#fdca26\"], [1.0, \"#f0f921\"]], \"type\": \"heatmap\"}], \"heatmapgl\": [{\"colorbar\": {\"outlinewidth\": 0, \"ticks\": \"\"}, \"colorscale\": [[0.0, \"#0d0887\"], [0.1111111111111111, \"#46039f\"], [0.2222222222222222, \"#7201a8\"], [0.3333333333333333, \"#9c179e\"], [0.4444444444444444, \"#bd3786\"], [0.5555555555555556, \"#d8576b\"], [0.6666666666666666, \"#ed7953\"], [0.7777777777777778, \"#fb9f3a\"], [0.8888888888888888, \"#fdca26\"], [1.0, \"#f0f921\"]], \"type\": \"heatmapgl\"}], \"histogram\": [{\"marker\": {\"colorbar\": {\"outlinewidth\": 0, \"ticks\": \"\"}}, \"type\": \"histogram\"}], \"histogram2d\": [{\"colorbar\": {\"outlinewidth\": 0, \"ticks\": \"\"}, \"colorscale\": [[0.0, \"#0d0887\"], [0.1111111111111111, \"#46039f\"], [0.2222222222222222, \"#7201a8\"], [0.3333333333333333, \"#9c179e\"], [0.4444444444444444, \"#bd3786\"], [0.5555555555555556, \"#d8576b\"], [0.6666666666666666, \"#ed7953\"], [0.7777777777777778, \"#fb9f3a\"], [0.8888888888888888, \"#fdca26\"], [1.0, \"#f0f921\"]], \"type\": \"histogram2d\"}], \"histogram2dcontour\": [{\"colorbar\": {\"outlinewidth\": 0, \"ticks\": \"\"}, \"colorscale\": [[0.0, \"#0d0887\"], [0.1111111111111111, \"#46039f\"], [0.2222222222222222, \"#7201a8\"], [0.3333333333333333, \"#9c179e\"], [0.4444444444444444, \"#bd3786\"], [0.5555555555555556, \"#d8576b\"], [0.6666666666666666, \"#ed7953\"], [0.7777777777777778, \"#fb9f3a\"], [0.8888888888888888, \"#fdca26\"], [1.0, \"#f0f921\"]], \"type\": \"histogram2dcontour\"}], \"mesh3d\": [{\"colorbar\": {\"outlinewidth\": 0, \"ticks\": \"\"}, \"type\": \"mesh3d\"}], \"parcoords\": [{\"line\": {\"colorbar\": {\"outlinewidth\": 0, \"ticks\": \"\"}}, \"type\": \"parcoords\"}], \"pie\": [{\"automargin\": true, \"type\": \"pie\"}], \"scatter\": [{\"marker\": {\"colorbar\": {\"outlinewidth\": 0, \"ticks\": \"\"}}, \"type\": \"scatter\"}], \"scatter3d\": [{\"line\": {\"colorbar\": {\"outlinewidth\": 0, \"ticks\": \"\"}}, \"marker\": {\"colorbar\": {\"outlinewidth\": 0, \"ticks\": \"\"}}, \"type\": \"scatter3d\"}], \"scattercarpet\": [{\"marker\": {\"colorbar\": {\"outlinewidth\": 0, \"ticks\": \"\"}}, \"type\": \"scattercarpet\"}], \"scattergeo\": [{\"marker\": {\"colorbar\": {\"outlinewidth\": 0, \"ticks\": \"\"}}, \"type\": \"scattergeo\"}], \"scattergl\": [{\"marker\": {\"colorbar\": {\"outlinewidth\": 0, \"ticks\": \"\"}}, \"type\": \"scattergl\"}], \"scattermapbox\": [{\"marker\": {\"colorbar\": {\"outlinewidth\": 0, \"ticks\": \"\"}}, \"type\": \"scattermapbox\"}], \"scatterpolar\": [{\"marker\": {\"colorbar\": {\"outlinewidth\": 0, \"ticks\": \"\"}}, \"type\": \"scatterpolar\"}], \"scatterpolargl\": [{\"marker\": {\"colorbar\": {\"outlinewidth\": 0, \"ticks\": \"\"}}, \"type\": \"scatterpolargl\"}], \"scatterternary\": [{\"marker\": {\"colorbar\": {\"outlinewidth\": 0, \"ticks\": \"\"}}, \"type\": \"scatterternary\"}], \"surface\": [{\"colorbar\": {\"outlinewidth\": 0, \"ticks\": \"\"}, \"colorscale\": [[0.0, \"#0d0887\"], [0.1111111111111111, \"#46039f\"], [0.2222222222222222, \"#7201a8\"], [0.3333333333333333, \"#9c179e\"], [0.4444444444444444, \"#bd3786\"], [0.5555555555555556, \"#d8576b\"], [0.6666666666666666, \"#ed7953\"], [0.7777777777777778, \"#fb9f3a\"], [0.8888888888888888, \"#fdca26\"], [1.0, \"#f0f921\"]], \"type\": \"surface\"}], \"table\": [{\"cells\": {\"fill\": {\"color\": \"#EBF0F8\"}, \"line\": {\"color\": \"white\"}}, \"header\": {\"fill\": {\"color\": \"#C8D4E3\"}, \"line\": {\"color\": \"white\"}}, \"type\": \"table\"}]}, \"layout\": {\"annotationdefaults\": {\"arrowcolor\": \"#2a3f5f\", \"arrowhead\": 0, \"arrowwidth\": 1}, \"autotypenumbers\": \"strict\", \"coloraxis\": {\"colorbar\": {\"outlinewidth\": 0, \"ticks\": \"\"}}, \"colorscale\": {\"diverging\": [[0, \"#8e0152\"], [0.1, \"#c51b7d\"], [0.2, \"#de77ae\"], [0.3, \"#f1b6da\"], [0.4, \"#fde0ef\"], [0.5, \"#f7f7f7\"], [0.6, \"#e6f5d0\"], [0.7, \"#b8e186\"], [0.8, \"#7fbc41\"], [0.9, \"#4d9221\"], [1, \"#276419\"]], \"sequential\": [[0.0, \"#0d0887\"], [0.1111111111111111, \"#46039f\"], [0.2222222222222222, \"#7201a8\"], [0.3333333333333333, \"#9c179e\"], [0.4444444444444444, \"#bd3786\"], [0.5555555555555556, \"#d8576b\"], [0.6666666666666666, \"#ed7953\"], [0.7777777777777778, \"#fb9f3a\"], [0.8888888888888888, \"#fdca26\"], [1.0, \"#f0f921\"]], \"sequentialminus\": [[0.0, \"#0d0887\"], [0.1111111111111111, \"#46039f\"], [0.2222222222222222, \"#7201a8\"], [0.3333333333333333, \"#9c179e\"], [0.4444444444444444, \"#bd3786\"], [0.5555555555555556, \"#d8576b\"], [0.6666666666666666, \"#ed7953\"], [0.7777777777777778, \"#fb9f3a\"], [0.8888888888888888, \"#fdca26\"], [1.0, \"#f0f921\"]]}, \"colorway\": [\"#636efa\", \"#EF553B\", \"#00cc96\", \"#ab63fa\", \"#FFA15A\", \"#19d3f3\", \"#FF6692\", \"#B6E880\", \"#FF97FF\", \"#FECB52\"], \"font\": {\"color\": \"#2a3f5f\"}, \"geo\": {\"bgcolor\": \"white\", \"lakecolor\": \"white\", \"landcolor\": \"#E5ECF6\", \"showlakes\": true, \"showland\": true, \"subunitcolor\": \"white\"}, \"hoverlabel\": {\"align\": \"left\"}, \"hovermode\": \"closest\", \"mapbox\": {\"style\": \"light\"}, \"paper_bgcolor\": \"white\", \"plot_bgcolor\": \"#E5ECF6\", \"polar\": {\"angularaxis\": {\"gridcolor\": \"white\", \"linecolor\": \"white\", \"ticks\": \"\"}, \"bgcolor\": \"#E5ECF6\", \"radialaxis\": {\"gridcolor\": \"white\", \"linecolor\": \"white\", \"ticks\": \"\"}}, \"scene\": {\"xaxis\": {\"backgroundcolor\": \"#E5ECF6\", \"gridcolor\": \"white\", \"gridwidth\": 2, \"linecolor\": \"white\", \"showbackground\": true, \"ticks\": \"\", \"zerolinecolor\": \"white\"}, \"yaxis\": {\"backgroundcolor\": \"#E5ECF6\", \"gridcolor\": \"white\", \"gridwidth\": 2, \"linecolor\": \"white\", \"showbackground\": true, \"ticks\": \"\", \"zerolinecolor\": \"white\"}, \"zaxis\": {\"backgroundcolor\": \"#E5ECF6\", \"gridcolor\": \"white\", \"gridwidth\": 2, \"linecolor\": \"white\", \"showbackground\": true, \"ticks\": \"\", \"zerolinecolor\": \"white\"}}, \"shapedefaults\": {\"line\": {\"color\": \"#2a3f5f\"}}, \"ternary\": {\"aaxis\": {\"gridcolor\": \"white\", \"linecolor\": \"white\", \"ticks\": \"\"}, \"baxis\": {\"gridcolor\": \"white\", \"linecolor\": \"white\", \"ticks\": \"\"}, \"bgcolor\": \"#E5ECF6\", \"caxis\": {\"gridcolor\": \"white\", \"linecolor\": \"white\", \"ticks\": \"\"}}, \"title\": {\"x\": 0.05}, \"xaxis\": {\"automargin\": true, \"gridcolor\": \"white\", \"linecolor\": \"white\", \"ticks\": \"\", \"title\": {\"standoff\": 15}, \"zerolinecolor\": \"white\", \"zerolinewidth\": 2}, \"yaxis\": {\"automargin\": true, \"gridcolor\": \"white\", \"linecolor\": \"white\", \"ticks\": \"\", \"title\": {\"standoff\": 15}, \"zerolinecolor\": \"white\", \"zerolinewidth\": 2}}}, \"title\": {\"text\": \"Count of customers, by purpose, in each industry\"}, \"width\": 900, \"xaxis\": {\"anchor\": \"y\", \"domain\": [0.0, 1.0], \"title\": {\"text\": \"industry\"}}, \"yaxis\": {\"anchor\": \"x\", \"domain\": [0.0, 1.0], \"title\": {\"text\": \"customer counts\"}}},                        {\"responsive\": true}                    ).then(function(){\n",
       "                            \n",
       "var gd = document.getElementById('591764c1-ddfd-43a4-a700-1df501e170a1');\n",
       "var x = new MutationObserver(function (mutations, observer) {{\n",
       "        var display = window.getComputedStyle(gd).display;\n",
       "        if (!display || display === 'none') {{\n",
       "            console.log([gd, 'removed!']);\n",
       "            Plotly.purge(gd);\n",
       "            observer.disconnect();\n",
       "        }}\n",
       "}});\n",
       "\n",
       "// Listen for the removal of the full notebook cells\n",
       "var notebookContainer = gd.closest('#notebook-container');\n",
       "if (notebookContainer) {{\n",
       "    x.observe(notebookContainer, {childList: true});\n",
       "}}\n",
       "\n",
       "// Listen for the clearing of the current output cell\n",
       "var outputEl = gd.closest('.output');\n",
       "if (outputEl) {{\n",
       "    x.observe(outputEl, {childList: true});\n",
       "}}\n",
       "\n",
       "                        })                };                });            </script>        </div>"
      ]
     },
     "metadata": {},
     "output_type": "display_data"
    },
    {
     "data": {
      "application/vnd.plotly.v1+json": {
       "config": {
        "plotlyServerURL": "https://plot.ly"
       },
       "data": [
        {
         "alignmentgroup": "True",
         "hovertemplate": "primary_industry_grouped=%{x}<br>total_hours=%{y}<extra></extra>",
         "legendgroup": "",
         "marker": {
          "color": "#636efa"
         },
         "name": "",
         "offsetgroup": "",
         "orientation": "v",
         "showlegend": false,
         "textposition": "auto",
         "type": "bar",
         "x": [
          "_other",
          "_unknown",
          "accounting",
          "agriculture",
          "architecture",
          "construction",
          "design",
          "ecommerce",
          "education",
          "engineering",
          "entertainment",
          "events",
          "healthcare",
          "hospitality",
          "legal",
          "management consulting",
          "manufacturing",
          "marketing",
          "music",
          "nonprofit",
          "real estate",
          "research",
          "retail",
          "tech",
          "virtual assistant",
          "visual arts",
          "writing"
         ],
         "xaxis": "x",
         "y": [
          28042315.280000042,
          67771429.99000014,
          6710120.789999989,
          2918.229999999994,
          19287353.919999998,
          10060242.709999999,
          8695051.640000014,
          166659.13999999972,
          1676696.0400000066,
          20972767.33999993,
          1774952.3200000124,
          80556.38999999998,
          8687087.730000017,
          143277.38000000003,
          5340311.429999879,
          20701086.170000102,
          476367.73999999877,
          53293708.510000534,
          5115.170000000004,
          10038365.75000018,
          220765.0099999995,
          62759.57999999997,
          41840.770000000004,
          152806790.60000005,
          46821.69000000003,
          1073630.8699999978,
          908692.0600000039
         ],
         "yaxis": "y"
        }
       ],
       "layout": {
        "barmode": "relative",
        "legend": {
         "tracegroupgap": 0
        },
        "template": {
         "data": {
          "bar": [
           {
            "error_x": {
             "color": "#2a3f5f"
            },
            "error_y": {
             "color": "#2a3f5f"
            },
            "marker": {
             "line": {
              "color": "#E5ECF6",
              "width": 0.5
             }
            },
            "type": "bar"
           }
          ],
          "barpolar": [
           {
            "marker": {
             "line": {
              "color": "#E5ECF6",
              "width": 0.5
             }
            },
            "type": "barpolar"
           }
          ],
          "carpet": [
           {
            "aaxis": {
             "endlinecolor": "#2a3f5f",
             "gridcolor": "white",
             "linecolor": "white",
             "minorgridcolor": "white",
             "startlinecolor": "#2a3f5f"
            },
            "baxis": {
             "endlinecolor": "#2a3f5f",
             "gridcolor": "white",
             "linecolor": "white",
             "minorgridcolor": "white",
             "startlinecolor": "#2a3f5f"
            },
            "type": "carpet"
           }
          ],
          "choropleth": [
           {
            "colorbar": {
             "outlinewidth": 0,
             "ticks": ""
            },
            "type": "choropleth"
           }
          ],
          "contour": [
           {
            "colorbar": {
             "outlinewidth": 0,
             "ticks": ""
            },
            "colorscale": [
             [
              0,
              "#0d0887"
             ],
             [
              0.1111111111111111,
              "#46039f"
             ],
             [
              0.2222222222222222,
              "#7201a8"
             ],
             [
              0.3333333333333333,
              "#9c179e"
             ],
             [
              0.4444444444444444,
              "#bd3786"
             ],
             [
              0.5555555555555556,
              "#d8576b"
             ],
             [
              0.6666666666666666,
              "#ed7953"
             ],
             [
              0.7777777777777778,
              "#fb9f3a"
             ],
             [
              0.8888888888888888,
              "#fdca26"
             ],
             [
              1,
              "#f0f921"
             ]
            ],
            "type": "contour"
           }
          ],
          "contourcarpet": [
           {
            "colorbar": {
             "outlinewidth": 0,
             "ticks": ""
            },
            "type": "contourcarpet"
           }
          ],
          "heatmap": [
           {
            "colorbar": {
             "outlinewidth": 0,
             "ticks": ""
            },
            "colorscale": [
             [
              0,
              "#0d0887"
             ],
             [
              0.1111111111111111,
              "#46039f"
             ],
             [
              0.2222222222222222,
              "#7201a8"
             ],
             [
              0.3333333333333333,
              "#9c179e"
             ],
             [
              0.4444444444444444,
              "#bd3786"
             ],
             [
              0.5555555555555556,
              "#d8576b"
             ],
             [
              0.6666666666666666,
              "#ed7953"
             ],
             [
              0.7777777777777778,
              "#fb9f3a"
             ],
             [
              0.8888888888888888,
              "#fdca26"
             ],
             [
              1,
              "#f0f921"
             ]
            ],
            "type": "heatmap"
           }
          ],
          "heatmapgl": [
           {
            "colorbar": {
             "outlinewidth": 0,
             "ticks": ""
            },
            "colorscale": [
             [
              0,
              "#0d0887"
             ],
             [
              0.1111111111111111,
              "#46039f"
             ],
             [
              0.2222222222222222,
              "#7201a8"
             ],
             [
              0.3333333333333333,
              "#9c179e"
             ],
             [
              0.4444444444444444,
              "#bd3786"
             ],
             [
              0.5555555555555556,
              "#d8576b"
             ],
             [
              0.6666666666666666,
              "#ed7953"
             ],
             [
              0.7777777777777778,
              "#fb9f3a"
             ],
             [
              0.8888888888888888,
              "#fdca26"
             ],
             [
              1,
              "#f0f921"
             ]
            ],
            "type": "heatmapgl"
           }
          ],
          "histogram": [
           {
            "marker": {
             "colorbar": {
              "outlinewidth": 0,
              "ticks": ""
             }
            },
            "type": "histogram"
           }
          ],
          "histogram2d": [
           {
            "colorbar": {
             "outlinewidth": 0,
             "ticks": ""
            },
            "colorscale": [
             [
              0,
              "#0d0887"
             ],
             [
              0.1111111111111111,
              "#46039f"
             ],
             [
              0.2222222222222222,
              "#7201a8"
             ],
             [
              0.3333333333333333,
              "#9c179e"
             ],
             [
              0.4444444444444444,
              "#bd3786"
             ],
             [
              0.5555555555555556,
              "#d8576b"
             ],
             [
              0.6666666666666666,
              "#ed7953"
             ],
             [
              0.7777777777777778,
              "#fb9f3a"
             ],
             [
              0.8888888888888888,
              "#fdca26"
             ],
             [
              1,
              "#f0f921"
             ]
            ],
            "type": "histogram2d"
           }
          ],
          "histogram2dcontour": [
           {
            "colorbar": {
             "outlinewidth": 0,
             "ticks": ""
            },
            "colorscale": [
             [
              0,
              "#0d0887"
             ],
             [
              0.1111111111111111,
              "#46039f"
             ],
             [
              0.2222222222222222,
              "#7201a8"
             ],
             [
              0.3333333333333333,
              "#9c179e"
             ],
             [
              0.4444444444444444,
              "#bd3786"
             ],
             [
              0.5555555555555556,
              "#d8576b"
             ],
             [
              0.6666666666666666,
              "#ed7953"
             ],
             [
              0.7777777777777778,
              "#fb9f3a"
             ],
             [
              0.8888888888888888,
              "#fdca26"
             ],
             [
              1,
              "#f0f921"
             ]
            ],
            "type": "histogram2dcontour"
           }
          ],
          "mesh3d": [
           {
            "colorbar": {
             "outlinewidth": 0,
             "ticks": ""
            },
            "type": "mesh3d"
           }
          ],
          "parcoords": [
           {
            "line": {
             "colorbar": {
              "outlinewidth": 0,
              "ticks": ""
             }
            },
            "type": "parcoords"
           }
          ],
          "pie": [
           {
            "automargin": true,
            "type": "pie"
           }
          ],
          "scatter": [
           {
            "marker": {
             "colorbar": {
              "outlinewidth": 0,
              "ticks": ""
             }
            },
            "type": "scatter"
           }
          ],
          "scatter3d": [
           {
            "line": {
             "colorbar": {
              "outlinewidth": 0,
              "ticks": ""
             }
            },
            "marker": {
             "colorbar": {
              "outlinewidth": 0,
              "ticks": ""
             }
            },
            "type": "scatter3d"
           }
          ],
          "scattercarpet": [
           {
            "marker": {
             "colorbar": {
              "outlinewidth": 0,
              "ticks": ""
             }
            },
            "type": "scattercarpet"
           }
          ],
          "scattergeo": [
           {
            "marker": {
             "colorbar": {
              "outlinewidth": 0,
              "ticks": ""
             }
            },
            "type": "scattergeo"
           }
          ],
          "scattergl": [
           {
            "marker": {
             "colorbar": {
              "outlinewidth": 0,
              "ticks": ""
             }
            },
            "type": "scattergl"
           }
          ],
          "scattermapbox": [
           {
            "marker": {
             "colorbar": {
              "outlinewidth": 0,
              "ticks": ""
             }
            },
            "type": "scattermapbox"
           }
          ],
          "scatterpolar": [
           {
            "marker": {
             "colorbar": {
              "outlinewidth": 0,
              "ticks": ""
             }
            },
            "type": "scatterpolar"
           }
          ],
          "scatterpolargl": [
           {
            "marker": {
             "colorbar": {
              "outlinewidth": 0,
              "ticks": ""
             }
            },
            "type": "scatterpolargl"
           }
          ],
          "scatterternary": [
           {
            "marker": {
             "colorbar": {
              "outlinewidth": 0,
              "ticks": ""
             }
            },
            "type": "scatterternary"
           }
          ],
          "surface": [
           {
            "colorbar": {
             "outlinewidth": 0,
             "ticks": ""
            },
            "colorscale": [
             [
              0,
              "#0d0887"
             ],
             [
              0.1111111111111111,
              "#46039f"
             ],
             [
              0.2222222222222222,
              "#7201a8"
             ],
             [
              0.3333333333333333,
              "#9c179e"
             ],
             [
              0.4444444444444444,
              "#bd3786"
             ],
             [
              0.5555555555555556,
              "#d8576b"
             ],
             [
              0.6666666666666666,
              "#ed7953"
             ],
             [
              0.7777777777777778,
              "#fb9f3a"
             ],
             [
              0.8888888888888888,
              "#fdca26"
             ],
             [
              1,
              "#f0f921"
             ]
            ],
            "type": "surface"
           }
          ],
          "table": [
           {
            "cells": {
             "fill": {
              "color": "#EBF0F8"
             },
             "line": {
              "color": "white"
             }
            },
            "header": {
             "fill": {
              "color": "#C8D4E3"
             },
             "line": {
              "color": "white"
             }
            },
            "type": "table"
           }
          ]
         },
         "layout": {
          "annotationdefaults": {
           "arrowcolor": "#2a3f5f",
           "arrowhead": 0,
           "arrowwidth": 1
          },
          "autotypenumbers": "strict",
          "coloraxis": {
           "colorbar": {
            "outlinewidth": 0,
            "ticks": ""
           }
          },
          "colorscale": {
           "diverging": [
            [
             0,
             "#8e0152"
            ],
            [
             0.1,
             "#c51b7d"
            ],
            [
             0.2,
             "#de77ae"
            ],
            [
             0.3,
             "#f1b6da"
            ],
            [
             0.4,
             "#fde0ef"
            ],
            [
             0.5,
             "#f7f7f7"
            ],
            [
             0.6,
             "#e6f5d0"
            ],
            [
             0.7,
             "#b8e186"
            ],
            [
             0.8,
             "#7fbc41"
            ],
            [
             0.9,
             "#4d9221"
            ],
            [
             1,
             "#276419"
            ]
           ],
           "sequential": [
            [
             0,
             "#0d0887"
            ],
            [
             0.1111111111111111,
             "#46039f"
            ],
            [
             0.2222222222222222,
             "#7201a8"
            ],
            [
             0.3333333333333333,
             "#9c179e"
            ],
            [
             0.4444444444444444,
             "#bd3786"
            ],
            [
             0.5555555555555556,
             "#d8576b"
            ],
            [
             0.6666666666666666,
             "#ed7953"
            ],
            [
             0.7777777777777778,
             "#fb9f3a"
            ],
            [
             0.8888888888888888,
             "#fdca26"
            ],
            [
             1,
             "#f0f921"
            ]
           ],
           "sequentialminus": [
            [
             0,
             "#0d0887"
            ],
            [
             0.1111111111111111,
             "#46039f"
            ],
            [
             0.2222222222222222,
             "#7201a8"
            ],
            [
             0.3333333333333333,
             "#9c179e"
            ],
            [
             0.4444444444444444,
             "#bd3786"
            ],
            [
             0.5555555555555556,
             "#d8576b"
            ],
            [
             0.6666666666666666,
             "#ed7953"
            ],
            [
             0.7777777777777778,
             "#fb9f3a"
            ],
            [
             0.8888888888888888,
             "#fdca26"
            ],
            [
             1,
             "#f0f921"
            ]
           ]
          },
          "colorway": [
           "#636efa",
           "#EF553B",
           "#00cc96",
           "#ab63fa",
           "#FFA15A",
           "#19d3f3",
           "#FF6692",
           "#B6E880",
           "#FF97FF",
           "#FECB52"
          ],
          "font": {
           "color": "#2a3f5f"
          },
          "geo": {
           "bgcolor": "white",
           "lakecolor": "white",
           "landcolor": "#E5ECF6",
           "showlakes": true,
           "showland": true,
           "subunitcolor": "white"
          },
          "hoverlabel": {
           "align": "left"
          },
          "hovermode": "closest",
          "mapbox": {
           "style": "light"
          },
          "paper_bgcolor": "white",
          "plot_bgcolor": "#E5ECF6",
          "polar": {
           "angularaxis": {
            "gridcolor": "white",
            "linecolor": "white",
            "ticks": ""
           },
           "bgcolor": "#E5ECF6",
           "radialaxis": {
            "gridcolor": "white",
            "linecolor": "white",
            "ticks": ""
           }
          },
          "scene": {
           "xaxis": {
            "backgroundcolor": "#E5ECF6",
            "gridcolor": "white",
            "gridwidth": 2,
            "linecolor": "white",
            "showbackground": true,
            "ticks": "",
            "zerolinecolor": "white"
           },
           "yaxis": {
            "backgroundcolor": "#E5ECF6",
            "gridcolor": "white",
            "gridwidth": 2,
            "linecolor": "white",
            "showbackground": true,
            "ticks": "",
            "zerolinecolor": "white"
           },
           "zaxis": {
            "backgroundcolor": "#E5ECF6",
            "gridcolor": "white",
            "gridwidth": 2,
            "linecolor": "white",
            "showbackground": true,
            "ticks": "",
            "zerolinecolor": "white"
           }
          },
          "shapedefaults": {
           "line": {
            "color": "#2a3f5f"
           }
          },
          "ternary": {
           "aaxis": {
            "gridcolor": "white",
            "linecolor": "white",
            "ticks": ""
           },
           "baxis": {
            "gridcolor": "white",
            "linecolor": "white",
            "ticks": ""
           },
           "bgcolor": "#E5ECF6",
           "caxis": {
            "gridcolor": "white",
            "linecolor": "white",
            "ticks": ""
           }
          },
          "title": {
           "x": 0.05
          },
          "xaxis": {
           "automargin": true,
           "gridcolor": "white",
           "linecolor": "white",
           "ticks": "",
           "title": {
            "standoff": 15
           },
           "zerolinecolor": "white",
           "zerolinewidth": 2
          },
          "yaxis": {
           "automargin": true,
           "gridcolor": "white",
           "linecolor": "white",
           "ticks": "",
           "title": {
            "standoff": 15
           },
           "zerolinecolor": "white",
           "zerolinewidth": 2
          }
         }
        },
        "title": {
         "text": "Total hours logged by industry"
        },
        "xaxis": {
         "anchor": "y",
         "domain": [
          0,
          1
         ],
         "title": {
          "text": "primary_industry_grouped"
         }
        },
        "yaxis": {
         "anchor": "x",
         "domain": [
          0,
          1
         ],
         "title": {
          "text": "total_hours"
         }
        }
       }
      },
      "text/html": [
       "<div>                            <div id=\"9e1fffe6-a7b9-434a-9c72-6d1cddc84557\" class=\"plotly-graph-div\" style=\"height:525px; width:100%;\"></div>            <script type=\"text/javascript\">                require([\"plotly\"], function(Plotly) {                    window.PLOTLYENV=window.PLOTLYENV || {};                                    if (document.getElementById(\"9e1fffe6-a7b9-434a-9c72-6d1cddc84557\")) {                    Plotly.newPlot(                        \"9e1fffe6-a7b9-434a-9c72-6d1cddc84557\",                        [{\"alignmentgroup\": \"True\", \"hovertemplate\": \"primary_industry_grouped=%{x}<br>total_hours=%{y}<extra></extra>\", \"legendgroup\": \"\", \"marker\": {\"color\": \"#636efa\"}, \"name\": \"\", \"offsetgroup\": \"\", \"orientation\": \"v\", \"showlegend\": false, \"textposition\": \"auto\", \"type\": \"bar\", \"x\": [\"_other\", \"_unknown\", \"accounting\", \"agriculture\", \"architecture\", \"construction\", \"design\", \"ecommerce\", \"education\", \"engineering\", \"entertainment\", \"events\", \"healthcare\", \"hospitality\", \"legal\", \"management consulting\", \"manufacturing\", \"marketing\", \"music\", \"nonprofit\", \"real estate\", \"research\", \"retail\", \"tech\", \"virtual assistant\", \"visual arts\", \"writing\"], \"xaxis\": \"x\", \"y\": [28042315.280000042, 67771429.99000014, 6710120.789999989, 2918.229999999994, 19287353.919999998, 10060242.709999999, 8695051.640000014, 166659.13999999972, 1676696.0400000066, 20972767.33999993, 1774952.3200000124, 80556.38999999998, 8687087.730000017, 143277.38000000003, 5340311.429999879, 20701086.170000102, 476367.73999999877, 53293708.510000534, 5115.170000000004, 10038365.75000018, 220765.0099999995, 62759.57999999997, 41840.770000000004, 152806790.60000005, 46821.69000000003, 1073630.8699999978, 908692.0600000039], \"yaxis\": \"y\"}],                        {\"barmode\": \"relative\", \"legend\": {\"tracegroupgap\": 0}, \"template\": {\"data\": {\"bar\": [{\"error_x\": {\"color\": \"#2a3f5f\"}, \"error_y\": {\"color\": \"#2a3f5f\"}, \"marker\": {\"line\": {\"color\": \"#E5ECF6\", \"width\": 0.5}}, \"type\": \"bar\"}], \"barpolar\": [{\"marker\": {\"line\": {\"color\": \"#E5ECF6\", \"width\": 0.5}}, \"type\": \"barpolar\"}], \"carpet\": [{\"aaxis\": {\"endlinecolor\": \"#2a3f5f\", \"gridcolor\": \"white\", \"linecolor\": \"white\", \"minorgridcolor\": \"white\", \"startlinecolor\": \"#2a3f5f\"}, \"baxis\": {\"endlinecolor\": \"#2a3f5f\", \"gridcolor\": \"white\", \"linecolor\": \"white\", \"minorgridcolor\": \"white\", \"startlinecolor\": \"#2a3f5f\"}, \"type\": \"carpet\"}], \"choropleth\": [{\"colorbar\": {\"outlinewidth\": 0, \"ticks\": \"\"}, \"type\": \"choropleth\"}], \"contour\": [{\"colorbar\": {\"outlinewidth\": 0, \"ticks\": \"\"}, \"colorscale\": [[0.0, \"#0d0887\"], [0.1111111111111111, \"#46039f\"], [0.2222222222222222, \"#7201a8\"], [0.3333333333333333, \"#9c179e\"], [0.4444444444444444, \"#bd3786\"], [0.5555555555555556, \"#d8576b\"], [0.6666666666666666, \"#ed7953\"], [0.7777777777777778, \"#fb9f3a\"], [0.8888888888888888, \"#fdca26\"], [1.0, \"#f0f921\"]], \"type\": \"contour\"}], \"contourcarpet\": [{\"colorbar\": {\"outlinewidth\": 0, \"ticks\": \"\"}, \"type\": \"contourcarpet\"}], \"heatmap\": [{\"colorbar\": {\"outlinewidth\": 0, \"ticks\": \"\"}, \"colorscale\": [[0.0, \"#0d0887\"], [0.1111111111111111, \"#46039f\"], [0.2222222222222222, \"#7201a8\"], [0.3333333333333333, \"#9c179e\"], [0.4444444444444444, \"#bd3786\"], [0.5555555555555556, \"#d8576b\"], [0.6666666666666666, \"#ed7953\"], [0.7777777777777778, \"#fb9f3a\"], [0.8888888888888888, \"#fdca26\"], [1.0, \"#f0f921\"]], \"type\": \"heatmap\"}], \"heatmapgl\": [{\"colorbar\": {\"outlinewidth\": 0, \"ticks\": \"\"}, \"colorscale\": [[0.0, \"#0d0887\"], [0.1111111111111111, \"#46039f\"], [0.2222222222222222, \"#7201a8\"], [0.3333333333333333, \"#9c179e\"], [0.4444444444444444, \"#bd3786\"], [0.5555555555555556, \"#d8576b\"], [0.6666666666666666, \"#ed7953\"], [0.7777777777777778, \"#fb9f3a\"], [0.8888888888888888, \"#fdca26\"], [1.0, \"#f0f921\"]], \"type\": \"heatmapgl\"}], \"histogram\": [{\"marker\": {\"colorbar\": {\"outlinewidth\": 0, \"ticks\": \"\"}}, \"type\": \"histogram\"}], \"histogram2d\": [{\"colorbar\": {\"outlinewidth\": 0, \"ticks\": \"\"}, \"colorscale\": [[0.0, \"#0d0887\"], [0.1111111111111111, \"#46039f\"], [0.2222222222222222, \"#7201a8\"], [0.3333333333333333, \"#9c179e\"], [0.4444444444444444, \"#bd3786\"], [0.5555555555555556, \"#d8576b\"], [0.6666666666666666, \"#ed7953\"], [0.7777777777777778, \"#fb9f3a\"], [0.8888888888888888, \"#fdca26\"], [1.0, \"#f0f921\"]], \"type\": \"histogram2d\"}], \"histogram2dcontour\": [{\"colorbar\": {\"outlinewidth\": 0, \"ticks\": \"\"}, \"colorscale\": [[0.0, \"#0d0887\"], [0.1111111111111111, \"#46039f\"], [0.2222222222222222, \"#7201a8\"], [0.3333333333333333, \"#9c179e\"], [0.4444444444444444, \"#bd3786\"], [0.5555555555555556, \"#d8576b\"], [0.6666666666666666, \"#ed7953\"], [0.7777777777777778, \"#fb9f3a\"], [0.8888888888888888, \"#fdca26\"], [1.0, \"#f0f921\"]], \"type\": \"histogram2dcontour\"}], \"mesh3d\": [{\"colorbar\": {\"outlinewidth\": 0, \"ticks\": \"\"}, \"type\": \"mesh3d\"}], \"parcoords\": [{\"line\": {\"colorbar\": {\"outlinewidth\": 0, \"ticks\": \"\"}}, \"type\": \"parcoords\"}], \"pie\": [{\"automargin\": true, \"type\": \"pie\"}], \"scatter\": [{\"marker\": {\"colorbar\": {\"outlinewidth\": 0, \"ticks\": \"\"}}, \"type\": \"scatter\"}], \"scatter3d\": [{\"line\": {\"colorbar\": {\"outlinewidth\": 0, \"ticks\": \"\"}}, \"marker\": {\"colorbar\": {\"outlinewidth\": 0, \"ticks\": \"\"}}, \"type\": \"scatter3d\"}], \"scattercarpet\": [{\"marker\": {\"colorbar\": {\"outlinewidth\": 0, \"ticks\": \"\"}}, \"type\": \"scattercarpet\"}], \"scattergeo\": [{\"marker\": {\"colorbar\": {\"outlinewidth\": 0, \"ticks\": \"\"}}, \"type\": \"scattergeo\"}], \"scattergl\": [{\"marker\": {\"colorbar\": {\"outlinewidth\": 0, \"ticks\": \"\"}}, \"type\": \"scattergl\"}], \"scattermapbox\": [{\"marker\": {\"colorbar\": {\"outlinewidth\": 0, \"ticks\": \"\"}}, \"type\": \"scattermapbox\"}], \"scatterpolar\": [{\"marker\": {\"colorbar\": {\"outlinewidth\": 0, \"ticks\": \"\"}}, \"type\": \"scatterpolar\"}], \"scatterpolargl\": [{\"marker\": {\"colorbar\": {\"outlinewidth\": 0, \"ticks\": \"\"}}, \"type\": \"scatterpolargl\"}], \"scatterternary\": [{\"marker\": {\"colorbar\": {\"outlinewidth\": 0, \"ticks\": \"\"}}, \"type\": \"scatterternary\"}], \"surface\": [{\"colorbar\": {\"outlinewidth\": 0, \"ticks\": \"\"}, \"colorscale\": [[0.0, \"#0d0887\"], [0.1111111111111111, \"#46039f\"], [0.2222222222222222, \"#7201a8\"], [0.3333333333333333, \"#9c179e\"], [0.4444444444444444, \"#bd3786\"], [0.5555555555555556, \"#d8576b\"], [0.6666666666666666, \"#ed7953\"], [0.7777777777777778, \"#fb9f3a\"], [0.8888888888888888, \"#fdca26\"], [1.0, \"#f0f921\"]], \"type\": \"surface\"}], \"table\": [{\"cells\": {\"fill\": {\"color\": \"#EBF0F8\"}, \"line\": {\"color\": \"white\"}}, \"header\": {\"fill\": {\"color\": \"#C8D4E3\"}, \"line\": {\"color\": \"white\"}}, \"type\": \"table\"}]}, \"layout\": {\"annotationdefaults\": {\"arrowcolor\": \"#2a3f5f\", \"arrowhead\": 0, \"arrowwidth\": 1}, \"autotypenumbers\": \"strict\", \"coloraxis\": {\"colorbar\": {\"outlinewidth\": 0, \"ticks\": \"\"}}, \"colorscale\": {\"diverging\": [[0, \"#8e0152\"], [0.1, \"#c51b7d\"], [0.2, \"#de77ae\"], [0.3, \"#f1b6da\"], [0.4, \"#fde0ef\"], [0.5, \"#f7f7f7\"], [0.6, \"#e6f5d0\"], [0.7, \"#b8e186\"], [0.8, \"#7fbc41\"], [0.9, \"#4d9221\"], [1, \"#276419\"]], \"sequential\": [[0.0, \"#0d0887\"], [0.1111111111111111, \"#46039f\"], [0.2222222222222222, \"#7201a8\"], [0.3333333333333333, \"#9c179e\"], [0.4444444444444444, \"#bd3786\"], [0.5555555555555556, \"#d8576b\"], [0.6666666666666666, \"#ed7953\"], [0.7777777777777778, \"#fb9f3a\"], [0.8888888888888888, \"#fdca26\"], [1.0, \"#f0f921\"]], \"sequentialminus\": [[0.0, \"#0d0887\"], [0.1111111111111111, \"#46039f\"], [0.2222222222222222, \"#7201a8\"], [0.3333333333333333, \"#9c179e\"], [0.4444444444444444, \"#bd3786\"], [0.5555555555555556, \"#d8576b\"], [0.6666666666666666, \"#ed7953\"], [0.7777777777777778, \"#fb9f3a\"], [0.8888888888888888, \"#fdca26\"], [1.0, \"#f0f921\"]]}, \"colorway\": [\"#636efa\", \"#EF553B\", \"#00cc96\", \"#ab63fa\", \"#FFA15A\", \"#19d3f3\", \"#FF6692\", \"#B6E880\", \"#FF97FF\", \"#FECB52\"], \"font\": {\"color\": \"#2a3f5f\"}, \"geo\": {\"bgcolor\": \"white\", \"lakecolor\": \"white\", \"landcolor\": \"#E5ECF6\", \"showlakes\": true, \"showland\": true, \"subunitcolor\": \"white\"}, \"hoverlabel\": {\"align\": \"left\"}, \"hovermode\": \"closest\", \"mapbox\": {\"style\": \"light\"}, \"paper_bgcolor\": \"white\", \"plot_bgcolor\": \"#E5ECF6\", \"polar\": {\"angularaxis\": {\"gridcolor\": \"white\", \"linecolor\": \"white\", \"ticks\": \"\"}, \"bgcolor\": \"#E5ECF6\", \"radialaxis\": {\"gridcolor\": \"white\", \"linecolor\": \"white\", \"ticks\": \"\"}}, \"scene\": {\"xaxis\": {\"backgroundcolor\": \"#E5ECF6\", \"gridcolor\": \"white\", \"gridwidth\": 2, \"linecolor\": \"white\", \"showbackground\": true, \"ticks\": \"\", \"zerolinecolor\": \"white\"}, \"yaxis\": {\"backgroundcolor\": \"#E5ECF6\", \"gridcolor\": \"white\", \"gridwidth\": 2, \"linecolor\": \"white\", \"showbackground\": true, \"ticks\": \"\", \"zerolinecolor\": \"white\"}, \"zaxis\": {\"backgroundcolor\": \"#E5ECF6\", \"gridcolor\": \"white\", \"gridwidth\": 2, \"linecolor\": \"white\", \"showbackground\": true, \"ticks\": \"\", \"zerolinecolor\": \"white\"}}, \"shapedefaults\": {\"line\": {\"color\": \"#2a3f5f\"}}, \"ternary\": {\"aaxis\": {\"gridcolor\": \"white\", \"linecolor\": \"white\", \"ticks\": \"\"}, \"baxis\": {\"gridcolor\": \"white\", \"linecolor\": \"white\", \"ticks\": \"\"}, \"bgcolor\": \"#E5ECF6\", \"caxis\": {\"gridcolor\": \"white\", \"linecolor\": \"white\", \"ticks\": \"\"}}, \"title\": {\"x\": 0.05}, \"xaxis\": {\"automargin\": true, \"gridcolor\": \"white\", \"linecolor\": \"white\", \"ticks\": \"\", \"title\": {\"standoff\": 15}, \"zerolinecolor\": \"white\", \"zerolinewidth\": 2}, \"yaxis\": {\"automargin\": true, \"gridcolor\": \"white\", \"linecolor\": \"white\", \"ticks\": \"\", \"title\": {\"standoff\": 15}, \"zerolinecolor\": \"white\", \"zerolinewidth\": 2}}}, \"title\": {\"text\": \"Total hours logged by industry\"}, \"xaxis\": {\"anchor\": \"y\", \"domain\": [0.0, 1.0], \"title\": {\"text\": \"primary_industry_grouped\"}}, \"yaxis\": {\"anchor\": \"x\", \"domain\": [0.0, 1.0], \"title\": {\"text\": \"total_hours\"}}},                        {\"responsive\": true}                    ).then(function(){\n",
       "                            \n",
       "var gd = document.getElementById('9e1fffe6-a7b9-434a-9c72-6d1cddc84557');\n",
       "var x = new MutationObserver(function (mutations, observer) {{\n",
       "        var display = window.getComputedStyle(gd).display;\n",
       "        if (!display || display === 'none') {{\n",
       "            console.log([gd, 'removed!']);\n",
       "            Plotly.purge(gd);\n",
       "            observer.disconnect();\n",
       "        }}\n",
       "}});\n",
       "\n",
       "// Listen for the removal of the full notebook cells\n",
       "var notebookContainer = gd.closest('#notebook-container');\n",
       "if (notebookContainer) {{\n",
       "    x.observe(notebookContainer, {childList: true});\n",
       "}}\n",
       "\n",
       "// Listen for the clearing of the current output cell\n",
       "var outputEl = gd.closest('.output');\n",
       "if (outputEl) {{\n",
       "    x.observe(outputEl, {childList: true});\n",
       "}}\n",
       "\n",
       "                        })                };                });            </script>        </div>"
      ]
     },
     "metadata": {},
     "output_type": "display_data"
    },
    {
     "data": {
      "application/vnd.plotly.v1+json": {
       "config": {
        "plotlyServerURL": "https://plot.ly"
       },
       "data": [
        {
         "alignmentgroup": "True",
         "hovertemplate": "primary_industry_grouped=%{x}<br>avg_hours=%{y}<extra></extra>",
         "legendgroup": "",
         "marker": {
          "color": "#636efa"
         },
         "name": "",
         "offsetgroup": "",
         "orientation": "v",
         "showlegend": false,
         "textposition": "auto",
         "type": "bar",
         "x": [
          "_other",
          "_unknown",
          "accounting",
          "agriculture",
          "architecture",
          "construction",
          "design",
          "ecommerce",
          "education",
          "engineering",
          "entertainment",
          "events",
          "healthcare",
          "hospitality",
          "legal",
          "management consulting",
          "manufacturing",
          "marketing",
          "music",
          "nonprofit",
          "real estate",
          "research",
          "retail",
          "tech",
          "virtual assistant",
          "visual arts",
          "writing"
         ],
         "xaxis": "x",
         "y": [
          23564.970823529446,
          30903.524847241286,
          19281.956293103416,
          972.7433333333314,
          24260.8225408805,
          29502.178035190613,
          8827.463593908644,
          18517.682222222193,
          14089.882689075685,
          45692.303572984594,
          31695.577142857364,
          5370.425999999999,
          24333.5790756303,
          20468.19714285715,
          9303.67844947714,
          19885.76961575418,
          47636.773999999874,
          25114.848496701477,
          639.3962500000005,
          36239.587545127004,
          12264.722777777752,
          10459.929999999995,
          5230.0962500000005,
          39423.83658410734,
          2926.355625000002,
          7668.791928571412,
          16521.673818181887
         ],
         "yaxis": "y"
        }
       ],
       "layout": {
        "barmode": "relative",
        "legend": {
         "tracegroupgap": 0
        },
        "template": {
         "data": {
          "bar": [
           {
            "error_x": {
             "color": "#2a3f5f"
            },
            "error_y": {
             "color": "#2a3f5f"
            },
            "marker": {
             "line": {
              "color": "#E5ECF6",
              "width": 0.5
             }
            },
            "type": "bar"
           }
          ],
          "barpolar": [
           {
            "marker": {
             "line": {
              "color": "#E5ECF6",
              "width": 0.5
             }
            },
            "type": "barpolar"
           }
          ],
          "carpet": [
           {
            "aaxis": {
             "endlinecolor": "#2a3f5f",
             "gridcolor": "white",
             "linecolor": "white",
             "minorgridcolor": "white",
             "startlinecolor": "#2a3f5f"
            },
            "baxis": {
             "endlinecolor": "#2a3f5f",
             "gridcolor": "white",
             "linecolor": "white",
             "minorgridcolor": "white",
             "startlinecolor": "#2a3f5f"
            },
            "type": "carpet"
           }
          ],
          "choropleth": [
           {
            "colorbar": {
             "outlinewidth": 0,
             "ticks": ""
            },
            "type": "choropleth"
           }
          ],
          "contour": [
           {
            "colorbar": {
             "outlinewidth": 0,
             "ticks": ""
            },
            "colorscale": [
             [
              0,
              "#0d0887"
             ],
             [
              0.1111111111111111,
              "#46039f"
             ],
             [
              0.2222222222222222,
              "#7201a8"
             ],
             [
              0.3333333333333333,
              "#9c179e"
             ],
             [
              0.4444444444444444,
              "#bd3786"
             ],
             [
              0.5555555555555556,
              "#d8576b"
             ],
             [
              0.6666666666666666,
              "#ed7953"
             ],
             [
              0.7777777777777778,
              "#fb9f3a"
             ],
             [
              0.8888888888888888,
              "#fdca26"
             ],
             [
              1,
              "#f0f921"
             ]
            ],
            "type": "contour"
           }
          ],
          "contourcarpet": [
           {
            "colorbar": {
             "outlinewidth": 0,
             "ticks": ""
            },
            "type": "contourcarpet"
           }
          ],
          "heatmap": [
           {
            "colorbar": {
             "outlinewidth": 0,
             "ticks": ""
            },
            "colorscale": [
             [
              0,
              "#0d0887"
             ],
             [
              0.1111111111111111,
              "#46039f"
             ],
             [
              0.2222222222222222,
              "#7201a8"
             ],
             [
              0.3333333333333333,
              "#9c179e"
             ],
             [
              0.4444444444444444,
              "#bd3786"
             ],
             [
              0.5555555555555556,
              "#d8576b"
             ],
             [
              0.6666666666666666,
              "#ed7953"
             ],
             [
              0.7777777777777778,
              "#fb9f3a"
             ],
             [
              0.8888888888888888,
              "#fdca26"
             ],
             [
              1,
              "#f0f921"
             ]
            ],
            "type": "heatmap"
           }
          ],
          "heatmapgl": [
           {
            "colorbar": {
             "outlinewidth": 0,
             "ticks": ""
            },
            "colorscale": [
             [
              0,
              "#0d0887"
             ],
             [
              0.1111111111111111,
              "#46039f"
             ],
             [
              0.2222222222222222,
              "#7201a8"
             ],
             [
              0.3333333333333333,
              "#9c179e"
             ],
             [
              0.4444444444444444,
              "#bd3786"
             ],
             [
              0.5555555555555556,
              "#d8576b"
             ],
             [
              0.6666666666666666,
              "#ed7953"
             ],
             [
              0.7777777777777778,
              "#fb9f3a"
             ],
             [
              0.8888888888888888,
              "#fdca26"
             ],
             [
              1,
              "#f0f921"
             ]
            ],
            "type": "heatmapgl"
           }
          ],
          "histogram": [
           {
            "marker": {
             "colorbar": {
              "outlinewidth": 0,
              "ticks": ""
             }
            },
            "type": "histogram"
           }
          ],
          "histogram2d": [
           {
            "colorbar": {
             "outlinewidth": 0,
             "ticks": ""
            },
            "colorscale": [
             [
              0,
              "#0d0887"
             ],
             [
              0.1111111111111111,
              "#46039f"
             ],
             [
              0.2222222222222222,
              "#7201a8"
             ],
             [
              0.3333333333333333,
              "#9c179e"
             ],
             [
              0.4444444444444444,
              "#bd3786"
             ],
             [
              0.5555555555555556,
              "#d8576b"
             ],
             [
              0.6666666666666666,
              "#ed7953"
             ],
             [
              0.7777777777777778,
              "#fb9f3a"
             ],
             [
              0.8888888888888888,
              "#fdca26"
             ],
             [
              1,
              "#f0f921"
             ]
            ],
            "type": "histogram2d"
           }
          ],
          "histogram2dcontour": [
           {
            "colorbar": {
             "outlinewidth": 0,
             "ticks": ""
            },
            "colorscale": [
             [
              0,
              "#0d0887"
             ],
             [
              0.1111111111111111,
              "#46039f"
             ],
             [
              0.2222222222222222,
              "#7201a8"
             ],
             [
              0.3333333333333333,
              "#9c179e"
             ],
             [
              0.4444444444444444,
              "#bd3786"
             ],
             [
              0.5555555555555556,
              "#d8576b"
             ],
             [
              0.6666666666666666,
              "#ed7953"
             ],
             [
              0.7777777777777778,
              "#fb9f3a"
             ],
             [
              0.8888888888888888,
              "#fdca26"
             ],
             [
              1,
              "#f0f921"
             ]
            ],
            "type": "histogram2dcontour"
           }
          ],
          "mesh3d": [
           {
            "colorbar": {
             "outlinewidth": 0,
             "ticks": ""
            },
            "type": "mesh3d"
           }
          ],
          "parcoords": [
           {
            "line": {
             "colorbar": {
              "outlinewidth": 0,
              "ticks": ""
             }
            },
            "type": "parcoords"
           }
          ],
          "pie": [
           {
            "automargin": true,
            "type": "pie"
           }
          ],
          "scatter": [
           {
            "marker": {
             "colorbar": {
              "outlinewidth": 0,
              "ticks": ""
             }
            },
            "type": "scatter"
           }
          ],
          "scatter3d": [
           {
            "line": {
             "colorbar": {
              "outlinewidth": 0,
              "ticks": ""
             }
            },
            "marker": {
             "colorbar": {
              "outlinewidth": 0,
              "ticks": ""
             }
            },
            "type": "scatter3d"
           }
          ],
          "scattercarpet": [
           {
            "marker": {
             "colorbar": {
              "outlinewidth": 0,
              "ticks": ""
             }
            },
            "type": "scattercarpet"
           }
          ],
          "scattergeo": [
           {
            "marker": {
             "colorbar": {
              "outlinewidth": 0,
              "ticks": ""
             }
            },
            "type": "scattergeo"
           }
          ],
          "scattergl": [
           {
            "marker": {
             "colorbar": {
              "outlinewidth": 0,
              "ticks": ""
             }
            },
            "type": "scattergl"
           }
          ],
          "scattermapbox": [
           {
            "marker": {
             "colorbar": {
              "outlinewidth": 0,
              "ticks": ""
             }
            },
            "type": "scattermapbox"
           }
          ],
          "scatterpolar": [
           {
            "marker": {
             "colorbar": {
              "outlinewidth": 0,
              "ticks": ""
             }
            },
            "type": "scatterpolar"
           }
          ],
          "scatterpolargl": [
           {
            "marker": {
             "colorbar": {
              "outlinewidth": 0,
              "ticks": ""
             }
            },
            "type": "scatterpolargl"
           }
          ],
          "scatterternary": [
           {
            "marker": {
             "colorbar": {
              "outlinewidth": 0,
              "ticks": ""
             }
            },
            "type": "scatterternary"
           }
          ],
          "surface": [
           {
            "colorbar": {
             "outlinewidth": 0,
             "ticks": ""
            },
            "colorscale": [
             [
              0,
              "#0d0887"
             ],
             [
              0.1111111111111111,
              "#46039f"
             ],
             [
              0.2222222222222222,
              "#7201a8"
             ],
             [
              0.3333333333333333,
              "#9c179e"
             ],
             [
              0.4444444444444444,
              "#bd3786"
             ],
             [
              0.5555555555555556,
              "#d8576b"
             ],
             [
              0.6666666666666666,
              "#ed7953"
             ],
             [
              0.7777777777777778,
              "#fb9f3a"
             ],
             [
              0.8888888888888888,
              "#fdca26"
             ],
             [
              1,
              "#f0f921"
             ]
            ],
            "type": "surface"
           }
          ],
          "table": [
           {
            "cells": {
             "fill": {
              "color": "#EBF0F8"
             },
             "line": {
              "color": "white"
             }
            },
            "header": {
             "fill": {
              "color": "#C8D4E3"
             },
             "line": {
              "color": "white"
             }
            },
            "type": "table"
           }
          ]
         },
         "layout": {
          "annotationdefaults": {
           "arrowcolor": "#2a3f5f",
           "arrowhead": 0,
           "arrowwidth": 1
          },
          "autotypenumbers": "strict",
          "coloraxis": {
           "colorbar": {
            "outlinewidth": 0,
            "ticks": ""
           }
          },
          "colorscale": {
           "diverging": [
            [
             0,
             "#8e0152"
            ],
            [
             0.1,
             "#c51b7d"
            ],
            [
             0.2,
             "#de77ae"
            ],
            [
             0.3,
             "#f1b6da"
            ],
            [
             0.4,
             "#fde0ef"
            ],
            [
             0.5,
             "#f7f7f7"
            ],
            [
             0.6,
             "#e6f5d0"
            ],
            [
             0.7,
             "#b8e186"
            ],
            [
             0.8,
             "#7fbc41"
            ],
            [
             0.9,
             "#4d9221"
            ],
            [
             1,
             "#276419"
            ]
           ],
           "sequential": [
            [
             0,
             "#0d0887"
            ],
            [
             0.1111111111111111,
             "#46039f"
            ],
            [
             0.2222222222222222,
             "#7201a8"
            ],
            [
             0.3333333333333333,
             "#9c179e"
            ],
            [
             0.4444444444444444,
             "#bd3786"
            ],
            [
             0.5555555555555556,
             "#d8576b"
            ],
            [
             0.6666666666666666,
             "#ed7953"
            ],
            [
             0.7777777777777778,
             "#fb9f3a"
            ],
            [
             0.8888888888888888,
             "#fdca26"
            ],
            [
             1,
             "#f0f921"
            ]
           ],
           "sequentialminus": [
            [
             0,
             "#0d0887"
            ],
            [
             0.1111111111111111,
             "#46039f"
            ],
            [
             0.2222222222222222,
             "#7201a8"
            ],
            [
             0.3333333333333333,
             "#9c179e"
            ],
            [
             0.4444444444444444,
             "#bd3786"
            ],
            [
             0.5555555555555556,
             "#d8576b"
            ],
            [
             0.6666666666666666,
             "#ed7953"
            ],
            [
             0.7777777777777778,
             "#fb9f3a"
            ],
            [
             0.8888888888888888,
             "#fdca26"
            ],
            [
             1,
             "#f0f921"
            ]
           ]
          },
          "colorway": [
           "#636efa",
           "#EF553B",
           "#00cc96",
           "#ab63fa",
           "#FFA15A",
           "#19d3f3",
           "#FF6692",
           "#B6E880",
           "#FF97FF",
           "#FECB52"
          ],
          "font": {
           "color": "#2a3f5f"
          },
          "geo": {
           "bgcolor": "white",
           "lakecolor": "white",
           "landcolor": "#E5ECF6",
           "showlakes": true,
           "showland": true,
           "subunitcolor": "white"
          },
          "hoverlabel": {
           "align": "left"
          },
          "hovermode": "closest",
          "mapbox": {
           "style": "light"
          },
          "paper_bgcolor": "white",
          "plot_bgcolor": "#E5ECF6",
          "polar": {
           "angularaxis": {
            "gridcolor": "white",
            "linecolor": "white",
            "ticks": ""
           },
           "bgcolor": "#E5ECF6",
           "radialaxis": {
            "gridcolor": "white",
            "linecolor": "white",
            "ticks": ""
           }
          },
          "scene": {
           "xaxis": {
            "backgroundcolor": "#E5ECF6",
            "gridcolor": "white",
            "gridwidth": 2,
            "linecolor": "white",
            "showbackground": true,
            "ticks": "",
            "zerolinecolor": "white"
           },
           "yaxis": {
            "backgroundcolor": "#E5ECF6",
            "gridcolor": "white",
            "gridwidth": 2,
            "linecolor": "white",
            "showbackground": true,
            "ticks": "",
            "zerolinecolor": "white"
           },
           "zaxis": {
            "backgroundcolor": "#E5ECF6",
            "gridcolor": "white",
            "gridwidth": 2,
            "linecolor": "white",
            "showbackground": true,
            "ticks": "",
            "zerolinecolor": "white"
           }
          },
          "shapedefaults": {
           "line": {
            "color": "#2a3f5f"
           }
          },
          "ternary": {
           "aaxis": {
            "gridcolor": "white",
            "linecolor": "white",
            "ticks": ""
           },
           "baxis": {
            "gridcolor": "white",
            "linecolor": "white",
            "ticks": ""
           },
           "bgcolor": "#E5ECF6",
           "caxis": {
            "gridcolor": "white",
            "linecolor": "white",
            "ticks": ""
           }
          },
          "title": {
           "x": 0.05
          },
          "xaxis": {
           "automargin": true,
           "gridcolor": "white",
           "linecolor": "white",
           "ticks": "",
           "title": {
            "standoff": 15
           },
           "zerolinecolor": "white",
           "zerolinewidth": 2
          },
          "yaxis": {
           "automargin": true,
           "gridcolor": "white",
           "linecolor": "white",
           "ticks": "",
           "title": {
            "standoff": 15
           },
           "zerolinecolor": "white",
           "zerolinewidth": 2
          }
         }
        },
        "title": {
         "text": "Average hours logged by industry"
        },
        "xaxis": {
         "anchor": "y",
         "domain": [
          0,
          1
         ],
         "title": {
          "text": "primary_industry_grouped"
         }
        },
        "yaxis": {
         "anchor": "x",
         "domain": [
          0,
          1
         ],
         "title": {
          "text": "avg_hours"
         }
        }
       }
      },
      "text/html": [
       "<div>                            <div id=\"0bc5fa1a-b7f9-44ec-8b64-7a8e70f0bbb3\" class=\"plotly-graph-div\" style=\"height:525px; width:100%;\"></div>            <script type=\"text/javascript\">                require([\"plotly\"], function(Plotly) {                    window.PLOTLYENV=window.PLOTLYENV || {};                                    if (document.getElementById(\"0bc5fa1a-b7f9-44ec-8b64-7a8e70f0bbb3\")) {                    Plotly.newPlot(                        \"0bc5fa1a-b7f9-44ec-8b64-7a8e70f0bbb3\",                        [{\"alignmentgroup\": \"True\", \"hovertemplate\": \"primary_industry_grouped=%{x}<br>avg_hours=%{y}<extra></extra>\", \"legendgroup\": \"\", \"marker\": {\"color\": \"#636efa\"}, \"name\": \"\", \"offsetgroup\": \"\", \"orientation\": \"v\", \"showlegend\": false, \"textposition\": \"auto\", \"type\": \"bar\", \"x\": [\"_other\", \"_unknown\", \"accounting\", \"agriculture\", \"architecture\", \"construction\", \"design\", \"ecommerce\", \"education\", \"engineering\", \"entertainment\", \"events\", \"healthcare\", \"hospitality\", \"legal\", \"management consulting\", \"manufacturing\", \"marketing\", \"music\", \"nonprofit\", \"real estate\", \"research\", \"retail\", \"tech\", \"virtual assistant\", \"visual arts\", \"writing\"], \"xaxis\": \"x\", \"y\": [23564.970823529446, 30903.524847241286, 19281.956293103416, 972.7433333333314, 24260.8225408805, 29502.178035190613, 8827.463593908644, 18517.682222222193, 14089.882689075685, 45692.303572984594, 31695.577142857364, 5370.425999999999, 24333.5790756303, 20468.19714285715, 9303.67844947714, 19885.76961575418, 47636.773999999874, 25114.848496701477, 639.3962500000005, 36239.587545127004, 12264.722777777752, 10459.929999999995, 5230.0962500000005, 39423.83658410734, 2926.355625000002, 7668.791928571412, 16521.673818181887], \"yaxis\": \"y\"}],                        {\"barmode\": \"relative\", \"legend\": {\"tracegroupgap\": 0}, \"template\": {\"data\": {\"bar\": [{\"error_x\": {\"color\": \"#2a3f5f\"}, \"error_y\": {\"color\": \"#2a3f5f\"}, \"marker\": {\"line\": {\"color\": \"#E5ECF6\", \"width\": 0.5}}, \"type\": \"bar\"}], \"barpolar\": [{\"marker\": {\"line\": {\"color\": \"#E5ECF6\", \"width\": 0.5}}, \"type\": \"barpolar\"}], \"carpet\": [{\"aaxis\": {\"endlinecolor\": \"#2a3f5f\", \"gridcolor\": \"white\", \"linecolor\": \"white\", \"minorgridcolor\": \"white\", \"startlinecolor\": \"#2a3f5f\"}, \"baxis\": {\"endlinecolor\": \"#2a3f5f\", \"gridcolor\": \"white\", \"linecolor\": \"white\", \"minorgridcolor\": \"white\", \"startlinecolor\": \"#2a3f5f\"}, \"type\": \"carpet\"}], \"choropleth\": [{\"colorbar\": {\"outlinewidth\": 0, \"ticks\": \"\"}, \"type\": \"choropleth\"}], \"contour\": [{\"colorbar\": {\"outlinewidth\": 0, \"ticks\": \"\"}, \"colorscale\": [[0.0, \"#0d0887\"], [0.1111111111111111, \"#46039f\"], [0.2222222222222222, \"#7201a8\"], [0.3333333333333333, \"#9c179e\"], [0.4444444444444444, \"#bd3786\"], [0.5555555555555556, \"#d8576b\"], [0.6666666666666666, \"#ed7953\"], [0.7777777777777778, \"#fb9f3a\"], [0.8888888888888888, \"#fdca26\"], [1.0, \"#f0f921\"]], \"type\": \"contour\"}], \"contourcarpet\": [{\"colorbar\": {\"outlinewidth\": 0, \"ticks\": \"\"}, \"type\": \"contourcarpet\"}], \"heatmap\": [{\"colorbar\": {\"outlinewidth\": 0, \"ticks\": \"\"}, \"colorscale\": [[0.0, \"#0d0887\"], [0.1111111111111111, \"#46039f\"], [0.2222222222222222, \"#7201a8\"], [0.3333333333333333, \"#9c179e\"], [0.4444444444444444, \"#bd3786\"], [0.5555555555555556, \"#d8576b\"], [0.6666666666666666, \"#ed7953\"], [0.7777777777777778, \"#fb9f3a\"], [0.8888888888888888, \"#fdca26\"], [1.0, \"#f0f921\"]], \"type\": \"heatmap\"}], \"heatmapgl\": [{\"colorbar\": {\"outlinewidth\": 0, \"ticks\": \"\"}, \"colorscale\": [[0.0, \"#0d0887\"], [0.1111111111111111, \"#46039f\"], [0.2222222222222222, \"#7201a8\"], [0.3333333333333333, \"#9c179e\"], [0.4444444444444444, \"#bd3786\"], [0.5555555555555556, \"#d8576b\"], [0.6666666666666666, \"#ed7953\"], [0.7777777777777778, \"#fb9f3a\"], [0.8888888888888888, \"#fdca26\"], [1.0, \"#f0f921\"]], \"type\": \"heatmapgl\"}], \"histogram\": [{\"marker\": {\"colorbar\": {\"outlinewidth\": 0, \"ticks\": \"\"}}, \"type\": \"histogram\"}], \"histogram2d\": [{\"colorbar\": {\"outlinewidth\": 0, \"ticks\": \"\"}, \"colorscale\": [[0.0, \"#0d0887\"], [0.1111111111111111, \"#46039f\"], [0.2222222222222222, \"#7201a8\"], [0.3333333333333333, \"#9c179e\"], [0.4444444444444444, \"#bd3786\"], [0.5555555555555556, \"#d8576b\"], [0.6666666666666666, \"#ed7953\"], [0.7777777777777778, \"#fb9f3a\"], [0.8888888888888888, \"#fdca26\"], [1.0, \"#f0f921\"]], \"type\": \"histogram2d\"}], \"histogram2dcontour\": [{\"colorbar\": {\"outlinewidth\": 0, \"ticks\": \"\"}, \"colorscale\": [[0.0, \"#0d0887\"], [0.1111111111111111, \"#46039f\"], [0.2222222222222222, \"#7201a8\"], [0.3333333333333333, \"#9c179e\"], [0.4444444444444444, \"#bd3786\"], [0.5555555555555556, \"#d8576b\"], [0.6666666666666666, \"#ed7953\"], [0.7777777777777778, \"#fb9f3a\"], [0.8888888888888888, \"#fdca26\"], [1.0, \"#f0f921\"]], \"type\": \"histogram2dcontour\"}], \"mesh3d\": [{\"colorbar\": {\"outlinewidth\": 0, \"ticks\": \"\"}, \"type\": \"mesh3d\"}], \"parcoords\": [{\"line\": {\"colorbar\": {\"outlinewidth\": 0, \"ticks\": \"\"}}, \"type\": \"parcoords\"}], \"pie\": [{\"automargin\": true, \"type\": \"pie\"}], \"scatter\": [{\"marker\": {\"colorbar\": {\"outlinewidth\": 0, \"ticks\": \"\"}}, \"type\": \"scatter\"}], \"scatter3d\": [{\"line\": {\"colorbar\": {\"outlinewidth\": 0, \"ticks\": \"\"}}, \"marker\": {\"colorbar\": {\"outlinewidth\": 0, \"ticks\": \"\"}}, \"type\": \"scatter3d\"}], \"scattercarpet\": [{\"marker\": {\"colorbar\": {\"outlinewidth\": 0, \"ticks\": \"\"}}, \"type\": \"scattercarpet\"}], \"scattergeo\": [{\"marker\": {\"colorbar\": {\"outlinewidth\": 0, \"ticks\": \"\"}}, \"type\": \"scattergeo\"}], \"scattergl\": [{\"marker\": {\"colorbar\": {\"outlinewidth\": 0, \"ticks\": \"\"}}, \"type\": \"scattergl\"}], \"scattermapbox\": [{\"marker\": {\"colorbar\": {\"outlinewidth\": 0, \"ticks\": \"\"}}, \"type\": \"scattermapbox\"}], \"scatterpolar\": [{\"marker\": {\"colorbar\": {\"outlinewidth\": 0, \"ticks\": \"\"}}, \"type\": \"scatterpolar\"}], \"scatterpolargl\": [{\"marker\": {\"colorbar\": {\"outlinewidth\": 0, \"ticks\": \"\"}}, \"type\": \"scatterpolargl\"}], \"scatterternary\": [{\"marker\": {\"colorbar\": {\"outlinewidth\": 0, \"ticks\": \"\"}}, \"type\": \"scatterternary\"}], \"surface\": [{\"colorbar\": {\"outlinewidth\": 0, \"ticks\": \"\"}, \"colorscale\": [[0.0, \"#0d0887\"], [0.1111111111111111, \"#46039f\"], [0.2222222222222222, \"#7201a8\"], [0.3333333333333333, \"#9c179e\"], [0.4444444444444444, \"#bd3786\"], [0.5555555555555556, \"#d8576b\"], [0.6666666666666666, \"#ed7953\"], [0.7777777777777778, \"#fb9f3a\"], [0.8888888888888888, \"#fdca26\"], [1.0, \"#f0f921\"]], \"type\": \"surface\"}], \"table\": [{\"cells\": {\"fill\": {\"color\": \"#EBF0F8\"}, \"line\": {\"color\": \"white\"}}, \"header\": {\"fill\": {\"color\": \"#C8D4E3\"}, \"line\": {\"color\": \"white\"}}, \"type\": \"table\"}]}, \"layout\": {\"annotationdefaults\": {\"arrowcolor\": \"#2a3f5f\", \"arrowhead\": 0, \"arrowwidth\": 1}, \"autotypenumbers\": \"strict\", \"coloraxis\": {\"colorbar\": {\"outlinewidth\": 0, \"ticks\": \"\"}}, \"colorscale\": {\"diverging\": [[0, \"#8e0152\"], [0.1, \"#c51b7d\"], [0.2, \"#de77ae\"], [0.3, \"#f1b6da\"], [0.4, \"#fde0ef\"], [0.5, \"#f7f7f7\"], [0.6, \"#e6f5d0\"], [0.7, \"#b8e186\"], [0.8, \"#7fbc41\"], [0.9, \"#4d9221\"], [1, \"#276419\"]], \"sequential\": [[0.0, \"#0d0887\"], [0.1111111111111111, \"#46039f\"], [0.2222222222222222, \"#7201a8\"], [0.3333333333333333, \"#9c179e\"], [0.4444444444444444, \"#bd3786\"], [0.5555555555555556, \"#d8576b\"], [0.6666666666666666, \"#ed7953\"], [0.7777777777777778, \"#fb9f3a\"], [0.8888888888888888, \"#fdca26\"], [1.0, \"#f0f921\"]], \"sequentialminus\": [[0.0, \"#0d0887\"], [0.1111111111111111, \"#46039f\"], [0.2222222222222222, \"#7201a8\"], [0.3333333333333333, \"#9c179e\"], [0.4444444444444444, \"#bd3786\"], [0.5555555555555556, \"#d8576b\"], [0.6666666666666666, \"#ed7953\"], [0.7777777777777778, \"#fb9f3a\"], [0.8888888888888888, \"#fdca26\"], [1.0, \"#f0f921\"]]}, \"colorway\": [\"#636efa\", \"#EF553B\", \"#00cc96\", \"#ab63fa\", \"#FFA15A\", \"#19d3f3\", \"#FF6692\", \"#B6E880\", \"#FF97FF\", \"#FECB52\"], \"font\": {\"color\": \"#2a3f5f\"}, \"geo\": {\"bgcolor\": \"white\", \"lakecolor\": \"white\", \"landcolor\": \"#E5ECF6\", \"showlakes\": true, \"showland\": true, \"subunitcolor\": \"white\"}, \"hoverlabel\": {\"align\": \"left\"}, \"hovermode\": \"closest\", \"mapbox\": {\"style\": \"light\"}, \"paper_bgcolor\": \"white\", \"plot_bgcolor\": \"#E5ECF6\", \"polar\": {\"angularaxis\": {\"gridcolor\": \"white\", \"linecolor\": \"white\", \"ticks\": \"\"}, \"bgcolor\": \"#E5ECF6\", \"radialaxis\": {\"gridcolor\": \"white\", \"linecolor\": \"white\", \"ticks\": \"\"}}, \"scene\": {\"xaxis\": {\"backgroundcolor\": \"#E5ECF6\", \"gridcolor\": \"white\", \"gridwidth\": 2, \"linecolor\": \"white\", \"showbackground\": true, \"ticks\": \"\", \"zerolinecolor\": \"white\"}, \"yaxis\": {\"backgroundcolor\": \"#E5ECF6\", \"gridcolor\": \"white\", \"gridwidth\": 2, \"linecolor\": \"white\", \"showbackground\": true, \"ticks\": \"\", \"zerolinecolor\": \"white\"}, \"zaxis\": {\"backgroundcolor\": \"#E5ECF6\", \"gridcolor\": \"white\", \"gridwidth\": 2, \"linecolor\": \"white\", \"showbackground\": true, \"ticks\": \"\", \"zerolinecolor\": \"white\"}}, \"shapedefaults\": {\"line\": {\"color\": \"#2a3f5f\"}}, \"ternary\": {\"aaxis\": {\"gridcolor\": \"white\", \"linecolor\": \"white\", \"ticks\": \"\"}, \"baxis\": {\"gridcolor\": \"white\", \"linecolor\": \"white\", \"ticks\": \"\"}, \"bgcolor\": \"#E5ECF6\", \"caxis\": {\"gridcolor\": \"white\", \"linecolor\": \"white\", \"ticks\": \"\"}}, \"title\": {\"x\": 0.05}, \"xaxis\": {\"automargin\": true, \"gridcolor\": \"white\", \"linecolor\": \"white\", \"ticks\": \"\", \"title\": {\"standoff\": 15}, \"zerolinecolor\": \"white\", \"zerolinewidth\": 2}, \"yaxis\": {\"automargin\": true, \"gridcolor\": \"white\", \"linecolor\": \"white\", \"ticks\": \"\", \"title\": {\"standoff\": 15}, \"zerolinecolor\": \"white\", \"zerolinewidth\": 2}}}, \"title\": {\"text\": \"Average hours logged by industry\"}, \"xaxis\": {\"anchor\": \"y\", \"domain\": [0.0, 1.0], \"title\": {\"text\": \"primary_industry_grouped\"}}, \"yaxis\": {\"anchor\": \"x\", \"domain\": [0.0, 1.0], \"title\": {\"text\": \"avg_hours\"}}},                        {\"responsive\": true}                    ).then(function(){\n",
       "                            \n",
       "var gd = document.getElementById('0bc5fa1a-b7f9-44ec-8b64-7a8e70f0bbb3');\n",
       "var x = new MutationObserver(function (mutations, observer) {{\n",
       "        var display = window.getComputedStyle(gd).display;\n",
       "        if (!display || display === 'none') {{\n",
       "            console.log([gd, 'removed!']);\n",
       "            Plotly.purge(gd);\n",
       "            observer.disconnect();\n",
       "        }}\n",
       "}});\n",
       "\n",
       "// Listen for the removal of the full notebook cells\n",
       "var notebookContainer = gd.closest('#notebook-container');\n",
       "if (notebookContainer) {{\n",
       "    x.observe(notebookContainer, {childList: true});\n",
       "}}\n",
       "\n",
       "// Listen for the clearing of the current output cell\n",
       "var outputEl = gd.closest('.output');\n",
       "if (outputEl) {{\n",
       "    x.observe(outputEl, {childList: true});\n",
       "}}\n",
       "\n",
       "                        })                };                });            </script>        </div>"
      ]
     },
     "metadata": {},
     "output_type": "display_data"
    },
    {
     "data": {
      "image/png": "[encoded data removed]",
      "text/plain": [
       "<Figure size 720x576 with 1 Axes>"
      ]
     },
     "metadata": {
      "needs_background": "light"
     },
     "output_type": "display_data"
    },
    {
     "data": {
      "image/png": "[encoded data removed]",
      "text/plain": [
       "<Figure size 720x576 with 1 Axes>"
      ]
     },
     "metadata": {
      "needs_background": "light"
     },
     "output_type": "display_data"
    },
    {
     "data": {
      "image/png": "[encoded data removed]",
      "text/plain": [
       "<Figure size 720x576 with 1 Axes>"
      ]
     },
     "metadata": {
      "needs_background": "light"
     },
     "output_type": "display_data"
    },
    {
     "data": {
      "application/vnd.plotly.v1+json": {
       "config": {
        "plotlyServerURL": "https://plot.ly"
       },
       "data": [
        {
         "hovertemplate": "converted_at_date=%{x}<br>number_of_companies=%{y}<extra></extra>",
         "legendgroup": "",
         "line": {
          "color": "#636efa",
          "dash": "solid"
         },
         "mode": "lines",
         "name": "",
         "orientation": "v",
         "showlegend": false,
         "type": "scatter",
         "x": [
          "2006-06-30T00:00:00+00:00",
          "2006-07-31T00:00:00+00:00",
          "2006-08-31T00:00:00+00:00",
          "2006-09-30T00:00:00+00:00",
          "2006-10-31T00:00:00+00:00",
          "2006-11-30T00:00:00+00:00",
          "2006-12-31T00:00:00+00:00",
          "2007-01-31T00:00:00+00:00",
          "2007-02-28T00:00:00+00:00",
          "2007-03-31T00:00:00+00:00",
          "2007-04-30T00:00:00+00:00",
          "2007-05-31T00:00:00+00:00",
          "2007-06-30T00:00:00+00:00",
          "2007-07-31T00:00:00+00:00",
          "2007-08-31T00:00:00+00:00",
          "2007-09-30T00:00:00+00:00",
          "2007-10-31T00:00:00+00:00",
          "2007-11-30T00:00:00+00:00",
          "2007-12-31T00:00:00+00:00",
          "2008-01-31T00:00:00+00:00",
          "2008-02-29T00:00:00+00:00",
          "2008-03-31T00:00:00+00:00",
          "2008-04-30T00:00:00+00:00",
          "2008-05-31T00:00:00+00:00",
          "2008-06-30T00:00:00+00:00",
          "2008-07-31T00:00:00+00:00",
          "2008-08-31T00:00:00+00:00",
          "2008-09-30T00:00:00+00:00",
          "2008-10-31T00:00:00+00:00",
          "2008-11-30T00:00:00+00:00",
          "2008-12-31T00:00:00+00:00",
          "2009-01-31T00:00:00+00:00",
          "2009-02-28T00:00:00+00:00",
          "2009-03-31T00:00:00+00:00",
          "2009-04-30T00:00:00+00:00",
          "2009-05-31T00:00:00+00:00",
          "2009-06-30T00:00:00+00:00",
          "2009-07-31T00:00:00+00:00",
          "2009-08-31T00:00:00+00:00",
          "2009-09-30T00:00:00+00:00",
          "2009-10-31T00:00:00+00:00",
          "2009-11-30T00:00:00+00:00",
          "2009-12-31T00:00:00+00:00",
          "2010-01-31T00:00:00+00:00",
          "2010-02-28T00:00:00+00:00",
          "2010-03-31T00:00:00+00:00",
          "2010-04-30T00:00:00+00:00",
          "2010-05-31T00:00:00+00:00",
          "2010-06-30T00:00:00+00:00",
          "2010-07-31T00:00:00+00:00",
          "2010-08-31T00:00:00+00:00",
          "2010-09-30T00:00:00+00:00",
          "2010-10-31T00:00:00+00:00",
          "2010-11-30T00:00:00+00:00",
          "2010-12-31T00:00:00+00:00",
          "2011-01-31T00:00:00+00:00",
          "2011-02-28T00:00:00+00:00",
          "2011-03-31T00:00:00+00:00",
          "2011-04-30T00:00:00+00:00",
          "2011-05-31T00:00:00+00:00",
          "2011-06-30T00:00:00+00:00",
          "2011-07-31T00:00:00+00:00",
          "2011-08-31T00:00:00+00:00",
          "2011-09-30T00:00:00+00:00",
          "2011-10-31T00:00:00+00:00",
          "2011-11-30T00:00:00+00:00",
          "2011-12-31T00:00:00+00:00",
          "2012-01-31T00:00:00+00:00",
          "2012-02-29T00:00:00+00:00",
          "2012-03-31T00:00:00+00:00",
          "2012-04-30T00:00:00+00:00",
          "2012-05-31T00:00:00+00:00",
          "2012-06-30T00:00:00+00:00",
          "2012-07-31T00:00:00+00:00",
          "2012-08-31T00:00:00+00:00",
          "2012-09-30T00:00:00+00:00",
          "2012-10-31T00:00:00+00:00",
          "2012-11-30T00:00:00+00:00",
          "2012-12-31T00:00:00+00:00",
          "2013-01-31T00:00:00+00:00",
          "2013-02-28T00:00:00+00:00",
          "2013-03-31T00:00:00+00:00",
          "2013-04-30T00:00:00+00:00",
          "2013-05-31T00:00:00+00:00",
          "2013-06-30T00:00:00+00:00",
          "2013-07-31T00:00:00+00:00",
          "2013-08-31T00:00:00+00:00",
          "2013-09-30T00:00:00+00:00",
          "2013-10-31T00:00:00+00:00",
          "2013-11-30T00:00:00+00:00",
          "2013-12-31T00:00:00+00:00",
          "2014-01-31T00:00:00+00:00",
          "2014-02-28T00:00:00+00:00",
          "2014-03-31T00:00:00+00:00",
          "2014-04-30T00:00:00+00:00",
          "2014-05-31T00:00:00+00:00",
          "2014-06-30T00:00:00+00:00",
          "2014-07-31T00:00:00+00:00",
          "2014-08-31T00:00:00+00:00",
          "2014-09-30T00:00:00+00:00",
          "2014-10-31T00:00:00+00:00",
          "2014-11-30T00:00:00+00:00",
          "2014-12-31T00:00:00+00:00",
          "2015-01-31T00:00:00+00:00",
          "2015-02-28T00:00:00+00:00",
          "2015-03-31T00:00:00+00:00",
          "2015-04-30T00:00:00+00:00",
          "2015-05-31T00:00:00+00:00",
          "2015-06-30T00:00:00+00:00",
          "2015-07-31T00:00:00+00:00",
          "2015-08-31T00:00:00+00:00",
          "2015-09-30T00:00:00+00:00",
          "2015-10-31T00:00:00+00:00",
          "2015-11-30T00:00:00+00:00",
          "2015-12-31T00:00:00+00:00",
          "2016-01-31T00:00:00+00:00",
          "2016-02-29T00:00:00+00:00",
          "2016-03-31T00:00:00+00:00",
          "2016-04-30T00:00:00+00:00",
          "2016-05-31T00:00:00+00:00",
          "2016-06-30T00:00:00+00:00",
          "2016-07-31T00:00:00+00:00",
          "2016-08-31T00:00:00+00:00",
          "2016-09-30T00:00:00+00:00",
          "2016-10-31T00:00:00+00:00",
          "2016-11-30T00:00:00+00:00",
          "2016-12-31T00:00:00+00:00",
          "2017-01-31T00:00:00+00:00",
          "2017-02-28T00:00:00+00:00",
          "2017-03-31T00:00:00+00:00",
          "2017-04-30T00:00:00+00:00",
          "2017-05-31T00:00:00+00:00",
          "2017-06-30T00:00:00+00:00",
          "2017-07-31T00:00:00+00:00",
          "2017-08-31T00:00:00+00:00",
          "2017-09-30T00:00:00+00:00",
          "2017-10-31T00:00:00+00:00",
          "2017-11-30T00:00:00+00:00",
          "2017-12-31T00:00:00+00:00",
          "2018-01-31T00:00:00+00:00",
          "2018-02-28T00:00:00+00:00",
          "2018-03-31T00:00:00+00:00",
          "2018-04-30T00:00:00+00:00",
          "2018-05-31T00:00:00+00:00",
          "2018-06-30T00:00:00+00:00",
          "2018-07-31T00:00:00+00:00",
          "2018-08-31T00:00:00+00:00",
          "2018-09-30T00:00:00+00:00",
          "2018-10-31T00:00:00+00:00",
          "2018-11-30T00:00:00+00:00",
          "2018-12-31T00:00:00+00:00",
          "2019-01-31T00:00:00+00:00",
          "2019-02-28T00:00:00+00:00",
          "2019-03-31T00:00:00+00:00",
          "2019-04-30T00:00:00+00:00",
          "2019-05-31T00:00:00+00:00",
          "2019-06-30T00:00:00+00:00",
          "2019-07-31T00:00:00+00:00",
          "2019-08-31T00:00:00+00:00",
          "2019-09-30T00:00:00+00:00",
          "2019-10-31T00:00:00+00:00",
          "2019-11-30T00:00:00+00:00",
          "2019-12-31T00:00:00+00:00",
          "2020-01-31T00:00:00+00:00",
          "2020-02-29T00:00:00+00:00",
          "2020-03-31T00:00:00+00:00",
          "2020-04-30T00:00:00+00:00",
          "2020-05-31T00:00:00+00:00",
          "2020-06-30T00:00:00+00:00",
          "2020-07-31T00:00:00+00:00",
          "2020-08-31T00:00:00+00:00",
          "2020-09-30T00:00:00+00:00",
          "2020-10-31T00:00:00+00:00",
          "2020-11-30T00:00:00+00:00",
          "2020-12-31T00:00:00+00:00",
          "2021-01-31T00:00:00+00:00",
          "2021-02-28T00:00:00+00:00",
          "2021-03-31T00:00:00+00:00",
          "2021-04-30T00:00:00+00:00",
          "2021-05-31T00:00:00+00:00",
          "2021-06-30T00:00:00+00:00",
          "2021-07-31T00:00:00+00:00",
          "2021-08-31T00:00:00+00:00",
          "2021-09-30T00:00:00+00:00",
          "2021-10-31T00:00:00+00:00",
          "2021-11-30T00:00:00+00:00",
          "2021-12-31T00:00:00+00:00",
          "2022-01-31T00:00:00+00:00",
          "2022-02-28T00:00:00+00:00",
          "2022-03-31T00:00:00+00:00",
          "2022-04-30T00:00:00+00:00",
          "2022-05-31T00:00:00+00:00",
          "2022-06-30T00:00:00+00:00",
          "2022-07-31T00:00:00+00:00"
         ],
         "xaxis": "x",
         "y": [
          1,
          2,
          3,
          0,
          1,
          1,
          0,
          5,
          0,
          0,
          1,
          0,
          1,
          1,
          2,
          1,
          0,
          7,
          1,
          3,
          8,
          2,
          2,
          4,
          10,
          4,
          7,
          4,
          4,
          5,
          3,
          5,
          6,
          10,
          11,
          11,
          6,
          9,
          7,
          13,
          16,
          6,
          9,
          20,
          14,
          24,
          22,
          14,
          21,
          13,
          20,
          29,
          18,
          20,
          28,
          32,
          43,
          43,
          36,
          34,
          40,
          36,
          35,
          35,
          31,
          34,
          40,
          40,
          51,
          51,
          32,
          50,
          56,
          51,
          36,
          42,
          49,
          59,
          46,
          57,
          59,
          59,
          53,
          59,
          44,
          62,
          70,
          80,
          85,
          60,
          64,
          84,
          93,
          84,
          90,
          65,
          73,
          70,
          63,
          73,
          81,
          64,
          73,
          77,
          115,
          89,
          90,
          101,
          81,
          82,
          88,
          92,
          92,
          97,
          87,
          92,
          130,
          120,
          93,
          106,
          100,
          82,
          84,
          93,
          88,
          82,
          95,
          96,
          101,
          106,
          80,
          89,
          86,
          100,
          111,
          94,
          109,
          117,
          100,
          124,
          162,
          147,
          116,
          101,
          132,
          102,
          130,
          106,
          123,
          127,
          105,
          132,
          154,
          133,
          133,
          116,
          118,
          118,
          110,
          133,
          135,
          134,
          133,
          144,
          175,
          168,
          141,
          109,
          136,
          148,
          122,
          143,
          150,
          156,
          111,
          180,
          191,
          219,
          161,
          154,
          166,
          177,
          174,
          162,
          162,
          197,
          168,
          210,
          239,
          259,
          224,
          241,
          273,
          197
         ],
         "yaxis": "y"
        }
       ],
       "layout": {
        "legend": {
         "tracegroupgap": 0
        },
        "template": {
         "data": {
          "bar": [
           {
            "error_x": {
             "color": "#2a3f5f"
            },
            "error_y": {
             "color": "#2a3f5f"
            },
            "marker": {
             "line": {
              "color": "#E5ECF6",
              "width": 0.5
             }
            },
            "type": "bar"
           }
          ],
          "barpolar": [
           {
            "marker": {
             "line": {
              "color": "#E5ECF6",
              "width": 0.5
             }
            },
            "type": "barpolar"
           }
          ],
          "carpet": [
           {
            "aaxis": {
             "endlinecolor": "#2a3f5f",
             "gridcolor": "white",
             "linecolor": "white",
             "minorgridcolor": "white",
             "startlinecolor": "#2a3f5f"
            },
            "baxis": {
             "endlinecolor": "#2a3f5f",
             "gridcolor": "white",
             "linecolor": "white",
             "minorgridcolor": "white",
             "startlinecolor": "#2a3f5f"
            },
            "type": "carpet"
           }
          ],
          "choropleth": [
           {
            "colorbar": {
             "outlinewidth": 0,
             "ticks": ""
            },
            "type": "choropleth"
           }
          ],
          "contour": [
           {
            "colorbar": {
             "outlinewidth": 0,
             "ticks": ""
            },
            "colorscale": [
             [
              0,
              "#0d0887"
             ],
             [
              0.1111111111111111,
              "#46039f"
             ],
             [
              0.2222222222222222,
              "#7201a8"
             ],
             [
              0.3333333333333333,
              "#9c179e"
             ],
             [
              0.4444444444444444,
              "#bd3786"
             ],
             [
              0.5555555555555556,
              "#d8576b"
             ],
             [
              0.6666666666666666,
              "#ed7953"
             ],
             [
              0.7777777777777778,
              "#fb9f3a"
             ],
             [
              0.8888888888888888,
              "#fdca26"
             ],
             [
              1,
              "#f0f921"
             ]
            ],
            "type": "contour"
           }
          ],
          "contourcarpet": [
           {
            "colorbar": {
             "outlinewidth": 0,
             "ticks": ""
            },
            "type": "contourcarpet"
           }
          ],
          "heatmap": [
           {
            "colorbar": {
             "outlinewidth": 0,
             "ticks": ""
            },
            "colorscale": [
             [
              0,
              "#0d0887"
             ],
             [
              0.1111111111111111,
              "#46039f"
             ],
             [
              0.2222222222222222,
              "#7201a8"
             ],
             [
              0.3333333333333333,
              "#9c179e"
             ],
             [
              0.4444444444444444,
              "#bd3786"
             ],
             [
              0.5555555555555556,
              "#d8576b"
             ],
             [
              0.6666666666666666,
              "#ed7953"
             ],
             [
              0.7777777777777778,
              "#fb9f3a"
             ],
             [
              0.8888888888888888,
              "#fdca26"
             ],
             [
              1,
              "#f0f921"
             ]
            ],
            "type": "heatmap"
           }
          ],
          "heatmapgl": [
           {
            "colorbar": {
             "outlinewidth": 0,
             "ticks": ""
            },
            "colorscale": [
             [
              0,
              "#0d0887"
             ],
             [
              0.1111111111111111,
              "#46039f"
             ],
             [
              0.2222222222222222,
              "#7201a8"
             ],
             [
              0.3333333333333333,
              "#9c179e"
             ],
             [
              0.4444444444444444,
              "#bd3786"
             ],
             [
              0.5555555555555556,
              "#d8576b"
             ],
             [
              0.6666666666666666,
              "#ed7953"
             ],
             [
              0.7777777777777778,
              "#fb9f3a"
             ],
             [
              0.8888888888888888,
              "#fdca26"
             ],
             [
              1,
              "#f0f921"
             ]
            ],
            "type": "heatmapgl"
           }
          ],
          "histogram": [
           {
            "marker": {
             "colorbar": {
              "outlinewidth": 0,
              "ticks": ""
             }
            },
            "type": "histogram"
           }
          ],
          "histogram2d": [
           {
            "colorbar": {
             "outlinewidth": 0,
             "ticks": ""
            },
            "colorscale": [
             [
              0,
              "#0d0887"
             ],
             [
              0.1111111111111111,
              "#46039f"
             ],
             [
              0.2222222222222222,
              "#7201a8"
             ],
             [
              0.3333333333333333,
              "#9c179e"
             ],
             [
              0.4444444444444444,
              "#bd3786"
             ],
             [
              0.5555555555555556,
              "#d8576b"
             ],
             [
              0.6666666666666666,
              "#ed7953"
             ],
             [
              0.7777777777777778,
              "#fb9f3a"
             ],
             [
              0.8888888888888888,
              "#fdca26"
             ],
             [
              1,
              "#f0f921"
             ]
            ],
            "type": "histogram2d"
           }
          ],
          "histogram2dcontour": [
           {
            "colorbar": {
             "outlinewidth": 0,
             "ticks": ""
            },
            "colorscale": [
             [
              0,
              "#0d0887"
             ],
             [
              0.1111111111111111,
              "#46039f"
             ],
             [
              0.2222222222222222,
              "#7201a8"
             ],
             [
              0.3333333333333333,
              "#9c179e"
             ],
             [
              0.4444444444444444,
              "#bd3786"
             ],
             [
              0.5555555555555556,
              "#d8576b"
             ],
             [
              0.6666666666666666,
              "#ed7953"
             ],
             [
              0.7777777777777778,
              "#fb9f3a"
             ],
             [
              0.8888888888888888,
              "#fdca26"
             ],
             [
              1,
              "#f0f921"
             ]
            ],
            "type": "histogram2dcontour"
           }
          ],
          "mesh3d": [
           {
            "colorbar": {
             "outlinewidth": 0,
             "ticks": ""
            },
            "type": "mesh3d"
           }
          ],
          "parcoords": [
           {
            "line": {
             "colorbar": {
              "outlinewidth": 0,
              "ticks": ""
             }
            },
            "type": "parcoords"
           }
          ],
          "pie": [
           {
            "automargin": true,
            "type": "pie"
           }
          ],
          "scatter": [
           {
            "marker": {
             "colorbar": {
              "outlinewidth": 0,
              "ticks": ""
             }
            },
            "type": "scatter"
           }
          ],
          "scatter3d": [
           {
            "line": {
             "colorbar": {
              "outlinewidth": 0,
              "ticks": ""
             }
            },
            "marker": {
             "colorbar": {
              "outlinewidth": 0,
              "ticks": ""
             }
            },
            "type": "scatter3d"
           }
          ],
          "scattercarpet": [
           {
            "marker": {
             "colorbar": {
              "outlinewidth": 0,
              "ticks": ""
             }
            },
            "type": "scattercarpet"
           }
          ],
          "scattergeo": [
           {
            "marker": {
             "colorbar": {
              "outlinewidth": 0,
              "ticks": ""
             }
            },
            "type": "scattergeo"
           }
          ],
          "scattergl": [
           {
            "marker": {
             "colorbar": {
              "outlinewidth": 0,
              "ticks": ""
             }
            },
            "type": "scattergl"
           }
          ],
          "scattermapbox": [
           {
            "marker": {
             "colorbar": {
              "outlinewidth": 0,
              "ticks": ""
             }
            },
            "type": "scattermapbox"
           }
          ],
          "scatterpolar": [
           {
            "marker": {
             "colorbar": {
              "outlinewidth": 0,
              "ticks": ""
             }
            },
            "type": "scatterpolar"
           }
          ],
          "scatterpolargl": [
           {
            "marker": {
             "colorbar": {
              "outlinewidth": 0,
              "ticks": ""
             }
            },
            "type": "scatterpolargl"
           }
          ],
          "scatterternary": [
           {
            "marker": {
             "colorbar": {
              "outlinewidth": 0,
              "ticks": ""
             }
            },
            "type": "scatterternary"
           }
          ],
          "surface": [
           {
            "colorbar": {
             "outlinewidth": 0,
             "ticks": ""
            },
            "colorscale": [
             [
              0,
              "#0d0887"
             ],
             [
              0.1111111111111111,
              "#46039f"
             ],
             [
              0.2222222222222222,
              "#7201a8"
             ],
             [
              0.3333333333333333,
              "#9c179e"
             ],
             [
              0.4444444444444444,
              "#bd3786"
             ],
             [
              0.5555555555555556,
              "#d8576b"
             ],
             [
              0.6666666666666666,
              "#ed7953"
             ],
             [
              0.7777777777777778,
              "#fb9f3a"
             ],
             [
              0.8888888888888888,
              "#fdca26"
             ],
             [
              1,
              "#f0f921"
             ]
            ],
            "type": "surface"
           }
          ],
          "table": [
           {
            "cells": {
             "fill": {
              "color": "#EBF0F8"
             },
             "line": {
              "color": "white"
             }
            },
            "header": {
             "fill": {
              "color": "#C8D4E3"
             },
             "line": {
              "color": "white"
             }
            },
            "type": "table"
           }
          ]
         },
         "layout": {
          "annotationdefaults": {
           "arrowcolor": "#2a3f5f",
           "arrowhead": 0,
           "arrowwidth": 1
          },
          "autotypenumbers": "strict",
          "coloraxis": {
           "colorbar": {
            "outlinewidth": 0,
            "ticks": ""
           }
          },
          "colorscale": {
           "diverging": [
            [
             0,
             "#8e0152"
            ],
            [
             0.1,
             "#c51b7d"
            ],
            [
             0.2,
             "#de77ae"
            ],
            [
             0.3,
             "#f1b6da"
            ],
            [
             0.4,
             "#fde0ef"
            ],
            [
             0.5,
             "#f7f7f7"
            ],
            [
             0.6,
             "#e6f5d0"
            ],
            [
             0.7,
             "#b8e186"
            ],
            [
             0.8,
             "#7fbc41"
            ],
            [
             0.9,
             "#4d9221"
            ],
            [
             1,
             "#276419"
            ]
           ],
           "sequential": [
            [
             0,
             "#0d0887"
            ],
            [
             0.1111111111111111,
             "#46039f"
            ],
            [
             0.2222222222222222,
             "#7201a8"
            ],
            [
             0.3333333333333333,
             "#9c179e"
            ],
            [
             0.4444444444444444,
             "#bd3786"
            ],
            [
             0.5555555555555556,
             "#d8576b"
            ],
            [
             0.6666666666666666,
             "#ed7953"
            ],
            [
             0.7777777777777778,
             "#fb9f3a"
            ],
            [
             0.8888888888888888,
             "#fdca26"
            ],
            [
             1,
             "#f0f921"
            ]
           ],
           "sequentialminus": [
            [
             0,
             "#0d0887"
            ],
            [
             0.1111111111111111,
             "#46039f"
            ],
            [
             0.2222222222222222,
             "#7201a8"
            ],
            [
             0.3333333333333333,
             "#9c179e"
            ],
            [
             0.4444444444444444,
             "#bd3786"
            ],
            [
             0.5555555555555556,
             "#d8576b"
            ],
            [
             0.6666666666666666,
             "#ed7953"
            ],
            [
             0.7777777777777778,
             "#fb9f3a"
            ],
            [
             0.8888888888888888,
             "#fdca26"
            ],
            [
             1,
             "#f0f921"
            ]
           ]
          },
          "colorway": [
           "#636efa",
           "#EF553B",
           "#00cc96",
           "#ab63fa",
           "#FFA15A",
           "#19d3f3",
           "#FF6692",
           "#B6E880",
           "#FF97FF",
           "#FECB52"
          ],
          "font": {
           "color": "#2a3f5f"
          },
          "geo": {
           "bgcolor": "white",
           "lakecolor": "white",
           "landcolor": "#E5ECF6",
           "showlakes": true,
           "showland": true,
           "subunitcolor": "white"
          },
          "hoverlabel": {
           "align": "left"
          },
          "hovermode": "closest",
          "mapbox": {
           "style": "light"
          },
          "paper_bgcolor": "white",
          "plot_bgcolor": "#E5ECF6",
          "polar": {
           "angularaxis": {
            "gridcolor": "white",
            "linecolor": "white",
            "ticks": ""
           },
           "bgcolor": "#E5ECF6",
           "radialaxis": {
            "gridcolor": "white",
            "linecolor": "white",
            "ticks": ""
           }
          },
          "scene": {
           "xaxis": {
            "backgroundcolor": "#E5ECF6",
            "gridcolor": "white",
            "gridwidth": 2,
            "linecolor": "white",
            "showbackground": true,
            "ticks": "",
            "zerolinecolor": "white"
           },
           "yaxis": {
            "backgroundcolor": "#E5ECF6",
            "gridcolor": "white",
            "gridwidth": 2,
            "linecolor": "white",
            "showbackground": true,
            "ticks": "",
            "zerolinecolor": "white"
           },
           "zaxis": {
            "backgroundcolor": "#E5ECF6",
            "gridcolor": "white",
            "gridwidth": 2,
            "linecolor": "white",
            "showbackground": true,
            "ticks": "",
            "zerolinecolor": "white"
           }
          },
          "shapedefaults": {
           "line": {
            "color": "#2a3f5f"
           }
          },
          "ternary": {
           "aaxis": {
            "gridcolor": "white",
            "linecolor": "white",
            "ticks": ""
           },
           "baxis": {
            "gridcolor": "white",
            "linecolor": "white",
            "ticks": ""
           },
           "bgcolor": "#E5ECF6",
           "caxis": {
            "gridcolor": "white",
            "linecolor": "white",
            "ticks": ""
           }
          },
          "title": {
           "x": 0.05
          },
          "xaxis": {
           "automargin": true,
           "gridcolor": "white",
           "linecolor": "white",
           "ticks": "",
           "title": {
            "standoff": 15
           },
           "zerolinecolor": "white",
           "zerolinewidth": 2
          },
          "yaxis": {
           "automargin": true,
           "gridcolor": "white",
           "linecolor": "white",
           "ticks": "",
           "title": {
            "standoff": 15
           },
           "zerolinecolor": "white",
           "zerolinewidth": 2
          }
         }
        },
        "title": {
         "text": "Customer conversion over time"
        },
        "xaxis": {
         "anchor": "y",
         "domain": [
          0,
          1
         ],
         "title": {
          "text": "converted_at_date"
         }
        },
        "yaxis": {
         "anchor": "x",
         "domain": [
          0,
          1
         ],
         "title": {
          "text": "number_of_companies"
         }
        }
       }
      },
      "text/html": [
       "<div>                            <div id=\"2685d001-8465-440c-8f6c-32cc3e2357a5\" class=\"plotly-graph-div\" style=\"height:525px; width:100%;\"></div>            <script type=\"text/javascript\">                require([\"plotly\"], function(Plotly) {                    window.PLOTLYENV=window.PLOTLYENV || {};                                    if (document.getElementById(\"2685d001-8465-440c-8f6c-32cc3e2357a5\")) {                    Plotly.newPlot(                        \"2685d001-8465-440c-8f6c-32cc3e2357a5\",                        [{\"hovertemplate\": \"converted_at_date=%{x}<br>number_of_companies=%{y}<extra></extra>\", \"legendgroup\": \"\", \"line\": {\"color\": \"#636efa\", \"dash\": \"solid\"}, \"mode\": \"lines\", \"name\": \"\", \"orientation\": \"v\", \"showlegend\": false, \"type\": \"scatter\", \"x\": [\"2006-06-30T00:00:00+00:00\", \"2006-07-31T00:00:00+00:00\", \"2006-08-31T00:00:00+00:00\", \"2006-09-30T00:00:00+00:00\", \"2006-10-31T00:00:00+00:00\", \"2006-11-30T00:00:00+00:00\", \"2006-12-31T00:00:00+00:00\", \"2007-01-31T00:00:00+00:00\", \"2007-02-28T00:00:00+00:00\", \"2007-03-31T00:00:00+00:00\", \"2007-04-30T00:00:00+00:00\", \"2007-05-31T00:00:00+00:00\", \"2007-06-30T00:00:00+00:00\", \"2007-07-31T00:00:00+00:00\", \"2007-08-31T00:00:00+00:00\", \"2007-09-30T00:00:00+00:00\", \"2007-10-31T00:00:00+00:00\", \"2007-11-30T00:00:00+00:00\", \"2007-12-31T00:00:00+00:00\", \"2008-01-31T00:00:00+00:00\", \"2008-02-29T00:00:00+00:00\", \"2008-03-31T00:00:00+00:00\", \"2008-04-30T00:00:00+00:00\", \"2008-05-31T00:00:00+00:00\", \"2008-06-30T00:00:00+00:00\", \"2008-07-31T00:00:00+00:00\", \"2008-08-31T00:00:00+00:00\", \"2008-09-30T00:00:00+00:00\", \"2008-10-31T00:00:00+00:00\", \"2008-11-30T00:00:00+00:00\", \"2008-12-31T00:00:00+00:00\", \"2009-01-31T00:00:00+00:00\", \"2009-02-28T00:00:00+00:00\", \"2009-03-31T00:00:00+00:00\", \"2009-04-30T00:00:00+00:00\", \"2009-05-31T00:00:00+00:00\", \"2009-06-30T00:00:00+00:00\", \"2009-07-31T00:00:00+00:00\", \"2009-08-31T00:00:00+00:00\", \"2009-09-30T00:00:00+00:00\", \"2009-10-31T00:00:00+00:00\", \"2009-11-30T00:00:00+00:00\", \"2009-12-31T00:00:00+00:00\", \"2010-01-31T00:00:00+00:00\", \"2010-02-28T00:00:00+00:00\", \"2010-03-31T00:00:00+00:00\", \"2010-04-30T00:00:00+00:00\", \"2010-05-31T00:00:00+00:00\", \"2010-06-30T00:00:00+00:00\", \"2010-07-31T00:00:00+00:00\", \"2010-08-31T00:00:00+00:00\", \"2010-09-30T00:00:00+00:00\", \"2010-10-31T00:00:00+00:00\", \"2010-11-30T00:00:00+00:00\", \"2010-12-31T00:00:00+00:00\", \"2011-01-31T00:00:00+00:00\", \"2011-02-28T00:00:00+00:00\", \"2011-03-31T00:00:00+00:00\", \"2011-04-30T00:00:00+00:00\", \"2011-05-31T00:00:00+00:00\", \"2011-06-30T00:00:00+00:00\", \"2011-07-31T00:00:00+00:00\", \"2011-08-31T00:00:00+00:00\", \"2011-09-30T00:00:00+00:00\", \"2011-10-31T00:00:00+00:00\", \"2011-11-30T00:00:00+00:00\", \"2011-12-31T00:00:00+00:00\", \"2012-01-31T00:00:00+00:00\", \"2012-02-29T00:00:00+00:00\", \"2012-03-31T00:00:00+00:00\", \"2012-04-30T00:00:00+00:00\", \"2012-05-31T00:00:00+00:00\", \"2012-06-30T00:00:00+00:00\", \"2012-07-31T00:00:00+00:00\", \"2012-08-31T00:00:00+00:00\", \"2012-09-30T00:00:00+00:00\", \"2012-10-31T00:00:00+00:00\", \"2012-11-30T00:00:00+00:00\", \"2012-12-31T00:00:00+00:00\", \"2013-01-31T00:00:00+00:00\", \"2013-02-28T00:00:00+00:00\", \"2013-03-31T00:00:00+00:00\", \"2013-04-30T00:00:00+00:00\", \"2013-05-31T00:00:00+00:00\", \"2013-06-30T00:00:00+00:00\", \"2013-07-31T00:00:00+00:00\", \"2013-08-31T00:00:00+00:00\", \"2013-09-30T00:00:00+00:00\", \"2013-10-31T00:00:00+00:00\", \"2013-11-30T00:00:00+00:00\", \"2013-12-31T00:00:00+00:00\", \"2014-01-31T00:00:00+00:00\", \"2014-02-28T00:00:00+00:00\", \"2014-03-31T00:00:00+00:00\", \"2014-04-30T00:00:00+00:00\", \"2014-05-31T00:00:00+00:00\", \"2014-06-30T00:00:00+00:00\", \"2014-07-31T00:00:00+00:00\", \"2014-08-31T00:00:00+00:00\", \"2014-09-30T00:00:00+00:00\", \"2014-10-31T00:00:00+00:00\", \"2014-11-30T00:00:00+00:00\", \"2014-12-31T00:00:00+00:00\", \"2015-01-31T00:00:00+00:00\", \"2015-02-28T00:00:00+00:00\", \"2015-03-31T00:00:00+00:00\", \"2015-04-30T00:00:00+00:00\", \"2015-05-31T00:00:00+00:00\", \"2015-06-30T00:00:00+00:00\", \"2015-07-31T00:00:00+00:00\", \"2015-08-31T00:00:00+00:00\", \"2015-09-30T00:00:00+00:00\", \"2015-10-31T00:00:00+00:00\", \"2015-11-30T00:00:00+00:00\", \"2015-12-31T00:00:00+00:00\", \"2016-01-31T00:00:00+00:00\", \"2016-02-29T00:00:00+00:00\", \"2016-03-31T00:00:00+00:00\", \"2016-04-30T00:00:00+00:00\", \"2016-05-31T00:00:00+00:00\", \"2016-06-30T00:00:00+00:00\", \"2016-07-31T00:00:00+00:00\", \"2016-08-31T00:00:00+00:00\", \"2016-09-30T00:00:00+00:00\", \"2016-10-31T00:00:00+00:00\", \"2016-11-30T00:00:00+00:00\", \"2016-12-31T00:00:00+00:00\", \"2017-01-31T00:00:00+00:00\", \"2017-02-28T00:00:00+00:00\", \"2017-03-31T00:00:00+00:00\", \"2017-04-30T00:00:00+00:00\", \"2017-05-31T00:00:00+00:00\", \"2017-06-30T00:00:00+00:00\", \"2017-07-31T00:00:00+00:00\", \"2017-08-31T00:00:00+00:00\", \"2017-09-30T00:00:00+00:00\", \"2017-10-31T00:00:00+00:00\", \"2017-11-30T00:00:00+00:00\", \"2017-12-31T00:00:00+00:00\", \"2018-01-31T00:00:00+00:00\", \"2018-02-28T00:00:00+00:00\", \"2018-03-31T00:00:00+00:00\", \"2018-04-30T00:00:00+00:00\", \"2018-05-31T00:00:00+00:00\", \"2018-06-30T00:00:00+00:00\", \"2018-07-31T00:00:00+00:00\", \"2018-08-31T00:00:00+00:00\", \"2018-09-30T00:00:00+00:00\", \"2018-10-31T00:00:00+00:00\", \"2018-11-30T00:00:00+00:00\", \"2018-12-31T00:00:00+00:00\", \"2019-01-31T00:00:00+00:00\", \"2019-02-28T00:00:00+00:00\", \"2019-03-31T00:00:00+00:00\", \"2019-04-30T00:00:00+00:00\", \"2019-05-31T00:00:00+00:00\", \"2019-06-30T00:00:00+00:00\", \"2019-07-31T00:00:00+00:00\", \"2019-08-31T00:00:00+00:00\", \"2019-09-30T00:00:00+00:00\", \"2019-10-31T00:00:00+00:00\", \"2019-11-30T00:00:00+00:00\", \"2019-12-31T00:00:00+00:00\", \"2020-01-31T00:00:00+00:00\", \"2020-02-29T00:00:00+00:00\", \"2020-03-31T00:00:00+00:00\", \"2020-04-30T00:00:00+00:00\", \"2020-05-31T00:00:00+00:00\", \"2020-06-30T00:00:00+00:00\", \"2020-07-31T00:00:00+00:00\", \"2020-08-31T00:00:00+00:00\", \"2020-09-30T00:00:00+00:00\", \"2020-10-31T00:00:00+00:00\", \"2020-11-30T00:00:00+00:00\", \"2020-12-31T00:00:00+00:00\", \"2021-01-31T00:00:00+00:00\", \"2021-02-28T00:00:00+00:00\", \"2021-03-31T00:00:00+00:00\", \"2021-04-30T00:00:00+00:00\", \"2021-05-31T00:00:00+00:00\", \"2021-06-30T00:00:00+00:00\", \"2021-07-31T00:00:00+00:00\", \"2021-08-31T00:00:00+00:00\", \"2021-09-30T00:00:00+00:00\", \"2021-10-31T00:00:00+00:00\", \"2021-11-30T00:00:00+00:00\", \"2021-12-31T00:00:00+00:00\", \"2022-01-31T00:00:00+00:00\", \"2022-02-28T00:00:00+00:00\", \"2022-03-31T00:00:00+00:00\", \"2022-04-30T00:00:00+00:00\", \"2022-05-31T00:00:00+00:00\", \"2022-06-30T00:00:00+00:00\", \"2022-07-31T00:00:00+00:00\"], \"xaxis\": \"x\", \"y\": [1, 2, 3, 0, 1, 1, 0, 5, 0, 0, 1, 0, 1, 1, 2, 1, 0, 7, 1, 3, 8, 2, 2, 4, 10, 4, 7, 4, 4, 5, 3, 5, 6, 10, 11, 11, 6, 9, 7, 13, 16, 6, 9, 20, 14, 24, 22, 14, 21, 13, 20, 29, 18, 20, 28, 32, 43, 43, 36, 34, 40, 36, 35, 35, 31, 34, 40, 40, 51, 51, 32, 50, 56, 51, 36, 42, 49, 59, 46, 57, 59, 59, 53, 59, 44, 62, 70, 80, 85, 60, 64, 84, 93, 84, 90, 65, 73, 70, 63, 73, 81, 64, 73, 77, 115, 89, 90, 101, 81, 82, 88, 92, 92, 97, 87, 92, 130, 120, 93, 106, 100, 82, 84, 93, 88, 82, 95, 96, 101, 106, 80, 89, 86, 100, 111, 94, 109, 117, 100, 124, 162, 147, 116, 101, 132, 102, 130, 106, 123, 127, 105, 132, 154, 133, 133, 116, 118, 118, 110, 133, 135, 134, 133, 144, 175, 168, 141, 109, 136, 148, 122, 143, 150, 156, 111, 180, 191, 219, 161, 154, 166, 177, 174, 162, 162, 197, 168, 210, 239, 259, 224, 241, 273, 197], \"yaxis\": \"y\"}],                        {\"legend\": {\"tracegroupgap\": 0}, \"template\": {\"data\": {\"bar\": [{\"error_x\": {\"color\": \"#2a3f5f\"}, \"error_y\": {\"color\": \"#2a3f5f\"}, \"marker\": {\"line\": {\"color\": \"#E5ECF6\", \"width\": 0.5}}, \"type\": \"bar\"}], \"barpolar\": [{\"marker\": {\"line\": {\"color\": \"#E5ECF6\", \"width\": 0.5}}, \"type\": \"barpolar\"}], \"carpet\": [{\"aaxis\": {\"endlinecolor\": \"#2a3f5f\", \"gridcolor\": \"white\", \"linecolor\": \"white\", \"minorgridcolor\": \"white\", \"startlinecolor\": \"#2a3f5f\"}, \"baxis\": {\"endlinecolor\": \"#2a3f5f\", \"gridcolor\": \"white\", \"linecolor\": \"white\", \"minorgridcolor\": \"white\", \"startlinecolor\": \"#2a3f5f\"}, \"type\": \"carpet\"}], \"choropleth\": [{\"colorbar\": {\"outlinewidth\": 0, \"ticks\": \"\"}, \"type\": \"choropleth\"}], \"contour\": [{\"colorbar\": {\"outlinewidth\": 0, \"ticks\": \"\"}, \"colorscale\": [[0.0, \"#0d0887\"], [0.1111111111111111, \"#46039f\"], [0.2222222222222222, \"#7201a8\"], [0.3333333333333333, \"#9c179e\"], [0.4444444444444444, \"#bd3786\"], [0.5555555555555556, \"#d8576b\"], [0.6666666666666666, \"#ed7953\"], [0.7777777777777778, \"#fb9f3a\"], [0.8888888888888888, \"#fdca26\"], [1.0, \"#f0f921\"]], \"type\": \"contour\"}], \"contourcarpet\": [{\"colorbar\": {\"outlinewidth\": 0, \"ticks\": \"\"}, \"type\": \"contourcarpet\"}], \"heatmap\": [{\"colorbar\": {\"outlinewidth\": 0, \"ticks\": \"\"}, \"colorscale\": [[0.0, \"#0d0887\"], [0.1111111111111111, \"#46039f\"], [0.2222222222222222, \"#7201a8\"], [0.3333333333333333, \"#9c179e\"], [0.4444444444444444, \"#bd3786\"], [0.5555555555555556, \"#d8576b\"], [0.6666666666666666, \"#ed7953\"], [0.7777777777777778, \"#fb9f3a\"], [0.8888888888888888, \"#fdca26\"], [1.0, \"#f0f921\"]], \"type\": \"heatmap\"}], \"heatmapgl\": [{\"colorbar\": {\"outlinewidth\": 0, \"ticks\": \"\"}, \"colorscale\": [[0.0, \"#0d0887\"], [0.1111111111111111, \"#46039f\"], [0.2222222222222222, \"#7201a8\"], [0.3333333333333333, \"#9c179e\"], [0.4444444444444444, \"#bd3786\"], [0.5555555555555556, \"#d8576b\"], [0.6666666666666666, \"#ed7953\"], [0.7777777777777778, \"#fb9f3a\"], [0.8888888888888888, \"#fdca26\"], [1.0, \"#f0f921\"]], \"type\": \"heatmapgl\"}], \"histogram\": [{\"marker\": {\"colorbar\": {\"outlinewidth\": 0, \"ticks\": \"\"}}, \"type\": \"histogram\"}], \"histogram2d\": [{\"colorbar\": {\"outlinewidth\": 0, \"ticks\": \"\"}, \"colorscale\": [[0.0, \"#0d0887\"], [0.1111111111111111, \"#46039f\"], [0.2222222222222222, \"#7201a8\"], [0.3333333333333333, \"#9c179e\"], [0.4444444444444444, \"#bd3786\"], [0.5555555555555556, \"#d8576b\"], [0.6666666666666666, \"#ed7953\"], [0.7777777777777778, \"#fb9f3a\"], [0.8888888888888888, \"#fdca26\"], [1.0, \"#f0f921\"]], \"type\": \"histogram2d\"}], \"histogram2dcontour\": [{\"colorbar\": {\"outlinewidth\": 0, \"ticks\": \"\"}, \"colorscale\": [[0.0, \"#0d0887\"], [0.1111111111111111, \"#46039f\"], [0.2222222222222222, \"#7201a8\"], [0.3333333333333333, \"#9c179e\"], [0.4444444444444444, \"#bd3786\"], [0.5555555555555556, \"#d8576b\"], [0.6666666666666666, \"#ed7953\"], [0.7777777777777778, \"#fb9f3a\"], [0.8888888888888888, \"#fdca26\"], [1.0, \"#f0f921\"]], \"type\": \"histogram2dcontour\"}], \"mesh3d\": [{\"colorbar\": {\"outlinewidth\": 0, \"ticks\": \"\"}, \"type\": \"mesh3d\"}], \"parcoords\": [{\"line\": {\"colorbar\": {\"outlinewidth\": 0, \"ticks\": \"\"}}, \"type\": \"parcoords\"}], \"pie\": [{\"automargin\": true, \"type\": \"pie\"}], \"scatter\": [{\"marker\": {\"colorbar\": {\"outlinewidth\": 0, \"ticks\": \"\"}}, \"type\": \"scatter\"}], \"scatter3d\": [{\"line\": {\"colorbar\": {\"outlinewidth\": 0, \"ticks\": \"\"}}, \"marker\": {\"colorbar\": {\"outlinewidth\": 0, \"ticks\": \"\"}}, \"type\": \"scatter3d\"}], \"scattercarpet\": [{\"marker\": {\"colorbar\": {\"outlinewidth\": 0, \"ticks\": \"\"}}, \"type\": \"scattercarpet\"}], \"scattergeo\": [{\"marker\": {\"colorbar\": {\"outlinewidth\": 0, \"ticks\": \"\"}}, \"type\": \"scattergeo\"}], \"scattergl\": [{\"marker\": {\"colorbar\": {\"outlinewidth\": 0, \"ticks\": \"\"}}, \"type\": \"scattergl\"}], \"scattermapbox\": [{\"marker\": {\"colorbar\": {\"outlinewidth\": 0, \"ticks\": \"\"}}, \"type\": \"scattermapbox\"}], \"scatterpolar\": [{\"marker\": {\"colorbar\": {\"outlinewidth\": 0, \"ticks\": \"\"}}, \"type\": \"scatterpolar\"}], \"scatterpolargl\": [{\"marker\": {\"colorbar\": {\"outlinewidth\": 0, \"ticks\": \"\"}}, \"type\": \"scatterpolargl\"}], \"scatterternary\": [{\"marker\": {\"colorbar\": {\"outlinewidth\": 0, \"ticks\": \"\"}}, \"type\": \"scatterternary\"}], \"surface\": [{\"colorbar\": {\"outlinewidth\": 0, \"ticks\": \"\"}, \"colorscale\": [[0.0, \"#0d0887\"], [0.1111111111111111, \"#46039f\"], [0.2222222222222222, \"#7201a8\"], [0.3333333333333333, \"#9c179e\"], [0.4444444444444444, \"#bd3786\"], [0.5555555555555556, \"#d8576b\"], [0.6666666666666666, \"#ed7953\"], [0.7777777777777778, \"#fb9f3a\"], [0.8888888888888888, \"#fdca26\"], [1.0, \"#f0f921\"]], \"type\": \"surface\"}], \"table\": [{\"cells\": {\"fill\": {\"color\": \"#EBF0F8\"}, \"line\": {\"color\": \"white\"}}, \"header\": {\"fill\": {\"color\": \"#C8D4E3\"}, \"line\": {\"color\": \"white\"}}, \"type\": \"table\"}]}, \"layout\": {\"annotationdefaults\": {\"arrowcolor\": \"#2a3f5f\", \"arrowhead\": 0, \"arrowwidth\": 1}, \"autotypenumbers\": \"strict\", \"coloraxis\": {\"colorbar\": {\"outlinewidth\": 0, \"ticks\": \"\"}}, \"colorscale\": {\"diverging\": [[0, \"#8e0152\"], [0.1, \"#c51b7d\"], [0.2, \"#de77ae\"], [0.3, \"#f1b6da\"], [0.4, \"#fde0ef\"], [0.5, \"#f7f7f7\"], [0.6, \"#e6f5d0\"], [0.7, \"#b8e186\"], [0.8, \"#7fbc41\"], [0.9, \"#4d9221\"], [1, \"#276419\"]], \"sequential\": [[0.0, \"#0d0887\"], [0.1111111111111111, \"#46039f\"], [0.2222222222222222, \"#7201a8\"], [0.3333333333333333, \"#9c179e\"], [0.4444444444444444, \"#bd3786\"], [0.5555555555555556, \"#d8576b\"], [0.6666666666666666, \"#ed7953\"], [0.7777777777777778, \"#fb9f3a\"], [0.8888888888888888, \"#fdca26\"], [1.0, \"#f0f921\"]], \"sequentialminus\": [[0.0, \"#0d0887\"], [0.1111111111111111, \"#46039f\"], [0.2222222222222222, \"#7201a8\"], [0.3333333333333333, \"#9c179e\"], [0.4444444444444444, \"#bd3786\"], [0.5555555555555556, \"#d8576b\"], [0.6666666666666666, \"#ed7953\"], [0.7777777777777778, \"#fb9f3a\"], [0.8888888888888888, \"#fdca26\"], [1.0, \"#f0f921\"]]}, \"colorway\": [\"#636efa\", \"#EF553B\", \"#00cc96\", \"#ab63fa\", \"#FFA15A\", \"#19d3f3\", \"#FF6692\", \"#B6E880\", \"#FF97FF\", \"#FECB52\"], \"font\": {\"color\": \"#2a3f5f\"}, \"geo\": {\"bgcolor\": \"white\", \"lakecolor\": \"white\", \"landcolor\": \"#E5ECF6\", \"showlakes\": true, \"showland\": true, \"subunitcolor\": \"white\"}, \"hoverlabel\": {\"align\": \"left\"}, \"hovermode\": \"closest\", \"mapbox\": {\"style\": \"light\"}, \"paper_bgcolor\": \"white\", \"plot_bgcolor\": \"#E5ECF6\", \"polar\": {\"angularaxis\": {\"gridcolor\": \"white\", \"linecolor\": \"white\", \"ticks\": \"\"}, \"bgcolor\": \"#E5ECF6\", \"radialaxis\": {\"gridcolor\": \"white\", \"linecolor\": \"white\", \"ticks\": \"\"}}, \"scene\": {\"xaxis\": {\"backgroundcolor\": \"#E5ECF6\", \"gridcolor\": \"white\", \"gridwidth\": 2, \"linecolor\": \"white\", \"showbackground\": true, \"ticks\": \"\", \"zerolinecolor\": \"white\"}, \"yaxis\": {\"backgroundcolor\": \"#E5ECF6\", \"gridcolor\": \"white\", \"gridwidth\": 2, \"linecolor\": \"white\", \"showbackground\": true, \"ticks\": \"\", \"zerolinecolor\": \"white\"}, \"zaxis\": {\"backgroundcolor\": \"#E5ECF6\", \"gridcolor\": \"white\", \"gridwidth\": 2, \"linecolor\": \"white\", \"showbackground\": true, \"ticks\": \"\", \"zerolinecolor\": \"white\"}}, \"shapedefaults\": {\"line\": {\"color\": \"#2a3f5f\"}}, \"ternary\": {\"aaxis\": {\"gridcolor\": \"white\", \"linecolor\": \"white\", \"ticks\": \"\"}, \"baxis\": {\"gridcolor\": \"white\", \"linecolor\": \"white\", \"ticks\": \"\"}, \"bgcolor\": \"#E5ECF6\", \"caxis\": {\"gridcolor\": \"white\", \"linecolor\": \"white\", \"ticks\": \"\"}}, \"title\": {\"x\": 0.05}, \"xaxis\": {\"automargin\": true, \"gridcolor\": \"white\", \"linecolor\": \"white\", \"ticks\": \"\", \"title\": {\"standoff\": 15}, \"zerolinecolor\": \"white\", \"zerolinewidth\": 2}, \"yaxis\": {\"automargin\": true, \"gridcolor\": \"white\", \"linecolor\": \"white\", \"ticks\": \"\", \"title\": {\"standoff\": 15}, \"zerolinecolor\": \"white\", \"zerolinewidth\": 2}}}, \"title\": {\"text\": \"Customer conversion over time\"}, \"xaxis\": {\"anchor\": \"y\", \"domain\": [0.0, 1.0], \"title\": {\"text\": \"converted_at_date\"}}, \"yaxis\": {\"anchor\": \"x\", \"domain\": [0.0, 1.0], \"title\": {\"text\": \"number_of_companies\"}}},                        {\"responsive\": true}                    ).then(function(){\n",
       "                            \n",
       "var gd = document.getElementById('2685d001-8465-440c-8f6c-32cc3e2357a5');\n",
       "var x = new MutationObserver(function (mutations, observer) {{\n",
       "        var display = window.getComputedStyle(gd).display;\n",
       "        if (!display || display === 'none') {{\n",
       "            console.log([gd, 'removed!']);\n",
       "            Plotly.purge(gd);\n",
       "            observer.disconnect();\n",
       "        }}\n",
       "}});\n",
       "\n",
       "// Listen for the removal of the full notebook cells\n",
       "var notebookContainer = gd.closest('#notebook-container');\n",
       "if (notebookContainer) {{\n",
       "    x.observe(notebookContainer, {childList: true});\n",
       "}}\n",
       "\n",
       "// Listen for the clearing of the current output cell\n",
       "var outputEl = gd.closest('.output');\n",
       "if (outputEl) {{\n",
       "    x.observe(outputEl, {childList: true});\n",
       "}}\n",
       "\n",
       "                        })                };                });            </script>        </div>"
      ]
     },
     "metadata": {},
     "output_type": "display_data"
    },
    {
     "data": {
      "application/vnd.plotly.v1+json": {
       "config": {
        "plotlyServerURL": "https://plot.ly"
       },
       "data": [
        {
         "hovertemplate": "purpose=none<br>converted_at_date=%{x}<br>number_of_companies=%{y}<extra></extra>",
         "legendgroup": "none",
         "line": {
          "color": "#636efa",
          "dash": "solid"
         },
         "mode": "lines",
         "name": "none",
         "orientation": "v",
         "showlegend": true,
         "type": "scatter",
         "x": [
          "2006-06-30T00:00:00+00:00",
          "2006-07-31T00:00:00+00:00",
          "2006-08-31T00:00:00+00:00",
          "2006-10-31T00:00:00+00:00",
          "2006-11-30T00:00:00+00:00",
          "2007-01-31T00:00:00+00:00",
          "2007-04-30T00:00:00+00:00",
          "2007-06-30T00:00:00+00:00",
          "2007-07-31T00:00:00+00:00",
          "2007-08-31T00:00:00+00:00",
          "2007-09-30T00:00:00+00:00",
          "2007-11-30T00:00:00+00:00",
          "2007-12-31T00:00:00+00:00",
          "2008-01-31T00:00:00+00:00",
          "2008-02-29T00:00:00+00:00",
          "2008-03-31T00:00:00+00:00",
          "2008-04-30T00:00:00+00:00",
          "2008-05-31T00:00:00+00:00",
          "2008-06-30T00:00:00+00:00",
          "2008-07-31T00:00:00+00:00",
          "2008-08-31T00:00:00+00:00",
          "2008-09-30T00:00:00+00:00",
          "2008-10-31T00:00:00+00:00",
          "2008-11-30T00:00:00+00:00",
          "2008-12-31T00:00:00+00:00",
          "2009-01-31T00:00:00+00:00",
          "2009-02-28T00:00:00+00:00",
          "2009-03-31T00:00:00+00:00",
          "2009-04-30T00:00:00+00:00",
          "2009-05-31T00:00:00+00:00",
          "2009-06-30T00:00:00+00:00",
          "2009-07-31T00:00:00+00:00",
          "2009-08-31T00:00:00+00:00",
          "2009-09-30T00:00:00+00:00",
          "2009-10-31T00:00:00+00:00",
          "2009-11-30T00:00:00+00:00",
          "2009-12-31T00:00:00+00:00",
          "2010-01-31T00:00:00+00:00",
          "2010-02-28T00:00:00+00:00",
          "2010-03-31T00:00:00+00:00",
          "2010-04-30T00:00:00+00:00",
          "2010-05-31T00:00:00+00:00",
          "2010-06-30T00:00:00+00:00",
          "2010-07-31T00:00:00+00:00",
          "2010-08-31T00:00:00+00:00",
          "2010-09-30T00:00:00+00:00",
          "2010-10-31T00:00:00+00:00",
          "2010-11-30T00:00:00+00:00",
          "2010-12-31T00:00:00+00:00",
          "2011-01-31T00:00:00+00:00",
          "2011-02-28T00:00:00+00:00",
          "2011-03-31T00:00:00+00:00",
          "2011-04-30T00:00:00+00:00",
          "2011-05-31T00:00:00+00:00",
          "2011-06-30T00:00:00+00:00",
          "2011-07-31T00:00:00+00:00",
          "2011-08-31T00:00:00+00:00",
          "2011-09-30T00:00:00+00:00",
          "2011-10-31T00:00:00+00:00",
          "2011-11-30T00:00:00+00:00",
          "2011-12-31T00:00:00+00:00",
          "2012-01-31T00:00:00+00:00",
          "2012-02-29T00:00:00+00:00",
          "2012-03-31T00:00:00+00:00",
          "2012-04-30T00:00:00+00:00",
          "2012-05-31T00:00:00+00:00",
          "2012-06-30T00:00:00+00:00",
          "2012-07-31T00:00:00+00:00",
          "2012-08-31T00:00:00+00:00",
          "2012-09-30T00:00:00+00:00",
          "2012-10-31T00:00:00+00:00",
          "2012-11-30T00:00:00+00:00",
          "2012-12-31T00:00:00+00:00",
          "2013-01-31T00:00:00+00:00",
          "2013-02-28T00:00:00+00:00",
          "2013-03-31T00:00:00+00:00",
          "2013-04-30T00:00:00+00:00",
          "2013-05-31T00:00:00+00:00",
          "2013-06-30T00:00:00+00:00",
          "2013-07-31T00:00:00+00:00",
          "2013-08-31T00:00:00+00:00",
          "2013-09-30T00:00:00+00:00",
          "2013-10-31T00:00:00+00:00",
          "2013-11-30T00:00:00+00:00",
          "2013-12-31T00:00:00+00:00",
          "2014-01-31T00:00:00+00:00",
          "2014-02-28T00:00:00+00:00",
          "2014-03-31T00:00:00+00:00",
          "2014-04-30T00:00:00+00:00",
          "2014-05-31T00:00:00+00:00",
          "2014-06-30T00:00:00+00:00",
          "2014-07-31T00:00:00+00:00",
          "2014-08-31T00:00:00+00:00",
          "2014-09-30T00:00:00+00:00",
          "2014-10-31T00:00:00+00:00",
          "2014-11-30T00:00:00+00:00",
          "2014-12-31T00:00:00+00:00",
          "2015-01-31T00:00:00+00:00",
          "2015-02-28T00:00:00+00:00",
          "2015-03-31T00:00:00+00:00",
          "2015-04-30T00:00:00+00:00",
          "2015-05-31T00:00:00+00:00",
          "2015-06-30T00:00:00+00:00",
          "2015-07-31T00:00:00+00:00",
          "2015-08-31T00:00:00+00:00",
          "2015-09-30T00:00:00+00:00",
          "2015-10-31T00:00:00+00:00",
          "2015-11-30T00:00:00+00:00",
          "2015-12-31T00:00:00+00:00",
          "2016-01-31T00:00:00+00:00",
          "2016-02-29T00:00:00+00:00",
          "2016-03-31T00:00:00+00:00",
          "2016-04-30T00:00:00+00:00",
          "2016-05-31T00:00:00+00:00",
          "2016-06-30T00:00:00+00:00",
          "2016-07-31T00:00:00+00:00",
          "2016-08-31T00:00:00+00:00",
          "2016-09-30T00:00:00+00:00",
          "2016-10-31T00:00:00+00:00",
          "2016-11-30T00:00:00+00:00",
          "2016-12-31T00:00:00+00:00",
          "2017-01-31T00:00:00+00:00",
          "2017-02-28T00:00:00+00:00",
          "2017-03-31T00:00:00+00:00",
          "2017-04-30T00:00:00+00:00",
          "2017-05-31T00:00:00+00:00",
          "2017-06-30T00:00:00+00:00",
          "2017-07-31T00:00:00+00:00",
          "2017-08-31T00:00:00+00:00",
          "2017-09-30T00:00:00+00:00",
          "2017-10-31T00:00:00+00:00",
          "2017-11-30T00:00:00+00:00",
          "2017-12-31T00:00:00+00:00",
          "2018-01-31T00:00:00+00:00",
          "2018-02-28T00:00:00+00:00",
          "2018-03-31T00:00:00+00:00",
          "2018-04-30T00:00:00+00:00",
          "2018-05-31T00:00:00+00:00",
          "2018-06-30T00:00:00+00:00",
          "2018-07-31T00:00:00+00:00",
          "2018-08-31T00:00:00+00:00",
          "2018-09-30T00:00:00+00:00",
          "2018-10-31T00:00:00+00:00",
          "2018-11-30T00:00:00+00:00",
          "2018-12-31T00:00:00+00:00",
          "2019-01-31T00:00:00+00:00",
          "2019-02-28T00:00:00+00:00",
          "2019-03-31T00:00:00+00:00",
          "2019-04-30T00:00:00+00:00",
          "2019-05-31T00:00:00+00:00",
          "2019-06-30T00:00:00+00:00",
          "2019-07-31T00:00:00+00:00",
          "2019-08-31T00:00:00+00:00",
          "2019-09-30T00:00:00+00:00",
          "2019-10-31T00:00:00+00:00",
          "2019-11-30T00:00:00+00:00",
          "2019-12-31T00:00:00+00:00",
          "2020-01-31T00:00:00+00:00",
          "2020-02-29T00:00:00+00:00",
          "2020-03-31T00:00:00+00:00",
          "2020-04-30T00:00:00+00:00",
          "2020-05-31T00:00:00+00:00",
          "2020-06-30T00:00:00+00:00",
          "2020-07-31T00:00:00+00:00",
          "2020-08-31T00:00:00+00:00",
          "2020-09-30T00:00:00+00:00",
          "2020-10-31T00:00:00+00:00",
          "2020-11-30T00:00:00+00:00",
          "2021-01-31T00:00:00+00:00",
          "2021-02-28T00:00:00+00:00",
          "2021-03-31T00:00:00+00:00",
          "2021-04-30T00:00:00+00:00",
          "2021-05-31T00:00:00+00:00",
          "2021-06-30T00:00:00+00:00",
          "2021-07-31T00:00:00+00:00",
          "2021-08-31T00:00:00+00:00",
          "2021-09-30T00:00:00+00:00",
          "2021-11-30T00:00:00+00:00",
          "2021-12-31T00:00:00+00:00",
          "2022-01-31T00:00:00+00:00",
          "2022-02-28T00:00:00+00:00",
          "2022-03-31T00:00:00+00:00",
          "2022-04-30T00:00:00+00:00",
          "2022-05-31T00:00:00+00:00",
          "2022-06-30T00:00:00+00:00",
          "2022-07-31T00:00:00+00:00"
         ],
         "xaxis": "x",
         "y": [
          1,
          2,
          3,
          1,
          1,
          5,
          1,
          1,
          1,
          2,
          1,
          7,
          1,
          3,
          8,
          2,
          2,
          4,
          10,
          4,
          7,
          4,
          4,
          5,
          3,
          5,
          6,
          10,
          11,
          11,
          6,
          9,
          7,
          13,
          16,
          6,
          9,
          20,
          14,
          24,
          22,
          14,
          21,
          13,
          20,
          29,
          18,
          20,
          28,
          32,
          43,
          43,
          36,
          34,
          40,
          36,
          35,
          35,
          31,
          34,
          40,
          40,
          51,
          51,
          32,
          50,
          56,
          51,
          36,
          42,
          49,
          59,
          46,
          57,
          59,
          59,
          53,
          59,
          44,
          62,
          70,
          80,
          85,
          60,
          64,
          84,
          93,
          84,
          90,
          65,
          73,
          70,
          63,
          73,
          81,
          64,
          73,
          77,
          115,
          89,
          90,
          101,
          81,
          82,
          88,
          92,
          92,
          97,
          87,
          92,
          130,
          120,
          93,
          106,
          100,
          82,
          84,
          93,
          88,
          82,
          95,
          96,
          101,
          106,
          80,
          89,
          86,
          100,
          111,
          94,
          108,
          117,
          100,
          116,
          72,
          17,
          13,
          10,
          10,
          10,
          4,
          7,
          5,
          16,
          6,
          8,
          7,
          11,
          8,
          4,
          4,
          7,
          5,
          4,
          5,
          4,
          1,
          9,
          3,
          8,
          1,
          9,
          4,
          2,
          1,
          1,
          4,
          4,
          5,
          2,
          3,
          3,
          5,
          2,
          3,
          3,
          3,
          4,
          4,
          3,
          3,
          2,
          4,
          4,
          3,
          1
         ],
         "yaxis": "y"
        },
        {
         "hovertemplate": "purpose=personal<br>converted_at_date=%{x}<br>number_of_companies=%{y}<extra></extra>",
         "legendgroup": "personal",
         "line": {
          "color": "#EF553B",
          "dash": "solid"
         },
         "mode": "lines",
         "name": "personal",
         "orientation": "v",
         "showlegend": true,
         "type": "scatter",
         "x": [
          "2017-10-31T00:00:00+00:00",
          "2018-01-31T00:00:00+00:00",
          "2018-02-28T00:00:00+00:00",
          "2018-03-31T00:00:00+00:00",
          "2018-04-30T00:00:00+00:00",
          "2018-05-31T00:00:00+00:00",
          "2018-06-30T00:00:00+00:00",
          "2018-07-31T00:00:00+00:00",
          "2018-08-31T00:00:00+00:00",
          "2018-09-30T00:00:00+00:00",
          "2018-10-31T00:00:00+00:00",
          "2018-11-30T00:00:00+00:00",
          "2018-12-31T00:00:00+00:00",
          "2019-01-31T00:00:00+00:00",
          "2019-02-28T00:00:00+00:00",
          "2019-03-31T00:00:00+00:00",
          "2019-04-30T00:00:00+00:00",
          "2019-05-31T00:00:00+00:00",
          "2019-06-30T00:00:00+00:00",
          "2019-07-31T00:00:00+00:00",
          "2019-08-31T00:00:00+00:00",
          "2019-09-30T00:00:00+00:00",
          "2019-10-31T00:00:00+00:00",
          "2019-11-30T00:00:00+00:00",
          "2019-12-31T00:00:00+00:00",
          "2020-01-31T00:00:00+00:00",
          "2020-02-29T00:00:00+00:00",
          "2020-03-31T00:00:00+00:00",
          "2020-04-30T00:00:00+00:00",
          "2020-05-31T00:00:00+00:00",
          "2020-06-30T00:00:00+00:00",
          "2020-07-31T00:00:00+00:00",
          "2020-08-31T00:00:00+00:00",
          "2020-09-30T00:00:00+00:00",
          "2020-10-31T00:00:00+00:00",
          "2020-11-30T00:00:00+00:00",
          "2020-12-31T00:00:00+00:00",
          "2021-01-31T00:00:00+00:00",
          "2021-02-28T00:00:00+00:00",
          "2021-03-31T00:00:00+00:00",
          "2021-04-30T00:00:00+00:00",
          "2021-05-31T00:00:00+00:00",
          "2021-06-30T00:00:00+00:00",
          "2021-07-31T00:00:00+00:00",
          "2021-08-31T00:00:00+00:00",
          "2021-09-30T00:00:00+00:00",
          "2021-10-31T00:00:00+00:00",
          "2021-11-30T00:00:00+00:00",
          "2021-12-31T00:00:00+00:00",
          "2022-01-31T00:00:00+00:00",
          "2022-02-28T00:00:00+00:00",
          "2022-03-31T00:00:00+00:00",
          "2022-04-30T00:00:00+00:00",
          "2022-05-31T00:00:00+00:00",
          "2022-06-30T00:00:00+00:00",
          "2022-07-31T00:00:00+00:00"
         ],
         "xaxis": "x",
         "y": [
          1,
          4,
          40,
          64,
          53,
          39,
          59,
          40,
          69,
          52,
          62,
          56,
          43,
          42,
          67,
          62,
          61,
          53,
          56,
          58,
          46,
          62,
          68,
          79,
          77,
          71,
          91,
          86,
          69,
          56,
          72,
          88,
          72,
          78,
          84,
          88,
          71,
          96,
          107,
          131,
          92,
          86,
          99,
          101,
          99,
          89,
          94,
          120,
          88,
          116,
          143,
          170,
          129,
          155,
          153,
          123
         ],
         "yaxis": "y"
        },
        {
         "hovertemplate": "purpose=team<br>converted_at_date=%{x}<br>number_of_companies=%{y}<extra></extra>",
         "legendgroup": "team",
         "line": {
          "color": "#00cc96",
          "dash": "solid"
         },
         "mode": "lines",
         "name": "team",
         "orientation": "v",
         "showlegend": true,
         "type": "scatter",
         "x": [
          "2018-01-31T00:00:00+00:00",
          "2018-02-28T00:00:00+00:00",
          "2018-03-31T00:00:00+00:00",
          "2018-04-30T00:00:00+00:00",
          "2018-05-31T00:00:00+00:00",
          "2018-06-30T00:00:00+00:00",
          "2018-07-31T00:00:00+00:00",
          "2018-08-31T00:00:00+00:00",
          "2018-09-30T00:00:00+00:00",
          "2018-10-31T00:00:00+00:00",
          "2018-11-30T00:00:00+00:00",
          "2018-12-31T00:00:00+00:00",
          "2019-01-31T00:00:00+00:00",
          "2019-02-28T00:00:00+00:00",
          "2019-03-31T00:00:00+00:00",
          "2019-04-30T00:00:00+00:00",
          "2019-05-31T00:00:00+00:00",
          "2019-06-30T00:00:00+00:00",
          "2019-07-31T00:00:00+00:00",
          "2019-08-31T00:00:00+00:00",
          "2019-09-30T00:00:00+00:00",
          "2019-10-31T00:00:00+00:00",
          "2019-11-30T00:00:00+00:00",
          "2019-12-31T00:00:00+00:00",
          "2020-01-31T00:00:00+00:00",
          "2020-02-29T00:00:00+00:00",
          "2020-03-31T00:00:00+00:00",
          "2020-04-30T00:00:00+00:00",
          "2020-05-31T00:00:00+00:00",
          "2020-06-30T00:00:00+00:00",
          "2020-07-31T00:00:00+00:00",
          "2020-08-31T00:00:00+00:00",
          "2020-09-30T00:00:00+00:00",
          "2020-10-31T00:00:00+00:00",
          "2020-11-30T00:00:00+00:00",
          "2020-12-31T00:00:00+00:00",
          "2021-01-31T00:00:00+00:00",
          "2021-02-28T00:00:00+00:00",
          "2021-03-31T00:00:00+00:00",
          "2021-04-30T00:00:00+00:00",
          "2021-05-31T00:00:00+00:00",
          "2021-06-30T00:00:00+00:00",
          "2021-07-31T00:00:00+00:00",
          "2021-08-31T00:00:00+00:00",
          "2021-09-30T00:00:00+00:00",
          "2021-10-31T00:00:00+00:00",
          "2021-11-30T00:00:00+00:00",
          "2021-12-31T00:00:00+00:00",
          "2022-01-31T00:00:00+00:00",
          "2022-02-28T00:00:00+00:00",
          "2022-03-31T00:00:00+00:00",
          "2022-04-30T00:00:00+00:00",
          "2022-05-31T00:00:00+00:00",
          "2022-06-30T00:00:00+00:00",
          "2022-07-31T00:00:00+00:00"
         ],
         "xaxis": "x",
         "y": [
          4,
          50,
          66,
          50,
          52,
          63,
          52,
          57,
          47,
          56,
          55,
          56,
          82,
          80,
          60,
          64,
          59,
          58,
          53,
          59,
          67,
          62,
          51,
          55,
          64,
          81,
          74,
          71,
          44,
          60,
          58,
          49,
          64,
          62,
          64,
          40,
          79,
          82,
          85,
          66,
          63,
          65,
          73,
          72,
          70,
          68,
          73,
          76,
          91,
          93,
          87,
          91,
          82,
          117,
          73
         ],
         "yaxis": "y"
        }
       ],
       "layout": {
        "legend": {
         "title": {
          "text": "purpose"
         },
         "tracegroupgap": 0
        },
        "template": {
         "data": {
          "bar": [
           {
            "error_x": {
             "color": "#2a3f5f"
            },
            "error_y": {
             "color": "#2a3f5f"
            },
            "marker": {
             "line": {
              "color": "#E5ECF6",
              "width": 0.5
             }
            },
            "type": "bar"
           }
          ],
          "barpolar": [
           {
            "marker": {
             "line": {
              "color": "#E5ECF6",
              "width": 0.5
             }
            },
            "type": "barpolar"
           }
          ],
          "carpet": [
           {
            "aaxis": {
             "endlinecolor": "#2a3f5f",
             "gridcolor": "white",
             "linecolor": "white",
             "minorgridcolor": "white",
             "startlinecolor": "#2a3f5f"
            },
            "baxis": {
             "endlinecolor": "#2a3f5f",
             "gridcolor": "white",
             "linecolor": "white",
             "minorgridcolor": "white",
             "startlinecolor": "#2a3f5f"
            },
            "type": "carpet"
           }
          ],
          "choropleth": [
           {
            "colorbar": {
             "outlinewidth": 0,
             "ticks": ""
            },
            "type": "choropleth"
           }
          ],
          "contour": [
           {
            "colorbar": {
             "outlinewidth": 0,
             "ticks": ""
            },
            "colorscale": [
             [
              0,
              "#0d0887"
             ],
             [
              0.1111111111111111,
              "#46039f"
             ],
             [
              0.2222222222222222,
              "#7201a8"
             ],
             [
              0.3333333333333333,
              "#9c179e"
             ],
             [
              0.4444444444444444,
              "#bd3786"
             ],
             [
              0.5555555555555556,
              "#d8576b"
             ],
             [
              0.6666666666666666,
              "#ed7953"
             ],
             [
              0.7777777777777778,
              "#fb9f3a"
             ],
             [
              0.8888888888888888,
              "#fdca26"
             ],
             [
              1,
              "#f0f921"
             ]
            ],
            "type": "contour"
           }
          ],
          "contourcarpet": [
           {
            "colorbar": {
             "outlinewidth": 0,
             "ticks": ""
            },
            "type": "contourcarpet"
           }
          ],
          "heatmap": [
           {
            "colorbar": {
             "outlinewidth": 0,
             "ticks": ""
            },
            "colorscale": [
             [
              0,
              "#0d0887"
             ],
             [
              0.1111111111111111,
              "#46039f"
             ],
             [
              0.2222222222222222,
              "#7201a8"
             ],
             [
              0.3333333333333333,
              "#9c179e"
             ],
             [
              0.4444444444444444,
              "#bd3786"
             ],
             [
              0.5555555555555556,
              "#d8576b"
             ],
             [
              0.6666666666666666,
              "#ed7953"
             ],
             [
              0.7777777777777778,
              "#fb9f3a"
             ],
             [
              0.8888888888888888,
              "#fdca26"
             ],
             [
              1,
              "#f0f921"
             ]
            ],
            "type": "heatmap"
           }
          ],
          "heatmapgl": [
           {
            "colorbar": {
             "outlinewidth": 0,
             "ticks": ""
            },
            "colorscale": [
             [
              0,
              "#0d0887"
             ],
             [
              0.1111111111111111,
              "#46039f"
             ],
             [
              0.2222222222222222,
              "#7201a8"
             ],
             [
              0.3333333333333333,
              "#9c179e"
             ],
             [
              0.4444444444444444,
              "#bd3786"
             ],
             [
              0.5555555555555556,
              "#d8576b"
             ],
             [
              0.6666666666666666,
              "#ed7953"
             ],
             [
              0.7777777777777778,
              "#fb9f3a"
             ],
             [
              0.8888888888888888,
              "#fdca26"
             ],
             [
              1,
              "#f0f921"
             ]
            ],
            "type": "heatmapgl"
           }
          ],
          "histogram": [
           {
            "marker": {
             "colorbar": {
              "outlinewidth": 0,
              "ticks": ""
             }
            },
            "type": "histogram"
           }
          ],
          "histogram2d": [
           {
            "colorbar": {
             "outlinewidth": 0,
             "ticks": ""
            },
            "colorscale": [
             [
              0,
              "#0d0887"
             ],
             [
              0.1111111111111111,
              "#46039f"
             ],
             [
              0.2222222222222222,
              "#7201a8"
             ],
             [
              0.3333333333333333,
              "#9c179e"
             ],
             [
              0.4444444444444444,
              "#bd3786"
             ],
             [
              0.5555555555555556,
              "#d8576b"
             ],
             [
              0.6666666666666666,
              "#ed7953"
             ],
             [
              0.7777777777777778,
              "#fb9f3a"
             ],
             [
              0.8888888888888888,
              "#fdca26"
             ],
             [
              1,
              "#f0f921"
             ]
            ],
            "type": "histogram2d"
           }
          ],
          "histogram2dcontour": [
           {
            "colorbar": {
             "outlinewidth": 0,
             "ticks": ""
            },
            "colorscale": [
             [
              0,
              "#0d0887"
             ],
             [
              0.1111111111111111,
              "#46039f"
             ],
             [
              0.2222222222222222,
              "#7201a8"
             ],
             [
              0.3333333333333333,
              "#9c179e"
             ],
             [
              0.4444444444444444,
              "#bd3786"
             ],
             [
              0.5555555555555556,
              "#d8576b"
             ],
             [
              0.6666666666666666,
              "#ed7953"
             ],
             [
              0.7777777777777778,
              "#fb9f3a"
             ],
             [
              0.8888888888888888,
              "#fdca26"
             ],
             [
              1,
              "#f0f921"
             ]
            ],
            "type": "histogram2dcontour"
           }
          ],
          "mesh3d": [
           {
            "colorbar": {
             "outlinewidth": 0,
             "ticks": ""
            },
            "type": "mesh3d"
           }
          ],
          "parcoords": [
           {
            "line": {
             "colorbar": {
              "outlinewidth": 0,
              "ticks": ""
             }
            },
            "type": "parcoords"
           }
          ],
          "pie": [
           {
            "automargin": true,
            "type": "pie"
           }
          ],
          "scatter": [
           {
            "marker": {
             "colorbar": {
              "outlinewidth": 0,
              "ticks": ""
             }
            },
            "type": "scatter"
           }
          ],
          "scatter3d": [
           {
            "line": {
             "colorbar": {
              "outlinewidth": 0,
              "ticks": ""
             }
            },
            "marker": {
             "colorbar": {
              "outlinewidth": 0,
              "ticks": ""
             }
            },
            "type": "scatter3d"
           }
          ],
          "scattercarpet": [
           {
            "marker": {
             "colorbar": {
              "outlinewidth": 0,
              "ticks": ""
             }
            },
            "type": "scattercarpet"
           }
          ],
          "scattergeo": [
           {
            "marker": {
             "colorbar": {
              "outlinewidth": 0,
              "ticks": ""
             }
            },
            "type": "scattergeo"
           }
          ],
          "scattergl": [
           {
            "marker": {
             "colorbar": {
              "outlinewidth": 0,
              "ticks": ""
             }
            },
            "type": "scattergl"
           }
          ],
          "scattermapbox": [
           {
            "marker": {
             "colorbar": {
              "outlinewidth": 0,
              "ticks": ""
             }
            },
            "type": "scattermapbox"
           }
          ],
          "scatterpolar": [
           {
            "marker": {
             "colorbar": {
              "outlinewidth": 0,
              "ticks": ""
             }
            },
            "type": "scatterpolar"
           }
          ],
          "scatterpolargl": [
           {
            "marker": {
             "colorbar": {
              "outlinewidth": 0,
              "ticks": ""
             }
            },
            "type": "scatterpolargl"
           }
          ],
          "scatterternary": [
           {
            "marker": {
             "colorbar": {
              "outlinewidth": 0,
              "ticks": ""
             }
            },
            "type": "scatterternary"
           }
          ],
          "surface": [
           {
            "colorbar": {
             "outlinewidth": 0,
             "ticks": ""
            },
            "colorscale": [
             [
              0,
              "#0d0887"
             ],
             [
              0.1111111111111111,
              "#46039f"
             ],
             [
              0.2222222222222222,
              "#7201a8"
             ],
             [
              0.3333333333333333,
              "#9c179e"
             ],
             [
              0.4444444444444444,
              "#bd3786"
             ],
             [
              0.5555555555555556,
              "#d8576b"
             ],
             [
              0.6666666666666666,
              "#ed7953"
             ],
             [
              0.7777777777777778,
              "#fb9f3a"
             ],
             [
              0.8888888888888888,
              "#fdca26"
             ],
             [
              1,
              "#f0f921"
             ]
            ],
            "type": "surface"
           }
          ],
          "table": [
           {
            "cells": {
             "fill": {
              "color": "#EBF0F8"
             },
             "line": {
              "color": "white"
             }
            },
            "header": {
             "fill": {
              "color": "#C8D4E3"
             },
             "line": {
              "color": "white"
             }
            },
            "type": "table"
           }
          ]
         },
         "layout": {
          "annotationdefaults": {
           "arrowcolor": "#2a3f5f",
           "arrowhead": 0,
           "arrowwidth": 1
          },
          "autotypenumbers": "strict",
          "coloraxis": {
           "colorbar": {
            "outlinewidth": 0,
            "ticks": ""
           }
          },
          "colorscale": {
           "diverging": [
            [
             0,
             "#8e0152"
            ],
            [
             0.1,
             "#c51b7d"
            ],
            [
             0.2,
             "#de77ae"
            ],
            [
             0.3,
             "#f1b6da"
            ],
            [
             0.4,
             "#fde0ef"
            ],
            [
             0.5,
             "#f7f7f7"
            ],
            [
             0.6,
             "#e6f5d0"
            ],
            [
             0.7,
             "#b8e186"
            ],
            [
             0.8,
             "#7fbc41"
            ],
            [
             0.9,
             "#4d9221"
            ],
            [
             1,
             "#276419"
            ]
           ],
           "sequential": [
            [
             0,
             "#0d0887"
            ],
            [
             0.1111111111111111,
             "#46039f"
            ],
            [
             0.2222222222222222,
             "#7201a8"
            ],
            [
             0.3333333333333333,
             "#9c179e"
            ],
            [
             0.4444444444444444,
             "#bd3786"
            ],
            [
             0.5555555555555556,
             "#d8576b"
            ],
            [
             0.6666666666666666,
             "#ed7953"
            ],
            [
             0.7777777777777778,
             "#fb9f3a"
            ],
            [
             0.8888888888888888,
             "#fdca26"
            ],
            [
             1,
             "#f0f921"
            ]
           ],
           "sequentialminus": [
            [
             0,
             "#0d0887"
            ],
            [
             0.1111111111111111,
             "#46039f"
            ],
            [
             0.2222222222222222,
             "#7201a8"
            ],
            [
             0.3333333333333333,
             "#9c179e"
            ],
            [
             0.4444444444444444,
             "#bd3786"
            ],
            [
             0.5555555555555556,
             "#d8576b"
            ],
            [
             0.6666666666666666,
             "#ed7953"
            ],
            [
             0.7777777777777778,
             "#fb9f3a"
            ],
            [
             0.8888888888888888,
             "#fdca26"
            ],
            [
             1,
             "#f0f921"
            ]
           ]
          },
          "colorway": [
           "#636efa",
           "#EF553B",
           "#00cc96",
           "#ab63fa",
           "#FFA15A",
           "#19d3f3",
           "#FF6692",
           "#B6E880",
           "#FF97FF",
           "#FECB52"
          ],
          "font": {
           "color": "#2a3f5f"
          },
          "geo": {
           "bgcolor": "white",
           "lakecolor": "white",
           "landcolor": "#E5ECF6",
           "showlakes": true,
           "showland": true,
           "subunitcolor": "white"
          },
          "hoverlabel": {
           "align": "left"
          },
          "hovermode": "closest",
          "mapbox": {
           "style": "light"
          },
          "paper_bgcolor": "white",
          "plot_bgcolor": "#E5ECF6",
          "polar": {
           "angularaxis": {
            "gridcolor": "white",
            "linecolor": "white",
            "ticks": ""
           },
           "bgcolor": "#E5ECF6",
           "radialaxis": {
            "gridcolor": "white",
            "linecolor": "white",
            "ticks": ""
           }
          },
          "scene": {
           "xaxis": {
            "backgroundcolor": "#E5ECF6",
            "gridcolor": "white",
            "gridwidth": 2,
            "linecolor": "white",
            "showbackground": true,
            "ticks": "",
            "zerolinecolor": "white"
           },
           "yaxis": {
            "backgroundcolor": "#E5ECF6",
            "gridcolor": "white",
            "gridwidth": 2,
            "linecolor": "white",
            "showbackground": true,
            "ticks": "",
            "zerolinecolor": "white"
           },
           "zaxis": {
            "backgroundcolor": "#E5ECF6",
            "gridcolor": "white",
            "gridwidth": 2,
            "linecolor": "white",
            "showbackground": true,
            "ticks": "",
            "zerolinecolor": "white"
           }
          },
          "shapedefaults": {
           "line": {
            "color": "#2a3f5f"
           }
          },
          "ternary": {
           "aaxis": {
            "gridcolor": "white",
            "linecolor": "white",
            "ticks": ""
           },
           "baxis": {
            "gridcolor": "white",
            "linecolor": "white",
            "ticks": ""
           },
           "bgcolor": "#E5ECF6",
           "caxis": {
            "gridcolor": "white",
            "linecolor": "white",
            "ticks": ""
           }
          },
          "title": {
           "x": 0.05
          },
          "xaxis": {
           "automargin": true,
           "gridcolor": "white",
           "linecolor": "white",
           "ticks": "",
           "title": {
            "standoff": 15
           },
           "zerolinecolor": "white",
           "zerolinewidth": 2
          },
          "yaxis": {
           "automargin": true,
           "gridcolor": "white",
           "linecolor": "white",
           "ticks": "",
           "title": {
            "standoff": 15
           },
           "zerolinecolor": "white",
           "zerolinewidth": 2
          }
         }
        },
        "title": {
         "text": "Customers conversion over time (by purpose)"
        },
        "xaxis": {
         "anchor": "y",
         "domain": [
          0,
          1
         ],
         "title": {
          "text": "converted_at_date"
         }
        },
        "yaxis": {
         "anchor": "x",
         "domain": [
          0,
          1
         ],
         "title": {
          "text": "number_of_companies"
         }
        }
       }
      },
      "text/html": [
       "<div>                            <div id=\"66fc972c-c252-42f4-b9f7-5d6f24e2c4ff\" class=\"plotly-graph-div\" style=\"height:525px; width:100%;\"></div>            <script type=\"text/javascript\">                require([\"plotly\"], function(Plotly) {                    window.PLOTLYENV=window.PLOTLYENV || {};                                    if (document.getElementById(\"66fc972c-c252-42f4-b9f7-5d6f24e2c4ff\")) {                    Plotly.newPlot(                        \"66fc972c-c252-42f4-b9f7-5d6f24e2c4ff\",                        [{\"hovertemplate\": \"purpose=none<br>converted_at_date=%{x}<br>number_of_companies=%{y}<extra></extra>\", \"legendgroup\": \"none\", \"line\": {\"color\": \"#636efa\", \"dash\": \"solid\"}, \"mode\": \"lines\", \"name\": \"none\", \"orientation\": \"v\", \"showlegend\": true, \"type\": \"scatter\", \"x\": [\"2006-06-30T00:00:00+00:00\", \"2006-07-31T00:00:00+00:00\", \"2006-08-31T00:00:00+00:00\", \"2006-10-31T00:00:00+00:00\", \"2006-11-30T00:00:00+00:00\", \"2007-01-31T00:00:00+00:00\", \"2007-04-30T00:00:00+00:00\", \"2007-06-30T00:00:00+00:00\", \"2007-07-31T00:00:00+00:00\", \"2007-08-31T00:00:00+00:00\", \"2007-09-30T00:00:00+00:00\", \"2007-11-30T00:00:00+00:00\", \"2007-12-31T00:00:00+00:00\", \"2008-01-31T00:00:00+00:00\", \"2008-02-29T00:00:00+00:00\", \"2008-03-31T00:00:00+00:00\", \"2008-04-30T00:00:00+00:00\", \"2008-05-31T00:00:00+00:00\", \"2008-06-30T00:00:00+00:00\", \"2008-07-31T00:00:00+00:00\", \"2008-08-31T00:00:00+00:00\", \"2008-09-30T00:00:00+00:00\", \"2008-10-31T00:00:00+00:00\", \"2008-11-30T00:00:00+00:00\", \"2008-12-31T00:00:00+00:00\", \"2009-01-31T00:00:00+00:00\", \"2009-02-28T00:00:00+00:00\", \"2009-03-31T00:00:00+00:00\", \"2009-04-30T00:00:00+00:00\", \"2009-05-31T00:00:00+00:00\", \"2009-06-30T00:00:00+00:00\", \"2009-07-31T00:00:00+00:00\", \"2009-08-31T00:00:00+00:00\", \"2009-09-30T00:00:00+00:00\", \"2009-10-31T00:00:00+00:00\", \"2009-11-30T00:00:00+00:00\", \"2009-12-31T00:00:00+00:00\", \"2010-01-31T00:00:00+00:00\", \"2010-02-28T00:00:00+00:00\", \"2010-03-31T00:00:00+00:00\", \"2010-04-30T00:00:00+00:00\", \"2010-05-31T00:00:00+00:00\", \"2010-06-30T00:00:00+00:00\", \"2010-07-31T00:00:00+00:00\", \"2010-08-31T00:00:00+00:00\", \"2010-09-30T00:00:00+00:00\", \"2010-10-31T00:00:00+00:00\", \"2010-11-30T00:00:00+00:00\", \"2010-12-31T00:00:00+00:00\", \"2011-01-31T00:00:00+00:00\", \"2011-02-28T00:00:00+00:00\", \"2011-03-31T00:00:00+00:00\", \"2011-04-30T00:00:00+00:00\", \"2011-05-31T00:00:00+00:00\", \"2011-06-30T00:00:00+00:00\", \"2011-07-31T00:00:00+00:00\", \"2011-08-31T00:00:00+00:00\", \"2011-09-30T00:00:00+00:00\", \"2011-10-31T00:00:00+00:00\", \"2011-11-30T00:00:00+00:00\", \"2011-12-31T00:00:00+00:00\", \"2012-01-31T00:00:00+00:00\", \"2012-02-29T00:00:00+00:00\", \"2012-03-31T00:00:00+00:00\", \"2012-04-30T00:00:00+00:00\", \"2012-05-31T00:00:00+00:00\", \"2012-06-30T00:00:00+00:00\", \"2012-07-31T00:00:00+00:00\", \"2012-08-31T00:00:00+00:00\", \"2012-09-30T00:00:00+00:00\", \"2012-10-31T00:00:00+00:00\", \"2012-11-30T00:00:00+00:00\", \"2012-12-31T00:00:00+00:00\", \"2013-01-31T00:00:00+00:00\", \"2013-02-28T00:00:00+00:00\", \"2013-03-31T00:00:00+00:00\", \"2013-04-30T00:00:00+00:00\", \"2013-05-31T00:00:00+00:00\", \"2013-06-30T00:00:00+00:00\", \"2013-07-31T00:00:00+00:00\", \"2013-08-31T00:00:00+00:00\", \"2013-09-30T00:00:00+00:00\", \"2013-10-31T00:00:00+00:00\", \"2013-11-30T00:00:00+00:00\", \"2013-12-31T00:00:00+00:00\", \"2014-01-31T00:00:00+00:00\", \"2014-02-28T00:00:00+00:00\", \"2014-03-31T00:00:00+00:00\", \"2014-04-30T00:00:00+00:00\", \"2014-05-31T00:00:00+00:00\", \"2014-06-30T00:00:00+00:00\", \"2014-07-31T00:00:00+00:00\", \"2014-08-31T00:00:00+00:00\", \"2014-09-30T00:00:00+00:00\", \"2014-10-31T00:00:00+00:00\", \"2014-11-30T00:00:00+00:00\", \"2014-12-31T00:00:00+00:00\", \"2015-01-31T00:00:00+00:00\", \"2015-02-28T00:00:00+00:00\", \"2015-03-31T00:00:00+00:00\", \"2015-04-30T00:00:00+00:00\", \"2015-05-31T00:00:00+00:00\", \"2015-06-30T00:00:00+00:00\", \"2015-07-31T00:00:00+00:00\", \"2015-08-31T00:00:00+00:00\", \"2015-09-30T00:00:00+00:00\", \"2015-10-31T00:00:00+00:00\", \"2015-11-30T00:00:00+00:00\", \"2015-12-31T00:00:00+00:00\", \"2016-01-31T00:00:00+00:00\", \"2016-02-29T00:00:00+00:00\", \"2016-03-31T00:00:00+00:00\", \"2016-04-30T00:00:00+00:00\", \"2016-05-31T00:00:00+00:00\", \"2016-06-30T00:00:00+00:00\", \"2016-07-31T00:00:00+00:00\", \"2016-08-31T00:00:00+00:00\", \"2016-09-30T00:00:00+00:00\", \"2016-10-31T00:00:00+00:00\", \"2016-11-30T00:00:00+00:00\", \"2016-12-31T00:00:00+00:00\", \"2017-01-31T00:00:00+00:00\", \"2017-02-28T00:00:00+00:00\", \"2017-03-31T00:00:00+00:00\", \"2017-04-30T00:00:00+00:00\", \"2017-05-31T00:00:00+00:00\", \"2017-06-30T00:00:00+00:00\", \"2017-07-31T00:00:00+00:00\", \"2017-08-31T00:00:00+00:00\", \"2017-09-30T00:00:00+00:00\", \"2017-10-31T00:00:00+00:00\", \"2017-11-30T00:00:00+00:00\", \"2017-12-31T00:00:00+00:00\", \"2018-01-31T00:00:00+00:00\", \"2018-02-28T00:00:00+00:00\", \"2018-03-31T00:00:00+00:00\", \"2018-04-30T00:00:00+00:00\", \"2018-05-31T00:00:00+00:00\", \"2018-06-30T00:00:00+00:00\", \"2018-07-31T00:00:00+00:00\", \"2018-08-31T00:00:00+00:00\", \"2018-09-30T00:00:00+00:00\", \"2018-10-31T00:00:00+00:00\", \"2018-11-30T00:00:00+00:00\", \"2018-12-31T00:00:00+00:00\", \"2019-01-31T00:00:00+00:00\", \"2019-02-28T00:00:00+00:00\", \"2019-03-31T00:00:00+00:00\", \"2019-04-30T00:00:00+00:00\", \"2019-05-31T00:00:00+00:00\", \"2019-06-30T00:00:00+00:00\", \"2019-07-31T00:00:00+00:00\", \"2019-08-31T00:00:00+00:00\", \"2019-09-30T00:00:00+00:00\", \"2019-10-31T00:00:00+00:00\", \"2019-11-30T00:00:00+00:00\", \"2019-12-31T00:00:00+00:00\", \"2020-01-31T00:00:00+00:00\", \"2020-02-29T00:00:00+00:00\", \"2020-03-31T00:00:00+00:00\", \"2020-04-30T00:00:00+00:00\", \"2020-05-31T00:00:00+00:00\", \"2020-06-30T00:00:00+00:00\", \"2020-07-31T00:00:00+00:00\", \"2020-08-31T00:00:00+00:00\", \"2020-09-30T00:00:00+00:00\", \"2020-10-31T00:00:00+00:00\", \"2020-11-30T00:00:00+00:00\", \"2021-01-31T00:00:00+00:00\", \"2021-02-28T00:00:00+00:00\", \"2021-03-31T00:00:00+00:00\", \"2021-04-30T00:00:00+00:00\", \"2021-05-31T00:00:00+00:00\", \"2021-06-30T00:00:00+00:00\", \"2021-07-31T00:00:00+00:00\", \"2021-08-31T00:00:00+00:00\", \"2021-09-30T00:00:00+00:00\", \"2021-11-30T00:00:00+00:00\", \"2021-12-31T00:00:00+00:00\", \"2022-01-31T00:00:00+00:00\", \"2022-02-28T00:00:00+00:00\", \"2022-03-31T00:00:00+00:00\", \"2022-04-30T00:00:00+00:00\", \"2022-05-31T00:00:00+00:00\", \"2022-06-30T00:00:00+00:00\", \"2022-07-31T00:00:00+00:00\"], \"xaxis\": \"x\", \"y\": [1, 2, 3, 1, 1, 5, 1, 1, 1, 2, 1, 7, 1, 3, 8, 2, 2, 4, 10, 4, 7, 4, 4, 5, 3, 5, 6, 10, 11, 11, 6, 9, 7, 13, 16, 6, 9, 20, 14, 24, 22, 14, 21, 13, 20, 29, 18, 20, 28, 32, 43, 43, 36, 34, 40, 36, 35, 35, 31, 34, 40, 40, 51, 51, 32, 50, 56, 51, 36, 42, 49, 59, 46, 57, 59, 59, 53, 59, 44, 62, 70, 80, 85, 60, 64, 84, 93, 84, 90, 65, 73, 70, 63, 73, 81, 64, 73, 77, 115, 89, 90, 101, 81, 82, 88, 92, 92, 97, 87, 92, 130, 120, 93, 106, 100, 82, 84, 93, 88, 82, 95, 96, 101, 106, 80, 89, 86, 100, 111, 94, 108, 117, 100, 116, 72, 17, 13, 10, 10, 10, 4, 7, 5, 16, 6, 8, 7, 11, 8, 4, 4, 7, 5, 4, 5, 4, 1, 9, 3, 8, 1, 9, 4, 2, 1, 1, 4, 4, 5, 2, 3, 3, 5, 2, 3, 3, 3, 4, 4, 3, 3, 2, 4, 4, 3, 1], \"yaxis\": \"y\"}, {\"hovertemplate\": \"purpose=personal<br>converted_at_date=%{x}<br>number_of_companies=%{y}<extra></extra>\", \"legendgroup\": \"personal\", \"line\": {\"color\": \"#EF553B\", \"dash\": \"solid\"}, \"mode\": \"lines\", \"name\": \"personal\", \"orientation\": \"v\", \"showlegend\": true, \"type\": \"scatter\", \"x\": [\"2017-10-31T00:00:00+00:00\", \"2018-01-31T00:00:00+00:00\", \"2018-02-28T00:00:00+00:00\", \"2018-03-31T00:00:00+00:00\", \"2018-04-30T00:00:00+00:00\", \"2018-05-31T00:00:00+00:00\", \"2018-06-30T00:00:00+00:00\", \"2018-07-31T00:00:00+00:00\", \"2018-08-31T00:00:00+00:00\", \"2018-09-30T00:00:00+00:00\", \"2018-10-31T00:00:00+00:00\", \"2018-11-30T00:00:00+00:00\", \"2018-12-31T00:00:00+00:00\", \"2019-01-31T00:00:00+00:00\", \"2019-02-28T00:00:00+00:00\", \"2019-03-31T00:00:00+00:00\", \"2019-04-30T00:00:00+00:00\", \"2019-05-31T00:00:00+00:00\", \"2019-06-30T00:00:00+00:00\", \"2019-07-31T00:00:00+00:00\", \"2019-08-31T00:00:00+00:00\", \"2019-09-30T00:00:00+00:00\", \"2019-10-31T00:00:00+00:00\", \"2019-11-30T00:00:00+00:00\", \"2019-12-31T00:00:00+00:00\", \"2020-01-31T00:00:00+00:00\", \"2020-02-29T00:00:00+00:00\", \"2020-03-31T00:00:00+00:00\", \"2020-04-30T00:00:00+00:00\", \"2020-05-31T00:00:00+00:00\", \"2020-06-30T00:00:00+00:00\", \"2020-07-31T00:00:00+00:00\", \"2020-08-31T00:00:00+00:00\", \"2020-09-30T00:00:00+00:00\", \"2020-10-31T00:00:00+00:00\", \"2020-11-30T00:00:00+00:00\", \"2020-12-31T00:00:00+00:00\", \"2021-01-31T00:00:00+00:00\", \"2021-02-28T00:00:00+00:00\", \"2021-03-31T00:00:00+00:00\", \"2021-04-30T00:00:00+00:00\", \"2021-05-31T00:00:00+00:00\", \"2021-06-30T00:00:00+00:00\", \"2021-07-31T00:00:00+00:00\", \"2021-08-31T00:00:00+00:00\", \"2021-09-30T00:00:00+00:00\", \"2021-10-31T00:00:00+00:00\", \"2021-11-30T00:00:00+00:00\", \"2021-12-31T00:00:00+00:00\", \"2022-01-31T00:00:00+00:00\", \"2022-02-28T00:00:00+00:00\", \"2022-03-31T00:00:00+00:00\", \"2022-04-30T00:00:00+00:00\", \"2022-05-31T00:00:00+00:00\", \"2022-06-30T00:00:00+00:00\", \"2022-07-31T00:00:00+00:00\"], \"xaxis\": \"x\", \"y\": [1, 4, 40, 64, 53, 39, 59, 40, 69, 52, 62, 56, 43, 42, 67, 62, 61, 53, 56, 58, 46, 62, 68, 79, 77, 71, 91, 86, 69, 56, 72, 88, 72, 78, 84, 88, 71, 96, 107, 131, 92, 86, 99, 101, 99, 89, 94, 120, 88, 116, 143, 170, 129, 155, 153, 123], \"yaxis\": \"y\"}, {\"hovertemplate\": \"purpose=team<br>converted_at_date=%{x}<br>number_of_companies=%{y}<extra></extra>\", \"legendgroup\": \"team\", \"line\": {\"color\": \"#00cc96\", \"dash\": \"solid\"}, \"mode\": \"lines\", \"name\": \"team\", \"orientation\": \"v\", \"showlegend\": true, \"type\": \"scatter\", \"x\": [\"2018-01-31T00:00:00+00:00\", \"2018-02-28T00:00:00+00:00\", \"2018-03-31T00:00:00+00:00\", \"2018-04-30T00:00:00+00:00\", \"2018-05-31T00:00:00+00:00\", \"2018-06-30T00:00:00+00:00\", \"2018-07-31T00:00:00+00:00\", \"2018-08-31T00:00:00+00:00\", \"2018-09-30T00:00:00+00:00\", \"2018-10-31T00:00:00+00:00\", \"2018-11-30T00:00:00+00:00\", \"2018-12-31T00:00:00+00:00\", \"2019-01-31T00:00:00+00:00\", \"2019-02-28T00:00:00+00:00\", \"2019-03-31T00:00:00+00:00\", \"2019-04-30T00:00:00+00:00\", \"2019-05-31T00:00:00+00:00\", \"2019-06-30T00:00:00+00:00\", \"2019-07-31T00:00:00+00:00\", \"2019-08-31T00:00:00+00:00\", \"2019-09-30T00:00:00+00:00\", \"2019-10-31T00:00:00+00:00\", \"2019-11-30T00:00:00+00:00\", \"2019-12-31T00:00:00+00:00\", \"2020-01-31T00:00:00+00:00\", \"2020-02-29T00:00:00+00:00\", \"2020-03-31T00:00:00+00:00\", \"2020-04-30T00:00:00+00:00\", \"2020-05-31T00:00:00+00:00\", \"2020-06-30T00:00:00+00:00\", \"2020-07-31T00:00:00+00:00\", \"2020-08-31T00:00:00+00:00\", \"2020-09-30T00:00:00+00:00\", \"2020-10-31T00:00:00+00:00\", \"2020-11-30T00:00:00+00:00\", \"2020-12-31T00:00:00+00:00\", \"2021-01-31T00:00:00+00:00\", \"2021-02-28T00:00:00+00:00\", \"2021-03-31T00:00:00+00:00\", \"2021-04-30T00:00:00+00:00\", \"2021-05-31T00:00:00+00:00\", \"2021-06-30T00:00:00+00:00\", \"2021-07-31T00:00:00+00:00\", \"2021-08-31T00:00:00+00:00\", \"2021-09-30T00:00:00+00:00\", \"2021-10-31T00:00:00+00:00\", \"2021-11-30T00:00:00+00:00\", \"2021-12-31T00:00:00+00:00\", \"2022-01-31T00:00:00+00:00\", \"2022-02-28T00:00:00+00:00\", \"2022-03-31T00:00:00+00:00\", \"2022-04-30T00:00:00+00:00\", \"2022-05-31T00:00:00+00:00\", \"2022-06-30T00:00:00+00:00\", \"2022-07-31T00:00:00+00:00\"], \"xaxis\": \"x\", \"y\": [4, 50, 66, 50, 52, 63, 52, 57, 47, 56, 55, 56, 82, 80, 60, 64, 59, 58, 53, 59, 67, 62, 51, 55, 64, 81, 74, 71, 44, 60, 58, 49, 64, 62, 64, 40, 79, 82, 85, 66, 63, 65, 73, 72, 70, 68, 73, 76, 91, 93, 87, 91, 82, 117, 73], \"yaxis\": \"y\"}],                        {\"legend\": {\"title\": {\"text\": \"purpose\"}, \"tracegroupgap\": 0}, \"template\": {\"data\": {\"bar\": [{\"error_x\": {\"color\": \"#2a3f5f\"}, \"error_y\": {\"color\": \"#2a3f5f\"}, \"marker\": {\"line\": {\"color\": \"#E5ECF6\", \"width\": 0.5}}, \"type\": \"bar\"}], \"barpolar\": [{\"marker\": {\"line\": {\"color\": \"#E5ECF6\", \"width\": 0.5}}, \"type\": \"barpolar\"}], \"carpet\": [{\"aaxis\": {\"endlinecolor\": \"#2a3f5f\", \"gridcolor\": \"white\", \"linecolor\": \"white\", \"minorgridcolor\": \"white\", \"startlinecolor\": \"#2a3f5f\"}, \"baxis\": {\"endlinecolor\": \"#2a3f5f\", \"gridcolor\": \"white\", \"linecolor\": \"white\", \"minorgridcolor\": \"white\", \"startlinecolor\": \"#2a3f5f\"}, \"type\": \"carpet\"}], \"choropleth\": [{\"colorbar\": {\"outlinewidth\": 0, \"ticks\": \"\"}, \"type\": \"choropleth\"}], \"contour\": [{\"colorbar\": {\"outlinewidth\": 0, \"ticks\": \"\"}, \"colorscale\": [[0.0, \"#0d0887\"], [0.1111111111111111, \"#46039f\"], [0.2222222222222222, \"#7201a8\"], [0.3333333333333333, \"#9c179e\"], [0.4444444444444444, \"#bd3786\"], [0.5555555555555556, \"#d8576b\"], [0.6666666666666666, \"#ed7953\"], [0.7777777777777778, \"#fb9f3a\"], [0.8888888888888888, \"#fdca26\"], [1.0, \"#f0f921\"]], \"type\": \"contour\"}], \"contourcarpet\": [{\"colorbar\": {\"outlinewidth\": 0, \"ticks\": \"\"}, \"type\": \"contourcarpet\"}], \"heatmap\": [{\"colorbar\": {\"outlinewidth\": 0, \"ticks\": \"\"}, \"colorscale\": [[0.0, \"#0d0887\"], [0.1111111111111111, \"#46039f\"], [0.2222222222222222, \"#7201a8\"], [0.3333333333333333, \"#9c179e\"], [0.4444444444444444, \"#bd3786\"], [0.5555555555555556, \"#d8576b\"], [0.6666666666666666, \"#ed7953\"], [0.7777777777777778, \"#fb9f3a\"], [0.8888888888888888, \"#fdca26\"], [1.0, \"#f0f921\"]], \"type\": \"heatmap\"}], \"heatmapgl\": [{\"colorbar\": {\"outlinewidth\": 0, \"ticks\": \"\"}, \"colorscale\": [[0.0, \"#0d0887\"], [0.1111111111111111, \"#46039f\"], [0.2222222222222222, \"#7201a8\"], [0.3333333333333333, \"#9c179e\"], [0.4444444444444444, \"#bd3786\"], [0.5555555555555556, \"#d8576b\"], [0.6666666666666666, \"#ed7953\"], [0.7777777777777778, \"#fb9f3a\"], [0.8888888888888888, \"#fdca26\"], [1.0, \"#f0f921\"]], \"type\": \"heatmapgl\"}], \"histogram\": [{\"marker\": {\"colorbar\": {\"outlinewidth\": 0, \"ticks\": \"\"}}, \"type\": \"histogram\"}], \"histogram2d\": [{\"colorbar\": {\"outlinewidth\": 0, \"ticks\": \"\"}, \"colorscale\": [[0.0, \"#0d0887\"], [0.1111111111111111, \"#46039f\"], [0.2222222222222222, \"#7201a8\"], [0.3333333333333333, \"#9c179e\"], [0.4444444444444444, \"#bd3786\"], [0.5555555555555556, \"#d8576b\"], [0.6666666666666666, \"#ed7953\"], [0.7777777777777778, \"#fb9f3a\"], [0.8888888888888888, \"#fdca26\"], [1.0, \"#f0f921\"]], \"type\": \"histogram2d\"}], \"histogram2dcontour\": [{\"colorbar\": {\"outlinewidth\": 0, \"ticks\": \"\"}, \"colorscale\": [[0.0, \"#0d0887\"], [0.1111111111111111, \"#46039f\"], [0.2222222222222222, \"#7201a8\"], [0.3333333333333333, \"#9c179e\"], [0.4444444444444444, \"#bd3786\"], [0.5555555555555556, \"#d8576b\"], [0.6666666666666666, \"#ed7953\"], [0.7777777777777778, \"#fb9f3a\"], [0.8888888888888888, \"#fdca26\"], [1.0, \"#f0f921\"]], \"type\": \"histogram2dcontour\"}], \"mesh3d\": [{\"colorbar\": {\"outlinewidth\": 0, \"ticks\": \"\"}, \"type\": \"mesh3d\"}], \"parcoords\": [{\"line\": {\"colorbar\": {\"outlinewidth\": 0, \"ticks\": \"\"}}, \"type\": \"parcoords\"}], \"pie\": [{\"automargin\": true, \"type\": \"pie\"}], \"scatter\": [{\"marker\": {\"colorbar\": {\"outlinewidth\": 0, \"ticks\": \"\"}}, \"type\": \"scatter\"}], \"scatter3d\": [{\"line\": {\"colorbar\": {\"outlinewidth\": 0, \"ticks\": \"\"}}, \"marker\": {\"colorbar\": {\"outlinewidth\": 0, \"ticks\": \"\"}}, \"type\": \"scatter3d\"}], \"scattercarpet\": [{\"marker\": {\"colorbar\": {\"outlinewidth\": 0, \"ticks\": \"\"}}, \"type\": \"scattercarpet\"}], \"scattergeo\": [{\"marker\": {\"colorbar\": {\"outlinewidth\": 0, \"ticks\": \"\"}}, \"type\": \"scattergeo\"}], \"scattergl\": [{\"marker\": {\"colorbar\": {\"outlinewidth\": 0, \"ticks\": \"\"}}, \"type\": \"scattergl\"}], \"scattermapbox\": [{\"marker\": {\"colorbar\": {\"outlinewidth\": 0, \"ticks\": \"\"}}, \"type\": \"scattermapbox\"}], \"scatterpolar\": [{\"marker\": {\"colorbar\": {\"outlinewidth\": 0, \"ticks\": \"\"}}, \"type\": \"scatterpolar\"}], \"scatterpolargl\": [{\"marker\": {\"colorbar\": {\"outlinewidth\": 0, \"ticks\": \"\"}}, \"type\": \"scatterpolargl\"}], \"scatterternary\": [{\"marker\": {\"colorbar\": {\"outlinewidth\": 0, \"ticks\": \"\"}}, \"type\": \"scatterternary\"}], \"surface\": [{\"colorbar\": {\"outlinewidth\": 0, \"ticks\": \"\"}, \"colorscale\": [[0.0, \"#0d0887\"], [0.1111111111111111, \"#46039f\"], [0.2222222222222222, \"#7201a8\"], [0.3333333333333333, \"#9c179e\"], [0.4444444444444444, \"#bd3786\"], [0.5555555555555556, \"#d8576b\"], [0.6666666666666666, \"#ed7953\"], [0.7777777777777778, \"#fb9f3a\"], [0.8888888888888888, \"#fdca26\"], [1.0, \"#f0f921\"]], \"type\": \"surface\"}], \"table\": [{\"cells\": {\"fill\": {\"color\": \"#EBF0F8\"}, \"line\": {\"color\": \"white\"}}, \"header\": {\"fill\": {\"color\": \"#C8D4E3\"}, \"line\": {\"color\": \"white\"}}, \"type\": \"table\"}]}, \"layout\": {\"annotationdefaults\": {\"arrowcolor\": \"#2a3f5f\", \"arrowhead\": 0, \"arrowwidth\": 1}, \"autotypenumbers\": \"strict\", \"coloraxis\": {\"colorbar\": {\"outlinewidth\": 0, \"ticks\": \"\"}}, \"colorscale\": {\"diverging\": [[0, \"#8e0152\"], [0.1, \"#c51b7d\"], [0.2, \"#de77ae\"], [0.3, \"#f1b6da\"], [0.4, \"#fde0ef\"], [0.5, \"#f7f7f7\"], [0.6, \"#e6f5d0\"], [0.7, \"#b8e186\"], [0.8, \"#7fbc41\"], [0.9, \"#4d9221\"], [1, \"#276419\"]], \"sequential\": [[0.0, \"#0d0887\"], [0.1111111111111111, \"#46039f\"], [0.2222222222222222, \"#7201a8\"], [0.3333333333333333, \"#9c179e\"], [0.4444444444444444, \"#bd3786\"], [0.5555555555555556, \"#d8576b\"], [0.6666666666666666, \"#ed7953\"], [0.7777777777777778, \"#fb9f3a\"], [0.8888888888888888, \"#fdca26\"], [1.0, \"#f0f921\"]], \"sequentialminus\": [[0.0, \"#0d0887\"], [0.1111111111111111, \"#46039f\"], [0.2222222222222222, \"#7201a8\"], [0.3333333333333333, \"#9c179e\"], [0.4444444444444444, \"#bd3786\"], [0.5555555555555556, \"#d8576b\"], [0.6666666666666666, \"#ed7953\"], [0.7777777777777778, \"#fb9f3a\"], [0.8888888888888888, \"#fdca26\"], [1.0, \"#f0f921\"]]}, \"colorway\": [\"#636efa\", \"#EF553B\", \"#00cc96\", \"#ab63fa\", \"#FFA15A\", \"#19d3f3\", \"#FF6692\", \"#B6E880\", \"#FF97FF\", \"#FECB52\"], \"font\": {\"color\": \"#2a3f5f\"}, \"geo\": {\"bgcolor\": \"white\", \"lakecolor\": \"white\", \"landcolor\": \"#E5ECF6\", \"showlakes\": true, \"showland\": true, \"subunitcolor\": \"white\"}, \"hoverlabel\": {\"align\": \"left\"}, \"hovermode\": \"closest\", \"mapbox\": {\"style\": \"light\"}, \"paper_bgcolor\": \"white\", \"plot_bgcolor\": \"#E5ECF6\", \"polar\": {\"angularaxis\": {\"gridcolor\": \"white\", \"linecolor\": \"white\", \"ticks\": \"\"}, \"bgcolor\": \"#E5ECF6\", \"radialaxis\": {\"gridcolor\": \"white\", \"linecolor\": \"white\", \"ticks\": \"\"}}, \"scene\": {\"xaxis\": {\"backgroundcolor\": \"#E5ECF6\", \"gridcolor\": \"white\", \"gridwidth\": 2, \"linecolor\": \"white\", \"showbackground\": true, \"ticks\": \"\", \"zerolinecolor\": \"white\"}, \"yaxis\": {\"backgroundcolor\": \"#E5ECF6\", \"gridcolor\": \"white\", \"gridwidth\": 2, \"linecolor\": \"white\", \"showbackground\": true, \"ticks\": \"\", \"zerolinecolor\": \"white\"}, \"zaxis\": {\"backgroundcolor\": \"#E5ECF6\", \"gridcolor\": \"white\", \"gridwidth\": 2, \"linecolor\": \"white\", \"showbackground\": true, \"ticks\": \"\", \"zerolinecolor\": \"white\"}}, \"shapedefaults\": {\"line\": {\"color\": \"#2a3f5f\"}}, \"ternary\": {\"aaxis\": {\"gridcolor\": \"white\", \"linecolor\": \"white\", \"ticks\": \"\"}, \"baxis\": {\"gridcolor\": \"white\", \"linecolor\": \"white\", \"ticks\": \"\"}, \"bgcolor\": \"#E5ECF6\", \"caxis\": {\"gridcolor\": \"white\", \"linecolor\": \"white\", \"ticks\": \"\"}}, \"title\": {\"x\": 0.05}, \"xaxis\": {\"automargin\": true, \"gridcolor\": \"white\", \"linecolor\": \"white\", \"ticks\": \"\", \"title\": {\"standoff\": 15}, \"zerolinecolor\": \"white\", \"zerolinewidth\": 2}, \"yaxis\": {\"automargin\": true, \"gridcolor\": \"white\", \"linecolor\": \"white\", \"ticks\": \"\", \"title\": {\"standoff\": 15}, \"zerolinecolor\": \"white\", \"zerolinewidth\": 2}}}, \"title\": {\"text\": \"Customers conversion over time (by purpose)\"}, \"xaxis\": {\"anchor\": \"y\", \"domain\": [0.0, 1.0], \"title\": {\"text\": \"converted_at_date\"}}, \"yaxis\": {\"anchor\": \"x\", \"domain\": [0.0, 1.0], \"title\": {\"text\": \"number_of_companies\"}}},                        {\"responsive\": true}                    ).then(function(){\n",
       "                            \n",
       "var gd = document.getElementById('66fc972c-c252-42f4-b9f7-5d6f24e2c4ff');\n",
       "var x = new MutationObserver(function (mutations, observer) {{\n",
       "        var display = window.getComputedStyle(gd).display;\n",
       "        if (!display || display === 'none') {{\n",
       "            console.log([gd, 'removed!']);\n",
       "            Plotly.purge(gd);\n",
       "            observer.disconnect();\n",
       "        }}\n",
       "}});\n",
       "\n",
       "// Listen for the removal of the full notebook cells\n",
       "var notebookContainer = gd.closest('#notebook-container');\n",
       "if (notebookContainer) {{\n",
       "    x.observe(notebookContainer, {childList: true});\n",
       "}}\n",
       "\n",
       "// Listen for the clearing of the current output cell\n",
       "var outputEl = gd.closest('.output');\n",
       "if (outputEl) {{\n",
       "    x.observe(outputEl, {childList: true});\n",
       "}}\n",
       "\n",
       "                        })                };                });            </script>        </div>"
      ]
     },
     "metadata": {},
     "output_type": "display_data"
    },
    {
     "data": {
      "application/vnd.plotly.v1+json": {
       "config": {
        "plotlyServerURL": "https://plot.ly"
       },
       "data": [
        {
         "hovertemplate": "billing_frequency=yearly<br>converted_at_date=%{x}<br>number_of_companies=%{y}<extra></extra>",
         "legendgroup": "yearly",
         "line": {
          "color": "#636efa",
          "dash": "solid"
         },
         "mode": "lines",
         "name": "yearly",
         "orientation": "v",
         "showlegend": true,
         "type": "scatter",
         "x": [
          "2006-06-30T00:00:00+00:00",
          "2006-10-31T00:00:00+00:00",
          "2007-01-31T00:00:00+00:00",
          "2007-04-30T00:00:00+00:00",
          "2007-08-31T00:00:00+00:00",
          "2007-09-30T00:00:00+00:00",
          "2008-01-31T00:00:00+00:00",
          "2008-02-29T00:00:00+00:00",
          "2008-04-30T00:00:00+00:00",
          "2008-05-31T00:00:00+00:00",
          "2008-06-30T00:00:00+00:00",
          "2008-07-31T00:00:00+00:00",
          "2008-08-31T00:00:00+00:00",
          "2008-09-30T00:00:00+00:00",
          "2008-11-30T00:00:00+00:00",
          "2008-12-31T00:00:00+00:00",
          "2009-02-28T00:00:00+00:00",
          "2009-03-31T00:00:00+00:00",
          "2009-04-30T00:00:00+00:00",
          "2009-05-31T00:00:00+00:00",
          "2009-06-30T00:00:00+00:00",
          "2009-07-31T00:00:00+00:00",
          "2009-08-31T00:00:00+00:00",
          "2009-09-30T00:00:00+00:00",
          "2009-10-31T00:00:00+00:00",
          "2009-11-30T00:00:00+00:00",
          "2009-12-31T00:00:00+00:00",
          "2010-01-31T00:00:00+00:00",
          "2010-02-28T00:00:00+00:00",
          "2010-03-31T00:00:00+00:00",
          "2010-04-30T00:00:00+00:00",
          "2010-05-31T00:00:00+00:00",
          "2010-06-30T00:00:00+00:00",
          "2010-07-31T00:00:00+00:00",
          "2010-08-31T00:00:00+00:00",
          "2010-09-30T00:00:00+00:00",
          "2010-10-31T00:00:00+00:00",
          "2010-11-30T00:00:00+00:00",
          "2010-12-31T00:00:00+00:00",
          "2011-01-31T00:00:00+00:00",
          "2011-02-28T00:00:00+00:00",
          "2011-03-31T00:00:00+00:00",
          "2011-04-30T00:00:00+00:00",
          "2011-05-31T00:00:00+00:00",
          "2011-06-30T00:00:00+00:00",
          "2011-07-31T00:00:00+00:00",
          "2011-08-31T00:00:00+00:00",
          "2011-09-30T00:00:00+00:00",
          "2011-10-31T00:00:00+00:00",
          "2011-11-30T00:00:00+00:00",
          "2011-12-31T00:00:00+00:00",
          "2012-01-31T00:00:00+00:00",
          "2012-02-29T00:00:00+00:00",
          "2012-03-31T00:00:00+00:00",
          "2012-04-30T00:00:00+00:00",
          "2012-05-31T00:00:00+00:00",
          "2012-06-30T00:00:00+00:00",
          "2012-07-31T00:00:00+00:00",
          "2012-08-31T00:00:00+00:00",
          "2012-09-30T00:00:00+00:00",
          "2012-10-31T00:00:00+00:00",
          "2012-11-30T00:00:00+00:00",
          "2012-12-31T00:00:00+00:00",
          "2013-01-31T00:00:00+00:00",
          "2013-02-28T00:00:00+00:00",
          "2013-03-31T00:00:00+00:00",
          "2013-04-30T00:00:00+00:00",
          "2013-05-31T00:00:00+00:00",
          "2013-06-30T00:00:00+00:00",
          "2013-07-31T00:00:00+00:00",
          "2013-08-31T00:00:00+00:00",
          "2013-09-30T00:00:00+00:00",
          "2013-10-31T00:00:00+00:00",
          "2013-11-30T00:00:00+00:00",
          "2013-12-31T00:00:00+00:00",
          "2014-01-31T00:00:00+00:00",
          "2014-02-28T00:00:00+00:00",
          "2014-03-31T00:00:00+00:00",
          "2014-04-30T00:00:00+00:00",
          "2014-05-31T00:00:00+00:00",
          "2014-06-30T00:00:00+00:00",
          "2014-07-31T00:00:00+00:00",
          "2014-08-31T00:00:00+00:00",
          "2014-09-30T00:00:00+00:00",
          "2014-10-31T00:00:00+00:00",
          "2014-11-30T00:00:00+00:00",
          "2014-12-31T00:00:00+00:00",
          "2015-01-31T00:00:00+00:00",
          "2015-02-28T00:00:00+00:00",
          "2015-03-31T00:00:00+00:00",
          "2015-04-30T00:00:00+00:00",
          "2015-05-31T00:00:00+00:00",
          "2015-06-30T00:00:00+00:00",
          "2015-07-31T00:00:00+00:00",
          "2015-08-31T00:00:00+00:00",
          "2015-09-30T00:00:00+00:00",
          "2015-10-31T00:00:00+00:00",
          "2015-11-30T00:00:00+00:00",
          "2015-12-31T00:00:00+00:00",
          "2016-01-31T00:00:00+00:00",
          "2016-02-29T00:00:00+00:00",
          "2016-03-31T00:00:00+00:00",
          "2016-04-30T00:00:00+00:00",
          "2016-05-31T00:00:00+00:00",
          "2016-06-30T00:00:00+00:00",
          "2016-07-31T00:00:00+00:00",
          "2016-08-31T00:00:00+00:00",
          "2016-09-30T00:00:00+00:00",
          "2016-10-31T00:00:00+00:00",
          "2016-11-30T00:00:00+00:00",
          "2016-12-31T00:00:00+00:00",
          "2017-01-31T00:00:00+00:00",
          "2017-02-28T00:00:00+00:00",
          "2017-03-31T00:00:00+00:00",
          "2017-04-30T00:00:00+00:00",
          "2017-05-31T00:00:00+00:00",
          "2017-06-30T00:00:00+00:00",
          "2017-07-31T00:00:00+00:00",
          "2017-08-31T00:00:00+00:00",
          "2017-09-30T00:00:00+00:00",
          "2017-10-31T00:00:00+00:00",
          "2017-11-30T00:00:00+00:00",
          "2017-12-31T00:00:00+00:00",
          "2018-01-31T00:00:00+00:00",
          "2018-02-28T00:00:00+00:00",
          "2018-03-31T00:00:00+00:00",
          "2018-04-30T00:00:00+00:00",
          "2018-05-31T00:00:00+00:00",
          "2018-06-30T00:00:00+00:00",
          "2018-07-31T00:00:00+00:00",
          "2018-08-31T00:00:00+00:00",
          "2018-09-30T00:00:00+00:00",
          "2018-10-31T00:00:00+00:00",
          "2018-11-30T00:00:00+00:00",
          "2018-12-31T00:00:00+00:00",
          "2019-01-31T00:00:00+00:00",
          "2019-02-28T00:00:00+00:00",
          "2019-03-31T00:00:00+00:00",
          "2019-04-30T00:00:00+00:00",
          "2019-05-31T00:00:00+00:00",
          "2019-06-30T00:00:00+00:00",
          "2019-07-31T00:00:00+00:00",
          "2019-08-31T00:00:00+00:00",
          "2019-09-30T00:00:00+00:00",
          "2019-10-31T00:00:00+00:00",
          "2019-11-30T00:00:00+00:00",
          "2019-12-31T00:00:00+00:00",
          "2020-01-31T00:00:00+00:00",
          "2020-02-29T00:00:00+00:00",
          "2020-03-31T00:00:00+00:00",
          "2020-04-30T00:00:00+00:00",
          "2020-05-31T00:00:00+00:00",
          "2020-06-30T00:00:00+00:00",
          "2020-07-31T00:00:00+00:00",
          "2020-08-31T00:00:00+00:00",
          "2020-09-30T00:00:00+00:00",
          "2020-10-31T00:00:00+00:00",
          "2020-11-30T00:00:00+00:00",
          "2020-12-31T00:00:00+00:00",
          "2021-01-31T00:00:00+00:00",
          "2021-02-28T00:00:00+00:00",
          "2021-03-31T00:00:00+00:00",
          "2021-04-30T00:00:00+00:00",
          "2021-05-31T00:00:00+00:00",
          "2021-06-30T00:00:00+00:00",
          "2021-07-31T00:00:00+00:00",
          "2021-08-31T00:00:00+00:00",
          "2021-09-30T00:00:00+00:00",
          "2021-10-31T00:00:00+00:00",
          "2021-11-30T00:00:00+00:00",
          "2021-12-31T00:00:00+00:00",
          "2022-01-31T00:00:00+00:00",
          "2022-02-28T00:00:00+00:00",
          "2022-03-31T00:00:00+00:00",
          "2022-04-30T00:00:00+00:00",
          "2022-05-31T00:00:00+00:00",
          "2022-06-30T00:00:00+00:00",
          "2022-07-31T00:00:00+00:00"
         ],
         "xaxis": "x",
         "y": [
          1,
          1,
          1,
          1,
          1,
          1,
          1,
          1,
          1,
          1,
          2,
          1,
          2,
          1,
          2,
          1,
          1,
          4,
          4,
          2,
          3,
          2,
          1,
          2,
          1,
          1,
          5,
          5,
          3,
          4,
          4,
          5,
          8,
          5,
          9,
          11,
          3,
          10,
          16,
          14,
          16,
          14,
          16,
          18,
          19,
          15,
          13,
          12,
          12,
          7,
          17,
          19,
          20,
          21,
          10,
          18,
          22,
          15,
          15,
          20,
          22,
          25,
          20,
          20,
          28,
          21,
          25,
          25,
          18,
          23,
          32,
          32,
          36,
          27,
          25,
          29,
          36,
          32,
          30,
          23,
          23,
          28,
          24,
          24,
          28,
          35,
          32,
          36,
          39,
          29,
          33,
          31,
          31,
          27,
          34,
          35,
          35,
          38,
          30,
          25,
          51,
          51,
          35,
          38,
          34,
          28,
          27,
          38,
          37,
          30,
          33,
          42,
          42,
          44,
          34,
          30,
          37,
          38,
          39,
          29,
          49,
          45,
          42,
          47,
          57,
          56,
          34,
          31,
          43,
          36,
          45,
          50,
          45,
          47,
          41,
          47,
          63,
          44,
          50,
          42,
          41,
          42,
          43,
          42,
          40,
          55,
          49,
          56,
          61,
          49,
          45,
          38,
          39,
          61,
          42,
          51,
          52,
          48,
          41,
          81,
          76,
          78,
          60,
          53,
          47,
          48,
          57,
          53,
          41,
          78,
          57,
          72,
          82,
          75,
          57,
          51,
          61,
          55
         ],
         "yaxis": "y"
        },
        {
         "hovertemplate": "billing_frequency=monthly<br>converted_at_date=%{x}<br>number_of_companies=%{y}<extra></extra>",
         "legendgroup": "monthly",
         "line": {
          "color": "#EF553B",
          "dash": "solid"
         },
         "mode": "lines",
         "name": "monthly",
         "orientation": "v",
         "showlegend": true,
         "type": "scatter",
         "x": [
          "2006-07-31T00:00:00+00:00",
          "2006-08-31T00:00:00+00:00",
          "2006-11-30T00:00:00+00:00",
          "2007-01-31T00:00:00+00:00",
          "2007-06-30T00:00:00+00:00",
          "2007-07-31T00:00:00+00:00",
          "2007-08-31T00:00:00+00:00",
          "2007-11-30T00:00:00+00:00",
          "2007-12-31T00:00:00+00:00",
          "2008-01-31T00:00:00+00:00",
          "2008-02-29T00:00:00+00:00",
          "2008-03-31T00:00:00+00:00",
          "2008-04-30T00:00:00+00:00",
          "2008-05-31T00:00:00+00:00",
          "2008-06-30T00:00:00+00:00",
          "2008-07-31T00:00:00+00:00",
          "2008-08-31T00:00:00+00:00",
          "2008-09-30T00:00:00+00:00",
          "2008-10-31T00:00:00+00:00",
          "2008-11-30T00:00:00+00:00",
          "2008-12-31T00:00:00+00:00",
          "2009-01-31T00:00:00+00:00",
          "2009-02-28T00:00:00+00:00",
          "2009-03-31T00:00:00+00:00",
          "2009-04-30T00:00:00+00:00",
          "2009-05-31T00:00:00+00:00",
          "2009-06-30T00:00:00+00:00",
          "2009-07-31T00:00:00+00:00",
          "2009-08-31T00:00:00+00:00",
          "2009-09-30T00:00:00+00:00",
          "2009-10-31T00:00:00+00:00",
          "2009-11-30T00:00:00+00:00",
          "2009-12-31T00:00:00+00:00",
          "2010-01-31T00:00:00+00:00",
          "2010-02-28T00:00:00+00:00",
          "2010-03-31T00:00:00+00:00",
          "2010-04-30T00:00:00+00:00",
          "2010-05-31T00:00:00+00:00",
          "2010-06-30T00:00:00+00:00",
          "2010-07-31T00:00:00+00:00",
          "2010-08-31T00:00:00+00:00",
          "2010-09-30T00:00:00+00:00",
          "2010-10-31T00:00:00+00:00",
          "2010-11-30T00:00:00+00:00",
          "2010-12-31T00:00:00+00:00",
          "2011-01-31T00:00:00+00:00",
          "2011-02-28T00:00:00+00:00",
          "2011-03-31T00:00:00+00:00",
          "2011-04-30T00:00:00+00:00",
          "2011-05-31T00:00:00+00:00",
          "2011-06-30T00:00:00+00:00",
          "2011-07-31T00:00:00+00:00",
          "2011-08-31T00:00:00+00:00",
          "2011-09-30T00:00:00+00:00",
          "2011-10-31T00:00:00+00:00",
          "2011-11-30T00:00:00+00:00",
          "2011-12-31T00:00:00+00:00",
          "2012-01-31T00:00:00+00:00",
          "2012-02-29T00:00:00+00:00",
          "2012-03-31T00:00:00+00:00",
          "2012-04-30T00:00:00+00:00",
          "2012-05-31T00:00:00+00:00",
          "2012-06-30T00:00:00+00:00",
          "2012-07-31T00:00:00+00:00",
          "2012-08-31T00:00:00+00:00",
          "2012-09-30T00:00:00+00:00",
          "2012-10-31T00:00:00+00:00",
          "2012-11-30T00:00:00+00:00",
          "2012-12-31T00:00:00+00:00",
          "2013-01-31T00:00:00+00:00",
          "2013-02-28T00:00:00+00:00",
          "2013-03-31T00:00:00+00:00",
          "2013-04-30T00:00:00+00:00",
          "2013-05-31T00:00:00+00:00",
          "2013-06-30T00:00:00+00:00",
          "2013-07-31T00:00:00+00:00",
          "2013-08-31T00:00:00+00:00",
          "2013-09-30T00:00:00+00:00",
          "2013-10-31T00:00:00+00:00",
          "2013-11-30T00:00:00+00:00",
          "2013-12-31T00:00:00+00:00",
          "2014-01-31T00:00:00+00:00",
          "2014-02-28T00:00:00+00:00",
          "2014-03-31T00:00:00+00:00",
          "2014-04-30T00:00:00+00:00",
          "2014-05-31T00:00:00+00:00",
          "2014-06-30T00:00:00+00:00",
          "2014-07-31T00:00:00+00:00",
          "2014-08-31T00:00:00+00:00",
          "2014-09-30T00:00:00+00:00",
          "2014-10-31T00:00:00+00:00",
          "2014-11-30T00:00:00+00:00",
          "2014-12-31T00:00:00+00:00",
          "2015-01-31T00:00:00+00:00",
          "2015-02-28T00:00:00+00:00",
          "2015-03-31T00:00:00+00:00",
          "2015-04-30T00:00:00+00:00",
          "2015-05-31T00:00:00+00:00",
          "2015-06-30T00:00:00+00:00",
          "2015-07-31T00:00:00+00:00",
          "2015-08-31T00:00:00+00:00",
          "2015-09-30T00:00:00+00:00",
          "2015-10-31T00:00:00+00:00",
          "2015-11-30T00:00:00+00:00",
          "2015-12-31T00:00:00+00:00",
          "2016-01-31T00:00:00+00:00",
          "2016-02-29T00:00:00+00:00",
          "2016-03-31T00:00:00+00:00",
          "2016-04-30T00:00:00+00:00",
          "2016-05-31T00:00:00+00:00",
          "2016-06-30T00:00:00+00:00",
          "2016-07-31T00:00:00+00:00",
          "2016-08-31T00:00:00+00:00",
          "2016-09-30T00:00:00+00:00",
          "2016-10-31T00:00:00+00:00",
          "2016-11-30T00:00:00+00:00",
          "2016-12-31T00:00:00+00:00",
          "2017-01-31T00:00:00+00:00",
          "2017-02-28T00:00:00+00:00",
          "2017-03-31T00:00:00+00:00",
          "2017-04-30T00:00:00+00:00",
          "2017-05-31T00:00:00+00:00",
          "2017-06-30T00:00:00+00:00",
          "2017-07-31T00:00:00+00:00",
          "2017-08-31T00:00:00+00:00",
          "2017-09-30T00:00:00+00:00",
          "2017-10-31T00:00:00+00:00",
          "2017-11-30T00:00:00+00:00",
          "2017-12-31T00:00:00+00:00",
          "2018-01-31T00:00:00+00:00",
          "2018-02-28T00:00:00+00:00",
          "2018-03-31T00:00:00+00:00",
          "2018-04-30T00:00:00+00:00",
          "2018-05-31T00:00:00+00:00",
          "2018-06-30T00:00:00+00:00",
          "2018-07-31T00:00:00+00:00",
          "2018-08-31T00:00:00+00:00",
          "2018-09-30T00:00:00+00:00",
          "2018-10-31T00:00:00+00:00",
          "2018-11-30T00:00:00+00:00",
          "2018-12-31T00:00:00+00:00",
          "2019-01-31T00:00:00+00:00",
          "2019-02-28T00:00:00+00:00",
          "2019-03-31T00:00:00+00:00",
          "2019-04-30T00:00:00+00:00",
          "2019-05-31T00:00:00+00:00",
          "2019-06-30T00:00:00+00:00",
          "2019-07-31T00:00:00+00:00",
          "2019-08-31T00:00:00+00:00",
          "2019-09-30T00:00:00+00:00",
          "2019-10-31T00:00:00+00:00",
          "2019-11-30T00:00:00+00:00",
          "2019-12-31T00:00:00+00:00",
          "2020-01-31T00:00:00+00:00",
          "2020-02-29T00:00:00+00:00",
          "2020-03-31T00:00:00+00:00",
          "2020-04-30T00:00:00+00:00",
          "2020-05-31T00:00:00+00:00",
          "2020-06-30T00:00:00+00:00",
          "2020-07-31T00:00:00+00:00",
          "2020-08-31T00:00:00+00:00",
          "2020-09-30T00:00:00+00:00",
          "2020-10-31T00:00:00+00:00",
          "2020-11-30T00:00:00+00:00",
          "2020-12-31T00:00:00+00:00",
          "2021-01-31T00:00:00+00:00",
          "2021-02-28T00:00:00+00:00",
          "2021-03-31T00:00:00+00:00",
          "2021-04-30T00:00:00+00:00",
          "2021-05-31T00:00:00+00:00",
          "2021-06-30T00:00:00+00:00",
          "2021-07-31T00:00:00+00:00",
          "2021-08-31T00:00:00+00:00",
          "2021-09-30T00:00:00+00:00",
          "2021-10-31T00:00:00+00:00",
          "2021-11-30T00:00:00+00:00",
          "2021-12-31T00:00:00+00:00",
          "2022-01-31T00:00:00+00:00",
          "2022-02-28T00:00:00+00:00",
          "2022-03-31T00:00:00+00:00",
          "2022-04-30T00:00:00+00:00",
          "2022-05-31T00:00:00+00:00",
          "2022-06-30T00:00:00+00:00",
          "2022-07-31T00:00:00+00:00"
         ],
         "xaxis": "x",
         "y": [
          2,
          3,
          1,
          4,
          1,
          1,
          1,
          7,
          1,
          2,
          7,
          2,
          1,
          3,
          8,
          3,
          5,
          3,
          4,
          3,
          2,
          5,
          5,
          6,
          7,
          9,
          3,
          7,
          6,
          11,
          15,
          5,
          4,
          15,
          11,
          20,
          18,
          9,
          13,
          8,
          11,
          18,
          15,
          10,
          12,
          18,
          27,
          29,
          20,
          16,
          21,
          21,
          22,
          23,
          19,
          27,
          23,
          21,
          31,
          30,
          22,
          32,
          34,
          36,
          21,
          22,
          27,
          34,
          26,
          37,
          31,
          38,
          28,
          34,
          26,
          39,
          38,
          48,
          49,
          33,
          39,
          55,
          57,
          52,
          60,
          42,
          50,
          42,
          39,
          49,
          53,
          29,
          41,
          41,
          76,
          60,
          57,
          70,
          50,
          55,
          54,
          57,
          57,
          59,
          57,
          67,
          79,
          69,
          58,
          68,
          66,
          54,
          57,
          55,
          51,
          52,
          62,
          54,
          59,
          62,
          46,
          59,
          49,
          62,
          72,
          65,
          60,
          72,
          58,
          77,
          105,
          91,
          82,
          70,
          89,
          66,
          85,
          56,
          78,
          80,
          64,
          85,
          91,
          89,
          83,
          74,
          77,
          76,
          67,
          91,
          95,
          79,
          84,
          88,
          114,
          119,
          96,
          71,
          97,
          87,
          80,
          92,
          98,
          108,
          70,
          99,
          115,
          141,
          101,
          101,
          119,
          129,
          117,
          109,
          121,
          119,
          111,
          138,
          157,
          184,
          167,
          190,
          212,
          142
         ],
         "yaxis": "y"
        }
       ],
       "layout": {
        "legend": {
         "title": {
          "text": "billing_frequency"
         },
         "tracegroupgap": 0
        },
        "template": {
         "data": {
          "bar": [
           {
            "error_x": {
             "color": "#2a3f5f"
            },
            "error_y": {
             "color": "#2a3f5f"
            },
            "marker": {
             "line": {
              "color": "#E5ECF6",
              "width": 0.5
             }
            },
            "type": "bar"
           }
          ],
          "barpolar": [
           {
            "marker": {
             "line": {
              "color": "#E5ECF6",
              "width": 0.5
             }
            },
            "type": "barpolar"
           }
          ],
          "carpet": [
           {
            "aaxis": {
             "endlinecolor": "#2a3f5f",
             "gridcolor": "white",
             "linecolor": "white",
             "minorgridcolor": "white",
             "startlinecolor": "#2a3f5f"
            },
            "baxis": {
             "endlinecolor": "#2a3f5f",
             "gridcolor": "white",
             "linecolor": "white",
             "minorgridcolor": "white",
             "startlinecolor": "#2a3f5f"
            },
            "type": "carpet"
           }
          ],
          "choropleth": [
           {
            "colorbar": {
             "outlinewidth": 0,
             "ticks": ""
            },
            "type": "choropleth"
           }
          ],
          "contour": [
           {
            "colorbar": {
             "outlinewidth": 0,
             "ticks": ""
            },
            "colorscale": [
             [
              0,
              "#0d0887"
             ],
             [
              0.1111111111111111,
              "#46039f"
             ],
             [
              0.2222222222222222,
              "#7201a8"
             ],
             [
              0.3333333333333333,
              "#9c179e"
             ],
             [
              0.4444444444444444,
              "#bd3786"
             ],
             [
              0.5555555555555556,
              "#d8576b"
             ],
             [
              0.6666666666666666,
              "#ed7953"
             ],
             [
              0.7777777777777778,
              "#fb9f3a"
             ],
             [
              0.8888888888888888,
              "#fdca26"
             ],
             [
              1,
              "#f0f921"
             ]
            ],
            "type": "contour"
           }
          ],
          "contourcarpet": [
           {
            "colorbar": {
             "outlinewidth": 0,
             "ticks": ""
            },
            "type": "contourcarpet"
           }
          ],
          "heatmap": [
           {
            "colorbar": {
             "outlinewidth": 0,
             "ticks": ""
            },
            "colorscale": [
             [
              0,
              "#0d0887"
             ],
             [
              0.1111111111111111,
              "#46039f"
             ],
             [
              0.2222222222222222,
              "#7201a8"
             ],
             [
              0.3333333333333333,
              "#9c179e"
             ],
             [
              0.4444444444444444,
              "#bd3786"
             ],
             [
              0.5555555555555556,
              "#d8576b"
             ],
             [
              0.6666666666666666,
              "#ed7953"
             ],
             [
              0.7777777777777778,
              "#fb9f3a"
             ],
             [
              0.8888888888888888,
              "#fdca26"
             ],
             [
              1,
              "#f0f921"
             ]
            ],
            "type": "heatmap"
           }
          ],
          "heatmapgl": [
           {
            "colorbar": {
             "outlinewidth": 0,
             "ticks": ""
            },
            "colorscale": [
             [
              0,
              "#0d0887"
             ],
             [
              0.1111111111111111,
              "#46039f"
             ],
             [
              0.2222222222222222,
              "#7201a8"
             ],
             [
              0.3333333333333333,
              "#9c179e"
             ],
             [
              0.4444444444444444,
              "#bd3786"
             ],
             [
              0.5555555555555556,
              "#d8576b"
             ],
             [
              0.6666666666666666,
              "#ed7953"
             ],
             [
              0.7777777777777778,
              "#fb9f3a"
             ],
             [
              0.8888888888888888,
              "#fdca26"
             ],
             [
              1,
              "#f0f921"
             ]
            ],
            "type": "heatmapgl"
           }
          ],
          "histogram": [
           {
            "marker": {
             "colorbar": {
              "outlinewidth": 0,
              "ticks": ""
             }
            },
            "type": "histogram"
           }
          ],
          "histogram2d": [
           {
            "colorbar": {
             "outlinewidth": 0,
             "ticks": ""
            },
            "colorscale": [
             [
              0,
              "#0d0887"
             ],
             [
              0.1111111111111111,
              "#46039f"
             ],
             [
              0.2222222222222222,
              "#7201a8"
             ],
             [
              0.3333333333333333,
              "#9c179e"
             ],
             [
              0.4444444444444444,
              "#bd3786"
             ],
             [
              0.5555555555555556,
              "#d8576b"
             ],
             [
              0.6666666666666666,
              "#ed7953"
             ],
             [
              0.7777777777777778,
              "#fb9f3a"
             ],
             [
              0.8888888888888888,
              "#fdca26"
             ],
             [
              1,
              "#f0f921"
             ]
            ],
            "type": "histogram2d"
           }
          ],
          "histogram2dcontour": [
           {
            "colorbar": {
             "outlinewidth": 0,
             "ticks": ""
            },
            "colorscale": [
             [
              0,
              "#0d0887"
             ],
             [
              0.1111111111111111,
              "#46039f"
             ],
             [
              0.2222222222222222,
              "#7201a8"
             ],
             [
              0.3333333333333333,
              "#9c179e"
             ],
             [
              0.4444444444444444,
              "#bd3786"
             ],
             [
              0.5555555555555556,
              "#d8576b"
             ],
             [
              0.6666666666666666,
              "#ed7953"
             ],
             [
              0.7777777777777778,
              "#fb9f3a"
             ],
             [
              0.8888888888888888,
              "#fdca26"
             ],
             [
              1,
              "#f0f921"
             ]
            ],
            "type": "histogram2dcontour"
           }
          ],
          "mesh3d": [
           {
            "colorbar": {
             "outlinewidth": 0,
             "ticks": ""
            },
            "type": "mesh3d"
           }
          ],
          "parcoords": [
           {
            "line": {
             "colorbar": {
              "outlinewidth": 0,
              "ticks": ""
             }
            },
            "type": "parcoords"
           }
          ],
          "pie": [
           {
            "automargin": true,
            "type": "pie"
           }
          ],
          "scatter": [
           {
            "marker": {
             "colorbar": {
              "outlinewidth": 0,
              "ticks": ""
             }
            },
            "type": "scatter"
           }
          ],
          "scatter3d": [
           {
            "line": {
             "colorbar": {
              "outlinewidth": 0,
              "ticks": ""
             }
            },
            "marker": {
             "colorbar": {
              "outlinewidth": 0,
              "ticks": ""
             }
            },
            "type": "scatter3d"
           }
          ],
          "scattercarpet": [
           {
            "marker": {
             "colorbar": {
              "outlinewidth": 0,
              "ticks": ""
             }
            },
            "type": "scattercarpet"
           }
          ],
          "scattergeo": [
           {
            "marker": {
             "colorbar": {
              "outlinewidth": 0,
              "ticks": ""
             }
            },
            "type": "scattergeo"
           }
          ],
          "scattergl": [
           {
            "marker": {
             "colorbar": {
              "outlinewidth": 0,
              "ticks": ""
             }
            },
            "type": "scattergl"
           }
          ],
          "scattermapbox": [
           {
            "marker": {
             "colorbar": {
              "outlinewidth": 0,
              "ticks": ""
             }
            },
            "type": "scattermapbox"
           }
          ],
          "scatterpolar": [
           {
            "marker": {
             "colorbar": {
              "outlinewidth": 0,
              "ticks": ""
             }
            },
            "type": "scatterpolar"
           }
          ],
          "scatterpolargl": [
           {
            "marker": {
             "colorbar": {
              "outlinewidth": 0,
              "ticks": ""
             }
            },
            "type": "scatterpolargl"
           }
          ],
          "scatterternary": [
           {
            "marker": {
             "colorbar": {
              "outlinewidth": 0,
              "ticks": ""
             }
            },
            "type": "scatterternary"
           }
          ],
          "surface": [
           {
            "colorbar": {
             "outlinewidth": 0,
             "ticks": ""
            },
            "colorscale": [
             [
              0,
              "#0d0887"
             ],
             [
              0.1111111111111111,
              "#46039f"
             ],
             [
              0.2222222222222222,
              "#7201a8"
             ],
             [
              0.3333333333333333,
              "#9c179e"
             ],
             [
              0.4444444444444444,
              "#bd3786"
             ],
             [
              0.5555555555555556,
              "#d8576b"
             ],
             [
              0.6666666666666666,
              "#ed7953"
             ],
             [
              0.7777777777777778,
              "#fb9f3a"
             ],
             [
              0.8888888888888888,
              "#fdca26"
             ],
             [
              1,
              "#f0f921"
             ]
            ],
            "type": "surface"
           }
          ],
          "table": [
           {
            "cells": {
             "fill": {
              "color": "#EBF0F8"
             },
             "line": {
              "color": "white"
             }
            },
            "header": {
             "fill": {
              "color": "#C8D4E3"
             },
             "line": {
              "color": "white"
             }
            },
            "type": "table"
           }
          ]
         },
         "layout": {
          "annotationdefaults": {
           "arrowcolor": "#2a3f5f",
           "arrowhead": 0,
           "arrowwidth": 1
          },
          "autotypenumbers": "strict",
          "coloraxis": {
           "colorbar": {
            "outlinewidth": 0,
            "ticks": ""
           }
          },
          "colorscale": {
           "diverging": [
            [
             0,
             "#8e0152"
            ],
            [
             0.1,
             "#c51b7d"
            ],
            [
             0.2,
             "#de77ae"
            ],
            [
             0.3,
             "#f1b6da"
            ],
            [
             0.4,
             "#fde0ef"
            ],
            [
             0.5,
             "#f7f7f7"
            ],
            [
             0.6,
             "#e6f5d0"
            ],
            [
             0.7,
             "#b8e186"
            ],
            [
             0.8,
             "#7fbc41"
            ],
            [
             0.9,
             "#4d9221"
            ],
            [
             1,
             "#276419"
            ]
           ],
           "sequential": [
            [
             0,
             "#0d0887"
            ],
            [
             0.1111111111111111,
             "#46039f"
            ],
            [
             0.2222222222222222,
             "#7201a8"
            ],
            [
             0.3333333333333333,
             "#9c179e"
            ],
            [
             0.4444444444444444,
             "#bd3786"
            ],
            [
             0.5555555555555556,
             "#d8576b"
            ],
            [
             0.6666666666666666,
             "#ed7953"
            ],
            [
             0.7777777777777778,
             "#fb9f3a"
            ],
            [
             0.8888888888888888,
             "#fdca26"
            ],
            [
             1,
             "#f0f921"
            ]
           ],
           "sequentialminus": [
            [
             0,
             "#0d0887"
            ],
            [
             0.1111111111111111,
             "#46039f"
            ],
            [
             0.2222222222222222,
             "#7201a8"
            ],
            [
             0.3333333333333333,
             "#9c179e"
            ],
            [
             0.4444444444444444,
             "#bd3786"
            ],
            [
             0.5555555555555556,
             "#d8576b"
            ],
            [
             0.6666666666666666,
             "#ed7953"
            ],
            [
             0.7777777777777778,
             "#fb9f3a"
            ],
            [
             0.8888888888888888,
             "#fdca26"
            ],
            [
             1,
             "#f0f921"
            ]
           ]
          },
          "colorway": [
           "#636efa",
           "#EF553B",
           "#00cc96",
           "#ab63fa",
           "#FFA15A",
           "#19d3f3",
           "#FF6692",
           "#B6E880",
           "#FF97FF",
           "#FECB52"
          ],
          "font": {
           "color": "#2a3f5f"
          },
          "geo": {
           "bgcolor": "white",
           "lakecolor": "white",
           "landcolor": "#E5ECF6",
           "showlakes": true,
           "showland": true,
           "subunitcolor": "white"
          },
          "hoverlabel": {
           "align": "left"
          },
          "hovermode": "closest",
          "mapbox": {
           "style": "light"
          },
          "paper_bgcolor": "white",
          "plot_bgcolor": "#E5ECF6",
          "polar": {
           "angularaxis": {
            "gridcolor": "white",
            "linecolor": "white",
            "ticks": ""
           },
           "bgcolor": "#E5ECF6",
           "radialaxis": {
            "gridcolor": "white",
            "linecolor": "white",
            "ticks": ""
           }
          },
          "scene": {
           "xaxis": {
            "backgroundcolor": "#E5ECF6",
            "gridcolor": "white",
            "gridwidth": 2,
            "linecolor": "white",
            "showbackground": true,
            "ticks": "",
            "zerolinecolor": "white"
           },
           "yaxis": {
            "backgroundcolor": "#E5ECF6",
            "gridcolor": "white",
            "gridwidth": 2,
            "linecolor": "white",
            "showbackground": true,
            "ticks": "",
            "zerolinecolor": "white"
           },
           "zaxis": {
            "backgroundcolor": "#E5ECF6",
            "gridcolor": "white",
            "gridwidth": 2,
            "linecolor": "white",
            "showbackground": true,
            "ticks": "",
            "zerolinecolor": "white"
           }
          },
          "shapedefaults": {
           "line": {
            "color": "#2a3f5f"
           }
          },
          "ternary": {
           "aaxis": {
            "gridcolor": "white",
            "linecolor": "white",
            "ticks": ""
           },
           "baxis": {
            "gridcolor": "white",
            "linecolor": "white",
            "ticks": ""
           },
           "bgcolor": "#E5ECF6",
           "caxis": {
            "gridcolor": "white",
            "linecolor": "white",
            "ticks": ""
           }
          },
          "title": {
           "x": 0.05
          },
          "xaxis": {
           "automargin": true,
           "gridcolor": "white",
           "linecolor": "white",
           "ticks": "",
           "title": {
            "standoff": 15
           },
           "zerolinecolor": "white",
           "zerolinewidth": 2
          },
          "yaxis": {
           "automargin": true,
           "gridcolor": "white",
           "linecolor": "white",
           "ticks": "",
           "title": {
            "standoff": 15
           },
           "zerolinecolor": "white",
           "zerolinewidth": 2
          }
         }
        },
        "title": {
         "text": "Customers conversion over time (by billing frequency)"
        },
        "xaxis": {
         "anchor": "y",
         "domain": [
          0,
          1
         ],
         "title": {
          "text": "converted_at_date"
         }
        },
        "yaxis": {
         "anchor": "x",
         "domain": [
          0,
          1
         ],
         "title": {
          "text": "number_of_companies"
         }
        }
       }
      },
      "text/html": [
       "<div>                            <div id=\"42213fd2-6ccb-4344-9c4e-f7a7377261d9\" class=\"plotly-graph-div\" style=\"height:525px; width:100%;\"></div>            <script type=\"text/javascript\">                require([\"plotly\"], function(Plotly) {                    window.PLOTLYENV=window.PLOTLYENV || {};                                    if (document.getElementById(\"42213fd2-6ccb-4344-9c4e-f7a7377261d9\")) {                    Plotly.newPlot(                        \"42213fd2-6ccb-4344-9c4e-f7a7377261d9\",                        [{\"hovertemplate\": \"billing_frequency=yearly<br>converted_at_date=%{x}<br>number_of_companies=%{y}<extra></extra>\", \"legendgroup\": \"yearly\", \"line\": {\"color\": \"#636efa\", \"dash\": \"solid\"}, \"mode\": \"lines\", \"name\": \"yearly\", \"orientation\": \"v\", \"showlegend\": true, \"type\": \"scatter\", \"x\": [\"2006-06-30T00:00:00+00:00\", \"2006-10-31T00:00:00+00:00\", \"2007-01-31T00:00:00+00:00\", \"2007-04-30T00:00:00+00:00\", \"2007-08-31T00:00:00+00:00\", \"2007-09-30T00:00:00+00:00\", \"2008-01-31T00:00:00+00:00\", \"2008-02-29T00:00:00+00:00\", \"2008-04-30T00:00:00+00:00\", \"2008-05-31T00:00:00+00:00\", \"2008-06-30T00:00:00+00:00\", \"2008-07-31T00:00:00+00:00\", \"2008-08-31T00:00:00+00:00\", \"2008-09-30T00:00:00+00:00\", \"2008-11-30T00:00:00+00:00\", \"2008-12-31T00:00:00+00:00\", \"2009-02-28T00:00:00+00:00\", \"2009-03-31T00:00:00+00:00\", \"2009-04-30T00:00:00+00:00\", \"2009-05-31T00:00:00+00:00\", \"2009-06-30T00:00:00+00:00\", \"2009-07-31T00:00:00+00:00\", \"2009-08-31T00:00:00+00:00\", \"2009-09-30T00:00:00+00:00\", \"2009-10-31T00:00:00+00:00\", \"2009-11-30T00:00:00+00:00\", \"2009-12-31T00:00:00+00:00\", \"2010-01-31T00:00:00+00:00\", \"2010-02-28T00:00:00+00:00\", \"2010-03-31T00:00:00+00:00\", \"2010-04-30T00:00:00+00:00\", \"2010-05-31T00:00:00+00:00\", \"2010-06-30T00:00:00+00:00\", \"2010-07-31T00:00:00+00:00\", \"2010-08-31T00:00:00+00:00\", \"2010-09-30T00:00:00+00:00\", \"2010-10-31T00:00:00+00:00\", \"2010-11-30T00:00:00+00:00\", \"2010-12-31T00:00:00+00:00\", \"2011-01-31T00:00:00+00:00\", \"2011-02-28T00:00:00+00:00\", \"2011-03-31T00:00:00+00:00\", \"2011-04-30T00:00:00+00:00\", \"2011-05-31T00:00:00+00:00\", \"2011-06-30T00:00:00+00:00\", \"2011-07-31T00:00:00+00:00\", \"2011-08-31T00:00:00+00:00\", \"2011-09-30T00:00:00+00:00\", \"2011-10-31T00:00:00+00:00\", \"2011-11-30T00:00:00+00:00\", \"2011-12-31T00:00:00+00:00\", \"2012-01-31T00:00:00+00:00\", \"2012-02-29T00:00:00+00:00\", \"2012-03-31T00:00:00+00:00\", \"2012-04-30T00:00:00+00:00\", \"2012-05-31T00:00:00+00:00\", \"2012-06-30T00:00:00+00:00\", \"2012-07-31T00:00:00+00:00\", \"2012-08-31T00:00:00+00:00\", \"2012-09-30T00:00:00+00:00\", \"2012-10-31T00:00:00+00:00\", \"2012-11-30T00:00:00+00:00\", \"2012-12-31T00:00:00+00:00\", \"2013-01-31T00:00:00+00:00\", \"2013-02-28T00:00:00+00:00\", \"2013-03-31T00:00:00+00:00\", \"2013-04-30T00:00:00+00:00\", \"2013-05-31T00:00:00+00:00\", \"2013-06-30T00:00:00+00:00\", \"2013-07-31T00:00:00+00:00\", \"2013-08-31T00:00:00+00:00\", \"2013-09-30T00:00:00+00:00\", \"2013-10-31T00:00:00+00:00\", \"2013-11-30T00:00:00+00:00\", \"2013-12-31T00:00:00+00:00\", \"2014-01-31T00:00:00+00:00\", \"2014-02-28T00:00:00+00:00\", \"2014-03-31T00:00:00+00:00\", \"2014-04-30T00:00:00+00:00\", \"2014-05-31T00:00:00+00:00\", \"2014-06-30T00:00:00+00:00\", \"2014-07-31T00:00:00+00:00\", \"2014-08-31T00:00:00+00:00\", \"2014-09-30T00:00:00+00:00\", \"2014-10-31T00:00:00+00:00\", \"2014-11-30T00:00:00+00:00\", \"2014-12-31T00:00:00+00:00\", \"2015-01-31T00:00:00+00:00\", \"2015-02-28T00:00:00+00:00\", \"2015-03-31T00:00:00+00:00\", \"2015-04-30T00:00:00+00:00\", \"2015-05-31T00:00:00+00:00\", \"2015-06-30T00:00:00+00:00\", \"2015-07-31T00:00:00+00:00\", \"2015-08-31T00:00:00+00:00\", \"2015-09-30T00:00:00+00:00\", \"2015-10-31T00:00:00+00:00\", \"2015-11-30T00:00:00+00:00\", \"2015-12-31T00:00:00+00:00\", \"2016-01-31T00:00:00+00:00\", \"2016-02-29T00:00:00+00:00\", \"2016-03-31T00:00:00+00:00\", \"2016-04-30T00:00:00+00:00\", \"2016-05-31T00:00:00+00:00\", \"2016-06-30T00:00:00+00:00\", \"2016-07-31T00:00:00+00:00\", \"2016-08-31T00:00:00+00:00\", \"2016-09-30T00:00:00+00:00\", \"2016-10-31T00:00:00+00:00\", \"2016-11-30T00:00:00+00:00\", \"2016-12-31T00:00:00+00:00\", \"2017-01-31T00:00:00+00:00\", \"2017-02-28T00:00:00+00:00\", \"2017-03-31T00:00:00+00:00\", \"2017-04-30T00:00:00+00:00\", \"2017-05-31T00:00:00+00:00\", \"2017-06-30T00:00:00+00:00\", \"2017-07-31T00:00:00+00:00\", \"2017-08-31T00:00:00+00:00\", \"2017-09-30T00:00:00+00:00\", \"2017-10-31T00:00:00+00:00\", \"2017-11-30T00:00:00+00:00\", \"2017-12-31T00:00:00+00:00\", \"2018-01-31T00:00:00+00:00\", \"2018-02-28T00:00:00+00:00\", \"2018-03-31T00:00:00+00:00\", \"2018-04-30T00:00:00+00:00\", \"2018-05-31T00:00:00+00:00\", \"2018-06-30T00:00:00+00:00\", \"2018-07-31T00:00:00+00:00\", \"2018-08-31T00:00:00+00:00\", \"2018-09-30T00:00:00+00:00\", \"2018-10-31T00:00:00+00:00\", \"2018-11-30T00:00:00+00:00\", \"2018-12-31T00:00:00+00:00\", \"2019-01-31T00:00:00+00:00\", \"2019-02-28T00:00:00+00:00\", \"2019-03-31T00:00:00+00:00\", \"2019-04-30T00:00:00+00:00\", \"2019-05-31T00:00:00+00:00\", \"2019-06-30T00:00:00+00:00\", \"2019-07-31T00:00:00+00:00\", \"2019-08-31T00:00:00+00:00\", \"2019-09-30T00:00:00+00:00\", \"2019-10-31T00:00:00+00:00\", \"2019-11-30T00:00:00+00:00\", \"2019-12-31T00:00:00+00:00\", \"2020-01-31T00:00:00+00:00\", \"2020-02-29T00:00:00+00:00\", \"2020-03-31T00:00:00+00:00\", \"2020-04-30T00:00:00+00:00\", \"2020-05-31T00:00:00+00:00\", \"2020-06-30T00:00:00+00:00\", \"2020-07-31T00:00:00+00:00\", \"2020-08-31T00:00:00+00:00\", \"2020-09-30T00:00:00+00:00\", \"2020-10-31T00:00:00+00:00\", \"2020-11-30T00:00:00+00:00\", \"2020-12-31T00:00:00+00:00\", \"2021-01-31T00:00:00+00:00\", \"2021-02-28T00:00:00+00:00\", \"2021-03-31T00:00:00+00:00\", \"2021-04-30T00:00:00+00:00\", \"2021-05-31T00:00:00+00:00\", \"2021-06-30T00:00:00+00:00\", \"2021-07-31T00:00:00+00:00\", \"2021-08-31T00:00:00+00:00\", \"2021-09-30T00:00:00+00:00\", \"2021-10-31T00:00:00+00:00\", \"2021-11-30T00:00:00+00:00\", \"2021-12-31T00:00:00+00:00\", \"2022-01-31T00:00:00+00:00\", \"2022-02-28T00:00:00+00:00\", \"2022-03-31T00:00:00+00:00\", \"2022-04-30T00:00:00+00:00\", \"2022-05-31T00:00:00+00:00\", \"2022-06-30T00:00:00+00:00\", \"2022-07-31T00:00:00+00:00\"], \"xaxis\": \"x\", \"y\": [1, 1, 1, 1, 1, 1, 1, 1, 1, 1, 2, 1, 2, 1, 2, 1, 1, 4, 4, 2, 3, 2, 1, 2, 1, 1, 5, 5, 3, 4, 4, 5, 8, 5, 9, 11, 3, 10, 16, 14, 16, 14, 16, 18, 19, 15, 13, 12, 12, 7, 17, 19, 20, 21, 10, 18, 22, 15, 15, 20, 22, 25, 20, 20, 28, 21, 25, 25, 18, 23, 32, 32, 36, 27, 25, 29, 36, 32, 30, 23, 23, 28, 24, 24, 28, 35, 32, 36, 39, 29, 33, 31, 31, 27, 34, 35, 35, 38, 30, 25, 51, 51, 35, 38, 34, 28, 27, 38, 37, 30, 33, 42, 42, 44, 34, 30, 37, 38, 39, 29, 49, 45, 42, 47, 57, 56, 34, 31, 43, 36, 45, 50, 45, 47, 41, 47, 63, 44, 50, 42, 41, 42, 43, 42, 40, 55, 49, 56, 61, 49, 45, 38, 39, 61, 42, 51, 52, 48, 41, 81, 76, 78, 60, 53, 47, 48, 57, 53, 41, 78, 57, 72, 82, 75, 57, 51, 61, 55], \"yaxis\": \"y\"}, {\"hovertemplate\": \"billing_frequency=monthly<br>converted_at_date=%{x}<br>number_of_companies=%{y}<extra></extra>\", \"legendgroup\": \"monthly\", \"line\": {\"color\": \"#EF553B\", \"dash\": \"solid\"}, \"mode\": \"lines\", \"name\": \"monthly\", \"orientation\": \"v\", \"showlegend\": true, \"type\": \"scatter\", \"x\": [\"2006-07-31T00:00:00+00:00\", \"2006-08-31T00:00:00+00:00\", \"2006-11-30T00:00:00+00:00\", \"2007-01-31T00:00:00+00:00\", \"2007-06-30T00:00:00+00:00\", \"2007-07-31T00:00:00+00:00\", \"2007-08-31T00:00:00+00:00\", \"2007-11-30T00:00:00+00:00\", \"2007-12-31T00:00:00+00:00\", \"2008-01-31T00:00:00+00:00\", \"2008-02-29T00:00:00+00:00\", \"2008-03-31T00:00:00+00:00\", \"2008-04-30T00:00:00+00:00\", \"2008-05-31T00:00:00+00:00\", \"2008-06-30T00:00:00+00:00\", \"2008-07-31T00:00:00+00:00\", \"2008-08-31T00:00:00+00:00\", \"2008-09-30T00:00:00+00:00\", \"2008-10-31T00:00:00+00:00\", \"2008-11-30T00:00:00+00:00\", \"2008-12-31T00:00:00+00:00\", \"2009-01-31T00:00:00+00:00\", \"2009-02-28T00:00:00+00:00\", \"2009-03-31T00:00:00+00:00\", \"2009-04-30T00:00:00+00:00\", \"2009-05-31T00:00:00+00:00\", \"2009-06-30T00:00:00+00:00\", \"2009-07-31T00:00:00+00:00\", \"2009-08-31T00:00:00+00:00\", \"2009-09-30T00:00:00+00:00\", \"2009-10-31T00:00:00+00:00\", \"2009-11-30T00:00:00+00:00\", \"2009-12-31T00:00:00+00:00\", \"2010-01-31T00:00:00+00:00\", \"2010-02-28T00:00:00+00:00\", \"2010-03-31T00:00:00+00:00\", \"2010-04-30T00:00:00+00:00\", \"2010-05-31T00:00:00+00:00\", \"2010-06-30T00:00:00+00:00\", \"2010-07-31T00:00:00+00:00\", \"2010-08-31T00:00:00+00:00\", \"2010-09-30T00:00:00+00:00\", \"2010-10-31T00:00:00+00:00\", \"2010-11-30T00:00:00+00:00\", \"2010-12-31T00:00:00+00:00\", \"2011-01-31T00:00:00+00:00\", \"2011-02-28T00:00:00+00:00\", \"2011-03-31T00:00:00+00:00\", \"2011-04-30T00:00:00+00:00\", \"2011-05-31T00:00:00+00:00\", \"2011-06-30T00:00:00+00:00\", \"2011-07-31T00:00:00+00:00\", \"2011-08-31T00:00:00+00:00\", \"2011-09-30T00:00:00+00:00\", \"2011-10-31T00:00:00+00:00\", \"2011-11-30T00:00:00+00:00\", \"2011-12-31T00:00:00+00:00\", \"2012-01-31T00:00:00+00:00\", \"2012-02-29T00:00:00+00:00\", \"2012-03-31T00:00:00+00:00\", \"2012-04-30T00:00:00+00:00\", \"2012-05-31T00:00:00+00:00\", \"2012-06-30T00:00:00+00:00\", \"2012-07-31T00:00:00+00:00\", \"2012-08-31T00:00:00+00:00\", \"2012-09-30T00:00:00+00:00\", \"2012-10-31T00:00:00+00:00\", \"2012-11-30T00:00:00+00:00\", \"2012-12-31T00:00:00+00:00\", \"2013-01-31T00:00:00+00:00\", \"2013-02-28T00:00:00+00:00\", \"2013-03-31T00:00:00+00:00\", \"2013-04-30T00:00:00+00:00\", \"2013-05-31T00:00:00+00:00\", \"2013-06-30T00:00:00+00:00\", \"2013-07-31T00:00:00+00:00\", \"2013-08-31T00:00:00+00:00\", \"2013-09-30T00:00:00+00:00\", \"2013-10-31T00:00:00+00:00\", \"2013-11-30T00:00:00+00:00\", \"2013-12-31T00:00:00+00:00\", \"2014-01-31T00:00:00+00:00\", \"2014-02-28T00:00:00+00:00\", \"2014-03-31T00:00:00+00:00\", \"2014-04-30T00:00:00+00:00\", \"2014-05-31T00:00:00+00:00\", \"2014-06-30T00:00:00+00:00\", \"2014-07-31T00:00:00+00:00\", \"2014-08-31T00:00:00+00:00\", \"2014-09-30T00:00:00+00:00\", \"2014-10-31T00:00:00+00:00\", \"2014-11-30T00:00:00+00:00\", \"2014-12-31T00:00:00+00:00\", \"2015-01-31T00:00:00+00:00\", \"2015-02-28T00:00:00+00:00\", \"2015-03-31T00:00:00+00:00\", \"2015-04-30T00:00:00+00:00\", \"2015-05-31T00:00:00+00:00\", \"2015-06-30T00:00:00+00:00\", \"2015-07-31T00:00:00+00:00\", \"2015-08-31T00:00:00+00:00\", \"2015-09-30T00:00:00+00:00\", \"2015-10-31T00:00:00+00:00\", \"2015-11-30T00:00:00+00:00\", \"2015-12-31T00:00:00+00:00\", \"2016-01-31T00:00:00+00:00\", \"2016-02-29T00:00:00+00:00\", \"2016-03-31T00:00:00+00:00\", \"2016-04-30T00:00:00+00:00\", \"2016-05-31T00:00:00+00:00\", \"2016-06-30T00:00:00+00:00\", \"2016-07-31T00:00:00+00:00\", \"2016-08-31T00:00:00+00:00\", \"2016-09-30T00:00:00+00:00\", \"2016-10-31T00:00:00+00:00\", \"2016-11-30T00:00:00+00:00\", \"2016-12-31T00:00:00+00:00\", \"2017-01-31T00:00:00+00:00\", \"2017-02-28T00:00:00+00:00\", \"2017-03-31T00:00:00+00:00\", \"2017-04-30T00:00:00+00:00\", \"2017-05-31T00:00:00+00:00\", \"2017-06-30T00:00:00+00:00\", \"2017-07-31T00:00:00+00:00\", \"2017-08-31T00:00:00+00:00\", \"2017-09-30T00:00:00+00:00\", \"2017-10-31T00:00:00+00:00\", \"2017-11-30T00:00:00+00:00\", \"2017-12-31T00:00:00+00:00\", \"2018-01-31T00:00:00+00:00\", \"2018-02-28T00:00:00+00:00\", \"2018-03-31T00:00:00+00:00\", \"2018-04-30T00:00:00+00:00\", \"2018-05-31T00:00:00+00:00\", \"2018-06-30T00:00:00+00:00\", \"2018-07-31T00:00:00+00:00\", \"2018-08-31T00:00:00+00:00\", \"2018-09-30T00:00:00+00:00\", \"2018-10-31T00:00:00+00:00\", \"2018-11-30T00:00:00+00:00\", \"2018-12-31T00:00:00+00:00\", \"2019-01-31T00:00:00+00:00\", \"2019-02-28T00:00:00+00:00\", \"2019-03-31T00:00:00+00:00\", \"2019-04-30T00:00:00+00:00\", \"2019-05-31T00:00:00+00:00\", \"2019-06-30T00:00:00+00:00\", \"2019-07-31T00:00:00+00:00\", \"2019-08-31T00:00:00+00:00\", \"2019-09-30T00:00:00+00:00\", \"2019-10-31T00:00:00+00:00\", \"2019-11-30T00:00:00+00:00\", \"2019-12-31T00:00:00+00:00\", \"2020-01-31T00:00:00+00:00\", \"2020-02-29T00:00:00+00:00\", \"2020-03-31T00:00:00+00:00\", \"2020-04-30T00:00:00+00:00\", \"2020-05-31T00:00:00+00:00\", \"2020-06-30T00:00:00+00:00\", \"2020-07-31T00:00:00+00:00\", \"2020-08-31T00:00:00+00:00\", \"2020-09-30T00:00:00+00:00\", \"2020-10-31T00:00:00+00:00\", \"2020-11-30T00:00:00+00:00\", \"2020-12-31T00:00:00+00:00\", \"2021-01-31T00:00:00+00:00\", \"2021-02-28T00:00:00+00:00\", \"2021-03-31T00:00:00+00:00\", \"2021-04-30T00:00:00+00:00\", \"2021-05-31T00:00:00+00:00\", \"2021-06-30T00:00:00+00:00\", \"2021-07-31T00:00:00+00:00\", \"2021-08-31T00:00:00+00:00\", \"2021-09-30T00:00:00+00:00\", \"2021-10-31T00:00:00+00:00\", \"2021-11-30T00:00:00+00:00\", \"2021-12-31T00:00:00+00:00\", \"2022-01-31T00:00:00+00:00\", \"2022-02-28T00:00:00+00:00\", \"2022-03-31T00:00:00+00:00\", \"2022-04-30T00:00:00+00:00\", \"2022-05-31T00:00:00+00:00\", \"2022-06-30T00:00:00+00:00\", \"2022-07-31T00:00:00+00:00\"], \"xaxis\": \"x\", \"y\": [2, 3, 1, 4, 1, 1, 1, 7, 1, 2, 7, 2, 1, 3, 8, 3, 5, 3, 4, 3, 2, 5, 5, 6, 7, 9, 3, 7, 6, 11, 15, 5, 4, 15, 11, 20, 18, 9, 13, 8, 11, 18, 15, 10, 12, 18, 27, 29, 20, 16, 21, 21, 22, 23, 19, 27, 23, 21, 31, 30, 22, 32, 34, 36, 21, 22, 27, 34, 26, 37, 31, 38, 28, 34, 26, 39, 38, 48, 49, 33, 39, 55, 57, 52, 60, 42, 50, 42, 39, 49, 53, 29, 41, 41, 76, 60, 57, 70, 50, 55, 54, 57, 57, 59, 57, 67, 79, 69, 58, 68, 66, 54, 57, 55, 51, 52, 62, 54, 59, 62, 46, 59, 49, 62, 72, 65, 60, 72, 58, 77, 105, 91, 82, 70, 89, 66, 85, 56, 78, 80, 64, 85, 91, 89, 83, 74, 77, 76, 67, 91, 95, 79, 84, 88, 114, 119, 96, 71, 97, 87, 80, 92, 98, 108, 70, 99, 115, 141, 101, 101, 119, 129, 117, 109, 121, 119, 111, 138, 157, 184, 167, 190, 212, 142], \"yaxis\": \"y\"}],                        {\"legend\": {\"title\": {\"text\": \"billing_frequency\"}, \"tracegroupgap\": 0}, \"template\": {\"data\": {\"bar\": [{\"error_x\": {\"color\": \"#2a3f5f\"}, \"error_y\": {\"color\": \"#2a3f5f\"}, \"marker\": {\"line\": {\"color\": \"#E5ECF6\", \"width\": 0.5}}, \"type\": \"bar\"}], \"barpolar\": [{\"marker\": {\"line\": {\"color\": \"#E5ECF6\", \"width\": 0.5}}, \"type\": \"barpolar\"}], \"carpet\": [{\"aaxis\": {\"endlinecolor\": \"#2a3f5f\", \"gridcolor\": \"white\", \"linecolor\": \"white\", \"minorgridcolor\": \"white\", \"startlinecolor\": \"#2a3f5f\"}, \"baxis\": {\"endlinecolor\": \"#2a3f5f\", \"gridcolor\": \"white\", \"linecolor\": \"white\", \"minorgridcolor\": \"white\", \"startlinecolor\": \"#2a3f5f\"}, \"type\": \"carpet\"}], \"choropleth\": [{\"colorbar\": {\"outlinewidth\": 0, \"ticks\": \"\"}, \"type\": \"choropleth\"}], \"contour\": [{\"colorbar\": {\"outlinewidth\": 0, \"ticks\": \"\"}, \"colorscale\": [[0.0, \"#0d0887\"], [0.1111111111111111, \"#46039f\"], [0.2222222222222222, \"#7201a8\"], [0.3333333333333333, \"#9c179e\"], [0.4444444444444444, \"#bd3786\"], [0.5555555555555556, \"#d8576b\"], [0.6666666666666666, \"#ed7953\"], [0.7777777777777778, \"#fb9f3a\"], [0.8888888888888888, \"#fdca26\"], [1.0, \"#f0f921\"]], \"type\": \"contour\"}], \"contourcarpet\": [{\"colorbar\": {\"outlinewidth\": 0, \"ticks\": \"\"}, \"type\": \"contourcarpet\"}], \"heatmap\": [{\"colorbar\": {\"outlinewidth\": 0, \"ticks\": \"\"}, \"colorscale\": [[0.0, \"#0d0887\"], [0.1111111111111111, \"#46039f\"], [0.2222222222222222, \"#7201a8\"], [0.3333333333333333, \"#9c179e\"], [0.4444444444444444, \"#bd3786\"], [0.5555555555555556, \"#d8576b\"], [0.6666666666666666, \"#ed7953\"], [0.7777777777777778, \"#fb9f3a\"], [0.8888888888888888, \"#fdca26\"], [1.0, \"#f0f921\"]], \"type\": \"heatmap\"}], \"heatmapgl\": [{\"colorbar\": {\"outlinewidth\": 0, \"ticks\": \"\"}, \"colorscale\": [[0.0, \"#0d0887\"], [0.1111111111111111, \"#46039f\"], [0.2222222222222222, \"#7201a8\"], [0.3333333333333333, \"#9c179e\"], [0.4444444444444444, \"#bd3786\"], [0.5555555555555556, \"#d8576b\"], [0.6666666666666666, \"#ed7953\"], [0.7777777777777778, \"#fb9f3a\"], [0.8888888888888888, \"#fdca26\"], [1.0, \"#f0f921\"]], \"type\": \"heatmapgl\"}], \"histogram\": [{\"marker\": {\"colorbar\": {\"outlinewidth\": 0, \"ticks\": \"\"}}, \"type\": \"histogram\"}], \"histogram2d\": [{\"colorbar\": {\"outlinewidth\": 0, \"ticks\": \"\"}, \"colorscale\": [[0.0, \"#0d0887\"], [0.1111111111111111, \"#46039f\"], [0.2222222222222222, \"#7201a8\"], [0.3333333333333333, \"#9c179e\"], [0.4444444444444444, \"#bd3786\"], [0.5555555555555556, \"#d8576b\"], [0.6666666666666666, \"#ed7953\"], [0.7777777777777778, \"#fb9f3a\"], [0.8888888888888888, \"#fdca26\"], [1.0, \"#f0f921\"]], \"type\": \"histogram2d\"}], \"histogram2dcontour\": [{\"colorbar\": {\"outlinewidth\": 0, \"ticks\": \"\"}, \"colorscale\": [[0.0, \"#0d0887\"], [0.1111111111111111, \"#46039f\"], [0.2222222222222222, \"#7201a8\"], [0.3333333333333333, \"#9c179e\"], [0.4444444444444444, \"#bd3786\"], [0.5555555555555556, \"#d8576b\"], [0.6666666666666666, \"#ed7953\"], [0.7777777777777778, \"#fb9f3a\"], [0.8888888888888888, \"#fdca26\"], [1.0, \"#f0f921\"]], \"type\": \"histogram2dcontour\"}], \"mesh3d\": [{\"colorbar\": {\"outlinewidth\": 0, \"ticks\": \"\"}, \"type\": \"mesh3d\"}], \"parcoords\": [{\"line\": {\"colorbar\": {\"outlinewidth\": 0, \"ticks\": \"\"}}, \"type\": \"parcoords\"}], \"pie\": [{\"automargin\": true, \"type\": \"pie\"}], \"scatter\": [{\"marker\": {\"colorbar\": {\"outlinewidth\": 0, \"ticks\": \"\"}}, \"type\": \"scatter\"}], \"scatter3d\": [{\"line\": {\"colorbar\": {\"outlinewidth\": 0, \"ticks\": \"\"}}, \"marker\": {\"colorbar\": {\"outlinewidth\": 0, \"ticks\": \"\"}}, \"type\": \"scatter3d\"}], \"scattercarpet\": [{\"marker\": {\"colorbar\": {\"outlinewidth\": 0, \"ticks\": \"\"}}, \"type\": \"scattercarpet\"}], \"scattergeo\": [{\"marker\": {\"colorbar\": {\"outlinewidth\": 0, \"ticks\": \"\"}}, \"type\": \"scattergeo\"}], \"scattergl\": [{\"marker\": {\"colorbar\": {\"outlinewidth\": 0, \"ticks\": \"\"}}, \"type\": \"scattergl\"}], \"scattermapbox\": [{\"marker\": {\"colorbar\": {\"outlinewidth\": 0, \"ticks\": \"\"}}, \"type\": \"scattermapbox\"}], \"scatterpolar\": [{\"marker\": {\"colorbar\": {\"outlinewidth\": 0, \"ticks\": \"\"}}, \"type\": \"scatterpolar\"}], \"scatterpolargl\": [{\"marker\": {\"colorbar\": {\"outlinewidth\": 0, \"ticks\": \"\"}}, \"type\": \"scatterpolargl\"}], \"scatterternary\": [{\"marker\": {\"colorbar\": {\"outlinewidth\": 0, \"ticks\": \"\"}}, \"type\": \"scatterternary\"}], \"surface\": [{\"colorbar\": {\"outlinewidth\": 0, \"ticks\": \"\"}, \"colorscale\": [[0.0, \"#0d0887\"], [0.1111111111111111, \"#46039f\"], [0.2222222222222222, \"#7201a8\"], [0.3333333333333333, \"#9c179e\"], [0.4444444444444444, \"#bd3786\"], [0.5555555555555556, \"#d8576b\"], [0.6666666666666666, \"#ed7953\"], [0.7777777777777778, \"#fb9f3a\"], [0.8888888888888888, \"#fdca26\"], [1.0, \"#f0f921\"]], \"type\": \"surface\"}], \"table\": [{\"cells\": {\"fill\": {\"color\": \"#EBF0F8\"}, \"line\": {\"color\": \"white\"}}, \"header\": {\"fill\": {\"color\": \"#C8D4E3\"}, \"line\": {\"color\": \"white\"}}, \"type\": \"table\"}]}, \"layout\": {\"annotationdefaults\": {\"arrowcolor\": \"#2a3f5f\", \"arrowhead\": 0, \"arrowwidth\": 1}, \"autotypenumbers\": \"strict\", \"coloraxis\": {\"colorbar\": {\"outlinewidth\": 0, \"ticks\": \"\"}}, \"colorscale\": {\"diverging\": [[0, \"#8e0152\"], [0.1, \"#c51b7d\"], [0.2, \"#de77ae\"], [0.3, \"#f1b6da\"], [0.4, \"#fde0ef\"], [0.5, \"#f7f7f7\"], [0.6, \"#e6f5d0\"], [0.7, \"#b8e186\"], [0.8, \"#7fbc41\"], [0.9, \"#4d9221\"], [1, \"#276419\"]], \"sequential\": [[0.0, \"#0d0887\"], [0.1111111111111111, \"#46039f\"], [0.2222222222222222, \"#7201a8\"], [0.3333333333333333, \"#9c179e\"], [0.4444444444444444, \"#bd3786\"], [0.5555555555555556, \"#d8576b\"], [0.6666666666666666, \"#ed7953\"], [0.7777777777777778, \"#fb9f3a\"], [0.8888888888888888, \"#fdca26\"], [1.0, \"#f0f921\"]], \"sequentialminus\": [[0.0, \"#0d0887\"], [0.1111111111111111, \"#46039f\"], [0.2222222222222222, \"#7201a8\"], [0.3333333333333333, \"#9c179e\"], [0.4444444444444444, \"#bd3786\"], [0.5555555555555556, \"#d8576b\"], [0.6666666666666666, \"#ed7953\"], [0.7777777777777778, \"#fb9f3a\"], [0.8888888888888888, \"#fdca26\"], [1.0, \"#f0f921\"]]}, \"colorway\": [\"#636efa\", \"#EF553B\", \"#00cc96\", \"#ab63fa\", \"#FFA15A\", \"#19d3f3\", \"#FF6692\", \"#B6E880\", \"#FF97FF\", \"#FECB52\"], \"font\": {\"color\": \"#2a3f5f\"}, \"geo\": {\"bgcolor\": \"white\", \"lakecolor\": \"white\", \"landcolor\": \"#E5ECF6\", \"showlakes\": true, \"showland\": true, \"subunitcolor\": \"white\"}, \"hoverlabel\": {\"align\": \"left\"}, \"hovermode\": \"closest\", \"mapbox\": {\"style\": \"light\"}, \"paper_bgcolor\": \"white\", \"plot_bgcolor\": \"#E5ECF6\", \"polar\": {\"angularaxis\": {\"gridcolor\": \"white\", \"linecolor\": \"white\", \"ticks\": \"\"}, \"bgcolor\": \"#E5ECF6\", \"radialaxis\": {\"gridcolor\": \"white\", \"linecolor\": \"white\", \"ticks\": \"\"}}, \"scene\": {\"xaxis\": {\"backgroundcolor\": \"#E5ECF6\", \"gridcolor\": \"white\", \"gridwidth\": 2, \"linecolor\": \"white\", \"showbackground\": true, \"ticks\": \"\", \"zerolinecolor\": \"white\"}, \"yaxis\": {\"backgroundcolor\": \"#E5ECF6\", \"gridcolor\": \"white\", \"gridwidth\": 2, \"linecolor\": \"white\", \"showbackground\": true, \"ticks\": \"\", \"zerolinecolor\": \"white\"}, \"zaxis\": {\"backgroundcolor\": \"#E5ECF6\", \"gridcolor\": \"white\", \"gridwidth\": 2, \"linecolor\": \"white\", \"showbackground\": true, \"ticks\": \"\", \"zerolinecolor\": \"white\"}}, \"shapedefaults\": {\"line\": {\"color\": \"#2a3f5f\"}}, \"ternary\": {\"aaxis\": {\"gridcolor\": \"white\", \"linecolor\": \"white\", \"ticks\": \"\"}, \"baxis\": {\"gridcolor\": \"white\", \"linecolor\": \"white\", \"ticks\": \"\"}, \"bgcolor\": \"#E5ECF6\", \"caxis\": {\"gridcolor\": \"white\", \"linecolor\": \"white\", \"ticks\": \"\"}}, \"title\": {\"x\": 0.05}, \"xaxis\": {\"automargin\": true, \"gridcolor\": \"white\", \"linecolor\": \"white\", \"ticks\": \"\", \"title\": {\"standoff\": 15}, \"zerolinecolor\": \"white\", \"zerolinewidth\": 2}, \"yaxis\": {\"automargin\": true, \"gridcolor\": \"white\", \"linecolor\": \"white\", \"ticks\": \"\", \"title\": {\"standoff\": 15}, \"zerolinecolor\": \"white\", \"zerolinewidth\": 2}}}, \"title\": {\"text\": \"Customers conversion over time (by billing frequency)\"}, \"xaxis\": {\"anchor\": \"y\", \"domain\": [0.0, 1.0], \"title\": {\"text\": \"converted_at_date\"}}, \"yaxis\": {\"anchor\": \"x\", \"domain\": [0.0, 1.0], \"title\": {\"text\": \"number_of_companies\"}}},                        {\"responsive\": true}                    ).then(function(){\n",
       "                            \n",
       "var gd = document.getElementById('42213fd2-6ccb-4344-9c4e-f7a7377261d9');\n",
       "var x = new MutationObserver(function (mutations, observer) {{\n",
       "        var display = window.getComputedStyle(gd).display;\n",
       "        if (!display || display === 'none') {{\n",
       "            console.log([gd, 'removed!']);\n",
       "            Plotly.purge(gd);\n",
       "            observer.disconnect();\n",
       "        }}\n",
       "}});\n",
       "\n",
       "// Listen for the removal of the full notebook cells\n",
       "var notebookContainer = gd.closest('#notebook-container');\n",
       "if (notebookContainer) {{\n",
       "    x.observe(notebookContainer, {childList: true});\n",
       "}}\n",
       "\n",
       "// Listen for the clearing of the current output cell\n",
       "var outputEl = gd.closest('.output');\n",
       "if (outputEl) {{\n",
       "    x.observe(outputEl, {childList: true});\n",
       "}}\n",
       "\n",
       "                        })                };                });            </script>        </div>"
      ]
     },
     "metadata": {},
     "output_type": "display_data"
    }
   ],
   "source": [
    "#plot number of customers vs purpose\n",
    "purpose_counts = df_customers.groupby('purpose')[['company_id']].count().reset_index()\n",
    "purpose_counts.columns = ['purpose', 'customer counts']\n",
    "fig = px.bar(purpose_counts, x='purpose', y = 'customer counts', title='Count of customers by purpose type')\n",
    "\n",
    "fig.update_layout(\n",
    "    autosize=False,\n",
    "    width=600,\n",
    "    height=400)\n",
    "fig.show()\n",
    "\n",
    "\n",
    "#plot number of customers vs primary_industry_grouped\n",
    "industry_counts = df_customers.groupby(['primary_industry_grouped', 'purpose'])[['company_id']].count().reset_index()\n",
    "industry_counts.columns = ['industry', 'purpose', 'customer counts']\n",
    "fig = px.bar(industry_counts, x=\"industry\", y=\"customer counts\", color=\"purpose\", title=\"Count of customers, by purpose, in each industry\")\n",
    "fig.update_layout(\n",
    "    autosize=False,\n",
    "    width=900,\n",
    "    height=800)\n",
    "fig.show()\n",
    "\n",
    "#plot TOTAL number of hours vs primary_industry_grouped\n",
    "df = df_customers.groupby(['primary_industry_grouped'])[['total_users', 'invoices', 'projects', 'payments', 'total_hours']].sum().reset_index()\n",
    "fig = px.bar(df, x=\"primary_industry_grouped\", y=\"total_hours\", title=\"Total hours logged by industry\")\n",
    "fig.show()\n",
    "\n",
    "#plot MEAN number of hours vs primary_industry_grouped\n",
    "df = df_customers.groupby(['primary_industry_grouped'])[['total_users', 'invoices', 'projects', 'payments', 'total_hours']].mean().reset_index()\n",
    "df.columns = ['primary_industry_grouped','avg_no_users', 'avg_invoices', 'avg_no_projects', 'avg_no_payments', 'avg_hours']\n",
    "fig = px.bar(df, x=\"primary_industry_grouped\", y=\"avg_hours\", title=\"Average hours logged by industry\")\n",
    "fig.show()\n",
    "\n",
    "\n",
    "#plot histogram of total users per company\n",
    "plt.figure(figsize=(10,8))\n",
    "bins = np.arange(0,40,1)\n",
    "plt.hist(np.clip(df_customers['total_users'], bins[0], bins[-1]), bins=bins)\n",
    "plt.xlabel(\"Total users in each company\")\n",
    "plt.ylabel(\"Counts\")\n",
    "plt.title(\"Histogram of total users per company\")\n",
    "plt.show()\n",
    "\n",
    "#plot histogram of number of invoices sent per company\n",
    "plt.figure(figsize=(10,8))\n",
    "bins1=np.linspace(df_customers['invoices'].min(),3000, 8) #outlier in this column skews range to 70K\n",
    "plt.hist(df_customers['invoices'],bins=bins1, edgecolor='k',linewidth=1)\n",
    "plt.xlabel(\"Number of invoices\")\n",
    "plt.ylabel(\"Count\")\n",
    "plt.title(\"Number of invoices created across an account's entire lifetime\")\n",
    "plt.show()\n",
    "\n",
    "#plot histogram of average_hours spent per user per company\n",
    "plt.figure(figsize=(10,8))\n",
    "# bins1=np.linspace(df_customers['total_hours'].min(),200000, 10) #outlier in this column skews range to 70K\n",
    "bins = np.arange(0,40000,1000)\n",
    "df_customers['average_hours']=df_customers['total_hours']/df_customers['total_users']\n",
    "plt.hist(np.clip(df_customers['average_hours'], bins[0], bins[-1]), bins=bins)\n",
    "plt.xlabel(\"Average number of hours\")\n",
    "plt.ylabel(\"Count\")\n",
    "plt.title(\"Average hours per user, logged across an account's lifetime\")\n",
    "plt.show()\n",
    "\n",
    "#plot a time series of the number of companies that converted to paying customers\n",
    "df_customers['converted_at_date'] = pd.to_datetime(df_customers['converted_at'], utc=True)\n",
    "df = df_customers.groupby(pd.Grouper(key='converted_at_date', freq='M'))['company_id'].count().reset_index()\n",
    "df.columns = ['converted_at_date', 'number_of_companies']\n",
    "fig = px.line(df, x='converted_at_date', y=\"number_of_companies\", title='Customer conversion over time')\n",
    "fig.show()\n",
    "\n",
    "\n",
    "\n",
    "#plot a time series of the number of companies that converted to paying customers (aggregated by purpose!)\n",
    "# df_customers['converted_at_date'] = pd.to_datetime(df_customers['converted_at'], utc=True)\n",
    "df = df_customers.groupby([pd.Grouper(key='converted_at_date', freq='M'), 'purpose'])['company_id'].count().reset_index()\n",
    "df.columns = ['converted_at_date', 'purpose','number_of_companies']\n",
    "\n",
    "fig = px.line(df, x='converted_at_date', y=\"number_of_companies\", color='purpose', title='Customers conversion over time (by purpose)')\n",
    "fig.show()\n",
    "\n",
    "\n",
    "#plot a time series of the number of companies that converted to yearly vs monthly paying customers\n",
    "df = df_customers.groupby([pd.Grouper(key='converted_at_date', freq='M'), 'billing_frequency'])['company_id'].count().reset_index()\n",
    "df.columns = ['converted_at_date', 'billing_frequency','number_of_companies']\n",
    "fig = px.line(df, x='converted_at_date', y=\"number_of_companies\", color='billing_frequency', title='Customers conversion over time (by billing frequency)')\n",
    "fig.show()\n"
   ]
  },
  {
   "cell_type": "markdown",
   "metadata": {},
   "source": [
    "Number of customers vs the purpose\n",
    "- There are more personal account types than team accounts on the platform; however, majority of the users select \"None\".\n",
    "\n",
    "Number of customers vs the primary_industry_grouped\n",
    "- Tech, marketing and management consulting dominate the known industry fields. \n",
    "\n",
    "\n",
    "Total number of hours logged & average hours logged by industry\n",
    "- While tech may have the most number of hours logged, the average hours logged graph shows us that manufacturing and engineering spend more time on the platform on average. Since the average hours is determined by the number of users in the team using the platform, it's more indicative of the usage than total hours.\n",
    "\n",
    "Histogram of total users per company, total invoices sent, and average hours spent\n",
    "- In all these graphs above, we see a long-tailed distribution, which makes sense because the distribution can't be below 0 and we expect anomolies (like time spent) to skew the data.\n",
    "\n",
    "Time series of the number of companies that converted to paying customers by purpose, and by billing_frequency\n",
    "- The customer conversion has substantially grown since 2006 - 2022. It appears that in Feb 2018, the company introduced the \"purpose\" feature which lets users determine wether their account is for personal or team uses. We can see that the personal account type is growing faster than the team account type. From the last graph, we see that the monthly billing frequency is much more popular than the yearly billing frequency."
   ]
  },
  {
   "cell_type": "code",
   "execution_count": 28,
   "metadata": {},
   "outputs": [
    {
     "data": {
      "text/html": [
       "<div>\n",
       "<style scoped>\n",
       "    .dataframe tbody tr th:only-of-type {\n",
       "        vertical-align: middle;\n",
       "    }\n",
       "\n",
       "    .dataframe tbody tr th {\n",
       "        vertical-align: top;\n",
       "    }\n",
       "\n",
       "    .dataframe thead th {\n",
       "        text-align: right;\n",
       "    }\n",
       "</style>\n",
       "<table border=\"1\" class=\"dataframe\">\n",
       "  <thead>\n",
       "    <tr style=\"text-align: right;\">\n",
       "      <th></th>\n",
       "      <th>company_id</th>\n",
       "      <th>invoice_id</th>\n",
       "      <th>total_billable_cost</th>\n",
       "      <th>total_billable_units</th>\n",
       "      <th>total_nonbillable_cost</th>\n",
       "      <th>total_nonbillable_units</th>\n",
       "      <th>billable_cost_percentage</th>\n",
       "      <th>nonbillable_cost_percentage</th>\n",
       "    </tr>\n",
       "  </thead>\n",
       "  <tbody>\n",
       "    <tr>\n",
       "      <th>0</th>\n",
       "      <td>1417</td>\n",
       "      <td>0</td>\n",
       "      <td>14634.19</td>\n",
       "      <td>85.00</td>\n",
       "      <td>34375.00</td>\n",
       "      <td>275.0</td>\n",
       "      <td>29.86</td>\n",
       "      <td>70.14</td>\n",
       "    </tr>\n",
       "    <tr>\n",
       "      <th>1</th>\n",
       "      <td>1628</td>\n",
       "      <td>0</td>\n",
       "      <td>789.54</td>\n",
       "      <td>7.00</td>\n",
       "      <td>0.00</td>\n",
       "      <td>0.0</td>\n",
       "      <td>100.00</td>\n",
       "      <td>0.00</td>\n",
       "    </tr>\n",
       "    <tr>\n",
       "      <th>2</th>\n",
       "      <td>2327</td>\n",
       "      <td>0</td>\n",
       "      <td>18134.42</td>\n",
       "      <td>1290.00</td>\n",
       "      <td>0.00</td>\n",
       "      <td>0.0</td>\n",
       "      <td>100.00</td>\n",
       "      <td>0.00</td>\n",
       "    </tr>\n",
       "    <tr>\n",
       "      <th>3</th>\n",
       "      <td>2327</td>\n",
       "      <td>1</td>\n",
       "      <td>105245.49</td>\n",
       "      <td>40349.87</td>\n",
       "      <td>0.00</td>\n",
       "      <td>0.0</td>\n",
       "      <td>100.00</td>\n",
       "      <td>0.00</td>\n",
       "    </tr>\n",
       "    <tr>\n",
       "      <th>4</th>\n",
       "      <td>2327</td>\n",
       "      <td>953657</td>\n",
       "      <td>1280.00</td>\n",
       "      <td>1.00</td>\n",
       "      <td>0.00</td>\n",
       "      <td>0.0</td>\n",
       "      <td>100.00</td>\n",
       "      <td>0.00</td>\n",
       "    </tr>\n",
       "    <tr>\n",
       "      <th>...</th>\n",
       "      <td>...</td>\n",
       "      <td>...</td>\n",
       "      <td>...</td>\n",
       "      <td>...</td>\n",
       "      <td>...</td>\n",
       "      <td>...</td>\n",
       "      <td>...</td>\n",
       "      <td>...</td>\n",
       "    </tr>\n",
       "    <tr>\n",
       "      <th>390924</th>\n",
       "      <td>1411306</td>\n",
       "      <td>0</td>\n",
       "      <td>0.00</td>\n",
       "      <td>0.00</td>\n",
       "      <td>44.82</td>\n",
       "      <td>1.0</td>\n",
       "      <td>0.00</td>\n",
       "      <td>100.00</td>\n",
       "    </tr>\n",
       "    <tr>\n",
       "      <th>390925</th>\n",
       "      <td>1412117</td>\n",
       "      <td>0</td>\n",
       "      <td>0.00</td>\n",
       "      <td>0.00</td>\n",
       "      <td>2662.83</td>\n",
       "      <td>11.0</td>\n",
       "      <td>0.00</td>\n",
       "      <td>100.00</td>\n",
       "    </tr>\n",
       "    <tr>\n",
       "      <th>390926</th>\n",
       "      <td>1414059</td>\n",
       "      <td>0</td>\n",
       "      <td>0.00</td>\n",
       "      <td>0.00</td>\n",
       "      <td>1720.00</td>\n",
       "      <td>2.0</td>\n",
       "      <td>0.00</td>\n",
       "      <td>100.00</td>\n",
       "    </tr>\n",
       "    <tr>\n",
       "      <th>390927</th>\n",
       "      <td>1414483</td>\n",
       "      <td>0</td>\n",
       "      <td>0.00</td>\n",
       "      <td>0.00</td>\n",
       "      <td>265500.00</td>\n",
       "      <td>9.0</td>\n",
       "      <td>0.00</td>\n",
       "      <td>100.00</td>\n",
       "    </tr>\n",
       "    <tr>\n",
       "      <th>390928</th>\n",
       "      <td>1416738</td>\n",
       "      <td>0</td>\n",
       "      <td>0.00</td>\n",
       "      <td>0.00</td>\n",
       "      <td>2855.34</td>\n",
       "      <td>10.0</td>\n",
       "      <td>0.00</td>\n",
       "      <td>100.00</td>\n",
       "    </tr>\n",
       "  </tbody>\n",
       "</table>\n",
       "<p>390716 rows × 8 columns</p>\n",
       "</div>"
      ],
      "text/plain": [
       "        company_id  invoice_id  total_billable_cost  total_billable_units  \\\n",
       "0             1417           0             14634.19                 85.00   \n",
       "1             1628           0               789.54                  7.00   \n",
       "2             2327           0             18134.42               1290.00   \n",
       "3             2327           1            105245.49              40349.87   \n",
       "4             2327      953657              1280.00                  1.00   \n",
       "...            ...         ...                  ...                   ...   \n",
       "390924     1411306           0                 0.00                  0.00   \n",
       "390925     1412117           0                 0.00                  0.00   \n",
       "390926     1414059           0                 0.00                  0.00   \n",
       "390927     1414483           0                 0.00                  0.00   \n",
       "390928     1416738           0                 0.00                  0.00   \n",
       "\n",
       "        total_nonbillable_cost  total_nonbillable_units  \\\n",
       "0                     34375.00                    275.0   \n",
       "1                         0.00                      0.0   \n",
       "2                         0.00                      0.0   \n",
       "3                         0.00                      0.0   \n",
       "4                         0.00                      0.0   \n",
       "...                        ...                      ...   \n",
       "390924                   44.82                      1.0   \n",
       "390925                 2662.83                     11.0   \n",
       "390926                 1720.00                      2.0   \n",
       "390927               265500.00                      9.0   \n",
       "390928                 2855.34                     10.0   \n",
       "\n",
       "        billable_cost_percentage  nonbillable_cost_percentage  \n",
       "0                          29.86                        70.14  \n",
       "1                         100.00                         0.00  \n",
       "2                         100.00                         0.00  \n",
       "3                         100.00                         0.00  \n",
       "4                         100.00                         0.00  \n",
       "...                          ...                          ...  \n",
       "390924                      0.00                       100.00  \n",
       "390925                      0.00                       100.00  \n",
       "390926                      0.00                       100.00  \n",
       "390927                      0.00                       100.00  \n",
       "390928                      0.00                       100.00  \n",
       "\n",
       "[390716 rows x 8 columns]"
      ]
     },
     "metadata": {},
     "output_type": "display_data"
    }
   ],
   "source": [
    "####################################################################\n",
    "# EXPENSES EDA\n",
    "####################################################################\n",
    "\n",
    "#Re-format expenses dataframe and add a few new features\n",
    "billable_expenses_aggregated=df_expenses.loc[df_expenses['is_billable']==1,['company_id','invoice_id','total_cost','units']].groupby(['company_id','invoice_id']).sum().reset_index()\n",
    "billable_expenses_aggregated=billable_expenses_aggregated.rename(columns={'total_cost':'total_billable_cost','units':'total_billable_units'})\n",
    "nonbillable_expenses_aggregated=df_expenses.loc[df_expenses['is_billable']==0,['company_id','invoice_id','total_cost','units']].groupby(['company_id','invoice_id']).sum().reset_index()\n",
    "nonbillable_expenses_aggregated=nonbillable_expenses_aggregated.rename(columns={'total_cost':'total_nonbillable_cost','units':'total_nonbillable_units'})\n",
    "\n",
    "expenses_aggregated=pd.merge(billable_expenses_aggregated,nonbillable_expenses_aggregated,on=['company_id','invoice_id'],how='outer').fillna(0)\n",
    "expenses_aggregated['billable_cost_percentage']=(100.0*expenses_aggregated['total_billable_cost']/(expenses_aggregated['total_billable_cost']+expenses_aggregated['total_nonbillable_cost'])).apply(lambda x: round(x,2))\n",
    "expenses_aggregated['nonbillable_cost_percentage']=(100.0*expenses_aggregated['total_nonbillable_cost']/(expenses_aggregated['total_billable_cost']+expenses_aggregated['total_nonbillable_cost'])).apply(lambda x: round(x,2))\n",
    "\n",
    "#Drop negative total billables/nonbillables\n",
    "expenses_aggregated=expenses_aggregated.loc[(expenses_aggregated['billable_cost_percentage']>=0)&\n",
    "                                            (expenses_aggregated['nonbillable_cost_percentage']>=0)]\n",
    "\n",
    "display(expenses_aggregated)\n",
    "\n",
    "#We should convert all billable costs to a standardized currency (USD) in order to compare them on the same scale,\n",
    "#to do this, we should merge expenses_aggregated with the invoices dataframe in order to get the currency feature\n",
    "\n"
   ]
  },
  {
   "cell_type": "code",
   "execution_count": 29,
   "metadata": {},
   "outputs": [
    {
     "name": "stdout",
     "output_type": "stream",
     "text": [
      "Percentage of invoice data with merged expenses information: 8.4%\n"
     ]
    },
    {
     "data": {
      "text/html": [
       "<div>\n",
       "<style scoped>\n",
       "    .dataframe tbody tr th:only-of-type {\n",
       "        vertical-align: middle;\n",
       "    }\n",
       "\n",
       "    .dataframe tbody tr th {\n",
       "        vertical-align: top;\n",
       "    }\n",
       "\n",
       "    .dataframe thead th {\n",
       "        text-align: right;\n",
       "    }\n",
       "</style>\n",
       "<table border=\"1\" class=\"dataframe\">\n",
       "  <thead>\n",
       "    <tr style=\"text-align: right;\">\n",
       "      <th></th>\n",
       "      <th>company_id</th>\n",
       "      <th>invoice_id</th>\n",
       "      <th>recurring_invoice_id</th>\n",
       "      <th>invoice_created_at</th>\n",
       "      <th>invoice_sent_at</th>\n",
       "      <th>invoice_state</th>\n",
       "      <th>invoice_amount</th>\n",
       "      <th>currency</th>\n",
       "      <th>currency_code</th>\n",
       "      <th>imported_to_quickbooks</th>\n",
       "      <th>...</th>\n",
       "      <th>payment_created_at</th>\n",
       "      <th>paid_at</th>\n",
       "      <th>payment_amount</th>\n",
       "      <th>invoice_created_at_date</th>\n",
       "      <th>total_billable_cost</th>\n",
       "      <th>total_billable_units</th>\n",
       "      <th>total_nonbillable_cost</th>\n",
       "      <th>total_nonbillable_units</th>\n",
       "      <th>billable_cost_percentage</th>\n",
       "      <th>nonbillable_cost_percentage</th>\n",
       "    </tr>\n",
       "  </thead>\n",
       "  <tbody>\n",
       "    <tr>\n",
       "      <th>0</th>\n",
       "      <td>612957</td>\n",
       "      <td>25740109</td>\n",
       "      <td>NaN</td>\n",
       "      <td>2020-10-16 01:27:54 UTC</td>\n",
       "      <td>2020-10-16 01:35:40 UTC</td>\n",
       "      <td>open</td>\n",
       "      <td>384415.50</td>\n",
       "      <td>Jamaican Dollar - JMD</td>\n",
       "      <td>JMD</td>\n",
       "      <td>0</td>\n",
       "      <td>...</td>\n",
       "      <td>NaN</td>\n",
       "      <td>NaN</td>\n",
       "      <td>NaN</td>\n",
       "      <td>2020-10-16 01:27:54+00:00</td>\n",
       "      <td>NaN</td>\n",
       "      <td>NaN</td>\n",
       "      <td>NaN</td>\n",
       "      <td>NaN</td>\n",
       "      <td>NaN</td>\n",
       "      <td>NaN</td>\n",
       "    </tr>\n",
       "    <tr>\n",
       "      <th>1</th>\n",
       "      <td>274327</td>\n",
       "      <td>14430600</td>\n",
       "      <td>NaN</td>\n",
       "      <td>2017-11-07 19:19:20 UTC</td>\n",
       "      <td>2017-11-07 19:20:06 UTC</td>\n",
       "      <td>open</td>\n",
       "      <td>22063.32</td>\n",
       "      <td>Brazilian Real - BRL</td>\n",
       "      <td>BRL</td>\n",
       "      <td>0</td>\n",
       "      <td>...</td>\n",
       "      <td>NaN</td>\n",
       "      <td>NaN</td>\n",
       "      <td>NaN</td>\n",
       "      <td>2017-11-07 19:19:20+00:00</td>\n",
       "      <td>22063.32</td>\n",
       "      <td>41.0</td>\n",
       "      <td>0.0</td>\n",
       "      <td>0.0</td>\n",
       "      <td>100.0</td>\n",
       "      <td>0.0</td>\n",
       "    </tr>\n",
       "    <tr>\n",
       "      <th>2</th>\n",
       "      <td>359036</td>\n",
       "      <td>33084769</td>\n",
       "      <td>NaN</td>\n",
       "      <td>2022-07-06 03:51:28 UTC</td>\n",
       "      <td>2022-07-04 05:00:00 UTC</td>\n",
       "      <td>open</td>\n",
       "      <td>28518.00</td>\n",
       "      <td>United Arab Emirates Dirham - AED</td>\n",
       "      <td>AED</td>\n",
       "      <td>0</td>\n",
       "      <td>...</td>\n",
       "      <td>NaN</td>\n",
       "      <td>NaN</td>\n",
       "      <td>NaN</td>\n",
       "      <td>2022-07-06 03:51:28+00:00</td>\n",
       "      <td>NaN</td>\n",
       "      <td>NaN</td>\n",
       "      <td>NaN</td>\n",
       "      <td>NaN</td>\n",
       "      <td>NaN</td>\n",
       "      <td>NaN</td>\n",
       "    </tr>\n",
       "    <tr>\n",
       "      <th>3</th>\n",
       "      <td>40237</td>\n",
       "      <td>10979856</td>\n",
       "      <td>NaN</td>\n",
       "      <td>2016-10-25 12:31:57 UTC</td>\n",
       "      <td>2016-10-27 09:20:33 UTC</td>\n",
       "      <td>open</td>\n",
       "      <td>7500.00</td>\n",
       "      <td>Israeli New Sheqel - ILS</td>\n",
       "      <td>ILS</td>\n",
       "      <td>0</td>\n",
       "      <td>...</td>\n",
       "      <td>NaN</td>\n",
       "      <td>NaN</td>\n",
       "      <td>NaN</td>\n",
       "      <td>2016-10-25 12:31:57+00:00</td>\n",
       "      <td>NaN</td>\n",
       "      <td>NaN</td>\n",
       "      <td>NaN</td>\n",
       "      <td>NaN</td>\n",
       "      <td>NaN</td>\n",
       "      <td>NaN</td>\n",
       "    </tr>\n",
       "    <tr>\n",
       "      <th>4</th>\n",
       "      <td>456494</td>\n",
       "      <td>30922632</td>\n",
       "      <td>NaN</td>\n",
       "      <td>2022-01-11 13:38:13 UTC</td>\n",
       "      <td>2022-01-11 13:38:18 UTC</td>\n",
       "      <td>open</td>\n",
       "      <td>180000.00</td>\n",
       "      <td>Russian Ruble - RUB</td>\n",
       "      <td>RUB</td>\n",
       "      <td>0</td>\n",
       "      <td>...</td>\n",
       "      <td>NaN</td>\n",
       "      <td>NaN</td>\n",
       "      <td>NaN</td>\n",
       "      <td>2022-01-11 13:38:13+00:00</td>\n",
       "      <td>NaN</td>\n",
       "      <td>NaN</td>\n",
       "      <td>NaN</td>\n",
       "      <td>NaN</td>\n",
       "      <td>NaN</td>\n",
       "      <td>NaN</td>\n",
       "    </tr>\n",
       "    <tr>\n",
       "      <th>...</th>\n",
       "      <td>...</td>\n",
       "      <td>...</td>\n",
       "      <td>...</td>\n",
       "      <td>...</td>\n",
       "      <td>...</td>\n",
       "      <td>...</td>\n",
       "      <td>...</td>\n",
       "      <td>...</td>\n",
       "      <td>...</td>\n",
       "      <td>...</td>\n",
       "      <td>...</td>\n",
       "      <td>...</td>\n",
       "      <td>...</td>\n",
       "      <td>...</td>\n",
       "      <td>...</td>\n",
       "      <td>...</td>\n",
       "      <td>...</td>\n",
       "      <td>...</td>\n",
       "      <td>...</td>\n",
       "      <td>...</td>\n",
       "      <td>...</td>\n",
       "    </tr>\n",
       "    <tr>\n",
       "      <th>5214602</th>\n",
       "      <td>12641</td>\n",
       "      <td>26082008</td>\n",
       "      <td>NaN</td>\n",
       "      <td>2020-11-17 05:24:06 UTC</td>\n",
       "      <td>2020-11-17 14:19:17 UTC</td>\n",
       "      <td>closed</td>\n",
       "      <td>1000.00</td>\n",
       "      <td>United States Dollar - USD</td>\n",
       "      <td>USD</td>\n",
       "      <td>0</td>\n",
       "      <td>...</td>\n",
       "      <td>NaN</td>\n",
       "      <td>NaN</td>\n",
       "      <td>NaN</td>\n",
       "      <td>2020-11-17 05:24:06+00:00</td>\n",
       "      <td>NaN</td>\n",
       "      <td>NaN</td>\n",
       "      <td>NaN</td>\n",
       "      <td>NaN</td>\n",
       "      <td>NaN</td>\n",
       "      <td>NaN</td>\n",
       "    </tr>\n",
       "    <tr>\n",
       "      <th>5214603</th>\n",
       "      <td>123236</td>\n",
       "      <td>3401984</td>\n",
       "      <td>NaN</td>\n",
       "      <td>2013-09-23 21:19:00 UTC</td>\n",
       "      <td>2013-09-23 21:19:10 UTC</td>\n",
       "      <td>closed</td>\n",
       "      <td>176.00</td>\n",
       "      <td>United States Dollar - USD</td>\n",
       "      <td>USD</td>\n",
       "      <td>0</td>\n",
       "      <td>...</td>\n",
       "      <td>2013-09-29 21:59:07 UTC</td>\n",
       "      <td>2013-09-29 00:00:00 UTC</td>\n",
       "      <td>165.0</td>\n",
       "      <td>2013-09-23 21:19:00+00:00</td>\n",
       "      <td>NaN</td>\n",
       "      <td>NaN</td>\n",
       "      <td>NaN</td>\n",
       "      <td>NaN</td>\n",
       "      <td>NaN</td>\n",
       "      <td>NaN</td>\n",
       "    </tr>\n",
       "    <tr>\n",
       "      <th>5214604</th>\n",
       "      <td>170673</td>\n",
       "      <td>6338090</td>\n",
       "      <td>NaN</td>\n",
       "      <td>2015-02-17 15:07:46 UTC</td>\n",
       "      <td>2015-02-17 15:11:47 UTC</td>\n",
       "      <td>closed</td>\n",
       "      <td>1671.25</td>\n",
       "      <td>United States Dollar - USD</td>\n",
       "      <td>USD</td>\n",
       "      <td>0</td>\n",
       "      <td>...</td>\n",
       "      <td>2015-02-17 15:07:46 UTC</td>\n",
       "      <td>2015-02-17 00:00:00 UTC</td>\n",
       "      <td>1015.0</td>\n",
       "      <td>2015-02-17 15:07:46+00:00</td>\n",
       "      <td>NaN</td>\n",
       "      <td>NaN</td>\n",
       "      <td>NaN</td>\n",
       "      <td>NaN</td>\n",
       "      <td>NaN</td>\n",
       "      <td>NaN</td>\n",
       "    </tr>\n",
       "    <tr>\n",
       "      <th>5214605</th>\n",
       "      <td>503805</td>\n",
       "      <td>32495677</td>\n",
       "      <td>NaN</td>\n",
       "      <td>2022-05-23 15:45:58 UTC</td>\n",
       "      <td>2022-05-23 19:12:36 UTC</td>\n",
       "      <td>closed</td>\n",
       "      <td>12.00</td>\n",
       "      <td>United States Dollar - USD</td>\n",
       "      <td>USD</td>\n",
       "      <td>0</td>\n",
       "      <td>...</td>\n",
       "      <td>NaN</td>\n",
       "      <td>NaN</td>\n",
       "      <td>NaN</td>\n",
       "      <td>2022-05-23 15:45:58+00:00</td>\n",
       "      <td>NaN</td>\n",
       "      <td>NaN</td>\n",
       "      <td>NaN</td>\n",
       "      <td>NaN</td>\n",
       "      <td>NaN</td>\n",
       "      <td>NaN</td>\n",
       "    </tr>\n",
       "    <tr>\n",
       "      <th>5214606</th>\n",
       "      <td>261708</td>\n",
       "      <td>13862562</td>\n",
       "      <td>NaN</td>\n",
       "      <td>2017-09-11 17:38:34 UTC</td>\n",
       "      <td>2017-09-11 17:40:07 UTC</td>\n",
       "      <td>closed</td>\n",
       "      <td>2000.00</td>\n",
       "      <td>United States Dollar - USD</td>\n",
       "      <td>USD</td>\n",
       "      <td>1</td>\n",
       "      <td>...</td>\n",
       "      <td>NaN</td>\n",
       "      <td>NaN</td>\n",
       "      <td>NaN</td>\n",
       "      <td>2017-09-11 17:38:34+00:00</td>\n",
       "      <td>NaN</td>\n",
       "      <td>NaN</td>\n",
       "      <td>NaN</td>\n",
       "      <td>NaN</td>\n",
       "      <td>NaN</td>\n",
       "      <td>NaN</td>\n",
       "    </tr>\n",
       "  </tbody>\n",
       "</table>\n",
       "<p>5214607 rows × 22 columns</p>\n",
       "</div>"
      ],
      "text/plain": [
       "         company_id  invoice_id  recurring_invoice_id  \\\n",
       "0            612957    25740109                   NaN   \n",
       "1            274327    14430600                   NaN   \n",
       "2            359036    33084769                   NaN   \n",
       "3             40237    10979856                   NaN   \n",
       "4            456494    30922632                   NaN   \n",
       "...             ...         ...                   ...   \n",
       "5214602       12641    26082008                   NaN   \n",
       "5214603      123236     3401984                   NaN   \n",
       "5214604      170673     6338090                   NaN   \n",
       "5214605      503805    32495677                   NaN   \n",
       "5214606      261708    13862562                   NaN   \n",
       "\n",
       "              invoice_created_at          invoice_sent_at invoice_state  \\\n",
       "0        2020-10-16 01:27:54 UTC  2020-10-16 01:35:40 UTC          open   \n",
       "1        2017-11-07 19:19:20 UTC  2017-11-07 19:20:06 UTC          open   \n",
       "2        2022-07-06 03:51:28 UTC  2022-07-04 05:00:00 UTC          open   \n",
       "3        2016-10-25 12:31:57 UTC  2016-10-27 09:20:33 UTC          open   \n",
       "4        2022-01-11 13:38:13 UTC  2022-01-11 13:38:18 UTC          open   \n",
       "...                          ...                      ...           ...   \n",
       "5214602  2020-11-17 05:24:06 UTC  2020-11-17 14:19:17 UTC        closed   \n",
       "5214603  2013-09-23 21:19:00 UTC  2013-09-23 21:19:10 UTC        closed   \n",
       "5214604  2015-02-17 15:07:46 UTC  2015-02-17 15:11:47 UTC        closed   \n",
       "5214605  2022-05-23 15:45:58 UTC  2022-05-23 19:12:36 UTC        closed   \n",
       "5214606  2017-09-11 17:38:34 UTC  2017-09-11 17:40:07 UTC        closed   \n",
       "\n",
       "         invoice_amount                           currency currency_code  \\\n",
       "0             384415.50              Jamaican Dollar - JMD           JMD   \n",
       "1              22063.32               Brazilian Real - BRL           BRL   \n",
       "2              28518.00  United Arab Emirates Dirham - AED           AED   \n",
       "3               7500.00           Israeli New Sheqel - ILS           ILS   \n",
       "4             180000.00                Russian Ruble - RUB           RUB   \n",
       "...                 ...                                ...           ...   \n",
       "5214602         1000.00         United States Dollar - USD           USD   \n",
       "5214603          176.00         United States Dollar - USD           USD   \n",
       "5214604         1671.25         United States Dollar - USD           USD   \n",
       "5214605           12.00         United States Dollar - USD           USD   \n",
       "5214606         2000.00         United States Dollar - USD           USD   \n",
       "\n",
       "         imported_to_quickbooks  ...       payment_created_at  \\\n",
       "0                             0  ...                      NaN   \n",
       "1                             0  ...                      NaN   \n",
       "2                             0  ...                      NaN   \n",
       "3                             0  ...                      NaN   \n",
       "4                             0  ...                      NaN   \n",
       "...                         ...  ...                      ...   \n",
       "5214602                       0  ...                      NaN   \n",
       "5214603                       0  ...  2013-09-29 21:59:07 UTC   \n",
       "5214604                       0  ...  2015-02-17 15:07:46 UTC   \n",
       "5214605                       0  ...                      NaN   \n",
       "5214606                       1  ...                      NaN   \n",
       "\n",
       "                         paid_at payment_amount   invoice_created_at_date  \\\n",
       "0                            NaN            NaN 2020-10-16 01:27:54+00:00   \n",
       "1                            NaN            NaN 2017-11-07 19:19:20+00:00   \n",
       "2                            NaN            NaN 2022-07-06 03:51:28+00:00   \n",
       "3                            NaN            NaN 2016-10-25 12:31:57+00:00   \n",
       "4                            NaN            NaN 2022-01-11 13:38:13+00:00   \n",
       "...                          ...            ...                       ...   \n",
       "5214602                      NaN            NaN 2020-11-17 05:24:06+00:00   \n",
       "5214603  2013-09-29 00:00:00 UTC          165.0 2013-09-23 21:19:00+00:00   \n",
       "5214604  2015-02-17 00:00:00 UTC         1015.0 2015-02-17 15:07:46+00:00   \n",
       "5214605                      NaN            NaN 2022-05-23 15:45:58+00:00   \n",
       "5214606                      NaN            NaN 2017-09-11 17:38:34+00:00   \n",
       "\n",
       "         total_billable_cost total_billable_units  total_nonbillable_cost  \\\n",
       "0                        NaN                  NaN                     NaN   \n",
       "1                   22063.32                 41.0                     0.0   \n",
       "2                        NaN                  NaN                     NaN   \n",
       "3                        NaN                  NaN                     NaN   \n",
       "4                        NaN                  NaN                     NaN   \n",
       "...                      ...                  ...                     ...   \n",
       "5214602                  NaN                  NaN                     NaN   \n",
       "5214603                  NaN                  NaN                     NaN   \n",
       "5214604                  NaN                  NaN                     NaN   \n",
       "5214605                  NaN                  NaN                     NaN   \n",
       "5214606                  NaN                  NaN                     NaN   \n",
       "\n",
       "         total_nonbillable_units  billable_cost_percentage  \\\n",
       "0                            NaN                       NaN   \n",
       "1                            0.0                     100.0   \n",
       "2                            NaN                       NaN   \n",
       "3                            NaN                       NaN   \n",
       "4                            NaN                       NaN   \n",
       "...                          ...                       ...   \n",
       "5214602                      NaN                       NaN   \n",
       "5214603                      NaN                       NaN   \n",
       "5214604                      NaN                       NaN   \n",
       "5214605                      NaN                       NaN   \n",
       "5214606                      NaN                       NaN   \n",
       "\n",
       "         nonbillable_cost_percentage  \n",
       "0                                NaN  \n",
       "1                                0.0  \n",
       "2                                NaN  \n",
       "3                                NaN  \n",
       "4                                NaN  \n",
       "...                              ...  \n",
       "5214602                          NaN  \n",
       "5214603                          NaN  \n",
       "5214604                          NaN  \n",
       "5214605                          NaN  \n",
       "5214606                          NaN  \n",
       "\n",
       "[5214607 rows x 22 columns]"
      ]
     },
     "metadata": {},
     "output_type": "display_data"
    }
   ],
   "source": [
    "####################################################################\n",
    "## INVOICES EDA\n",
    "####################################################################\n",
    "\n",
    "#Merge in the expenses_aggregated dataframe on company_id and invoice_id\n",
    "df_invoices_and_expenses=pd.merge(df_invoices, expenses_aggregated, on=['company_id','invoice_id'], how='left')\n",
    "# Number of invoice data rows that merged with the expenses_aggregated dataframe\n",
    "print(\"Percentage of invoice data with merged expenses information:\",str(round(100.0*df_invoices_and_expenses.loc[~df_invoices_and_expenses['total_billable_cost'].isna()].shape[0]/df_invoices_and_expenses['total_billable_cost'].isna().sum(),2))+\"%\")\n",
    "display(df_invoices_and_expenses)\n"
   ]
  },
  {
   "cell_type": "markdown",
   "metadata": {},
   "source": [
    "Using the invoices data, we can take a look at when companies were last active by using the data they last sent an invoice (we could have also used payments). Since we don't have data with the times they logged in, we are going to assume the invoices give us an idea about their activity."
   ]
  },
  {
   "cell_type": "code",
   "execution_count": 10,
   "metadata": {},
   "outputs": [
    {
     "data": {
      "application/vnd.plotly.v1+json": {
       "config": {
        "plotlyServerURL": "https://plot.ly"
       },
       "data": [
        {
         "alignmentgroup": "True",
         "hovertemplate": "invoice_created_at_date=%{x}<br>number_of_companies=%{y}<extra></extra>",
         "legendgroup": "",
         "marker": {
          "color": "#636efa"
         },
         "name": "",
         "offsetgroup": "",
         "orientation": "v",
         "showlegend": false,
         "textposition": "auto",
         "type": "bar",
         "x": [
          "2008-12-31T00:00:00+00:00",
          "2009-12-31T00:00:00+00:00",
          "2010-12-31T00:00:00+00:00",
          "2011-12-31T00:00:00+00:00",
          "2012-12-31T00:00:00+00:00",
          "2013-12-31T00:00:00+00:00",
          "2014-12-31T00:00:00+00:00",
          "2015-12-31T00:00:00+00:00",
          "2016-12-31T00:00:00+00:00",
          "2017-12-31T00:00:00+00:00",
          "2018-12-31T00:00:00+00:00",
          "2019-12-31T00:00:00+00:00",
          "2020-12-31T00:00:00+00:00",
          "2021-12-31T00:00:00+00:00",
          "2022-12-31T00:00:00+00:00"
         ],
         "xaxis": "x",
         "y": [
          2,
          1,
          5,
          4,
          19,
          26,
          34,
          62,
          125,
          157,
          216,
          274,
          459,
          793,
          8337
         ],
         "yaxis": "y"
        }
       ],
       "layout": {
        "barmode": "relative",
        "legend": {
         "tracegroupgap": 0
        },
        "template": {
         "data": {
          "bar": [
           {
            "error_x": {
             "color": "#2a3f5f"
            },
            "error_y": {
             "color": "#2a3f5f"
            },
            "marker": {
             "line": {
              "color": "#E5ECF6",
              "width": 0.5
             }
            },
            "type": "bar"
           }
          ],
          "barpolar": [
           {
            "marker": {
             "line": {
              "color": "#E5ECF6",
              "width": 0.5
             }
            },
            "type": "barpolar"
           }
          ],
          "carpet": [
           {
            "aaxis": {
             "endlinecolor": "#2a3f5f",
             "gridcolor": "white",
             "linecolor": "white",
             "minorgridcolor": "white",
             "startlinecolor": "#2a3f5f"
            },
            "baxis": {
             "endlinecolor": "#2a3f5f",
             "gridcolor": "white",
             "linecolor": "white",
             "minorgridcolor": "white",
             "startlinecolor": "#2a3f5f"
            },
            "type": "carpet"
           }
          ],
          "choropleth": [
           {
            "colorbar": {
             "outlinewidth": 0,
             "ticks": ""
            },
            "type": "choropleth"
           }
          ],
          "contour": [
           {
            "colorbar": {
             "outlinewidth": 0,
             "ticks": ""
            },
            "colorscale": [
             [
              0,
              "#0d0887"
             ],
             [
              0.1111111111111111,
              "#46039f"
             ],
             [
              0.2222222222222222,
              "#7201a8"
             ],
             [
              0.3333333333333333,
              "#9c179e"
             ],
             [
              0.4444444444444444,
              "#bd3786"
             ],
             [
              0.5555555555555556,
              "#d8576b"
             ],
             [
              0.6666666666666666,
              "#ed7953"
             ],
             [
              0.7777777777777778,
              "#fb9f3a"
             ],
             [
              0.8888888888888888,
              "#fdca26"
             ],
             [
              1,
              "#f0f921"
             ]
            ],
            "type": "contour"
           }
          ],
          "contourcarpet": [
           {
            "colorbar": {
             "outlinewidth": 0,
             "ticks": ""
            },
            "type": "contourcarpet"
           }
          ],
          "heatmap": [
           {
            "colorbar": {
             "outlinewidth": 0,
             "ticks": ""
            },
            "colorscale": [
             [
              0,
              "#0d0887"
             ],
             [
              0.1111111111111111,
              "#46039f"
             ],
             [
              0.2222222222222222,
              "#7201a8"
             ],
             [
              0.3333333333333333,
              "#9c179e"
             ],
             [
              0.4444444444444444,
              "#bd3786"
             ],
             [
              0.5555555555555556,
              "#d8576b"
             ],
             [
              0.6666666666666666,
              "#ed7953"
             ],
             [
              0.7777777777777778,
              "#fb9f3a"
             ],
             [
              0.8888888888888888,
              "#fdca26"
             ],
             [
              1,
              "#f0f921"
             ]
            ],
            "type": "heatmap"
           }
          ],
          "heatmapgl": [
           {
            "colorbar": {
             "outlinewidth": 0,
             "ticks": ""
            },
            "colorscale": [
             [
              0,
              "#0d0887"
             ],
             [
              0.1111111111111111,
              "#46039f"
             ],
             [
              0.2222222222222222,
              "#7201a8"
             ],
             [
              0.3333333333333333,
              "#9c179e"
             ],
             [
              0.4444444444444444,
              "#bd3786"
             ],
             [
              0.5555555555555556,
              "#d8576b"
             ],
             [
              0.6666666666666666,
              "#ed7953"
             ],
             [
              0.7777777777777778,
              "#fb9f3a"
             ],
             [
              0.8888888888888888,
              "#fdca26"
             ],
             [
              1,
              "#f0f921"
             ]
            ],
            "type": "heatmapgl"
           }
          ],
          "histogram": [
           {
            "marker": {
             "colorbar": {
              "outlinewidth": 0,
              "ticks": ""
             }
            },
            "type": "histogram"
           }
          ],
          "histogram2d": [
           {
            "colorbar": {
             "outlinewidth": 0,
             "ticks": ""
            },
            "colorscale": [
             [
              0,
              "#0d0887"
             ],
             [
              0.1111111111111111,
              "#46039f"
             ],
             [
              0.2222222222222222,
              "#7201a8"
             ],
             [
              0.3333333333333333,
              "#9c179e"
             ],
             [
              0.4444444444444444,
              "#bd3786"
             ],
             [
              0.5555555555555556,
              "#d8576b"
             ],
             [
              0.6666666666666666,
              "#ed7953"
             ],
             [
              0.7777777777777778,
              "#fb9f3a"
             ],
             [
              0.8888888888888888,
              "#fdca26"
             ],
             [
              1,
              "#f0f921"
             ]
            ],
            "type": "histogram2d"
           }
          ],
          "histogram2dcontour": [
           {
            "colorbar": {
             "outlinewidth": 0,
             "ticks": ""
            },
            "colorscale": [
             [
              0,
              "#0d0887"
             ],
             [
              0.1111111111111111,
              "#46039f"
             ],
             [
              0.2222222222222222,
              "#7201a8"
             ],
             [
              0.3333333333333333,
              "#9c179e"
             ],
             [
              0.4444444444444444,
              "#bd3786"
             ],
             [
              0.5555555555555556,
              "#d8576b"
             ],
             [
              0.6666666666666666,
              "#ed7953"
             ],
             [
              0.7777777777777778,
              "#fb9f3a"
             ],
             [
              0.8888888888888888,
              "#fdca26"
             ],
             [
              1,
              "#f0f921"
             ]
            ],
            "type": "histogram2dcontour"
           }
          ],
          "mesh3d": [
           {
            "colorbar": {
             "outlinewidth": 0,
             "ticks": ""
            },
            "type": "mesh3d"
           }
          ],
          "parcoords": [
           {
            "line": {
             "colorbar": {
              "outlinewidth": 0,
              "ticks": ""
             }
            },
            "type": "parcoords"
           }
          ],
          "pie": [
           {
            "automargin": true,
            "type": "pie"
           }
          ],
          "scatter": [
           {
            "marker": {
             "colorbar": {
              "outlinewidth": 0,
              "ticks": ""
             }
            },
            "type": "scatter"
           }
          ],
          "scatter3d": [
           {
            "line": {
             "colorbar": {
              "outlinewidth": 0,
              "ticks": ""
             }
            },
            "marker": {
             "colorbar": {
              "outlinewidth": 0,
              "ticks": ""
             }
            },
            "type": "scatter3d"
           }
          ],
          "scattercarpet": [
           {
            "marker": {
             "colorbar": {
              "outlinewidth": 0,
              "ticks": ""
             }
            },
            "type": "scattercarpet"
           }
          ],
          "scattergeo": [
           {
            "marker": {
             "colorbar": {
              "outlinewidth": 0,
              "ticks": ""
             }
            },
            "type": "scattergeo"
           }
          ],
          "scattergl": [
           {
            "marker": {
             "colorbar": {
              "outlinewidth": 0,
              "ticks": ""
             }
            },
            "type": "scattergl"
           }
          ],
          "scattermapbox": [
           {
            "marker": {
             "colorbar": {
              "outlinewidth": 0,
              "ticks": ""
             }
            },
            "type": "scattermapbox"
           }
          ],
          "scatterpolar": [
           {
            "marker": {
             "colorbar": {
              "outlinewidth": 0,
              "ticks": ""
             }
            },
            "type": "scatterpolar"
           }
          ],
          "scatterpolargl": [
           {
            "marker": {
             "colorbar": {
              "outlinewidth": 0,
              "ticks": ""
             }
            },
            "type": "scatterpolargl"
           }
          ],
          "scatterternary": [
           {
            "marker": {
             "colorbar": {
              "outlinewidth": 0,
              "ticks": ""
             }
            },
            "type": "scatterternary"
           }
          ],
          "surface": [
           {
            "colorbar": {
             "outlinewidth": 0,
             "ticks": ""
            },
            "colorscale": [
             [
              0,
              "#0d0887"
             ],
             [
              0.1111111111111111,
              "#46039f"
             ],
             [
              0.2222222222222222,
              "#7201a8"
             ],
             [
              0.3333333333333333,
              "#9c179e"
             ],
             [
              0.4444444444444444,
              "#bd3786"
             ],
             [
              0.5555555555555556,
              "#d8576b"
             ],
             [
              0.6666666666666666,
              "#ed7953"
             ],
             [
              0.7777777777777778,
              "#fb9f3a"
             ],
             [
              0.8888888888888888,
              "#fdca26"
             ],
             [
              1,
              "#f0f921"
             ]
            ],
            "type": "surface"
           }
          ],
          "table": [
           {
            "cells": {
             "fill": {
              "color": "#EBF0F8"
             },
             "line": {
              "color": "white"
             }
            },
            "header": {
             "fill": {
              "color": "#C8D4E3"
             },
             "line": {
              "color": "white"
             }
            },
            "type": "table"
           }
          ]
         },
         "layout": {
          "annotationdefaults": {
           "arrowcolor": "#2a3f5f",
           "arrowhead": 0,
           "arrowwidth": 1
          },
          "autotypenumbers": "strict",
          "coloraxis": {
           "colorbar": {
            "outlinewidth": 0,
            "ticks": ""
           }
          },
          "colorscale": {
           "diverging": [
            [
             0,
             "#8e0152"
            ],
            [
             0.1,
             "#c51b7d"
            ],
            [
             0.2,
             "#de77ae"
            ],
            [
             0.3,
             "#f1b6da"
            ],
            [
             0.4,
             "#fde0ef"
            ],
            [
             0.5,
             "#f7f7f7"
            ],
            [
             0.6,
             "#e6f5d0"
            ],
            [
             0.7,
             "#b8e186"
            ],
            [
             0.8,
             "#7fbc41"
            ],
            [
             0.9,
             "#4d9221"
            ],
            [
             1,
             "#276419"
            ]
           ],
           "sequential": [
            [
             0,
             "#0d0887"
            ],
            [
             0.1111111111111111,
             "#46039f"
            ],
            [
             0.2222222222222222,
             "#7201a8"
            ],
            [
             0.3333333333333333,
             "#9c179e"
            ],
            [
             0.4444444444444444,
             "#bd3786"
            ],
            [
             0.5555555555555556,
             "#d8576b"
            ],
            [
             0.6666666666666666,
             "#ed7953"
            ],
            [
             0.7777777777777778,
             "#fb9f3a"
            ],
            [
             0.8888888888888888,
             "#fdca26"
            ],
            [
             1,
             "#f0f921"
            ]
           ],
           "sequentialminus": [
            [
             0,
             "#0d0887"
            ],
            [
             0.1111111111111111,
             "#46039f"
            ],
            [
             0.2222222222222222,
             "#7201a8"
            ],
            [
             0.3333333333333333,
             "#9c179e"
            ],
            [
             0.4444444444444444,
             "#bd3786"
            ],
            [
             0.5555555555555556,
             "#d8576b"
            ],
            [
             0.6666666666666666,
             "#ed7953"
            ],
            [
             0.7777777777777778,
             "#fb9f3a"
            ],
            [
             0.8888888888888888,
             "#fdca26"
            ],
            [
             1,
             "#f0f921"
            ]
           ]
          },
          "colorway": [
           "#636efa",
           "#EF553B",
           "#00cc96",
           "#ab63fa",
           "#FFA15A",
           "#19d3f3",
           "#FF6692",
           "#B6E880",
           "#FF97FF",
           "#FECB52"
          ],
          "font": {
           "color": "#2a3f5f"
          },
          "geo": {
           "bgcolor": "white",
           "lakecolor": "white",
           "landcolor": "#E5ECF6",
           "showlakes": true,
           "showland": true,
           "subunitcolor": "white"
          },
          "hoverlabel": {
           "align": "left"
          },
          "hovermode": "closest",
          "mapbox": {
           "style": "light"
          },
          "paper_bgcolor": "white",
          "plot_bgcolor": "#E5ECF6",
          "polar": {
           "angularaxis": {
            "gridcolor": "white",
            "linecolor": "white",
            "ticks": ""
           },
           "bgcolor": "#E5ECF6",
           "radialaxis": {
            "gridcolor": "white",
            "linecolor": "white",
            "ticks": ""
           }
          },
          "scene": {
           "xaxis": {
            "backgroundcolor": "#E5ECF6",
            "gridcolor": "white",
            "gridwidth": 2,
            "linecolor": "white",
            "showbackground": true,
            "ticks": "",
            "zerolinecolor": "white"
           },
           "yaxis": {
            "backgroundcolor": "#E5ECF6",
            "gridcolor": "white",
            "gridwidth": 2,
            "linecolor": "white",
            "showbackground": true,
            "ticks": "",
            "zerolinecolor": "white"
           },
           "zaxis": {
            "backgroundcolor": "#E5ECF6",
            "gridcolor": "white",
            "gridwidth": 2,
            "linecolor": "white",
            "showbackground": true,
            "ticks": "",
            "zerolinecolor": "white"
           }
          },
          "shapedefaults": {
           "line": {
            "color": "#2a3f5f"
           }
          },
          "ternary": {
           "aaxis": {
            "gridcolor": "white",
            "linecolor": "white",
            "ticks": ""
           },
           "baxis": {
            "gridcolor": "white",
            "linecolor": "white",
            "ticks": ""
           },
           "bgcolor": "#E5ECF6",
           "caxis": {
            "gridcolor": "white",
            "linecolor": "white",
            "ticks": ""
           }
          },
          "title": {
           "x": 0.05
          },
          "xaxis": {
           "automargin": true,
           "gridcolor": "white",
           "linecolor": "white",
           "ticks": "",
           "title": {
            "standoff": 15
           },
           "zerolinecolor": "white",
           "zerolinewidth": 2
          },
          "yaxis": {
           "automargin": true,
           "gridcolor": "white",
           "linecolor": "white",
           "ticks": "",
           "title": {
            "standoff": 15
           },
           "zerolinecolor": "white",
           "zerolinewidth": 2
          }
         }
        },
        "title": {
         "text": "Number of companies v.s year last invoice was sent"
        },
        "xaxis": {
         "anchor": "y",
         "domain": [
          0,
          1
         ],
         "title": {
          "text": "invoice_created_at_date"
         }
        },
        "yaxis": {
         "anchor": "x",
         "domain": [
          0,
          1
         ],
         "title": {
          "text": "number_of_companies"
         }
        }
       }
      },
      "text/html": [
       "<div>                            <div id=\"e7c9cb5a-2fbc-4cd7-9b14-449458239331\" class=\"plotly-graph-div\" style=\"height:525px; width:100%;\"></div>            <script type=\"text/javascript\">                require([\"plotly\"], function(Plotly) {                    window.PLOTLYENV=window.PLOTLYENV || {};                                    if (document.getElementById(\"e7c9cb5a-2fbc-4cd7-9b14-449458239331\")) {                    Plotly.newPlot(                        \"e7c9cb5a-2fbc-4cd7-9b14-449458239331\",                        [{\"alignmentgroup\": \"True\", \"hovertemplate\": \"invoice_created_at_date=%{x}<br>number_of_companies=%{y}<extra></extra>\", \"legendgroup\": \"\", \"marker\": {\"color\": \"#636efa\"}, \"name\": \"\", \"offsetgroup\": \"\", \"orientation\": \"v\", \"showlegend\": false, \"textposition\": \"auto\", \"type\": \"bar\", \"x\": [\"2008-12-31T00:00:00+00:00\", \"2009-12-31T00:00:00+00:00\", \"2010-12-31T00:00:00+00:00\", \"2011-12-31T00:00:00+00:00\", \"2012-12-31T00:00:00+00:00\", \"2013-12-31T00:00:00+00:00\", \"2014-12-31T00:00:00+00:00\", \"2015-12-31T00:00:00+00:00\", \"2016-12-31T00:00:00+00:00\", \"2017-12-31T00:00:00+00:00\", \"2018-12-31T00:00:00+00:00\", \"2019-12-31T00:00:00+00:00\", \"2020-12-31T00:00:00+00:00\", \"2021-12-31T00:00:00+00:00\", \"2022-12-31T00:00:00+00:00\"], \"xaxis\": \"x\", \"y\": [2, 1, 5, 4, 19, 26, 34, 62, 125, 157, 216, 274, 459, 793, 8337], \"yaxis\": \"y\"}],                        {\"barmode\": \"relative\", \"legend\": {\"tracegroupgap\": 0}, \"template\": {\"data\": {\"bar\": [{\"error_x\": {\"color\": \"#2a3f5f\"}, \"error_y\": {\"color\": \"#2a3f5f\"}, \"marker\": {\"line\": {\"color\": \"#E5ECF6\", \"width\": 0.5}}, \"type\": \"bar\"}], \"barpolar\": [{\"marker\": {\"line\": {\"color\": \"#E5ECF6\", \"width\": 0.5}}, \"type\": \"barpolar\"}], \"carpet\": [{\"aaxis\": {\"endlinecolor\": \"#2a3f5f\", \"gridcolor\": \"white\", \"linecolor\": \"white\", \"minorgridcolor\": \"white\", \"startlinecolor\": \"#2a3f5f\"}, \"baxis\": {\"endlinecolor\": \"#2a3f5f\", \"gridcolor\": \"white\", \"linecolor\": \"white\", \"minorgridcolor\": \"white\", \"startlinecolor\": \"#2a3f5f\"}, \"type\": \"carpet\"}], \"choropleth\": [{\"colorbar\": {\"outlinewidth\": 0, \"ticks\": \"\"}, \"type\": \"choropleth\"}], \"contour\": [{\"colorbar\": {\"outlinewidth\": 0, \"ticks\": \"\"}, \"colorscale\": [[0.0, \"#0d0887\"], [0.1111111111111111, \"#46039f\"], [0.2222222222222222, \"#7201a8\"], [0.3333333333333333, \"#9c179e\"], [0.4444444444444444, \"#bd3786\"], [0.5555555555555556, \"#d8576b\"], [0.6666666666666666, \"#ed7953\"], [0.7777777777777778, \"#fb9f3a\"], [0.8888888888888888, \"#fdca26\"], [1.0, \"#f0f921\"]], \"type\": \"contour\"}], \"contourcarpet\": [{\"colorbar\": {\"outlinewidth\": 0, \"ticks\": \"\"}, \"type\": \"contourcarpet\"}], \"heatmap\": [{\"colorbar\": {\"outlinewidth\": 0, \"ticks\": \"\"}, \"colorscale\": [[0.0, \"#0d0887\"], [0.1111111111111111, \"#46039f\"], [0.2222222222222222, \"#7201a8\"], [0.3333333333333333, \"#9c179e\"], [0.4444444444444444, \"#bd3786\"], [0.5555555555555556, \"#d8576b\"], [0.6666666666666666, \"#ed7953\"], [0.7777777777777778, \"#fb9f3a\"], [0.8888888888888888, \"#fdca26\"], [1.0, \"#f0f921\"]], \"type\": \"heatmap\"}], \"heatmapgl\": [{\"colorbar\": {\"outlinewidth\": 0, \"ticks\": \"\"}, \"colorscale\": [[0.0, \"#0d0887\"], [0.1111111111111111, \"#46039f\"], [0.2222222222222222, \"#7201a8\"], [0.3333333333333333, \"#9c179e\"], [0.4444444444444444, \"#bd3786\"], [0.5555555555555556, \"#d8576b\"], [0.6666666666666666, \"#ed7953\"], [0.7777777777777778, \"#fb9f3a\"], [0.8888888888888888, \"#fdca26\"], [1.0, \"#f0f921\"]], \"type\": \"heatmapgl\"}], \"histogram\": [{\"marker\": {\"colorbar\": {\"outlinewidth\": 0, \"ticks\": \"\"}}, \"type\": \"histogram\"}], \"histogram2d\": [{\"colorbar\": {\"outlinewidth\": 0, \"ticks\": \"\"}, \"colorscale\": [[0.0, \"#0d0887\"], [0.1111111111111111, \"#46039f\"], [0.2222222222222222, \"#7201a8\"], [0.3333333333333333, \"#9c179e\"], [0.4444444444444444, \"#bd3786\"], [0.5555555555555556, \"#d8576b\"], [0.6666666666666666, \"#ed7953\"], [0.7777777777777778, \"#fb9f3a\"], [0.8888888888888888, \"#fdca26\"], [1.0, \"#f0f921\"]], \"type\": \"histogram2d\"}], \"histogram2dcontour\": [{\"colorbar\": {\"outlinewidth\": 0, \"ticks\": \"\"}, \"colorscale\": [[0.0, \"#0d0887\"], [0.1111111111111111, \"#46039f\"], [0.2222222222222222, \"#7201a8\"], [0.3333333333333333, \"#9c179e\"], [0.4444444444444444, \"#bd3786\"], [0.5555555555555556, \"#d8576b\"], [0.6666666666666666, \"#ed7953\"], [0.7777777777777778, \"#fb9f3a\"], [0.8888888888888888, \"#fdca26\"], [1.0, \"#f0f921\"]], \"type\": \"histogram2dcontour\"}], \"mesh3d\": [{\"colorbar\": {\"outlinewidth\": 0, \"ticks\": \"\"}, \"type\": \"mesh3d\"}], \"parcoords\": [{\"line\": {\"colorbar\": {\"outlinewidth\": 0, \"ticks\": \"\"}}, \"type\": \"parcoords\"}], \"pie\": [{\"automargin\": true, \"type\": \"pie\"}], \"scatter\": [{\"marker\": {\"colorbar\": {\"outlinewidth\": 0, \"ticks\": \"\"}}, \"type\": \"scatter\"}], \"scatter3d\": [{\"line\": {\"colorbar\": {\"outlinewidth\": 0, \"ticks\": \"\"}}, \"marker\": {\"colorbar\": {\"outlinewidth\": 0, \"ticks\": \"\"}}, \"type\": \"scatter3d\"}], \"scattercarpet\": [{\"marker\": {\"colorbar\": {\"outlinewidth\": 0, \"ticks\": \"\"}}, \"type\": \"scattercarpet\"}], \"scattergeo\": [{\"marker\": {\"colorbar\": {\"outlinewidth\": 0, \"ticks\": \"\"}}, \"type\": \"scattergeo\"}], \"scattergl\": [{\"marker\": {\"colorbar\": {\"outlinewidth\": 0, \"ticks\": \"\"}}, \"type\": \"scattergl\"}], \"scattermapbox\": [{\"marker\": {\"colorbar\": {\"outlinewidth\": 0, \"ticks\": \"\"}}, \"type\": \"scattermapbox\"}], \"scatterpolar\": [{\"marker\": {\"colorbar\": {\"outlinewidth\": 0, \"ticks\": \"\"}}, \"type\": \"scatterpolar\"}], \"scatterpolargl\": [{\"marker\": {\"colorbar\": {\"outlinewidth\": 0, \"ticks\": \"\"}}, \"type\": \"scatterpolargl\"}], \"scatterternary\": [{\"marker\": {\"colorbar\": {\"outlinewidth\": 0, \"ticks\": \"\"}}, \"type\": \"scatterternary\"}], \"surface\": [{\"colorbar\": {\"outlinewidth\": 0, \"ticks\": \"\"}, \"colorscale\": [[0.0, \"#0d0887\"], [0.1111111111111111, \"#46039f\"], [0.2222222222222222, \"#7201a8\"], [0.3333333333333333, \"#9c179e\"], [0.4444444444444444, \"#bd3786\"], [0.5555555555555556, \"#d8576b\"], [0.6666666666666666, \"#ed7953\"], [0.7777777777777778, \"#fb9f3a\"], [0.8888888888888888, \"#fdca26\"], [1.0, \"#f0f921\"]], \"type\": \"surface\"}], \"table\": [{\"cells\": {\"fill\": {\"color\": \"#EBF0F8\"}, \"line\": {\"color\": \"white\"}}, \"header\": {\"fill\": {\"color\": \"#C8D4E3\"}, \"line\": {\"color\": \"white\"}}, \"type\": \"table\"}]}, \"layout\": {\"annotationdefaults\": {\"arrowcolor\": \"#2a3f5f\", \"arrowhead\": 0, \"arrowwidth\": 1}, \"autotypenumbers\": \"strict\", \"coloraxis\": {\"colorbar\": {\"outlinewidth\": 0, \"ticks\": \"\"}}, \"colorscale\": {\"diverging\": [[0, \"#8e0152\"], [0.1, \"#c51b7d\"], [0.2, \"#de77ae\"], [0.3, \"#f1b6da\"], [0.4, \"#fde0ef\"], [0.5, \"#f7f7f7\"], [0.6, \"#e6f5d0\"], [0.7, \"#b8e186\"], [0.8, \"#7fbc41\"], [0.9, \"#4d9221\"], [1, \"#276419\"]], \"sequential\": [[0.0, \"#0d0887\"], [0.1111111111111111, \"#46039f\"], [0.2222222222222222, \"#7201a8\"], [0.3333333333333333, \"#9c179e\"], [0.4444444444444444, \"#bd3786\"], [0.5555555555555556, \"#d8576b\"], [0.6666666666666666, \"#ed7953\"], [0.7777777777777778, \"#fb9f3a\"], [0.8888888888888888, \"#fdca26\"], [1.0, \"#f0f921\"]], \"sequentialminus\": [[0.0, \"#0d0887\"], [0.1111111111111111, \"#46039f\"], [0.2222222222222222, \"#7201a8\"], [0.3333333333333333, \"#9c179e\"], [0.4444444444444444, \"#bd3786\"], [0.5555555555555556, \"#d8576b\"], [0.6666666666666666, \"#ed7953\"], [0.7777777777777778, \"#fb9f3a\"], [0.8888888888888888, \"#fdca26\"], [1.0, \"#f0f921\"]]}, \"colorway\": [\"#636efa\", \"#EF553B\", \"#00cc96\", \"#ab63fa\", \"#FFA15A\", \"#19d3f3\", \"#FF6692\", \"#B6E880\", \"#FF97FF\", \"#FECB52\"], \"font\": {\"color\": \"#2a3f5f\"}, \"geo\": {\"bgcolor\": \"white\", \"lakecolor\": \"white\", \"landcolor\": \"#E5ECF6\", \"showlakes\": true, \"showland\": true, \"subunitcolor\": \"white\"}, \"hoverlabel\": {\"align\": \"left\"}, \"hovermode\": \"closest\", \"mapbox\": {\"style\": \"light\"}, \"paper_bgcolor\": \"white\", \"plot_bgcolor\": \"#E5ECF6\", \"polar\": {\"angularaxis\": {\"gridcolor\": \"white\", \"linecolor\": \"white\", \"ticks\": \"\"}, \"bgcolor\": \"#E5ECF6\", \"radialaxis\": {\"gridcolor\": \"white\", \"linecolor\": \"white\", \"ticks\": \"\"}}, \"scene\": {\"xaxis\": {\"backgroundcolor\": \"#E5ECF6\", \"gridcolor\": \"white\", \"gridwidth\": 2, \"linecolor\": \"white\", \"showbackground\": true, \"ticks\": \"\", \"zerolinecolor\": \"white\"}, \"yaxis\": {\"backgroundcolor\": \"#E5ECF6\", \"gridcolor\": \"white\", \"gridwidth\": 2, \"linecolor\": \"white\", \"showbackground\": true, \"ticks\": \"\", \"zerolinecolor\": \"white\"}, \"zaxis\": {\"backgroundcolor\": \"#E5ECF6\", \"gridcolor\": \"white\", \"gridwidth\": 2, \"linecolor\": \"white\", \"showbackground\": true, \"ticks\": \"\", \"zerolinecolor\": \"white\"}}, \"shapedefaults\": {\"line\": {\"color\": \"#2a3f5f\"}}, \"ternary\": {\"aaxis\": {\"gridcolor\": \"white\", \"linecolor\": \"white\", \"ticks\": \"\"}, \"baxis\": {\"gridcolor\": \"white\", \"linecolor\": \"white\", \"ticks\": \"\"}, \"bgcolor\": \"#E5ECF6\", \"caxis\": {\"gridcolor\": \"white\", \"linecolor\": \"white\", \"ticks\": \"\"}}, \"title\": {\"x\": 0.05}, \"xaxis\": {\"automargin\": true, \"gridcolor\": \"white\", \"linecolor\": \"white\", \"ticks\": \"\", \"title\": {\"standoff\": 15}, \"zerolinecolor\": \"white\", \"zerolinewidth\": 2}, \"yaxis\": {\"automargin\": true, \"gridcolor\": \"white\", \"linecolor\": \"white\", \"ticks\": \"\", \"title\": {\"standoff\": 15}, \"zerolinecolor\": \"white\", \"zerolinewidth\": 2}}}, \"title\": {\"text\": \"Number of companies v.s year last invoice was sent\"}, \"xaxis\": {\"anchor\": \"y\", \"domain\": [0.0, 1.0], \"title\": {\"text\": \"invoice_created_at_date\"}}, \"yaxis\": {\"anchor\": \"x\", \"domain\": [0.0, 1.0], \"title\": {\"text\": \"number_of_companies\"}}},                        {\"responsive\": true}                    ).then(function(){\n",
       "                            \n",
       "var gd = document.getElementById('e7c9cb5a-2fbc-4cd7-9b14-449458239331');\n",
       "var x = new MutationObserver(function (mutations, observer) {{\n",
       "        var display = window.getComputedStyle(gd).display;\n",
       "        if (!display || display === 'none') {{\n",
       "            console.log([gd, 'removed!']);\n",
       "            Plotly.purge(gd);\n",
       "            observer.disconnect();\n",
       "        }}\n",
       "}});\n",
       "\n",
       "// Listen for the removal of the full notebook cells\n",
       "var notebookContainer = gd.closest('#notebook-container');\n",
       "if (notebookContainer) {{\n",
       "    x.observe(notebookContainer, {childList: true});\n",
       "}}\n",
       "\n",
       "// Listen for the clearing of the current output cell\n",
       "var outputEl = gd.closest('.output');\n",
       "if (outputEl) {{\n",
       "    x.observe(outputEl, {childList: true});\n",
       "}}\n",
       "\n",
       "                        })                };                });            </script>        </div>"
      ]
     },
     "metadata": {},
     "output_type": "display_data"
    }
   ],
   "source": [
    "#plot a graph of companies vs the data of the last invoice sent \n",
    "df = df_invoices.groupby('company_id')[['invoice_created_at']].max().reset_index()\n",
    "df['invoice_created_at_date'] = pd.to_datetime(df['invoice_created_at'], utc=True)\n",
    "df = df.groupby(pd.Grouper(key='invoice_created_at_date', freq='Y'))['company_id'].count().reset_index()\n",
    "df.columns = ['invoice_created_at_date', 'number_of_companies']\n",
    "\n",
    "fig = px.bar(df, x='invoice_created_at_date', y=\"number_of_companies\", title='Number of companies v.s year last invoice was sent')\n",
    "fig.show()\n"
   ]
  },
  {
   "cell_type": "code",
   "execution_count": null,
   "metadata": {},
   "outputs": [],
   "source": []
  },
  {
   "cell_type": "code",
   "execution_count": null,
   "metadata": {},
   "outputs": [],
   "source": []
  },
  {
   "cell_type": "markdown",
   "metadata": {},
   "source": [
    "In the next section, I will take a look at customer conversion and churn to see if we can develop any new insights using the data.\n",
    "\n",
    "\n",
    "### Customer Conversion\n",
    "\n",
    "Since we don't have any data about the customer's behavior prior to the date they converted (ex. when they first joined the platform), we have to make some assumptions. We are going to assume that the date they sent an invoice (prior to their conversion date) is their first day on the platform.\n",
    "\n",
    "By calculating the days between their first invoice and the conversion date, we can calculate the length of time before a customer converts & plot it on a histogram to observe the distribution of this data."
   ]
  },
  {
   "cell_type": "code",
   "execution_count": 31,
   "metadata": {
    "scrolled": false
   },
   "outputs": [
    {
     "name": "stderr",
     "output_type": "stream",
     "text": [
      "<ipython-input-31-1455af7ee135>:11: SettingWithCopyWarning:\n",
      "\n",
      "\n",
      "A value is trying to be set on a copy of a slice from a DataFrame.\n",
      "Try using .loc[row_indexer,col_indexer] = value instead\n",
      "\n",
      "See the caveats in the documentation: https://pandas.pydata.org/pandas-docs/stable/user_guide/indexing.html#returning-a-view-versus-a-copy\n",
      "\n"
     ]
    },
    {
     "data": {
      "image/png": "[encoded data removed]",
      "text/plain": [
       "<Figure size 720x576 with 1 Axes>"
      ]
     },
     "metadata": {
      "needs_background": "light"
     },
     "output_type": "display_data"
    },
    {
     "name": "stdout",
     "output_type": "stream",
     "text": [
      "Numbers below are for converted customers who created an invoice before converting:\n",
      "Percentage of Users that Convert by the 7-Day mark: 15.95\n",
      "Percentage of Users that Convert by the 14-Day mark: 29.13\n",
      "Percentage of Users that Convert by the 21-Day mark: 45.03\n",
      "Percentage of Users that Convert by the 30-Day mark: 72.53\n",
      "Percentage of Users that Convert by the 60-Day mark: 86.11\n",
      "Percentage of Users that Convert by the 365-Day mark: 94.43\n"
     ]
    }
   ],
   "source": [
    "#1) Customer Conversion \n",
    "\n",
    "conversion_df=pd.merge(df_customers[['company_id','converted_at_date']].groupby('company_id').min().reset_index(),\n",
    "         df_invoices_and_expenses[['company_id','invoice_created_at_date']].groupby('company_id').min().reset_index(),\n",
    "         on='company_id',how='left').dropna()\n",
    "\n",
    "converted_df = conversion_df.loc[conversion_df['invoice_created_at_date']<conversion_df['converted_at_date']]\n",
    "converted_df['days_to_convert']=(converted_df['converted_at_date'] - converted_df['invoice_created_at_date']).apply(lambda x: x.days)\n",
    "# display(converted_df)\n",
    "\n",
    "#plot histogram of total users per company\n",
    "plt.figure(figsize=(10,8))\n",
    "bins = np.arange(0,200,1)\n",
    "plt.hist(np.clip(converted_df['days_to_convert'], bins[0], bins[-1]), bins=bins)\n",
    "plt.xlabel(\"Days To Convert\")\n",
    "plt.ylabel(\"Counts\")\n",
    "plt.title(\"Histogram of Days To Convert\")\n",
    "plt.show()\n",
    "\n",
    "print(\"Numbers below are for converted customers who created an invoice before converting:\")\n",
    "print(\"Percentage of Users that Convert by the 7-Day mark:\",round(100.0*converted_df.loc[converted_df['days_to_convert']<=7].shape[0]/converted_df.shape[0],2))\n",
    "print(\"Percentage of Users that Convert by the 14-Day mark:\",round(100.0*converted_df.loc[converted_df['days_to_convert']<=14].shape[0]/converted_df.shape[0],2))\n",
    "print(\"Percentage of Users that Convert by the 21-Day mark:\",round(100.0*converted_df.loc[converted_df['days_to_convert']<=21].shape[0]/converted_df.shape[0],2))\n",
    "print(\"Percentage of Users that Convert by the 30-Day mark:\",round(100.0*converted_df.loc[converted_df['days_to_convert']<=30].shape[0]/converted_df.shape[0],2))\n",
    "print(\"Percentage of Users that Convert by the 60-Day mark:\",round(100.0*converted_df.loc[converted_df['days_to_convert']<=60].shape[0]/converted_df.shape[0],2))\n",
    "print(\"Percentage of Users that Convert by the 365-Day mark:\",round(100.0*converted_df.loc[converted_df['days_to_convert']<=365].shape[0]/converted_df.shape[0],2))\n",
    "\n"
   ]
  },
  {
   "cell_type": "markdown",
   "metadata": {},
   "source": [
    "The graph above shows data from customers who converted and their days to conversion. Again, since we don't have the date when they joined the platform as a free user, we are assuming that the first invoice date is the creation date. From the graph above, we see that for users who converted, 72% of them did so before 30 days. This is an interesting result that makes sense because Harvest has a 30 day free trial!\n",
    "\n",
    "Unfortunately, we can't determine features that predict a customer will convert because we do not have the data for customers who churned before becoming a paying customer.\n",
    "\n",
    "\n",
    "### Customer  Engagement Churn\n",
    "Technically, we can't predict \"churn\" in the sense that a customer stopped paying and using the platform, but we can look at engagement churn. We have to make the following assumptions:\n",
    "\n",
    "- Assumption 1: Churn is defined as a customer who haven't created an invoice in a specific number of days (to be determined)\n",
    "- Assumption 2: Customers who churn on engagement don't return\n"
   ]
  },
  {
   "cell_type": "code",
   "execution_count": 41,
   "metadata": {},
   "outputs": [
    {
     "name": "stdout",
     "output_type": "stream",
     "text": [
      "99th percentile: 75.0\n"
     ]
    },
    {
     "data": {
      "image/png": "[encoded data removed]",
      "text/plain": [
       "<Figure size 720x576 with 1 Axes>"
      ]
     },
     "metadata": {
      "needs_background": "light"
     },
     "output_type": "display_data"
    }
   ],
   "source": [
    "#Create definition for Engagement Churn\n",
    "\n",
    "def engagement_churn_level():\n",
    "    dfstmp=[]\n",
    "    for g in df_invoices_and_expenses[['company_id','invoice_created_at_date']].sort_values(by=['company_id','invoice_created_at_date']).groupby('company_id'):\n",
    "        g[1]['days_between_invoices']=(g[1]['invoice_created_at_date']-g[1]['invoice_created_at_date'].shift(1)).dt.days\n",
    "        dfstmp.append(g[1][['company_id','invoice_created_at_date','days_between_invoices']])\n",
    "    time_between_invoices_df=pd.concat(dfstmp,ignore_index=True).dropna()\n",
    "\n",
    "    #plot histogram of time in between invoices sent\n",
    "    plt.figure(figsize=(10,8))\n",
    "    #Use 99th quantile to determine churn\n",
    "    plt.hist(time_between_invoices_df['days_between_invoices'].sample(n=1000000),bins=np.linspace(1,100,200))\n",
    "    q=np.quantile(time_between_invoices_df.loc[time_between_invoices_df['days_between_invoices']>0,'days_between_invoices'],0.99)\n",
    "    plt.axvline(q,color='r')\n",
    "    print(\"99th percentile:\",q)\n",
    "    plt.show()\n",
    "\n",
    "    return time_between_invoices_df,q\n",
    "\n",
    "time_between_invoices_df,qfilter=engagement_churn_level()\n"
   ]
  },
  {
   "cell_type": "markdown",
   "metadata": {},
   "source": [
    "The above graph shows the time in between the invoices sent across all companies in the data. We can use anomoly detection to determine longer than usual time between invoices. The 99th percentile of this distribution corresponds to 75 days. We can determine that companies who haven't sent an invoice in over 75 days are churned (on engagement).\n"
   ]
  },
  {
   "cell_type": "code",
   "execution_count": 43,
   "metadata": {},
   "outputs": [
    {
     "data": {
      "text/html": [
       "<div>\n",
       "<style scoped>\n",
       "    .dataframe tbody tr th:only-of-type {\n",
       "        vertical-align: middle;\n",
       "    }\n",
       "\n",
       "    .dataframe tbody tr th {\n",
       "        vertical-align: top;\n",
       "    }\n",
       "\n",
       "    .dataframe thead th {\n",
       "        text-align: right;\n",
       "    }\n",
       "</style>\n",
       "<table border=\"1\" class=\"dataframe\">\n",
       "  <thead>\n",
       "    <tr style=\"text-align: right;\">\n",
       "      <th></th>\n",
       "      <th>company_id</th>\n",
       "      <th>invoice_created_at_date</th>\n",
       "      <th>days_between_invoices</th>\n",
       "    </tr>\n",
       "  </thead>\n",
       "  <tbody>\n",
       "    <tr>\n",
       "      <th>2097</th>\n",
       "      <td>2945</td>\n",
       "      <td>2007-12-10 00:00:00+00:00</td>\n",
       "      <td>139.0</td>\n",
       "    </tr>\n",
       "    <tr>\n",
       "      <th>2253</th>\n",
       "      <td>2945</td>\n",
       "      <td>2013-08-28 01:00:55+00:00</td>\n",
       "      <td>131.0</td>\n",
       "    </tr>\n",
       "    <tr>\n",
       "      <th>2270</th>\n",
       "      <td>2945</td>\n",
       "      <td>2014-11-21 15:56:09+00:00</td>\n",
       "      <td>118.0</td>\n",
       "    </tr>\n",
       "    <tr>\n",
       "      <th>2271</th>\n",
       "      <td>2945</td>\n",
       "      <td>2015-03-10 02:34:34+00:00</td>\n",
       "      <td>108.0</td>\n",
       "    </tr>\n",
       "    <tr>\n",
       "      <th>2272</th>\n",
       "      <td>2945</td>\n",
       "      <td>2015-08-13 14:35:02+00:00</td>\n",
       "      <td>156.0</td>\n",
       "    </tr>\n",
       "    <tr>\n",
       "      <th>...</th>\n",
       "      <td>...</td>\n",
       "      <td>...</td>\n",
       "      <td>...</td>\n",
       "    </tr>\n",
       "    <tr>\n",
       "      <th>5209086</th>\n",
       "      <td>1372191</td>\n",
       "      <td>2022-07-04 22:41:04+00:00</td>\n",
       "      <td>126.0</td>\n",
       "    </tr>\n",
       "    <tr>\n",
       "      <th>5209891</th>\n",
       "      <td>1375418</td>\n",
       "      <td>2022-06-01 17:13:19+00:00</td>\n",
       "      <td>111.0</td>\n",
       "    </tr>\n",
       "    <tr>\n",
       "      <th>5210160</th>\n",
       "      <td>1377133</td>\n",
       "      <td>2022-06-15 12:42:42+00:00</td>\n",
       "      <td>119.0</td>\n",
       "    </tr>\n",
       "    <tr>\n",
       "      <th>5211425</th>\n",
       "      <td>1384731</td>\n",
       "      <td>2022-07-21 15:07:56+00:00</td>\n",
       "      <td>78.0</td>\n",
       "    </tr>\n",
       "    <tr>\n",
       "      <th>5212219</th>\n",
       "      <td>1390925</td>\n",
       "      <td>2022-07-18 14:04:18+00:00</td>\n",
       "      <td>113.0</td>\n",
       "    </tr>\n",
       "  </tbody>\n",
       "</table>\n",
       "<p>13111 rows × 3 columns</p>\n",
       "</div>"
      ],
      "text/plain": [
       "         company_id   invoice_created_at_date  days_between_invoices\n",
       "2097           2945 2007-12-10 00:00:00+00:00                  139.0\n",
       "2253           2945 2013-08-28 01:00:55+00:00                  131.0\n",
       "2270           2945 2014-11-21 15:56:09+00:00                  118.0\n",
       "2271           2945 2015-03-10 02:34:34+00:00                  108.0\n",
       "2272           2945 2015-08-13 14:35:02+00:00                  156.0\n",
       "...             ...                       ...                    ...\n",
       "5209086     1372191 2022-07-04 22:41:04+00:00                  126.0\n",
       "5209891     1375418 2022-06-01 17:13:19+00:00                  111.0\n",
       "5210160     1377133 2022-06-15 12:42:42+00:00                  119.0\n",
       "5211425     1384731 2022-07-21 15:07:56+00:00                   78.0\n",
       "5212219     1390925 2022-07-18 14:04:18+00:00                  113.0\n",
       "\n",
       "[13111 rows x 3 columns]"
      ]
     },
     "execution_count": 43,
     "metadata": {},
     "output_type": "execute_result"
    }
   ],
   "source": [
    "#find customers who haven't sent an invoice in over 75 days\n",
    "churned_customers = time_between_invoices_df[time_between_invoices_df['days_between_invoices']>75]\n",
    "churned_customers"
   ]
  },
  {
   "cell_type": "code",
   "execution_count": 46,
   "metadata": {},
   "outputs": [
    {
     "data": {
      "application/vnd.plotly.v1+json": {
       "config": {
        "plotlyServerURL": "https://plot.ly"
       },
       "data": [
        {
         "hovertemplate": "churned_date=%{x}<br>number_of_companies=%{y}<extra></extra>",
         "legendgroup": "",
         "line": {
          "color": "#636efa",
          "dash": "solid"
         },
         "mode": "lines",
         "name": "",
         "orientation": "v",
         "showlegend": false,
         "type": "scatter",
         "x": [
          "2007-12-31T00:00:00+00:00",
          "2008-01-31T00:00:00+00:00",
          "2008-02-29T00:00:00+00:00",
          "2008-03-31T00:00:00+00:00",
          "2008-04-30T00:00:00+00:00",
          "2008-05-31T00:00:00+00:00",
          "2008-06-30T00:00:00+00:00",
          "2008-07-31T00:00:00+00:00",
          "2008-08-31T00:00:00+00:00",
          "2008-09-30T00:00:00+00:00",
          "2008-10-31T00:00:00+00:00",
          "2008-11-30T00:00:00+00:00",
          "2008-12-31T00:00:00+00:00",
          "2009-01-31T00:00:00+00:00",
          "2009-02-28T00:00:00+00:00",
          "2009-03-31T00:00:00+00:00",
          "2009-04-30T00:00:00+00:00",
          "2009-05-31T00:00:00+00:00",
          "2009-06-30T00:00:00+00:00",
          "2009-07-31T00:00:00+00:00",
          "2009-08-31T00:00:00+00:00",
          "2009-09-30T00:00:00+00:00",
          "2009-10-31T00:00:00+00:00",
          "2009-11-30T00:00:00+00:00",
          "2009-12-31T00:00:00+00:00",
          "2010-01-31T00:00:00+00:00",
          "2010-02-28T00:00:00+00:00",
          "2010-03-31T00:00:00+00:00",
          "2010-04-30T00:00:00+00:00",
          "2010-05-31T00:00:00+00:00",
          "2010-06-30T00:00:00+00:00",
          "2010-07-31T00:00:00+00:00",
          "2010-08-31T00:00:00+00:00",
          "2010-09-30T00:00:00+00:00",
          "2010-10-31T00:00:00+00:00",
          "2010-11-30T00:00:00+00:00",
          "2010-12-31T00:00:00+00:00",
          "2011-01-31T00:00:00+00:00",
          "2011-02-28T00:00:00+00:00",
          "2011-03-31T00:00:00+00:00",
          "2011-04-30T00:00:00+00:00",
          "2011-05-31T00:00:00+00:00",
          "2011-06-30T00:00:00+00:00",
          "2011-07-31T00:00:00+00:00",
          "2011-08-31T00:00:00+00:00",
          "2011-09-30T00:00:00+00:00",
          "2011-10-31T00:00:00+00:00",
          "2011-11-30T00:00:00+00:00",
          "2011-12-31T00:00:00+00:00",
          "2012-01-31T00:00:00+00:00",
          "2012-02-29T00:00:00+00:00",
          "2012-03-31T00:00:00+00:00",
          "2012-04-30T00:00:00+00:00",
          "2012-05-31T00:00:00+00:00",
          "2012-06-30T00:00:00+00:00",
          "2012-07-31T00:00:00+00:00",
          "2012-08-31T00:00:00+00:00",
          "2012-09-30T00:00:00+00:00",
          "2012-10-31T00:00:00+00:00",
          "2012-11-30T00:00:00+00:00",
          "2012-12-31T00:00:00+00:00",
          "2013-01-31T00:00:00+00:00",
          "2013-02-28T00:00:00+00:00",
          "2013-03-31T00:00:00+00:00",
          "2013-04-30T00:00:00+00:00",
          "2013-05-31T00:00:00+00:00",
          "2013-06-30T00:00:00+00:00",
          "2013-07-31T00:00:00+00:00",
          "2013-08-31T00:00:00+00:00",
          "2013-09-30T00:00:00+00:00",
          "2013-10-31T00:00:00+00:00",
          "2013-11-30T00:00:00+00:00",
          "2013-12-31T00:00:00+00:00",
          "2014-01-31T00:00:00+00:00",
          "2014-02-28T00:00:00+00:00",
          "2014-03-31T00:00:00+00:00",
          "2014-04-30T00:00:00+00:00",
          "2014-05-31T00:00:00+00:00",
          "2014-06-30T00:00:00+00:00",
          "2014-07-31T00:00:00+00:00",
          "2014-08-31T00:00:00+00:00",
          "2014-09-30T00:00:00+00:00",
          "2014-10-31T00:00:00+00:00",
          "2014-11-30T00:00:00+00:00",
          "2014-12-31T00:00:00+00:00",
          "2015-01-31T00:00:00+00:00",
          "2015-02-28T00:00:00+00:00",
          "2015-03-31T00:00:00+00:00",
          "2015-04-30T00:00:00+00:00",
          "2015-05-31T00:00:00+00:00",
          "2015-06-30T00:00:00+00:00",
          "2015-07-31T00:00:00+00:00",
          "2015-08-31T00:00:00+00:00",
          "2015-09-30T00:00:00+00:00",
          "2015-10-31T00:00:00+00:00",
          "2015-11-30T00:00:00+00:00",
          "2015-12-31T00:00:00+00:00",
          "2016-01-31T00:00:00+00:00",
          "2016-02-29T00:00:00+00:00",
          "2016-03-31T00:00:00+00:00",
          "2016-04-30T00:00:00+00:00",
          "2016-05-31T00:00:00+00:00",
          "2016-06-30T00:00:00+00:00",
          "2016-07-31T00:00:00+00:00",
          "2016-08-31T00:00:00+00:00",
          "2016-09-30T00:00:00+00:00",
          "2016-10-31T00:00:00+00:00",
          "2016-11-30T00:00:00+00:00",
          "2016-12-31T00:00:00+00:00",
          "2017-01-31T00:00:00+00:00",
          "2017-02-28T00:00:00+00:00",
          "2017-03-31T00:00:00+00:00",
          "2017-04-30T00:00:00+00:00",
          "2017-05-31T00:00:00+00:00",
          "2017-06-30T00:00:00+00:00",
          "2017-07-31T00:00:00+00:00",
          "2017-08-31T00:00:00+00:00",
          "2017-09-30T00:00:00+00:00",
          "2017-10-31T00:00:00+00:00",
          "2017-11-30T00:00:00+00:00",
          "2017-12-31T00:00:00+00:00",
          "2018-01-31T00:00:00+00:00",
          "2018-02-28T00:00:00+00:00",
          "2018-03-31T00:00:00+00:00",
          "2018-04-30T00:00:00+00:00",
          "2018-05-31T00:00:00+00:00",
          "2018-06-30T00:00:00+00:00",
          "2018-07-31T00:00:00+00:00",
          "2018-08-31T00:00:00+00:00",
          "2018-09-30T00:00:00+00:00",
          "2018-10-31T00:00:00+00:00",
          "2018-11-30T00:00:00+00:00",
          "2018-12-31T00:00:00+00:00",
          "2019-01-31T00:00:00+00:00",
          "2019-02-28T00:00:00+00:00",
          "2019-03-31T00:00:00+00:00",
          "2019-04-30T00:00:00+00:00",
          "2019-05-31T00:00:00+00:00",
          "2019-06-30T00:00:00+00:00",
          "2019-07-31T00:00:00+00:00",
          "2019-08-31T00:00:00+00:00",
          "2019-09-30T00:00:00+00:00",
          "2019-10-31T00:00:00+00:00",
          "2019-11-30T00:00:00+00:00",
          "2019-12-31T00:00:00+00:00",
          "2020-01-31T00:00:00+00:00",
          "2020-02-29T00:00:00+00:00",
          "2020-03-31T00:00:00+00:00",
          "2020-04-30T00:00:00+00:00",
          "2020-05-31T00:00:00+00:00",
          "2020-06-30T00:00:00+00:00",
          "2020-07-31T00:00:00+00:00",
          "2020-08-31T00:00:00+00:00",
          "2020-09-30T00:00:00+00:00",
          "2020-10-31T00:00:00+00:00",
          "2020-11-30T00:00:00+00:00",
          "2020-12-31T00:00:00+00:00",
          "2021-01-31T00:00:00+00:00",
          "2021-02-28T00:00:00+00:00",
          "2021-03-31T00:00:00+00:00",
          "2021-04-30T00:00:00+00:00",
          "2021-05-31T00:00:00+00:00",
          "2021-06-30T00:00:00+00:00",
          "2021-07-31T00:00:00+00:00",
          "2021-08-31T00:00:00+00:00",
          "2021-09-30T00:00:00+00:00",
          "2021-10-31T00:00:00+00:00",
          "2021-11-30T00:00:00+00:00",
          "2021-12-31T00:00:00+00:00",
          "2022-01-31T00:00:00+00:00",
          "2022-02-28T00:00:00+00:00",
          "2022-03-31T00:00:00+00:00",
          "2022-04-30T00:00:00+00:00",
          "2022-05-31T00:00:00+00:00",
          "2022-06-30T00:00:00+00:00",
          "2022-07-31T00:00:00+00:00"
         ],
         "xaxis": "x",
         "y": [
          1,
          0,
          0,
          0,
          0,
          0,
          0,
          0,
          0,
          0,
          1,
          0,
          2,
          1,
          0,
          1,
          0,
          0,
          1,
          5,
          3,
          3,
          0,
          0,
          1,
          2,
          3,
          2,
          1,
          2,
          5,
          2,
          3,
          3,
          5,
          5,
          5,
          3,
          2,
          7,
          12,
          7,
          2,
          10,
          11,
          7,
          12,
          10,
          13,
          11,
          11,
          16,
          7,
          17,
          11,
          17,
          11,
          13,
          16,
          15,
          13,
          19,
          16,
          28,
          22,
          18,
          23,
          24,
          30,
          25,
          29,
          18,
          34,
          36,
          26,
          31,
          26,
          30,
          26,
          36,
          47,
          43,
          44,
          45,
          46,
          54,
          38,
          49,
          52,
          45,
          61,
          60,
          55,
          61,
          63,
          62,
          72,
          50,
          72,
          74,
          67,
          66,
          59,
          58,
          85,
          112,
          66,
          68,
          86,
          77,
          81,
          98,
          63,
          68,
          114,
          85,
          79,
          106,
          101,
          89,
          95,
          113,
          86,
          107,
          117,
          92,
          106,
          112,
          112,
          126,
          133,
          119,
          120,
          132,
          118,
          157,
          141,
          134,
          142,
          146,
          155,
          175,
          174,
          150,
          143,
          168,
          153,
          191,
          147,
          143,
          211,
          258,
          184,
          224,
          229,
          180,
          189,
          182,
          159,
          239,
          226,
          198,
          218,
          201,
          200,
          227,
          247,
          210,
          231,
          242,
          198,
          279,
          250,
          208,
          212,
          173
         ],
         "yaxis": "y"
        }
       ],
       "layout": {
        "legend": {
         "tracegroupgap": 0
        },
        "template": {
         "data": {
          "bar": [
           {
            "error_x": {
             "color": "#2a3f5f"
            },
            "error_y": {
             "color": "#2a3f5f"
            },
            "marker": {
             "line": {
              "color": "#E5ECF6",
              "width": 0.5
             }
            },
            "type": "bar"
           }
          ],
          "barpolar": [
           {
            "marker": {
             "line": {
              "color": "#E5ECF6",
              "width": 0.5
             }
            },
            "type": "barpolar"
           }
          ],
          "carpet": [
           {
            "aaxis": {
             "endlinecolor": "#2a3f5f",
             "gridcolor": "white",
             "linecolor": "white",
             "minorgridcolor": "white",
             "startlinecolor": "#2a3f5f"
            },
            "baxis": {
             "endlinecolor": "#2a3f5f",
             "gridcolor": "white",
             "linecolor": "white",
             "minorgridcolor": "white",
             "startlinecolor": "#2a3f5f"
            },
            "type": "carpet"
           }
          ],
          "choropleth": [
           {
            "colorbar": {
             "outlinewidth": 0,
             "ticks": ""
            },
            "type": "choropleth"
           }
          ],
          "contour": [
           {
            "colorbar": {
             "outlinewidth": 0,
             "ticks": ""
            },
            "colorscale": [
             [
              0,
              "#0d0887"
             ],
             [
              0.1111111111111111,
              "#46039f"
             ],
             [
              0.2222222222222222,
              "#7201a8"
             ],
             [
              0.3333333333333333,
              "#9c179e"
             ],
             [
              0.4444444444444444,
              "#bd3786"
             ],
             [
              0.5555555555555556,
              "#d8576b"
             ],
             [
              0.6666666666666666,
              "#ed7953"
             ],
             [
              0.7777777777777778,
              "#fb9f3a"
             ],
             [
              0.8888888888888888,
              "#fdca26"
             ],
             [
              1,
              "#f0f921"
             ]
            ],
            "type": "contour"
           }
          ],
          "contourcarpet": [
           {
            "colorbar": {
             "outlinewidth": 0,
             "ticks": ""
            },
            "type": "contourcarpet"
           }
          ],
          "heatmap": [
           {
            "colorbar": {
             "outlinewidth": 0,
             "ticks": ""
            },
            "colorscale": [
             [
              0,
              "#0d0887"
             ],
             [
              0.1111111111111111,
              "#46039f"
             ],
             [
              0.2222222222222222,
              "#7201a8"
             ],
             [
              0.3333333333333333,
              "#9c179e"
             ],
             [
              0.4444444444444444,
              "#bd3786"
             ],
             [
              0.5555555555555556,
              "#d8576b"
             ],
             [
              0.6666666666666666,
              "#ed7953"
             ],
             [
              0.7777777777777778,
              "#fb9f3a"
             ],
             [
              0.8888888888888888,
              "#fdca26"
             ],
             [
              1,
              "#f0f921"
             ]
            ],
            "type": "heatmap"
           }
          ],
          "heatmapgl": [
           {
            "colorbar": {
             "outlinewidth": 0,
             "ticks": ""
            },
            "colorscale": [
             [
              0,
              "#0d0887"
             ],
             [
              0.1111111111111111,
              "#46039f"
             ],
             [
              0.2222222222222222,
              "#7201a8"
             ],
             [
              0.3333333333333333,
              "#9c179e"
             ],
             [
              0.4444444444444444,
              "#bd3786"
             ],
             [
              0.5555555555555556,
              "#d8576b"
             ],
             [
              0.6666666666666666,
              "#ed7953"
             ],
             [
              0.7777777777777778,
              "#fb9f3a"
             ],
             [
              0.8888888888888888,
              "#fdca26"
             ],
             [
              1,
              "#f0f921"
             ]
            ],
            "type": "heatmapgl"
           }
          ],
          "histogram": [
           {
            "marker": {
             "colorbar": {
              "outlinewidth": 0,
              "ticks": ""
             }
            },
            "type": "histogram"
           }
          ],
          "histogram2d": [
           {
            "colorbar": {
             "outlinewidth": 0,
             "ticks": ""
            },
            "colorscale": [
             [
              0,
              "#0d0887"
             ],
             [
              0.1111111111111111,
              "#46039f"
             ],
             [
              0.2222222222222222,
              "#7201a8"
             ],
             [
              0.3333333333333333,
              "#9c179e"
             ],
             [
              0.4444444444444444,
              "#bd3786"
             ],
             [
              0.5555555555555556,
              "#d8576b"
             ],
             [
              0.6666666666666666,
              "#ed7953"
             ],
             [
              0.7777777777777778,
              "#fb9f3a"
             ],
             [
              0.8888888888888888,
              "#fdca26"
             ],
             [
              1,
              "#f0f921"
             ]
            ],
            "type": "histogram2d"
           }
          ],
          "histogram2dcontour": [
           {
            "colorbar": {
             "outlinewidth": 0,
             "ticks": ""
            },
            "colorscale": [
             [
              0,
              "#0d0887"
             ],
             [
              0.1111111111111111,
              "#46039f"
             ],
             [
              0.2222222222222222,
              "#7201a8"
             ],
             [
              0.3333333333333333,
              "#9c179e"
             ],
             [
              0.4444444444444444,
              "#bd3786"
             ],
             [
              0.5555555555555556,
              "#d8576b"
             ],
             [
              0.6666666666666666,
              "#ed7953"
             ],
             [
              0.7777777777777778,
              "#fb9f3a"
             ],
             [
              0.8888888888888888,
              "#fdca26"
             ],
             [
              1,
              "#f0f921"
             ]
            ],
            "type": "histogram2dcontour"
           }
          ],
          "mesh3d": [
           {
            "colorbar": {
             "outlinewidth": 0,
             "ticks": ""
            },
            "type": "mesh3d"
           }
          ],
          "parcoords": [
           {
            "line": {
             "colorbar": {
              "outlinewidth": 0,
              "ticks": ""
             }
            },
            "type": "parcoords"
           }
          ],
          "pie": [
           {
            "automargin": true,
            "type": "pie"
           }
          ],
          "scatter": [
           {
            "marker": {
             "colorbar": {
              "outlinewidth": 0,
              "ticks": ""
             }
            },
            "type": "scatter"
           }
          ],
          "scatter3d": [
           {
            "line": {
             "colorbar": {
              "outlinewidth": 0,
              "ticks": ""
             }
            },
            "marker": {
             "colorbar": {
              "outlinewidth": 0,
              "ticks": ""
             }
            },
            "type": "scatter3d"
           }
          ],
          "scattercarpet": [
           {
            "marker": {
             "colorbar": {
              "outlinewidth": 0,
              "ticks": ""
             }
            },
            "type": "scattercarpet"
           }
          ],
          "scattergeo": [
           {
            "marker": {
             "colorbar": {
              "outlinewidth": 0,
              "ticks": ""
             }
            },
            "type": "scattergeo"
           }
          ],
          "scattergl": [
           {
            "marker": {
             "colorbar": {
              "outlinewidth": 0,
              "ticks": ""
             }
            },
            "type": "scattergl"
           }
          ],
          "scattermapbox": [
           {
            "marker": {
             "colorbar": {
              "outlinewidth": 0,
              "ticks": ""
             }
            },
            "type": "scattermapbox"
           }
          ],
          "scatterpolar": [
           {
            "marker": {
             "colorbar": {
              "outlinewidth": 0,
              "ticks": ""
             }
            },
            "type": "scatterpolar"
           }
          ],
          "scatterpolargl": [
           {
            "marker": {
             "colorbar": {
              "outlinewidth": 0,
              "ticks": ""
             }
            },
            "type": "scatterpolargl"
           }
          ],
          "scatterternary": [
           {
            "marker": {
             "colorbar": {
              "outlinewidth": 0,
              "ticks": ""
             }
            },
            "type": "scatterternary"
           }
          ],
          "surface": [
           {
            "colorbar": {
             "outlinewidth": 0,
             "ticks": ""
            },
            "colorscale": [
             [
              0,
              "#0d0887"
             ],
             [
              0.1111111111111111,
              "#46039f"
             ],
             [
              0.2222222222222222,
              "#7201a8"
             ],
             [
              0.3333333333333333,
              "#9c179e"
             ],
             [
              0.4444444444444444,
              "#bd3786"
             ],
             [
              0.5555555555555556,
              "#d8576b"
             ],
             [
              0.6666666666666666,
              "#ed7953"
             ],
             [
              0.7777777777777778,
              "#fb9f3a"
             ],
             [
              0.8888888888888888,
              "#fdca26"
             ],
             [
              1,
              "#f0f921"
             ]
            ],
            "type": "surface"
           }
          ],
          "table": [
           {
            "cells": {
             "fill": {
              "color": "#EBF0F8"
             },
             "line": {
              "color": "white"
             }
            },
            "header": {
             "fill": {
              "color": "#C8D4E3"
             },
             "line": {
              "color": "white"
             }
            },
            "type": "table"
           }
          ]
         },
         "layout": {
          "annotationdefaults": {
           "arrowcolor": "#2a3f5f",
           "arrowhead": 0,
           "arrowwidth": 1
          },
          "autotypenumbers": "strict",
          "coloraxis": {
           "colorbar": {
            "outlinewidth": 0,
            "ticks": ""
           }
          },
          "colorscale": {
           "diverging": [
            [
             0,
             "#8e0152"
            ],
            [
             0.1,
             "#c51b7d"
            ],
            [
             0.2,
             "#de77ae"
            ],
            [
             0.3,
             "#f1b6da"
            ],
            [
             0.4,
             "#fde0ef"
            ],
            [
             0.5,
             "#f7f7f7"
            ],
            [
             0.6,
             "#e6f5d0"
            ],
            [
             0.7,
             "#b8e186"
            ],
            [
             0.8,
             "#7fbc41"
            ],
            [
             0.9,
             "#4d9221"
            ],
            [
             1,
             "#276419"
            ]
           ],
           "sequential": [
            [
             0,
             "#0d0887"
            ],
            [
             0.1111111111111111,
             "#46039f"
            ],
            [
             0.2222222222222222,
             "#7201a8"
            ],
            [
             0.3333333333333333,
             "#9c179e"
            ],
            [
             0.4444444444444444,
             "#bd3786"
            ],
            [
             0.5555555555555556,
             "#d8576b"
            ],
            [
             0.6666666666666666,
             "#ed7953"
            ],
            [
             0.7777777777777778,
             "#fb9f3a"
            ],
            [
             0.8888888888888888,
             "#fdca26"
            ],
            [
             1,
             "#f0f921"
            ]
           ],
           "sequentialminus": [
            [
             0,
             "#0d0887"
            ],
            [
             0.1111111111111111,
             "#46039f"
            ],
            [
             0.2222222222222222,
             "#7201a8"
            ],
            [
             0.3333333333333333,
             "#9c179e"
            ],
            [
             0.4444444444444444,
             "#bd3786"
            ],
            [
             0.5555555555555556,
             "#d8576b"
            ],
            [
             0.6666666666666666,
             "#ed7953"
            ],
            [
             0.7777777777777778,
             "#fb9f3a"
            ],
            [
             0.8888888888888888,
             "#fdca26"
            ],
            [
             1,
             "#f0f921"
            ]
           ]
          },
          "colorway": [
           "#636efa",
           "#EF553B",
           "#00cc96",
           "#ab63fa",
           "#FFA15A",
           "#19d3f3",
           "#FF6692",
           "#B6E880",
           "#FF97FF",
           "#FECB52"
          ],
          "font": {
           "color": "#2a3f5f"
          },
          "geo": {
           "bgcolor": "white",
           "lakecolor": "white",
           "landcolor": "#E5ECF6",
           "showlakes": true,
           "showland": true,
           "subunitcolor": "white"
          },
          "hoverlabel": {
           "align": "left"
          },
          "hovermode": "closest",
          "mapbox": {
           "style": "light"
          },
          "paper_bgcolor": "white",
          "plot_bgcolor": "#E5ECF6",
          "polar": {
           "angularaxis": {
            "gridcolor": "white",
            "linecolor": "white",
            "ticks": ""
           },
           "bgcolor": "#E5ECF6",
           "radialaxis": {
            "gridcolor": "white",
            "linecolor": "white",
            "ticks": ""
           }
          },
          "scene": {
           "xaxis": {
            "backgroundcolor": "#E5ECF6",
            "gridcolor": "white",
            "gridwidth": 2,
            "linecolor": "white",
            "showbackground": true,
            "ticks": "",
            "zerolinecolor": "white"
           },
           "yaxis": {
            "backgroundcolor": "#E5ECF6",
            "gridcolor": "white",
            "gridwidth": 2,
            "linecolor": "white",
            "showbackground": true,
            "ticks": "",
            "zerolinecolor": "white"
           },
           "zaxis": {
            "backgroundcolor": "#E5ECF6",
            "gridcolor": "white",
            "gridwidth": 2,
            "linecolor": "white",
            "showbackground": true,
            "ticks": "",
            "zerolinecolor": "white"
           }
          },
          "shapedefaults": {
           "line": {
            "color": "#2a3f5f"
           }
          },
          "ternary": {
           "aaxis": {
            "gridcolor": "white",
            "linecolor": "white",
            "ticks": ""
           },
           "baxis": {
            "gridcolor": "white",
            "linecolor": "white",
            "ticks": ""
           },
           "bgcolor": "#E5ECF6",
           "caxis": {
            "gridcolor": "white",
            "linecolor": "white",
            "ticks": ""
           }
          },
          "title": {
           "x": 0.05
          },
          "xaxis": {
           "automargin": true,
           "gridcolor": "white",
           "linecolor": "white",
           "ticks": "",
           "title": {
            "standoff": 15
           },
           "zerolinecolor": "white",
           "zerolinewidth": 2
          },
          "yaxis": {
           "automargin": true,
           "gridcolor": "white",
           "linecolor": "white",
           "ticks": "",
           "title": {
            "standoff": 15
           },
           "zerolinecolor": "white",
           "zerolinewidth": 2
          }
         }
        },
        "title": {
         "text": "Time series of customers who churned on engagement (have not sent an invoice in over 75 days)"
        },
        "xaxis": {
         "anchor": "y",
         "domain": [
          0,
          1
         ],
         "title": {
          "text": "churned_date"
         }
        },
        "yaxis": {
         "anchor": "x",
         "domain": [
          0,
          1
         ],
         "title": {
          "text": "number_of_companies"
         }
        }
       }
      },
      "text/html": [
       "<div>                            <div id=\"33564ac1-5848-4f22-b443-dac1498158e9\" class=\"plotly-graph-div\" style=\"height:525px; width:100%;\"></div>            <script type=\"text/javascript\">                require([\"plotly\"], function(Plotly) {                    window.PLOTLYENV=window.PLOTLYENV || {};                                    if (document.getElementById(\"33564ac1-5848-4f22-b443-dac1498158e9\")) {                    Plotly.newPlot(                        \"33564ac1-5848-4f22-b443-dac1498158e9\",                        [{\"hovertemplate\": \"churned_date=%{x}<br>number_of_companies=%{y}<extra></extra>\", \"legendgroup\": \"\", \"line\": {\"color\": \"#636efa\", \"dash\": \"solid\"}, \"mode\": \"lines\", \"name\": \"\", \"orientation\": \"v\", \"showlegend\": false, \"type\": \"scatter\", \"x\": [\"2007-12-31T00:00:00+00:00\", \"2008-01-31T00:00:00+00:00\", \"2008-02-29T00:00:00+00:00\", \"2008-03-31T00:00:00+00:00\", \"2008-04-30T00:00:00+00:00\", \"2008-05-31T00:00:00+00:00\", \"2008-06-30T00:00:00+00:00\", \"2008-07-31T00:00:00+00:00\", \"2008-08-31T00:00:00+00:00\", \"2008-09-30T00:00:00+00:00\", \"2008-10-31T00:00:00+00:00\", \"2008-11-30T00:00:00+00:00\", \"2008-12-31T00:00:00+00:00\", \"2009-01-31T00:00:00+00:00\", \"2009-02-28T00:00:00+00:00\", \"2009-03-31T00:00:00+00:00\", \"2009-04-30T00:00:00+00:00\", \"2009-05-31T00:00:00+00:00\", \"2009-06-30T00:00:00+00:00\", \"2009-07-31T00:00:00+00:00\", \"2009-08-31T00:00:00+00:00\", \"2009-09-30T00:00:00+00:00\", \"2009-10-31T00:00:00+00:00\", \"2009-11-30T00:00:00+00:00\", \"2009-12-31T00:00:00+00:00\", \"2010-01-31T00:00:00+00:00\", \"2010-02-28T00:00:00+00:00\", \"2010-03-31T00:00:00+00:00\", \"2010-04-30T00:00:00+00:00\", \"2010-05-31T00:00:00+00:00\", \"2010-06-30T00:00:00+00:00\", \"2010-07-31T00:00:00+00:00\", \"2010-08-31T00:00:00+00:00\", \"2010-09-30T00:00:00+00:00\", \"2010-10-31T00:00:00+00:00\", \"2010-11-30T00:00:00+00:00\", \"2010-12-31T00:00:00+00:00\", \"2011-01-31T00:00:00+00:00\", \"2011-02-28T00:00:00+00:00\", \"2011-03-31T00:00:00+00:00\", \"2011-04-30T00:00:00+00:00\", \"2011-05-31T00:00:00+00:00\", \"2011-06-30T00:00:00+00:00\", \"2011-07-31T00:00:00+00:00\", \"2011-08-31T00:00:00+00:00\", \"2011-09-30T00:00:00+00:00\", \"2011-10-31T00:00:00+00:00\", \"2011-11-30T00:00:00+00:00\", \"2011-12-31T00:00:00+00:00\", \"2012-01-31T00:00:00+00:00\", \"2012-02-29T00:00:00+00:00\", \"2012-03-31T00:00:00+00:00\", \"2012-04-30T00:00:00+00:00\", \"2012-05-31T00:00:00+00:00\", \"2012-06-30T00:00:00+00:00\", \"2012-07-31T00:00:00+00:00\", \"2012-08-31T00:00:00+00:00\", \"2012-09-30T00:00:00+00:00\", \"2012-10-31T00:00:00+00:00\", \"2012-11-30T00:00:00+00:00\", \"2012-12-31T00:00:00+00:00\", \"2013-01-31T00:00:00+00:00\", \"2013-02-28T00:00:00+00:00\", \"2013-03-31T00:00:00+00:00\", \"2013-04-30T00:00:00+00:00\", \"2013-05-31T00:00:00+00:00\", \"2013-06-30T00:00:00+00:00\", \"2013-07-31T00:00:00+00:00\", \"2013-08-31T00:00:00+00:00\", \"2013-09-30T00:00:00+00:00\", \"2013-10-31T00:00:00+00:00\", \"2013-11-30T00:00:00+00:00\", \"2013-12-31T00:00:00+00:00\", \"2014-01-31T00:00:00+00:00\", \"2014-02-28T00:00:00+00:00\", \"2014-03-31T00:00:00+00:00\", \"2014-04-30T00:00:00+00:00\", \"2014-05-31T00:00:00+00:00\", \"2014-06-30T00:00:00+00:00\", \"2014-07-31T00:00:00+00:00\", \"2014-08-31T00:00:00+00:00\", \"2014-09-30T00:00:00+00:00\", \"2014-10-31T00:00:00+00:00\", \"2014-11-30T00:00:00+00:00\", \"2014-12-31T00:00:00+00:00\", \"2015-01-31T00:00:00+00:00\", \"2015-02-28T00:00:00+00:00\", \"2015-03-31T00:00:00+00:00\", \"2015-04-30T00:00:00+00:00\", \"2015-05-31T00:00:00+00:00\", \"2015-06-30T00:00:00+00:00\", \"2015-07-31T00:00:00+00:00\", \"2015-08-31T00:00:00+00:00\", \"2015-09-30T00:00:00+00:00\", \"2015-10-31T00:00:00+00:00\", \"2015-11-30T00:00:00+00:00\", \"2015-12-31T00:00:00+00:00\", \"2016-01-31T00:00:00+00:00\", \"2016-02-29T00:00:00+00:00\", \"2016-03-31T00:00:00+00:00\", \"2016-04-30T00:00:00+00:00\", \"2016-05-31T00:00:00+00:00\", \"2016-06-30T00:00:00+00:00\", \"2016-07-31T00:00:00+00:00\", \"2016-08-31T00:00:00+00:00\", \"2016-09-30T00:00:00+00:00\", \"2016-10-31T00:00:00+00:00\", \"2016-11-30T00:00:00+00:00\", \"2016-12-31T00:00:00+00:00\", \"2017-01-31T00:00:00+00:00\", \"2017-02-28T00:00:00+00:00\", \"2017-03-31T00:00:00+00:00\", \"2017-04-30T00:00:00+00:00\", \"2017-05-31T00:00:00+00:00\", \"2017-06-30T00:00:00+00:00\", \"2017-07-31T00:00:00+00:00\", \"2017-08-31T00:00:00+00:00\", \"2017-09-30T00:00:00+00:00\", \"2017-10-31T00:00:00+00:00\", \"2017-11-30T00:00:00+00:00\", \"2017-12-31T00:00:00+00:00\", \"2018-01-31T00:00:00+00:00\", \"2018-02-28T00:00:00+00:00\", \"2018-03-31T00:00:00+00:00\", \"2018-04-30T00:00:00+00:00\", \"2018-05-31T00:00:00+00:00\", \"2018-06-30T00:00:00+00:00\", \"2018-07-31T00:00:00+00:00\", \"2018-08-31T00:00:00+00:00\", \"2018-09-30T00:00:00+00:00\", \"2018-10-31T00:00:00+00:00\", \"2018-11-30T00:00:00+00:00\", \"2018-12-31T00:00:00+00:00\", \"2019-01-31T00:00:00+00:00\", \"2019-02-28T00:00:00+00:00\", \"2019-03-31T00:00:00+00:00\", \"2019-04-30T00:00:00+00:00\", \"2019-05-31T00:00:00+00:00\", \"2019-06-30T00:00:00+00:00\", \"2019-07-31T00:00:00+00:00\", \"2019-08-31T00:00:00+00:00\", \"2019-09-30T00:00:00+00:00\", \"2019-10-31T00:00:00+00:00\", \"2019-11-30T00:00:00+00:00\", \"2019-12-31T00:00:00+00:00\", \"2020-01-31T00:00:00+00:00\", \"2020-02-29T00:00:00+00:00\", \"2020-03-31T00:00:00+00:00\", \"2020-04-30T00:00:00+00:00\", \"2020-05-31T00:00:00+00:00\", \"2020-06-30T00:00:00+00:00\", \"2020-07-31T00:00:00+00:00\", \"2020-08-31T00:00:00+00:00\", \"2020-09-30T00:00:00+00:00\", \"2020-10-31T00:00:00+00:00\", \"2020-11-30T00:00:00+00:00\", \"2020-12-31T00:00:00+00:00\", \"2021-01-31T00:00:00+00:00\", \"2021-02-28T00:00:00+00:00\", \"2021-03-31T00:00:00+00:00\", \"2021-04-30T00:00:00+00:00\", \"2021-05-31T00:00:00+00:00\", \"2021-06-30T00:00:00+00:00\", \"2021-07-31T00:00:00+00:00\", \"2021-08-31T00:00:00+00:00\", \"2021-09-30T00:00:00+00:00\", \"2021-10-31T00:00:00+00:00\", \"2021-11-30T00:00:00+00:00\", \"2021-12-31T00:00:00+00:00\", \"2022-01-31T00:00:00+00:00\", \"2022-02-28T00:00:00+00:00\", \"2022-03-31T00:00:00+00:00\", \"2022-04-30T00:00:00+00:00\", \"2022-05-31T00:00:00+00:00\", \"2022-06-30T00:00:00+00:00\", \"2022-07-31T00:00:00+00:00\"], \"xaxis\": \"x\", \"y\": [1, 0, 0, 0, 0, 0, 0, 0, 0, 0, 1, 0, 2, 1, 0, 1, 0, 0, 1, 5, 3, 3, 0, 0, 1, 2, 3, 2, 1, 2, 5, 2, 3, 3, 5, 5, 5, 3, 2, 7, 12, 7, 2, 10, 11, 7, 12, 10, 13, 11, 11, 16, 7, 17, 11, 17, 11, 13, 16, 15, 13, 19, 16, 28, 22, 18, 23, 24, 30, 25, 29, 18, 34, 36, 26, 31, 26, 30, 26, 36, 47, 43, 44, 45, 46, 54, 38, 49, 52, 45, 61, 60, 55, 61, 63, 62, 72, 50, 72, 74, 67, 66, 59, 58, 85, 112, 66, 68, 86, 77, 81, 98, 63, 68, 114, 85, 79, 106, 101, 89, 95, 113, 86, 107, 117, 92, 106, 112, 112, 126, 133, 119, 120, 132, 118, 157, 141, 134, 142, 146, 155, 175, 174, 150, 143, 168, 153, 191, 147, 143, 211, 258, 184, 224, 229, 180, 189, 182, 159, 239, 226, 198, 218, 201, 200, 227, 247, 210, 231, 242, 198, 279, 250, 208, 212, 173], \"yaxis\": \"y\"}],                        {\"legend\": {\"tracegroupgap\": 0}, \"template\": {\"data\": {\"bar\": [{\"error_x\": {\"color\": \"#2a3f5f\"}, \"error_y\": {\"color\": \"#2a3f5f\"}, \"marker\": {\"line\": {\"color\": \"#E5ECF6\", \"width\": 0.5}}, \"type\": \"bar\"}], \"barpolar\": [{\"marker\": {\"line\": {\"color\": \"#E5ECF6\", \"width\": 0.5}}, \"type\": \"barpolar\"}], \"carpet\": [{\"aaxis\": {\"endlinecolor\": \"#2a3f5f\", \"gridcolor\": \"white\", \"linecolor\": \"white\", \"minorgridcolor\": \"white\", \"startlinecolor\": \"#2a3f5f\"}, \"baxis\": {\"endlinecolor\": \"#2a3f5f\", \"gridcolor\": \"white\", \"linecolor\": \"white\", \"minorgridcolor\": \"white\", \"startlinecolor\": \"#2a3f5f\"}, \"type\": \"carpet\"}], \"choropleth\": [{\"colorbar\": {\"outlinewidth\": 0, \"ticks\": \"\"}, \"type\": \"choropleth\"}], \"contour\": [{\"colorbar\": {\"outlinewidth\": 0, \"ticks\": \"\"}, \"colorscale\": [[0.0, \"#0d0887\"], [0.1111111111111111, \"#46039f\"], [0.2222222222222222, \"#7201a8\"], [0.3333333333333333, \"#9c179e\"], [0.4444444444444444, \"#bd3786\"], [0.5555555555555556, \"#d8576b\"], [0.6666666666666666, \"#ed7953\"], [0.7777777777777778, \"#fb9f3a\"], [0.8888888888888888, \"#fdca26\"], [1.0, \"#f0f921\"]], \"type\": \"contour\"}], \"contourcarpet\": [{\"colorbar\": {\"outlinewidth\": 0, \"ticks\": \"\"}, \"type\": \"contourcarpet\"}], \"heatmap\": [{\"colorbar\": {\"outlinewidth\": 0, \"ticks\": \"\"}, \"colorscale\": [[0.0, \"#0d0887\"], [0.1111111111111111, \"#46039f\"], [0.2222222222222222, \"#7201a8\"], [0.3333333333333333, \"#9c179e\"], [0.4444444444444444, \"#bd3786\"], [0.5555555555555556, \"#d8576b\"], [0.6666666666666666, \"#ed7953\"], [0.7777777777777778, \"#fb9f3a\"], [0.8888888888888888, \"#fdca26\"], [1.0, \"#f0f921\"]], \"type\": \"heatmap\"}], \"heatmapgl\": [{\"colorbar\": {\"outlinewidth\": 0, \"ticks\": \"\"}, \"colorscale\": [[0.0, \"#0d0887\"], [0.1111111111111111, \"#46039f\"], [0.2222222222222222, \"#7201a8\"], [0.3333333333333333, \"#9c179e\"], [0.4444444444444444, \"#bd3786\"], [0.5555555555555556, \"#d8576b\"], [0.6666666666666666, \"#ed7953\"], [0.7777777777777778, \"#fb9f3a\"], [0.8888888888888888, \"#fdca26\"], [1.0, \"#f0f921\"]], \"type\": \"heatmapgl\"}], \"histogram\": [{\"marker\": {\"colorbar\": {\"outlinewidth\": 0, \"ticks\": \"\"}}, \"type\": \"histogram\"}], \"histogram2d\": [{\"colorbar\": {\"outlinewidth\": 0, \"ticks\": \"\"}, \"colorscale\": [[0.0, \"#0d0887\"], [0.1111111111111111, \"#46039f\"], [0.2222222222222222, \"#7201a8\"], [0.3333333333333333, \"#9c179e\"], [0.4444444444444444, \"#bd3786\"], [0.5555555555555556, \"#d8576b\"], [0.6666666666666666, \"#ed7953\"], [0.7777777777777778, \"#fb9f3a\"], [0.8888888888888888, \"#fdca26\"], [1.0, \"#f0f921\"]], \"type\": \"histogram2d\"}], \"histogram2dcontour\": [{\"colorbar\": {\"outlinewidth\": 0, \"ticks\": \"\"}, \"colorscale\": [[0.0, \"#0d0887\"], [0.1111111111111111, \"#46039f\"], [0.2222222222222222, \"#7201a8\"], [0.3333333333333333, \"#9c179e\"], [0.4444444444444444, \"#bd3786\"], [0.5555555555555556, \"#d8576b\"], [0.6666666666666666, \"#ed7953\"], [0.7777777777777778, \"#fb9f3a\"], [0.8888888888888888, \"#fdca26\"], [1.0, \"#f0f921\"]], \"type\": \"histogram2dcontour\"}], \"mesh3d\": [{\"colorbar\": {\"outlinewidth\": 0, \"ticks\": \"\"}, \"type\": \"mesh3d\"}], \"parcoords\": [{\"line\": {\"colorbar\": {\"outlinewidth\": 0, \"ticks\": \"\"}}, \"type\": \"parcoords\"}], \"pie\": [{\"automargin\": true, \"type\": \"pie\"}], \"scatter\": [{\"marker\": {\"colorbar\": {\"outlinewidth\": 0, \"ticks\": \"\"}}, \"type\": \"scatter\"}], \"scatter3d\": [{\"line\": {\"colorbar\": {\"outlinewidth\": 0, \"ticks\": \"\"}}, \"marker\": {\"colorbar\": {\"outlinewidth\": 0, \"ticks\": \"\"}}, \"type\": \"scatter3d\"}], \"scattercarpet\": [{\"marker\": {\"colorbar\": {\"outlinewidth\": 0, \"ticks\": \"\"}}, \"type\": \"scattercarpet\"}], \"scattergeo\": [{\"marker\": {\"colorbar\": {\"outlinewidth\": 0, \"ticks\": \"\"}}, \"type\": \"scattergeo\"}], \"scattergl\": [{\"marker\": {\"colorbar\": {\"outlinewidth\": 0, \"ticks\": \"\"}}, \"type\": \"scattergl\"}], \"scattermapbox\": [{\"marker\": {\"colorbar\": {\"outlinewidth\": 0, \"ticks\": \"\"}}, \"type\": \"scattermapbox\"}], \"scatterpolar\": [{\"marker\": {\"colorbar\": {\"outlinewidth\": 0, \"ticks\": \"\"}}, \"type\": \"scatterpolar\"}], \"scatterpolargl\": [{\"marker\": {\"colorbar\": {\"outlinewidth\": 0, \"ticks\": \"\"}}, \"type\": \"scatterpolargl\"}], \"scatterternary\": [{\"marker\": {\"colorbar\": {\"outlinewidth\": 0, \"ticks\": \"\"}}, \"type\": \"scatterternary\"}], \"surface\": [{\"colorbar\": {\"outlinewidth\": 0, \"ticks\": \"\"}, \"colorscale\": [[0.0, \"#0d0887\"], [0.1111111111111111, \"#46039f\"], [0.2222222222222222, \"#7201a8\"], [0.3333333333333333, \"#9c179e\"], [0.4444444444444444, \"#bd3786\"], [0.5555555555555556, \"#d8576b\"], [0.6666666666666666, \"#ed7953\"], [0.7777777777777778, \"#fb9f3a\"], [0.8888888888888888, \"#fdca26\"], [1.0, \"#f0f921\"]], \"type\": \"surface\"}], \"table\": [{\"cells\": {\"fill\": {\"color\": \"#EBF0F8\"}, \"line\": {\"color\": \"white\"}}, \"header\": {\"fill\": {\"color\": \"#C8D4E3\"}, \"line\": {\"color\": \"white\"}}, \"type\": \"table\"}]}, \"layout\": {\"annotationdefaults\": {\"arrowcolor\": \"#2a3f5f\", \"arrowhead\": 0, \"arrowwidth\": 1}, \"autotypenumbers\": \"strict\", \"coloraxis\": {\"colorbar\": {\"outlinewidth\": 0, \"ticks\": \"\"}}, \"colorscale\": {\"diverging\": [[0, \"#8e0152\"], [0.1, \"#c51b7d\"], [0.2, \"#de77ae\"], [0.3, \"#f1b6da\"], [0.4, \"#fde0ef\"], [0.5, \"#f7f7f7\"], [0.6, \"#e6f5d0\"], [0.7, \"#b8e186\"], [0.8, \"#7fbc41\"], [0.9, \"#4d9221\"], [1, \"#276419\"]], \"sequential\": [[0.0, \"#0d0887\"], [0.1111111111111111, \"#46039f\"], [0.2222222222222222, \"#7201a8\"], [0.3333333333333333, \"#9c179e\"], [0.4444444444444444, \"#bd3786\"], [0.5555555555555556, \"#d8576b\"], [0.6666666666666666, \"#ed7953\"], [0.7777777777777778, \"#fb9f3a\"], [0.8888888888888888, \"#fdca26\"], [1.0, \"#f0f921\"]], \"sequentialminus\": [[0.0, \"#0d0887\"], [0.1111111111111111, \"#46039f\"], [0.2222222222222222, \"#7201a8\"], [0.3333333333333333, \"#9c179e\"], [0.4444444444444444, \"#bd3786\"], [0.5555555555555556, \"#d8576b\"], [0.6666666666666666, \"#ed7953\"], [0.7777777777777778, \"#fb9f3a\"], [0.8888888888888888, \"#fdca26\"], [1.0, \"#f0f921\"]]}, \"colorway\": [\"#636efa\", \"#EF553B\", \"#00cc96\", \"#ab63fa\", \"#FFA15A\", \"#19d3f3\", \"#FF6692\", \"#B6E880\", \"#FF97FF\", \"#FECB52\"], \"font\": {\"color\": \"#2a3f5f\"}, \"geo\": {\"bgcolor\": \"white\", \"lakecolor\": \"white\", \"landcolor\": \"#E5ECF6\", \"showlakes\": true, \"showland\": true, \"subunitcolor\": \"white\"}, \"hoverlabel\": {\"align\": \"left\"}, \"hovermode\": \"closest\", \"mapbox\": {\"style\": \"light\"}, \"paper_bgcolor\": \"white\", \"plot_bgcolor\": \"#E5ECF6\", \"polar\": {\"angularaxis\": {\"gridcolor\": \"white\", \"linecolor\": \"white\", \"ticks\": \"\"}, \"bgcolor\": \"#E5ECF6\", \"radialaxis\": {\"gridcolor\": \"white\", \"linecolor\": \"white\", \"ticks\": \"\"}}, \"scene\": {\"xaxis\": {\"backgroundcolor\": \"#E5ECF6\", \"gridcolor\": \"white\", \"gridwidth\": 2, \"linecolor\": \"white\", \"showbackground\": true, \"ticks\": \"\", \"zerolinecolor\": \"white\"}, \"yaxis\": {\"backgroundcolor\": \"#E5ECF6\", \"gridcolor\": \"white\", \"gridwidth\": 2, \"linecolor\": \"white\", \"showbackground\": true, \"ticks\": \"\", \"zerolinecolor\": \"white\"}, \"zaxis\": {\"backgroundcolor\": \"#E5ECF6\", \"gridcolor\": \"white\", \"gridwidth\": 2, \"linecolor\": \"white\", \"showbackground\": true, \"ticks\": \"\", \"zerolinecolor\": \"white\"}}, \"shapedefaults\": {\"line\": {\"color\": \"#2a3f5f\"}}, \"ternary\": {\"aaxis\": {\"gridcolor\": \"white\", \"linecolor\": \"white\", \"ticks\": \"\"}, \"baxis\": {\"gridcolor\": \"white\", \"linecolor\": \"white\", \"ticks\": \"\"}, \"bgcolor\": \"#E5ECF6\", \"caxis\": {\"gridcolor\": \"white\", \"linecolor\": \"white\", \"ticks\": \"\"}}, \"title\": {\"x\": 0.05}, \"xaxis\": {\"automargin\": true, \"gridcolor\": \"white\", \"linecolor\": \"white\", \"ticks\": \"\", \"title\": {\"standoff\": 15}, \"zerolinecolor\": \"white\", \"zerolinewidth\": 2}, \"yaxis\": {\"automargin\": true, \"gridcolor\": \"white\", \"linecolor\": \"white\", \"ticks\": \"\", \"title\": {\"standoff\": 15}, \"zerolinecolor\": \"white\", \"zerolinewidth\": 2}}}, \"title\": {\"text\": \"Time series of customers who churned on engagement (have not sent an invoice in over 75 days)\"}, \"xaxis\": {\"anchor\": \"y\", \"domain\": [0.0, 1.0], \"title\": {\"text\": \"churned_date\"}}, \"yaxis\": {\"anchor\": \"x\", \"domain\": [0.0, 1.0], \"title\": {\"text\": \"number_of_companies\"}}},                        {\"responsive\": true}                    ).then(function(){\n",
       "                            \n",
       "var gd = document.getElementById('33564ac1-5848-4f22-b443-dac1498158e9');\n",
       "var x = new MutationObserver(function (mutations, observer) {{\n",
       "        var display = window.getComputedStyle(gd).display;\n",
       "        if (!display || display === 'none') {{\n",
       "            console.log([gd, 'removed!']);\n",
       "            Plotly.purge(gd);\n",
       "            observer.disconnect();\n",
       "        }}\n",
       "}});\n",
       "\n",
       "// Listen for the removal of the full notebook cells\n",
       "var notebookContainer = gd.closest('#notebook-container');\n",
       "if (notebookContainer) {{\n",
       "    x.observe(notebookContainer, {childList: true});\n",
       "}}\n",
       "\n",
       "// Listen for the clearing of the current output cell\n",
       "var outputEl = gd.closest('.output');\n",
       "if (outputEl) {{\n",
       "    x.observe(outputEl, {childList: true});\n",
       "}}\n",
       "\n",
       "                        })                };                });            </script>        </div>"
      ]
     },
     "metadata": {},
     "output_type": "display_data"
    }
   ],
   "source": [
    "#plot their churn rate over time\n",
    "\n",
    "#plot a time series of the number of companies that converted to yearly vs monthly paying customers\n",
    "df = churned_customers.groupby(pd.Grouper(key='invoice_created_at_date', freq='M'))['company_id'].count().reset_index()\n",
    "df.columns = ['churned_date','number_of_companies']\n",
    "fig = px.line(df, x='churned_date', y=\"number_of_companies\", title='Time series of customers who churned on engagement (have not sent an invoice in over 75 days)')\n",
    "fig.show()"
   ]
  },
  {
   "cell_type": "markdown",
   "metadata": {},
   "source": [
    "The graph above illustrates customer engagement churn over time, or in other words, customers who have not sent an invoice in 75 days. One thing to note is that customers can be double counted here, so if there are two periods of time that a customer hasn't sent an invoice for 75 days, then that customer will be counted twice.\n",
    "\n",
    "Comparing this graph to the customer conversion graph, it appears that the rate of conversion is similar to engagement churn. Of course, this is a simplistic understanding of churn, and it's possible that customers may still be using the platform to log hours even if they are not sending invoices. Keeping that in mind, we can still suggest reminders to customers if they have not been \"active\" for a long period of time to increase retention."
   ]
  },
  {
   "cell_type": "code",
   "execution_count": null,
   "metadata": {},
   "outputs": [],
   "source": []
  },
  {
   "cell_type": "code",
   "execution_count": null,
   "metadata": {},
   "outputs": [],
   "source": []
  },
  {
   "cell_type": "code",
   "execution_count": null,
   "metadata": {},
   "outputs": [],
   "source": []
  },
  {
   "cell_type": "code",
   "execution_count": null,
   "metadata": {},
   "outputs": [],
   "source": []
  },
  {
   "cell_type": "code",
   "execution_count": null,
   "metadata": {},
   "outputs": [],
   "source": []
  },
  {
   "cell_type": "code",
   "execution_count": null,
   "metadata": {},
   "outputs": [],
   "source": []
  },
  {
   "cell_type": "code",
   "execution_count": null,
   "metadata": {},
   "outputs": [],
   "source": []
  },
  {
   "cell_type": "code",
   "execution_count": null,
   "metadata": {},
   "outputs": [],
   "source": []
  },
  {
   "cell_type": "code",
   "execution_count": null,
   "metadata": {},
   "outputs": [],
   "source": []
  },
  {
   "cell_type": "code",
   "execution_count": null,
   "metadata": {},
   "outputs": [],
   "source": []
  },
  {
   "cell_type": "code",
   "execution_count": null,
   "metadata": {},
   "outputs": [],
   "source": []
  },
  {
   "cell_type": "code",
   "execution_count": null,
   "metadata": {},
   "outputs": [],
   "source": []
  },
  {
   "cell_type": "code",
   "execution_count": null,
   "metadata": {},
   "outputs": [],
   "source": []
  },
  {
   "cell_type": "code",
   "execution_count": null,
   "metadata": {},
   "outputs": [],
   "source": []
  },
  {
   "cell_type": "code",
   "execution_count": null,
   "metadata": {},
   "outputs": [],
   "source": []
  },
  {
   "cell_type": "code",
   "execution_count": null,
   "metadata": {},
   "outputs": [],
   "source": []
  },
  {
   "cell_type": "code",
   "execution_count": null,
   "metadata": {},
   "outputs": [],
   "source": []
  },
  {
   "cell_type": "code",
   "execution_count": null,
   "metadata": {},
   "outputs": [],
   "source": []
  },
  {
   "cell_type": "code",
   "execution_count": null,
   "metadata": {},
   "outputs": [],
   "source": []
  }
 ],
 "metadata": {
  "kernelspec": {
   "display_name": "Python 3",
   "language": "python",
   "name": "python3"
  },
  "language_info": {
   "codemirror_mode": {
    "name": "ipython",
    "version": 3
   },
   "file_extension": ".py",
   "mimetype": "text/x-python",
   "name": "python",
   "nbconvert_exporter": "python",
   "pygments_lexer": "ipython3",
   "version": "3.8.5"
  }
 },
 "nbformat": 4,
 "nbformat_minor": 4
}
